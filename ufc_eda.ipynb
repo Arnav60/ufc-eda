{
 "cells": [
  {
   "cell_type": "markdown",
   "metadata": {},
   "source": [
    "# UFC Fight Data - Exploratory Analysis amd Visualisation\n",
    "## About the dataset\n",
    "### Overview\n",
    "UFC is a 3-to-5 round, 1v1 mixed martial arts competition where a winner is determined either by KO, submission, decision or disqualification(rarely). The UFC was established in 1993\n",
    "\n",
    "### Structure of the dataset\n",
    "The dataset sourced is of ufc fighters and their statistics (such as height, age , stance etc)"
   ]
  },
  {
   "cell_type": "code",
   "execution_count": 1,
   "metadata": {},
   "outputs": [
    {
     "data": {
      "text/html": [
       "<div>\n",
       "<style scoped>\n",
       "    .dataframe tbody tr th:only-of-type {\n",
       "        vertical-align: middle;\n",
       "    }\n",
       "\n",
       "    .dataframe tbody tr th {\n",
       "        vertical-align: top;\n",
       "    }\n",
       "\n",
       "    .dataframe thead th {\n",
       "        text-align: right;\n",
       "    }\n",
       "</style>\n",
       "<table border=\"1\" class=\"dataframe\">\n",
       "  <thead>\n",
       "    <tr style=\"text-align: right;\">\n",
       "      <th></th>\n",
       "      <th>name</th>\n",
       "      <th>nickname</th>\n",
       "      <th>wins</th>\n",
       "      <th>losses</th>\n",
       "      <th>draws</th>\n",
       "      <th>height_cm</th>\n",
       "      <th>weight_in_kg</th>\n",
       "      <th>reach_in_cm</th>\n",
       "      <th>stance</th>\n",
       "      <th>date_of_birth</th>\n",
       "      <th>significant_strikes_landed_per_minute</th>\n",
       "      <th>significant_striking_accuracy</th>\n",
       "      <th>significant_strikes_absorbed_per_minute</th>\n",
       "      <th>significant_strike_defence</th>\n",
       "      <th>average_takedowns_landed_per_15_minutes</th>\n",
       "      <th>takedown_accuracy</th>\n",
       "      <th>takedown_defense</th>\n",
       "      <th>average_submissions_attempted_per_15_minutes</th>\n",
       "    </tr>\n",
       "  </thead>\n",
       "  <tbody>\n",
       "    <tr>\n",
       "      <th>0</th>\n",
       "      <td>Robert Drysdale</td>\n",
       "      <td>NaN</td>\n",
       "      <td>7</td>\n",
       "      <td>0</td>\n",
       "      <td>0</td>\n",
       "      <td>190.50</td>\n",
       "      <td>92.99</td>\n",
       "      <td>NaN</td>\n",
       "      <td>Orthodox</td>\n",
       "      <td>1981-10-05</td>\n",
       "      <td>0.00</td>\n",
       "      <td>0.0</td>\n",
       "      <td>0.00</td>\n",
       "      <td>0.0</td>\n",
       "      <td>7.32</td>\n",
       "      <td>100.0</td>\n",
       "      <td>0.0</td>\n",
       "      <td>21.9</td>\n",
       "    </tr>\n",
       "    <tr>\n",
       "      <th>1</th>\n",
       "      <td>Daniel McWilliams</td>\n",
       "      <td>The Animal</td>\n",
       "      <td>15</td>\n",
       "      <td>37</td>\n",
       "      <td>0</td>\n",
       "      <td>185.42</td>\n",
       "      <td>83.91</td>\n",
       "      <td>NaN</td>\n",
       "      <td>NaN</td>\n",
       "      <td>NaN</td>\n",
       "      <td>3.36</td>\n",
       "      <td>77.0</td>\n",
       "      <td>0.00</td>\n",
       "      <td>0.0</td>\n",
       "      <td>0.00</td>\n",
       "      <td>0.0</td>\n",
       "      <td>100.0</td>\n",
       "      <td>21.6</td>\n",
       "    </tr>\n",
       "    <tr>\n",
       "      <th>2</th>\n",
       "      <td>Dan Molina</td>\n",
       "      <td>NaN</td>\n",
       "      <td>13</td>\n",
       "      <td>9</td>\n",
       "      <td>0</td>\n",
       "      <td>177.80</td>\n",
       "      <td>97.98</td>\n",
       "      <td>NaN</td>\n",
       "      <td>NaN</td>\n",
       "      <td>NaN</td>\n",
       "      <td>0.00</td>\n",
       "      <td>0.0</td>\n",
       "      <td>5.58</td>\n",
       "      <td>60.0</td>\n",
       "      <td>0.00</td>\n",
       "      <td>0.0</td>\n",
       "      <td>0.0</td>\n",
       "      <td>20.9</td>\n",
       "    </tr>\n",
       "    <tr>\n",
       "      <th>3</th>\n",
       "      <td>Paul Ruiz</td>\n",
       "      <td>NaN</td>\n",
       "      <td>7</td>\n",
       "      <td>4</td>\n",
       "      <td>0</td>\n",
       "      <td>167.64</td>\n",
       "      <td>61.23</td>\n",
       "      <td>NaN</td>\n",
       "      <td>NaN</td>\n",
       "      <td>NaN</td>\n",
       "      <td>1.40</td>\n",
       "      <td>33.0</td>\n",
       "      <td>1.40</td>\n",
       "      <td>75.0</td>\n",
       "      <td>0.00</td>\n",
       "      <td>0.0</td>\n",
       "      <td>100.0</td>\n",
       "      <td>20.9</td>\n",
       "    </tr>\n",
       "    <tr>\n",
       "      <th>4</th>\n",
       "      <td>Collin Huckbody</td>\n",
       "      <td>All In</td>\n",
       "      <td>8</td>\n",
       "      <td>2</td>\n",
       "      <td>0</td>\n",
       "      <td>190.50</td>\n",
       "      <td>83.91</td>\n",
       "      <td>193.04</td>\n",
       "      <td>Orthodox</td>\n",
       "      <td>1994-09-29</td>\n",
       "      <td>2.05</td>\n",
       "      <td>60.0</td>\n",
       "      <td>2.73</td>\n",
       "      <td>42.0</td>\n",
       "      <td>10.23</td>\n",
       "      <td>100.0</td>\n",
       "      <td>0.0</td>\n",
       "      <td>20.4</td>\n",
       "    </tr>\n",
       "    <tr>\n",
       "      <th>...</th>\n",
       "      <td>...</td>\n",
       "      <td>...</td>\n",
       "      <td>...</td>\n",
       "      <td>...</td>\n",
       "      <td>...</td>\n",
       "      <td>...</td>\n",
       "      <td>...</td>\n",
       "      <td>...</td>\n",
       "      <td>...</td>\n",
       "      <td>...</td>\n",
       "      <td>...</td>\n",
       "      <td>...</td>\n",
       "      <td>...</td>\n",
       "      <td>...</td>\n",
       "      <td>...</td>\n",
       "      <td>...</td>\n",
       "      <td>...</td>\n",
       "      <td>...</td>\n",
       "    </tr>\n",
       "    <tr>\n",
       "      <th>4106</th>\n",
       "      <td>John Campetella</td>\n",
       "      <td>NaN</td>\n",
       "      <td>0</td>\n",
       "      <td>1</td>\n",
       "      <td>0</td>\n",
       "      <td>175.26</td>\n",
       "      <td>106.59</td>\n",
       "      <td>NaN</td>\n",
       "      <td>Orthodox</td>\n",
       "      <td>NaN</td>\n",
       "      <td>0.00</td>\n",
       "      <td>0.0</td>\n",
       "      <td>0.00</td>\n",
       "      <td>0.0</td>\n",
       "      <td>0.00</td>\n",
       "      <td>0.0</td>\n",
       "      <td>0.0</td>\n",
       "      <td>0.0</td>\n",
       "    </tr>\n",
       "    <tr>\n",
       "      <th>4107</th>\n",
       "      <td>Andre Pederneiras</td>\n",
       "      <td>NaN</td>\n",
       "      <td>1</td>\n",
       "      <td>1</td>\n",
       "      <td>2</td>\n",
       "      <td>172.72</td>\n",
       "      <td>70.31</td>\n",
       "      <td>NaN</td>\n",
       "      <td>Orthodox</td>\n",
       "      <td>1967-03-22</td>\n",
       "      <td>0.00</td>\n",
       "      <td>0.0</td>\n",
       "      <td>0.00</td>\n",
       "      <td>0.0</td>\n",
       "      <td>0.00</td>\n",
       "      <td>0.0</td>\n",
       "      <td>0.0</td>\n",
       "      <td>0.0</td>\n",
       "    </tr>\n",
       "    <tr>\n",
       "      <th>4108</th>\n",
       "      <td>Bryson Kamaka</td>\n",
       "      <td>NaN</td>\n",
       "      <td>12</td>\n",
       "      <td>20</td>\n",
       "      <td>1</td>\n",
       "      <td>180.34</td>\n",
       "      <td>77.11</td>\n",
       "      <td>NaN</td>\n",
       "      <td>Orthodox</td>\n",
       "      <td>NaN</td>\n",
       "      <td>9.47</td>\n",
       "      <td>60.0</td>\n",
       "      <td>12.63</td>\n",
       "      <td>0.0</td>\n",
       "      <td>0.00</td>\n",
       "      <td>0.0</td>\n",
       "      <td>100.0</td>\n",
       "      <td>0.0</td>\n",
       "    </tr>\n",
       "    <tr>\n",
       "      <th>4109</th>\n",
       "      <td>Matej Penaz</td>\n",
       "      <td>Money</td>\n",
       "      <td>6</td>\n",
       "      <td>1</td>\n",
       "      <td>0</td>\n",
       "      <td>190.50</td>\n",
       "      <td>83.91</td>\n",
       "      <td>210.82</td>\n",
       "      <td>Southpaw</td>\n",
       "      <td>1996-10-14</td>\n",
       "      <td>1.28</td>\n",
       "      <td>33.0</td>\n",
       "      <td>2.55</td>\n",
       "      <td>33.0</td>\n",
       "      <td>0.00</td>\n",
       "      <td>0.0</td>\n",
       "      <td>0.0</td>\n",
       "      <td>0.0</td>\n",
       "    </tr>\n",
       "    <tr>\n",
       "      <th>4110</th>\n",
       "      <td>Pauline Macias</td>\n",
       "      <td>PITA</td>\n",
       "      <td>4</td>\n",
       "      <td>1</td>\n",
       "      <td>0</td>\n",
       "      <td>162.56</td>\n",
       "      <td>52.16</td>\n",
       "      <td>162.56</td>\n",
       "      <td>Southpaw</td>\n",
       "      <td>1988-06-27</td>\n",
       "      <td>0.80</td>\n",
       "      <td>29.0</td>\n",
       "      <td>4.60</td>\n",
       "      <td>42.0</td>\n",
       "      <td>2.00</td>\n",
       "      <td>18.0</td>\n",
       "      <td>0.0</td>\n",
       "      <td>0.0</td>\n",
       "    </tr>\n",
       "  </tbody>\n",
       "</table>\n",
       "<p>4111 rows × 18 columns</p>\n",
       "</div>"
      ],
      "text/plain": [
       "                   name    nickname  wins  losses  draws  height_cm  \\\n",
       "0       Robert Drysdale         NaN     7       0      0     190.50   \n",
       "1     Daniel McWilliams  The Animal    15      37      0     185.42   \n",
       "2            Dan Molina         NaN    13       9      0     177.80   \n",
       "3             Paul Ruiz         NaN     7       4      0     167.64   \n",
       "4       Collin Huckbody      All In     8       2      0     190.50   \n",
       "...                 ...         ...   ...     ...    ...        ...   \n",
       "4106    John Campetella         NaN     0       1      0     175.26   \n",
       "4107  Andre Pederneiras         NaN     1       1      2     172.72   \n",
       "4108      Bryson Kamaka         NaN    12      20      1     180.34   \n",
       "4109        Matej Penaz       Money     6       1      0     190.50   \n",
       "4110     Pauline Macias        PITA     4       1      0     162.56   \n",
       "\n",
       "      weight_in_kg  reach_in_cm    stance date_of_birth  \\\n",
       "0            92.99          NaN  Orthodox    1981-10-05   \n",
       "1            83.91          NaN       NaN           NaN   \n",
       "2            97.98          NaN       NaN           NaN   \n",
       "3            61.23          NaN       NaN           NaN   \n",
       "4            83.91       193.04  Orthodox    1994-09-29   \n",
       "...            ...          ...       ...           ...   \n",
       "4106        106.59          NaN  Orthodox           NaN   \n",
       "4107         70.31          NaN  Orthodox    1967-03-22   \n",
       "4108         77.11          NaN  Orthodox           NaN   \n",
       "4109         83.91       210.82  Southpaw    1996-10-14   \n",
       "4110         52.16       162.56  Southpaw    1988-06-27   \n",
       "\n",
       "      significant_strikes_landed_per_minute  significant_striking_accuracy  \\\n",
       "0                                      0.00                            0.0   \n",
       "1                                      3.36                           77.0   \n",
       "2                                      0.00                            0.0   \n",
       "3                                      1.40                           33.0   \n",
       "4                                      2.05                           60.0   \n",
       "...                                     ...                            ...   \n",
       "4106                                   0.00                            0.0   \n",
       "4107                                   0.00                            0.0   \n",
       "4108                                   9.47                           60.0   \n",
       "4109                                   1.28                           33.0   \n",
       "4110                                   0.80                           29.0   \n",
       "\n",
       "      significant_strikes_absorbed_per_minute  significant_strike_defence  \\\n",
       "0                                        0.00                         0.0   \n",
       "1                                        0.00                         0.0   \n",
       "2                                        5.58                        60.0   \n",
       "3                                        1.40                        75.0   \n",
       "4                                        2.73                        42.0   \n",
       "...                                       ...                         ...   \n",
       "4106                                     0.00                         0.0   \n",
       "4107                                     0.00                         0.0   \n",
       "4108                                    12.63                         0.0   \n",
       "4109                                     2.55                        33.0   \n",
       "4110                                     4.60                        42.0   \n",
       "\n",
       "      average_takedowns_landed_per_15_minutes  takedown_accuracy  \\\n",
       "0                                        7.32              100.0   \n",
       "1                                        0.00                0.0   \n",
       "2                                        0.00                0.0   \n",
       "3                                        0.00                0.0   \n",
       "4                                       10.23              100.0   \n",
       "...                                       ...                ...   \n",
       "4106                                     0.00                0.0   \n",
       "4107                                     0.00                0.0   \n",
       "4108                                     0.00                0.0   \n",
       "4109                                     0.00                0.0   \n",
       "4110                                     2.00               18.0   \n",
       "\n",
       "      takedown_defense  average_submissions_attempted_per_15_minutes  \n",
       "0                  0.0                                          21.9  \n",
       "1                100.0                                          21.6  \n",
       "2                  0.0                                          20.9  \n",
       "3                100.0                                          20.9  \n",
       "4                  0.0                                          20.4  \n",
       "...                ...                                           ...  \n",
       "4106               0.0                                           0.0  \n",
       "4107               0.0                                           0.0  \n",
       "4108             100.0                                           0.0  \n",
       "4109               0.0                                           0.0  \n",
       "4110               0.0                                           0.0  \n",
       "\n",
       "[4111 rows x 18 columns]"
      ]
     },
     "execution_count": 1,
     "metadata": {},
     "output_type": "execute_result"
    }
   ],
   "source": [
    "#adding imports and loading dataset \n",
    "import pandas as pd\n",
    "import numpy as np\n",
    "import matplotlib.pyplot as plt\n",
    "import seaborn as sns\n",
    "import plotly.express as px\n",
    "\n",
    "file_path = 'data/ufc_stats_data.csv'\n",
    "df = pd.read_csv(file_path)\n",
    "df"
   ]
  },
  {
   "cell_type": "markdown",
   "metadata": {},
   "source": [
    "The features(columns) present are good. More features that can be helpful are total career fights, win/lose %, adding the ufc weight categories "
   ]
  },
  {
   "cell_type": "code",
   "execution_count": 3,
   "metadata": {},
   "outputs": [
    {
     "data": {
      "text/html": [
       "<div>\n",
       "<style scoped>\n",
       "    .dataframe tbody tr th:only-of-type {\n",
       "        vertical-align: middle;\n",
       "    }\n",
       "\n",
       "    .dataframe tbody tr th {\n",
       "        vertical-align: top;\n",
       "    }\n",
       "\n",
       "    .dataframe thead th {\n",
       "        text-align: right;\n",
       "    }\n",
       "</style>\n",
       "<table border=\"1\" class=\"dataframe\">\n",
       "  <thead>\n",
       "    <tr style=\"text-align: right;\">\n",
       "      <th></th>\n",
       "      <th>name</th>\n",
       "      <th>nickname</th>\n",
       "      <th>wins</th>\n",
       "      <th>losses</th>\n",
       "      <th>draws</th>\n",
       "      <th>height_cm</th>\n",
       "      <th>weight_in_kg</th>\n",
       "      <th>reach_in_cm</th>\n",
       "      <th>stance</th>\n",
       "      <th>date_of_birth</th>\n",
       "      <th>...</th>\n",
       "      <th>significant_strike_defence</th>\n",
       "      <th>average_takedowns_landed_per_15_minutes</th>\n",
       "      <th>takedown_accuracy</th>\n",
       "      <th>takedown_defense</th>\n",
       "      <th>average_submissions_attempted_per_15_minutes</th>\n",
       "      <th>total_career_fights</th>\n",
       "      <th>win%</th>\n",
       "      <th>loss%</th>\n",
       "      <th>draw%</th>\n",
       "      <th>weight_class</th>\n",
       "    </tr>\n",
       "  </thead>\n",
       "  <tbody>\n",
       "    <tr>\n",
       "      <th>0</th>\n",
       "      <td>Robert Drysdale</td>\n",
       "      <td>NaN</td>\n",
       "      <td>7</td>\n",
       "      <td>0</td>\n",
       "      <td>0</td>\n",
       "      <td>190.50</td>\n",
       "      <td>92.99</td>\n",
       "      <td>NaN</td>\n",
       "      <td>Orthodox</td>\n",
       "      <td>1981-10-05</td>\n",
       "      <td>...</td>\n",
       "      <td>0.0</td>\n",
       "      <td>7.32</td>\n",
       "      <td>100.0</td>\n",
       "      <td>0.0</td>\n",
       "      <td>21.9</td>\n",
       "      <td>7</td>\n",
       "      <td>100.0</td>\n",
       "      <td>0.0</td>\n",
       "      <td>0.0</td>\n",
       "      <td>Light Heavyweight</td>\n",
       "    </tr>\n",
       "    <tr>\n",
       "      <th>1</th>\n",
       "      <td>Daniel McWilliams</td>\n",
       "      <td>The Animal</td>\n",
       "      <td>15</td>\n",
       "      <td>37</td>\n",
       "      <td>0</td>\n",
       "      <td>185.42</td>\n",
       "      <td>83.91</td>\n",
       "      <td>NaN</td>\n",
       "      <td>NaN</td>\n",
       "      <td>NaN</td>\n",
       "      <td>...</td>\n",
       "      <td>0.0</td>\n",
       "      <td>0.00</td>\n",
       "      <td>0.0</td>\n",
       "      <td>100.0</td>\n",
       "      <td>21.6</td>\n",
       "      <td>52</td>\n",
       "      <td>29.0</td>\n",
       "      <td>71.0</td>\n",
       "      <td>0.0</td>\n",
       "      <td>Light Heavyweight</td>\n",
       "    </tr>\n",
       "    <tr>\n",
       "      <th>2</th>\n",
       "      <td>Dan Molina</td>\n",
       "      <td>NaN</td>\n",
       "      <td>13</td>\n",
       "      <td>9</td>\n",
       "      <td>0</td>\n",
       "      <td>177.80</td>\n",
       "      <td>97.98</td>\n",
       "      <td>NaN</td>\n",
       "      <td>NaN</td>\n",
       "      <td>NaN</td>\n",
       "      <td>...</td>\n",
       "      <td>60.0</td>\n",
       "      <td>0.00</td>\n",
       "      <td>0.0</td>\n",
       "      <td>0.0</td>\n",
       "      <td>20.9</td>\n",
       "      <td>22</td>\n",
       "      <td>59.0</td>\n",
       "      <td>41.0</td>\n",
       "      <td>0.0</td>\n",
       "      <td>Heavyweight</td>\n",
       "    </tr>\n",
       "    <tr>\n",
       "      <th>3</th>\n",
       "      <td>Paul Ruiz</td>\n",
       "      <td>NaN</td>\n",
       "      <td>7</td>\n",
       "      <td>4</td>\n",
       "      <td>0</td>\n",
       "      <td>167.64</td>\n",
       "      <td>61.23</td>\n",
       "      <td>NaN</td>\n",
       "      <td>NaN</td>\n",
       "      <td>NaN</td>\n",
       "      <td>...</td>\n",
       "      <td>75.0</td>\n",
       "      <td>0.00</td>\n",
       "      <td>0.0</td>\n",
       "      <td>100.0</td>\n",
       "      <td>20.9</td>\n",
       "      <td>11</td>\n",
       "      <td>64.0</td>\n",
       "      <td>36.0</td>\n",
       "      <td>0.0</td>\n",
       "      <td>Featherweight</td>\n",
       "    </tr>\n",
       "    <tr>\n",
       "      <th>4</th>\n",
       "      <td>Collin Huckbody</td>\n",
       "      <td>All In</td>\n",
       "      <td>8</td>\n",
       "      <td>2</td>\n",
       "      <td>0</td>\n",
       "      <td>190.50</td>\n",
       "      <td>83.91</td>\n",
       "      <td>193.04</td>\n",
       "      <td>Orthodox</td>\n",
       "      <td>1994-09-29</td>\n",
       "      <td>...</td>\n",
       "      <td>42.0</td>\n",
       "      <td>10.23</td>\n",
       "      <td>100.0</td>\n",
       "      <td>0.0</td>\n",
       "      <td>20.4</td>\n",
       "      <td>10</td>\n",
       "      <td>80.0</td>\n",
       "      <td>20.0</td>\n",
       "      <td>0.0</td>\n",
       "      <td>Light Heavyweight</td>\n",
       "    </tr>\n",
       "    <tr>\n",
       "      <th>...</th>\n",
       "      <td>...</td>\n",
       "      <td>...</td>\n",
       "      <td>...</td>\n",
       "      <td>...</td>\n",
       "      <td>...</td>\n",
       "      <td>...</td>\n",
       "      <td>...</td>\n",
       "      <td>...</td>\n",
       "      <td>...</td>\n",
       "      <td>...</td>\n",
       "      <td>...</td>\n",
       "      <td>...</td>\n",
       "      <td>...</td>\n",
       "      <td>...</td>\n",
       "      <td>...</td>\n",
       "      <td>...</td>\n",
       "      <td>...</td>\n",
       "      <td>...</td>\n",
       "      <td>...</td>\n",
       "      <td>...</td>\n",
       "      <td>...</td>\n",
       "    </tr>\n",
       "    <tr>\n",
       "      <th>4106</th>\n",
       "      <td>John Campetella</td>\n",
       "      <td>NaN</td>\n",
       "      <td>0</td>\n",
       "      <td>1</td>\n",
       "      <td>0</td>\n",
       "      <td>175.26</td>\n",
       "      <td>106.59</td>\n",
       "      <td>NaN</td>\n",
       "      <td>Orthodox</td>\n",
       "      <td>NaN</td>\n",
       "      <td>...</td>\n",
       "      <td>0.0</td>\n",
       "      <td>0.00</td>\n",
       "      <td>0.0</td>\n",
       "      <td>0.0</td>\n",
       "      <td>0.0</td>\n",
       "      <td>1</td>\n",
       "      <td>0.0</td>\n",
       "      <td>100.0</td>\n",
       "      <td>0.0</td>\n",
       "      <td>Heavyweight</td>\n",
       "    </tr>\n",
       "    <tr>\n",
       "      <th>4107</th>\n",
       "      <td>Andre Pederneiras</td>\n",
       "      <td>NaN</td>\n",
       "      <td>1</td>\n",
       "      <td>1</td>\n",
       "      <td>2</td>\n",
       "      <td>172.72</td>\n",
       "      <td>70.31</td>\n",
       "      <td>NaN</td>\n",
       "      <td>Orthodox</td>\n",
       "      <td>1967-03-22</td>\n",
       "      <td>...</td>\n",
       "      <td>0.0</td>\n",
       "      <td>0.00</td>\n",
       "      <td>0.0</td>\n",
       "      <td>0.0</td>\n",
       "      <td>0.0</td>\n",
       "      <td>4</td>\n",
       "      <td>25.0</td>\n",
       "      <td>25.0</td>\n",
       "      <td>50.0</td>\n",
       "      <td>Welterweight</td>\n",
       "    </tr>\n",
       "    <tr>\n",
       "      <th>4108</th>\n",
       "      <td>Bryson Kamaka</td>\n",
       "      <td>NaN</td>\n",
       "      <td>12</td>\n",
       "      <td>20</td>\n",
       "      <td>1</td>\n",
       "      <td>180.34</td>\n",
       "      <td>77.11</td>\n",
       "      <td>NaN</td>\n",
       "      <td>Orthodox</td>\n",
       "      <td>NaN</td>\n",
       "      <td>...</td>\n",
       "      <td>0.0</td>\n",
       "      <td>0.00</td>\n",
       "      <td>0.0</td>\n",
       "      <td>100.0</td>\n",
       "      <td>0.0</td>\n",
       "      <td>33</td>\n",
       "      <td>36.0</td>\n",
       "      <td>61.0</td>\n",
       "      <td>3.0</td>\n",
       "      <td>Middleweight</td>\n",
       "    </tr>\n",
       "    <tr>\n",
       "      <th>4109</th>\n",
       "      <td>Matej Penaz</td>\n",
       "      <td>Money</td>\n",
       "      <td>6</td>\n",
       "      <td>1</td>\n",
       "      <td>0</td>\n",
       "      <td>190.50</td>\n",
       "      <td>83.91</td>\n",
       "      <td>210.82</td>\n",
       "      <td>Southpaw</td>\n",
       "      <td>1996-10-14</td>\n",
       "      <td>...</td>\n",
       "      <td>33.0</td>\n",
       "      <td>0.00</td>\n",
       "      <td>0.0</td>\n",
       "      <td>0.0</td>\n",
       "      <td>0.0</td>\n",
       "      <td>7</td>\n",
       "      <td>86.0</td>\n",
       "      <td>14.0</td>\n",
       "      <td>0.0</td>\n",
       "      <td>Light Heavyweight</td>\n",
       "    </tr>\n",
       "    <tr>\n",
       "      <th>4110</th>\n",
       "      <td>Pauline Macias</td>\n",
       "      <td>PITA</td>\n",
       "      <td>4</td>\n",
       "      <td>1</td>\n",
       "      <td>0</td>\n",
       "      <td>162.56</td>\n",
       "      <td>52.16</td>\n",
       "      <td>162.56</td>\n",
       "      <td>Southpaw</td>\n",
       "      <td>1988-06-27</td>\n",
       "      <td>...</td>\n",
       "      <td>42.0</td>\n",
       "      <td>2.00</td>\n",
       "      <td>18.0</td>\n",
       "      <td>0.0</td>\n",
       "      <td>0.0</td>\n",
       "      <td>5</td>\n",
       "      <td>80.0</td>\n",
       "      <td>20.0</td>\n",
       "      <td>0.0</td>\n",
       "      <td>Flyweight</td>\n",
       "    </tr>\n",
       "  </tbody>\n",
       "</table>\n",
       "<p>4111 rows × 23 columns</p>\n",
       "</div>"
      ],
      "text/plain": [
       "                   name    nickname  wins  losses  draws  height_cm  \\\n",
       "0       Robert Drysdale         NaN     7       0      0     190.50   \n",
       "1     Daniel McWilliams  The Animal    15      37      0     185.42   \n",
       "2            Dan Molina         NaN    13       9      0     177.80   \n",
       "3             Paul Ruiz         NaN     7       4      0     167.64   \n",
       "4       Collin Huckbody      All In     8       2      0     190.50   \n",
       "...                 ...         ...   ...     ...    ...        ...   \n",
       "4106    John Campetella         NaN     0       1      0     175.26   \n",
       "4107  Andre Pederneiras         NaN     1       1      2     172.72   \n",
       "4108      Bryson Kamaka         NaN    12      20      1     180.34   \n",
       "4109        Matej Penaz       Money     6       1      0     190.50   \n",
       "4110     Pauline Macias        PITA     4       1      0     162.56   \n",
       "\n",
       "      weight_in_kg  reach_in_cm    stance date_of_birth  ...  \\\n",
       "0            92.99          NaN  Orthodox    1981-10-05  ...   \n",
       "1            83.91          NaN       NaN           NaN  ...   \n",
       "2            97.98          NaN       NaN           NaN  ...   \n",
       "3            61.23          NaN       NaN           NaN  ...   \n",
       "4            83.91       193.04  Orthodox    1994-09-29  ...   \n",
       "...            ...          ...       ...           ...  ...   \n",
       "4106        106.59          NaN  Orthodox           NaN  ...   \n",
       "4107         70.31          NaN  Orthodox    1967-03-22  ...   \n",
       "4108         77.11          NaN  Orthodox           NaN  ...   \n",
       "4109         83.91       210.82  Southpaw    1996-10-14  ...   \n",
       "4110         52.16       162.56  Southpaw    1988-06-27  ...   \n",
       "\n",
       "      significant_strike_defence  average_takedowns_landed_per_15_minutes  \\\n",
       "0                            0.0                                     7.32   \n",
       "1                            0.0                                     0.00   \n",
       "2                           60.0                                     0.00   \n",
       "3                           75.0                                     0.00   \n",
       "4                           42.0                                    10.23   \n",
       "...                          ...                                      ...   \n",
       "4106                         0.0                                     0.00   \n",
       "4107                         0.0                                     0.00   \n",
       "4108                         0.0                                     0.00   \n",
       "4109                        33.0                                     0.00   \n",
       "4110                        42.0                                     2.00   \n",
       "\n",
       "      takedown_accuracy  takedown_defense  \\\n",
       "0                 100.0               0.0   \n",
       "1                   0.0             100.0   \n",
       "2                   0.0               0.0   \n",
       "3                   0.0             100.0   \n",
       "4                 100.0               0.0   \n",
       "...                 ...               ...   \n",
       "4106                0.0               0.0   \n",
       "4107                0.0               0.0   \n",
       "4108                0.0             100.0   \n",
       "4109                0.0               0.0   \n",
       "4110               18.0               0.0   \n",
       "\n",
       "      average_submissions_attempted_per_15_minutes  total_career_fights  \\\n",
       "0                                             21.9                    7   \n",
       "1                                             21.6                   52   \n",
       "2                                             20.9                   22   \n",
       "3                                             20.9                   11   \n",
       "4                                             20.4                   10   \n",
       "...                                            ...                  ...   \n",
       "4106                                           0.0                    1   \n",
       "4107                                           0.0                    4   \n",
       "4108                                           0.0                   33   \n",
       "4109                                           0.0                    7   \n",
       "4110                                           0.0                    5   \n",
       "\n",
       "       win%  loss%  draw%       weight_class  \n",
       "0     100.0    0.0    0.0  Light Heavyweight  \n",
       "1      29.0   71.0    0.0  Light Heavyweight  \n",
       "2      59.0   41.0    0.0        Heavyweight  \n",
       "3      64.0   36.0    0.0      Featherweight  \n",
       "4      80.0   20.0    0.0  Light Heavyweight  \n",
       "...     ...    ...    ...                ...  \n",
       "4106    0.0  100.0    0.0        Heavyweight  \n",
       "4107   25.0   25.0   50.0       Welterweight  \n",
       "4108   36.0   61.0    3.0       Middleweight  \n",
       "4109   86.0   14.0    0.0  Light Heavyweight  \n",
       "4110   80.0   20.0    0.0          Flyweight  \n",
       "\n",
       "[4111 rows x 23 columns]"
      ]
     },
     "execution_count": 3,
     "metadata": {},
     "output_type": "execute_result"
    }
   ],
   "source": [
    "#adding features\n",
    "df['total_career_fights'] = df['wins']+df['losses']+df['draws']\n",
    "df['win%']= round((df['wins']/df['total_career_fights']),2)*100\n",
    "df['loss%']= round((df['losses']/df['total_career_fights']),2)*100\n",
    "df['draw%']= round((df['draws']/df['total_career_fights']),2)*100\n",
    "\n",
    "#adding ufc weight categories feature\n",
    "conditions = [\n",
    "    (df['weight_in_kg'].isna()), #Undefined\n",
    "    (df['weight_in_kg'] <= 57.0), #Flyweight\n",
    "    (df['weight_in_kg'] > 57.0)&(df['weight_in_kg']<=61.2), #Bantamweight\n",
    "    (df['weight_in_kg'] > 61.2)&(df['weight_in_kg']<=65.8), #Featherweight\n",
    "    (df['weight_in_kg'] > 65.8)&(df['weight_in_kg']<=70.0), #Lightweight\n",
    "    (df['weight_in_kg'] > 70.0)&(df['weight_in_kg']<=77.1), #Welterweight\n",
    "    (df['weight_in_kg'] > 77.1)&(df['weight_in_kg']<=83.9), #Middleweight \n",
    "    (df['weight_in_kg'] > 83.9)&(df['weight_in_kg']<=93.0), #Light Heavyweight\n",
    "    (df['weight_in_kg'] > 93.0) # Heavyweight\n",
    "]\n",
    "\n",
    "#creating a list of the values we will assign for each condition\n",
    "values = ['Undefined','Flyweight','Bantamweight','Featherweight','Lightweight','Welterweight','Middleweight','Light Heavyweight','Heavyweight']\n",
    "\n",
    "#creating a new column and using np.select to assign values to it using our list as argument\n",
    "df['weight_class']=np.select(conditions,values)\n",
    "df"
   ]
  },
  {
   "cell_type": "markdown",
   "metadata": {},
   "source": [
    "Description of features initially present :\n",
    "- **name:** The name of the UFC fighter\n",
    "- **nickname:** The nickname of the UFC fighter, if applicable.\n",
    "- **wins:** The number of wins the fighter has in their career.\n",
    "- **losses:** The number of losses the fighter has in their career.\n",
    "- **draws:** The number of draws the fighter has in their career.\n",
    "- **height_cm:** The height of the fighter in centimeters.\n",
    "- **weight_in_kg:** The weight of the fighter in kilograms.\n",
    "- **reach_in__cm:** The reach of the fighter in centimeters.\n",
    "- **stance:** The fighting stance of the fighter (Orthodox/Southpaw/Switch).\n",
    "- **date_of_birth:** The date of birth of the fighter.\n",
    "- **significant_strikes_landed_per_minute:** The average number of significant strikes landed by the fighter per minute.\n",
    "- **significant_striking_accuracy:** The percentage of significant strikes that land successfully for the fighter.\n",
    "- **significant_strikes_absorbed_per_minute:** The average number of significant strikes absorbed by the fighter per minute.\n",
    "- **significant_strike_defence:** The percentage of opponent's significant strikes that the fighter successfully defends.\n",
    "- **average_takedowns_landed_per_15_minutes:** The average number of takedowns landed by the fighter per 15 minutes.\n",
    "- **takedown_accuracy:** The percentage of takedown attempts that are successful for the fighter.\n",
    "- **takedown_defense:** The percentage of opponent's takedown attempts that the fighter successfully defends.\n",
    "- **average_submissions_attempted_per_15_minutes:** The average number of submission attempts made by the fighter per 15 minutes."
   ]
  },
  {
   "cell_type": "markdown",
   "metadata": {},
   "source": [
    "### Finding undefeated fighters and ranking the top 10 undefeated fighters\n"
   ]
  },
  {
   "cell_type": "code",
   "execution_count": 8,
   "metadata": {},
   "outputs": [
    {
     "name": "stdout",
     "output_type": "stream",
     "text": [
      "The 3.75% of fighters are undefeated with an average participation in 7.3 fights\n"
     ]
    },
    {
     "data": {
      "application/vnd.plotly.v1+json": {
       "config": {
        "plotlyServerURL": "https://plot.ly"
       },
       "data": [
        {
         "alignmentgroup": "True",
         "hovertemplate": "Type of stance used=Orthodox<br>Name=%{x}<br>No. of wins=%{y}<extra></extra>",
         "legendgroup": "Orthodox",
         "marker": {
          "color": "#636efa",
          "pattern": {
           "shape": ""
          }
         },
         "name": "Orthodox",
         "offsetgroup": "Orthodox",
         "orientation": "v",
         "showlegend": true,
         "textposition": "auto",
         "type": "bar",
         "x": [
          "Khabib Nurmagomedov",
          "Shavkat Rakhmonov",
          "Movsar Evloev",
          "Umar Nurmagomedov",
          "Michael Morales",
          "Phillip Miller",
          "Ivan Shtyrkov",
          "Daniel Marcos"
         ],
         "xaxis": "x",
         "y": [
          29,
          17,
          17,
          16,
          16,
          16,
          15,
          15
         ],
         "yaxis": "y"
        },
        {
         "alignmentgroup": "True",
         "hovertemplate": "Type of stance used=Southpaw<br>Name=%{x}<br>No. of wins=%{y}<extra></extra>",
         "legendgroup": "Southpaw",
         "marker": {
          "color": "#00cc96",
          "pattern": {
           "shape": ""
          }
         },
         "name": "Southpaw",
         "offsetgroup": "Southpaw",
         "orientation": "v",
         "showlegend": true,
         "textposition": "auto",
         "type": "bar",
         "x": [
          "Azat Maksum"
         ],
         "xaxis": "x",
         "y": [
          17
         ],
         "yaxis": "y"
        }
       ],
       "layout": {
        "barmode": "stack",
        "legend": {
         "title": {
          "text": "Type of stance used"
         },
         "tracegroupgap": 0
        },
        "template": {
         "data": {
          "bar": [
           {
            "error_x": {
             "color": "#2a3f5f"
            },
            "error_y": {
             "color": "#2a3f5f"
            },
            "marker": {
             "line": {
              "color": "#E5ECF6",
              "width": 0.5
             },
             "pattern": {
              "fillmode": "overlay",
              "size": 10,
              "solidity": 0.2
             }
            },
            "type": "bar"
           }
          ],
          "barpolar": [
           {
            "marker": {
             "line": {
              "color": "#E5ECF6",
              "width": 0.5
             },
             "pattern": {
              "fillmode": "overlay",
              "size": 10,
              "solidity": 0.2
             }
            },
            "type": "barpolar"
           }
          ],
          "carpet": [
           {
            "aaxis": {
             "endlinecolor": "#2a3f5f",
             "gridcolor": "white",
             "linecolor": "white",
             "minorgridcolor": "white",
             "startlinecolor": "#2a3f5f"
            },
            "baxis": {
             "endlinecolor": "#2a3f5f",
             "gridcolor": "white",
             "linecolor": "white",
             "minorgridcolor": "white",
             "startlinecolor": "#2a3f5f"
            },
            "type": "carpet"
           }
          ],
          "choropleth": [
           {
            "colorbar": {
             "outlinewidth": 0,
             "ticks": ""
            },
            "type": "choropleth"
           }
          ],
          "contour": [
           {
            "colorbar": {
             "outlinewidth": 0,
             "ticks": ""
            },
            "colorscale": [
             [
              0,
              "#0d0887"
             ],
             [
              0.1111111111111111,
              "#46039f"
             ],
             [
              0.2222222222222222,
              "#7201a8"
             ],
             [
              0.3333333333333333,
              "#9c179e"
             ],
             [
              0.4444444444444444,
              "#bd3786"
             ],
             [
              0.5555555555555556,
              "#d8576b"
             ],
             [
              0.6666666666666666,
              "#ed7953"
             ],
             [
              0.7777777777777778,
              "#fb9f3a"
             ],
             [
              0.8888888888888888,
              "#fdca26"
             ],
             [
              1,
              "#f0f921"
             ]
            ],
            "type": "contour"
           }
          ],
          "contourcarpet": [
           {
            "colorbar": {
             "outlinewidth": 0,
             "ticks": ""
            },
            "type": "contourcarpet"
           }
          ],
          "heatmap": [
           {
            "colorbar": {
             "outlinewidth": 0,
             "ticks": ""
            },
            "colorscale": [
             [
              0,
              "#0d0887"
             ],
             [
              0.1111111111111111,
              "#46039f"
             ],
             [
              0.2222222222222222,
              "#7201a8"
             ],
             [
              0.3333333333333333,
              "#9c179e"
             ],
             [
              0.4444444444444444,
              "#bd3786"
             ],
             [
              0.5555555555555556,
              "#d8576b"
             ],
             [
              0.6666666666666666,
              "#ed7953"
             ],
             [
              0.7777777777777778,
              "#fb9f3a"
             ],
             [
              0.8888888888888888,
              "#fdca26"
             ],
             [
              1,
              "#f0f921"
             ]
            ],
            "type": "heatmap"
           }
          ],
          "heatmapgl": [
           {
            "colorbar": {
             "outlinewidth": 0,
             "ticks": ""
            },
            "colorscale": [
             [
              0,
              "#0d0887"
             ],
             [
              0.1111111111111111,
              "#46039f"
             ],
             [
              0.2222222222222222,
              "#7201a8"
             ],
             [
              0.3333333333333333,
              "#9c179e"
             ],
             [
              0.4444444444444444,
              "#bd3786"
             ],
             [
              0.5555555555555556,
              "#d8576b"
             ],
             [
              0.6666666666666666,
              "#ed7953"
             ],
             [
              0.7777777777777778,
              "#fb9f3a"
             ],
             [
              0.8888888888888888,
              "#fdca26"
             ],
             [
              1,
              "#f0f921"
             ]
            ],
            "type": "heatmapgl"
           }
          ],
          "histogram": [
           {
            "marker": {
             "pattern": {
              "fillmode": "overlay",
              "size": 10,
              "solidity": 0.2
             }
            },
            "type": "histogram"
           }
          ],
          "histogram2d": [
           {
            "colorbar": {
             "outlinewidth": 0,
             "ticks": ""
            },
            "colorscale": [
             [
              0,
              "#0d0887"
             ],
             [
              0.1111111111111111,
              "#46039f"
             ],
             [
              0.2222222222222222,
              "#7201a8"
             ],
             [
              0.3333333333333333,
              "#9c179e"
             ],
             [
              0.4444444444444444,
              "#bd3786"
             ],
             [
              0.5555555555555556,
              "#d8576b"
             ],
             [
              0.6666666666666666,
              "#ed7953"
             ],
             [
              0.7777777777777778,
              "#fb9f3a"
             ],
             [
              0.8888888888888888,
              "#fdca26"
             ],
             [
              1,
              "#f0f921"
             ]
            ],
            "type": "histogram2d"
           }
          ],
          "histogram2dcontour": [
           {
            "colorbar": {
             "outlinewidth": 0,
             "ticks": ""
            },
            "colorscale": [
             [
              0,
              "#0d0887"
             ],
             [
              0.1111111111111111,
              "#46039f"
             ],
             [
              0.2222222222222222,
              "#7201a8"
             ],
             [
              0.3333333333333333,
              "#9c179e"
             ],
             [
              0.4444444444444444,
              "#bd3786"
             ],
             [
              0.5555555555555556,
              "#d8576b"
             ],
             [
              0.6666666666666666,
              "#ed7953"
             ],
             [
              0.7777777777777778,
              "#fb9f3a"
             ],
             [
              0.8888888888888888,
              "#fdca26"
             ],
             [
              1,
              "#f0f921"
             ]
            ],
            "type": "histogram2dcontour"
           }
          ],
          "mesh3d": [
           {
            "colorbar": {
             "outlinewidth": 0,
             "ticks": ""
            },
            "type": "mesh3d"
           }
          ],
          "parcoords": [
           {
            "line": {
             "colorbar": {
              "outlinewidth": 0,
              "ticks": ""
             }
            },
            "type": "parcoords"
           }
          ],
          "pie": [
           {
            "automargin": true,
            "type": "pie"
           }
          ],
          "scatter": [
           {
            "fillpattern": {
             "fillmode": "overlay",
             "size": 10,
             "solidity": 0.2
            },
            "type": "scatter"
           }
          ],
          "scatter3d": [
           {
            "line": {
             "colorbar": {
              "outlinewidth": 0,
              "ticks": ""
             }
            },
            "marker": {
             "colorbar": {
              "outlinewidth": 0,
              "ticks": ""
             }
            },
            "type": "scatter3d"
           }
          ],
          "scattercarpet": [
           {
            "marker": {
             "colorbar": {
              "outlinewidth": 0,
              "ticks": ""
             }
            },
            "type": "scattercarpet"
           }
          ],
          "scattergeo": [
           {
            "marker": {
             "colorbar": {
              "outlinewidth": 0,
              "ticks": ""
             }
            },
            "type": "scattergeo"
           }
          ],
          "scattergl": [
           {
            "marker": {
             "colorbar": {
              "outlinewidth": 0,
              "ticks": ""
             }
            },
            "type": "scattergl"
           }
          ],
          "scattermapbox": [
           {
            "marker": {
             "colorbar": {
              "outlinewidth": 0,
              "ticks": ""
             }
            },
            "type": "scattermapbox"
           }
          ],
          "scatterpolar": [
           {
            "marker": {
             "colorbar": {
              "outlinewidth": 0,
              "ticks": ""
             }
            },
            "type": "scatterpolar"
           }
          ],
          "scatterpolargl": [
           {
            "marker": {
             "colorbar": {
              "outlinewidth": 0,
              "ticks": ""
             }
            },
            "type": "scatterpolargl"
           }
          ],
          "scatterternary": [
           {
            "marker": {
             "colorbar": {
              "outlinewidth": 0,
              "ticks": ""
             }
            },
            "type": "scatterternary"
           }
          ],
          "surface": [
           {
            "colorbar": {
             "outlinewidth": 0,
             "ticks": ""
            },
            "colorscale": [
             [
              0,
              "#0d0887"
             ],
             [
              0.1111111111111111,
              "#46039f"
             ],
             [
              0.2222222222222222,
              "#7201a8"
             ],
             [
              0.3333333333333333,
              "#9c179e"
             ],
             [
              0.4444444444444444,
              "#bd3786"
             ],
             [
              0.5555555555555556,
              "#d8576b"
             ],
             [
              0.6666666666666666,
              "#ed7953"
             ],
             [
              0.7777777777777778,
              "#fb9f3a"
             ],
             [
              0.8888888888888888,
              "#fdca26"
             ],
             [
              1,
              "#f0f921"
             ]
            ],
            "type": "surface"
           }
          ],
          "table": [
           {
            "cells": {
             "fill": {
              "color": "#EBF0F8"
             },
             "line": {
              "color": "white"
             }
            },
            "header": {
             "fill": {
              "color": "#C8D4E3"
             },
             "line": {
              "color": "white"
             }
            },
            "type": "table"
           }
          ]
         },
         "layout": {
          "annotationdefaults": {
           "arrowcolor": "#2a3f5f",
           "arrowhead": 0,
           "arrowwidth": 1
          },
          "autotypenumbers": "strict",
          "coloraxis": {
           "colorbar": {
            "outlinewidth": 0,
            "ticks": ""
           }
          },
          "colorscale": {
           "diverging": [
            [
             0,
             "#8e0152"
            ],
            [
             0.1,
             "#c51b7d"
            ],
            [
             0.2,
             "#de77ae"
            ],
            [
             0.3,
             "#f1b6da"
            ],
            [
             0.4,
             "#fde0ef"
            ],
            [
             0.5,
             "#f7f7f7"
            ],
            [
             0.6,
             "#e6f5d0"
            ],
            [
             0.7,
             "#b8e186"
            ],
            [
             0.8,
             "#7fbc41"
            ],
            [
             0.9,
             "#4d9221"
            ],
            [
             1,
             "#276419"
            ]
           ],
           "sequential": [
            [
             0,
             "#0d0887"
            ],
            [
             0.1111111111111111,
             "#46039f"
            ],
            [
             0.2222222222222222,
             "#7201a8"
            ],
            [
             0.3333333333333333,
             "#9c179e"
            ],
            [
             0.4444444444444444,
             "#bd3786"
            ],
            [
             0.5555555555555556,
             "#d8576b"
            ],
            [
             0.6666666666666666,
             "#ed7953"
            ],
            [
             0.7777777777777778,
             "#fb9f3a"
            ],
            [
             0.8888888888888888,
             "#fdca26"
            ],
            [
             1,
             "#f0f921"
            ]
           ],
           "sequentialminus": [
            [
             0,
             "#0d0887"
            ],
            [
             0.1111111111111111,
             "#46039f"
            ],
            [
             0.2222222222222222,
             "#7201a8"
            ],
            [
             0.3333333333333333,
             "#9c179e"
            ],
            [
             0.4444444444444444,
             "#bd3786"
            ],
            [
             0.5555555555555556,
             "#d8576b"
            ],
            [
             0.6666666666666666,
             "#ed7953"
            ],
            [
             0.7777777777777778,
             "#fb9f3a"
            ],
            [
             0.8888888888888888,
             "#fdca26"
            ],
            [
             1,
             "#f0f921"
            ]
           ]
          },
          "colorway": [
           "#636efa",
           "#EF553B",
           "#00cc96",
           "#ab63fa",
           "#FFA15A",
           "#19d3f3",
           "#FF6692",
           "#B6E880",
           "#FF97FF",
           "#FECB52"
          ],
          "font": {
           "color": "#2a3f5f"
          },
          "geo": {
           "bgcolor": "white",
           "lakecolor": "white",
           "landcolor": "#E5ECF6",
           "showlakes": true,
           "showland": true,
           "subunitcolor": "white"
          },
          "hoverlabel": {
           "align": "left"
          },
          "hovermode": "closest",
          "mapbox": {
           "style": "light"
          },
          "paper_bgcolor": "white",
          "plot_bgcolor": "#E5ECF6",
          "polar": {
           "angularaxis": {
            "gridcolor": "white",
            "linecolor": "white",
            "ticks": ""
           },
           "bgcolor": "#E5ECF6",
           "radialaxis": {
            "gridcolor": "white",
            "linecolor": "white",
            "ticks": ""
           }
          },
          "scene": {
           "xaxis": {
            "backgroundcolor": "#E5ECF6",
            "gridcolor": "white",
            "gridwidth": 2,
            "linecolor": "white",
            "showbackground": true,
            "ticks": "",
            "zerolinecolor": "white"
           },
           "yaxis": {
            "backgroundcolor": "#E5ECF6",
            "gridcolor": "white",
            "gridwidth": 2,
            "linecolor": "white",
            "showbackground": true,
            "ticks": "",
            "zerolinecolor": "white"
           },
           "zaxis": {
            "backgroundcolor": "#E5ECF6",
            "gridcolor": "white",
            "gridwidth": 2,
            "linecolor": "white",
            "showbackground": true,
            "ticks": "",
            "zerolinecolor": "white"
           }
          },
          "shapedefaults": {
           "line": {
            "color": "#2a3f5f"
           }
          },
          "ternary": {
           "aaxis": {
            "gridcolor": "white",
            "linecolor": "white",
            "ticks": ""
           },
           "baxis": {
            "gridcolor": "white",
            "linecolor": "white",
            "ticks": ""
           },
           "bgcolor": "#E5ECF6",
           "caxis": {
            "gridcolor": "white",
            "linecolor": "white",
            "ticks": ""
           }
          },
          "title": {
           "x": 0.05
          },
          "xaxis": {
           "automargin": true,
           "gridcolor": "white",
           "linecolor": "white",
           "ticks": "",
           "title": {
            "standoff": 15
           },
           "zerolinecolor": "white",
           "zerolinewidth": 2
          },
          "yaxis": {
           "automargin": true,
           "gridcolor": "white",
           "linecolor": "white",
           "ticks": "",
           "title": {
            "standoff": 15
           },
           "zerolinecolor": "white",
           "zerolinewidth": 2
          }
         }
        },
        "title": {
         "text": "The 10 best undefeated fighters"
        },
        "xaxis": {
         "anchor": "y",
         "categoryorder": "total descending",
         "domain": [
          0,
          1
         ],
         "title": {
          "text": "Name"
         }
        },
        "yaxis": {
         "anchor": "x",
         "domain": [
          0,
          1
         ],
         "title": {
          "text": "No. of wins"
         }
        }
       }
      }
     },
     "metadata": {},
     "output_type": "display_data"
    }
   ],
   "source": [
    "df_undefeated = df.loc[df['loss%'] == 0].sort_values(by=['wins'],ascending=False)\n",
    "per_undefeated_plot = round(df_undefeated.shape[0]/df.shape[0]*100,2)\n",
    "\n",
    "ud_mean_match_played = round(df_undefeated['total_career_fights'].mean(),1)\n",
    "print(f'The {per_undefeated_plot}% of fighters are undefeated with an average participation in {ud_mean_match_played} fights')\n",
    "\n",
    "top_10_fighters = df_undefeated.head(10)\n",
    "fig1 = px.bar(top_10_fighters, \n",
    "              x='name', \n",
    "              y='wins', \n",
    "              title='The 10 best undefeated fighters',\n",
    "              labels={\n",
    "                  'name' : 'Name',\n",
    "                  'wins': 'No. of wins',\n",
    "                  'stance' : 'Type of stance used'\n",
    "              },\n",
    "              color='stance'\n",
    "            )\n",
    "fig1.update_layout(barmode='stack', xaxis = {'categoryorder': 'total descending'})\n",
    "\n",
    "fig1.show()"
   ]
  },
  {
   "cell_type": "markdown",
   "metadata": {},
   "source": [
    "![Image Description](https://i.pinimg.com/564x/0b/56/77/0b5677c41fa5bb46b148be3027877e62.jpg)"
   ]
  },
  {
   "cell_type": "markdown",
   "metadata": {},
   "source": [
    "Khabib Nurmagomedov undisputed undefeated, Pound for pound the greatest"
   ]
  },
  {
   "cell_type": "markdown",
   "metadata": {},
   "source": [
    "### Finding the top 10 fighters with the most losses"
   ]
  },
  {
   "cell_type": "code",
   "execution_count": 15,
   "metadata": {},
   "outputs": [
    {
     "name": "stdout",
     "output_type": "stream",
     "text": [
      "3.21 % of fighters haven't won a match with an average of 1.8 matches played\n"
     ]
    },
    {
     "data": {
      "application/vnd.plotly.v1+json": {
       "config": {
        "plotlyServerURL": "https://plot.ly"
       },
       "data": [
        {
         "alignmentgroup": "True",
         "hovertemplate": "Name=%{x}<br>No. of losses=%{y}<br>strikes absordeb/min=%{marker.color}<extra></extra>",
         "legendgroup": "",
         "marker": {
          "color": [
           3.13,
           0,
           5.59,
           0,
           0,
           0,
           0,
           8.43,
           0,
           0
          ],
          "coloraxis": "coloraxis",
          "pattern": {
           "shape": ""
          }
         },
         "name": "",
         "offsetgroup": "",
         "orientation": "v",
         "showlegend": false,
         "textposition": "auto",
         "type": "bar",
         "x": [
          "Yoji Anjo",
          "Keith Mielke",
          "Yosuke Nishijima",
          "Karl Willis",
          "Yuhi Sano",
          "Trent Jenkins",
          "Javi Alanis",
          "Jin Oh Kim",
          "Tony Halme",
          "Elisha Helsper"
         ],
         "xaxis": "x",
         "y": [
          5,
          5,
          5,
          5,
          4,
          4,
          4,
          4,
          4,
          4
         ],
         "yaxis": "y"
        }
       ],
       "layout": {
        "barmode": "relative",
        "coloraxis": {
         "colorbar": {
          "title": {
           "text": "strikes absordeb/min"
          }
         },
         "colorscale": [
          [
           0,
           "#0d0887"
          ],
          [
           0.1111111111111111,
           "#46039f"
          ],
          [
           0.2222222222222222,
           "#7201a8"
          ],
          [
           0.3333333333333333,
           "#9c179e"
          ],
          [
           0.4444444444444444,
           "#bd3786"
          ],
          [
           0.5555555555555556,
           "#d8576b"
          ],
          [
           0.6666666666666666,
           "#ed7953"
          ],
          [
           0.7777777777777778,
           "#fb9f3a"
          ],
          [
           0.8888888888888888,
           "#fdca26"
          ],
          [
           1,
           "#f0f921"
          ]
         ]
        },
        "legend": {
         "tracegroupgap": 0
        },
        "template": {
         "data": {
          "bar": [
           {
            "error_x": {
             "color": "#2a3f5f"
            },
            "error_y": {
             "color": "#2a3f5f"
            },
            "marker": {
             "line": {
              "color": "#E5ECF6",
              "width": 0.5
             },
             "pattern": {
              "fillmode": "overlay",
              "size": 10,
              "solidity": 0.2
             }
            },
            "type": "bar"
           }
          ],
          "barpolar": [
           {
            "marker": {
             "line": {
              "color": "#E5ECF6",
              "width": 0.5
             },
             "pattern": {
              "fillmode": "overlay",
              "size": 10,
              "solidity": 0.2
             }
            },
            "type": "barpolar"
           }
          ],
          "carpet": [
           {
            "aaxis": {
             "endlinecolor": "#2a3f5f",
             "gridcolor": "white",
             "linecolor": "white",
             "minorgridcolor": "white",
             "startlinecolor": "#2a3f5f"
            },
            "baxis": {
             "endlinecolor": "#2a3f5f",
             "gridcolor": "white",
             "linecolor": "white",
             "minorgridcolor": "white",
             "startlinecolor": "#2a3f5f"
            },
            "type": "carpet"
           }
          ],
          "choropleth": [
           {
            "colorbar": {
             "outlinewidth": 0,
             "ticks": ""
            },
            "type": "choropleth"
           }
          ],
          "contour": [
           {
            "colorbar": {
             "outlinewidth": 0,
             "ticks": ""
            },
            "colorscale": [
             [
              0,
              "#0d0887"
             ],
             [
              0.1111111111111111,
              "#46039f"
             ],
             [
              0.2222222222222222,
              "#7201a8"
             ],
             [
              0.3333333333333333,
              "#9c179e"
             ],
             [
              0.4444444444444444,
              "#bd3786"
             ],
             [
              0.5555555555555556,
              "#d8576b"
             ],
             [
              0.6666666666666666,
              "#ed7953"
             ],
             [
              0.7777777777777778,
              "#fb9f3a"
             ],
             [
              0.8888888888888888,
              "#fdca26"
             ],
             [
              1,
              "#f0f921"
             ]
            ],
            "type": "contour"
           }
          ],
          "contourcarpet": [
           {
            "colorbar": {
             "outlinewidth": 0,
             "ticks": ""
            },
            "type": "contourcarpet"
           }
          ],
          "heatmap": [
           {
            "colorbar": {
             "outlinewidth": 0,
             "ticks": ""
            },
            "colorscale": [
             [
              0,
              "#0d0887"
             ],
             [
              0.1111111111111111,
              "#46039f"
             ],
             [
              0.2222222222222222,
              "#7201a8"
             ],
             [
              0.3333333333333333,
              "#9c179e"
             ],
             [
              0.4444444444444444,
              "#bd3786"
             ],
             [
              0.5555555555555556,
              "#d8576b"
             ],
             [
              0.6666666666666666,
              "#ed7953"
             ],
             [
              0.7777777777777778,
              "#fb9f3a"
             ],
             [
              0.8888888888888888,
              "#fdca26"
             ],
             [
              1,
              "#f0f921"
             ]
            ],
            "type": "heatmap"
           }
          ],
          "heatmapgl": [
           {
            "colorbar": {
             "outlinewidth": 0,
             "ticks": ""
            },
            "colorscale": [
             [
              0,
              "#0d0887"
             ],
             [
              0.1111111111111111,
              "#46039f"
             ],
             [
              0.2222222222222222,
              "#7201a8"
             ],
             [
              0.3333333333333333,
              "#9c179e"
             ],
             [
              0.4444444444444444,
              "#bd3786"
             ],
             [
              0.5555555555555556,
              "#d8576b"
             ],
             [
              0.6666666666666666,
              "#ed7953"
             ],
             [
              0.7777777777777778,
              "#fb9f3a"
             ],
             [
              0.8888888888888888,
              "#fdca26"
             ],
             [
              1,
              "#f0f921"
             ]
            ],
            "type": "heatmapgl"
           }
          ],
          "histogram": [
           {
            "marker": {
             "pattern": {
              "fillmode": "overlay",
              "size": 10,
              "solidity": 0.2
             }
            },
            "type": "histogram"
           }
          ],
          "histogram2d": [
           {
            "colorbar": {
             "outlinewidth": 0,
             "ticks": ""
            },
            "colorscale": [
             [
              0,
              "#0d0887"
             ],
             [
              0.1111111111111111,
              "#46039f"
             ],
             [
              0.2222222222222222,
              "#7201a8"
             ],
             [
              0.3333333333333333,
              "#9c179e"
             ],
             [
              0.4444444444444444,
              "#bd3786"
             ],
             [
              0.5555555555555556,
              "#d8576b"
             ],
             [
              0.6666666666666666,
              "#ed7953"
             ],
             [
              0.7777777777777778,
              "#fb9f3a"
             ],
             [
              0.8888888888888888,
              "#fdca26"
             ],
             [
              1,
              "#f0f921"
             ]
            ],
            "type": "histogram2d"
           }
          ],
          "histogram2dcontour": [
           {
            "colorbar": {
             "outlinewidth": 0,
             "ticks": ""
            },
            "colorscale": [
             [
              0,
              "#0d0887"
             ],
             [
              0.1111111111111111,
              "#46039f"
             ],
             [
              0.2222222222222222,
              "#7201a8"
             ],
             [
              0.3333333333333333,
              "#9c179e"
             ],
             [
              0.4444444444444444,
              "#bd3786"
             ],
             [
              0.5555555555555556,
              "#d8576b"
             ],
             [
              0.6666666666666666,
              "#ed7953"
             ],
             [
              0.7777777777777778,
              "#fb9f3a"
             ],
             [
              0.8888888888888888,
              "#fdca26"
             ],
             [
              1,
              "#f0f921"
             ]
            ],
            "type": "histogram2dcontour"
           }
          ],
          "mesh3d": [
           {
            "colorbar": {
             "outlinewidth": 0,
             "ticks": ""
            },
            "type": "mesh3d"
           }
          ],
          "parcoords": [
           {
            "line": {
             "colorbar": {
              "outlinewidth": 0,
              "ticks": ""
             }
            },
            "type": "parcoords"
           }
          ],
          "pie": [
           {
            "automargin": true,
            "type": "pie"
           }
          ],
          "scatter": [
           {
            "fillpattern": {
             "fillmode": "overlay",
             "size": 10,
             "solidity": 0.2
            },
            "type": "scatter"
           }
          ],
          "scatter3d": [
           {
            "line": {
             "colorbar": {
              "outlinewidth": 0,
              "ticks": ""
             }
            },
            "marker": {
             "colorbar": {
              "outlinewidth": 0,
              "ticks": ""
             }
            },
            "type": "scatter3d"
           }
          ],
          "scattercarpet": [
           {
            "marker": {
             "colorbar": {
              "outlinewidth": 0,
              "ticks": ""
             }
            },
            "type": "scattercarpet"
           }
          ],
          "scattergeo": [
           {
            "marker": {
             "colorbar": {
              "outlinewidth": 0,
              "ticks": ""
             }
            },
            "type": "scattergeo"
           }
          ],
          "scattergl": [
           {
            "marker": {
             "colorbar": {
              "outlinewidth": 0,
              "ticks": ""
             }
            },
            "type": "scattergl"
           }
          ],
          "scattermapbox": [
           {
            "marker": {
             "colorbar": {
              "outlinewidth": 0,
              "ticks": ""
             }
            },
            "type": "scattermapbox"
           }
          ],
          "scatterpolar": [
           {
            "marker": {
             "colorbar": {
              "outlinewidth": 0,
              "ticks": ""
             }
            },
            "type": "scatterpolar"
           }
          ],
          "scatterpolargl": [
           {
            "marker": {
             "colorbar": {
              "outlinewidth": 0,
              "ticks": ""
             }
            },
            "type": "scatterpolargl"
           }
          ],
          "scatterternary": [
           {
            "marker": {
             "colorbar": {
              "outlinewidth": 0,
              "ticks": ""
             }
            },
            "type": "scatterternary"
           }
          ],
          "surface": [
           {
            "colorbar": {
             "outlinewidth": 0,
             "ticks": ""
            },
            "colorscale": [
             [
              0,
              "#0d0887"
             ],
             [
              0.1111111111111111,
              "#46039f"
             ],
             [
              0.2222222222222222,
              "#7201a8"
             ],
             [
              0.3333333333333333,
              "#9c179e"
             ],
             [
              0.4444444444444444,
              "#bd3786"
             ],
             [
              0.5555555555555556,
              "#d8576b"
             ],
             [
              0.6666666666666666,
              "#ed7953"
             ],
             [
              0.7777777777777778,
              "#fb9f3a"
             ],
             [
              0.8888888888888888,
              "#fdca26"
             ],
             [
              1,
              "#f0f921"
             ]
            ],
            "type": "surface"
           }
          ],
          "table": [
           {
            "cells": {
             "fill": {
              "color": "#EBF0F8"
             },
             "line": {
              "color": "white"
             }
            },
            "header": {
             "fill": {
              "color": "#C8D4E3"
             },
             "line": {
              "color": "white"
             }
            },
            "type": "table"
           }
          ]
         },
         "layout": {
          "annotationdefaults": {
           "arrowcolor": "#2a3f5f",
           "arrowhead": 0,
           "arrowwidth": 1
          },
          "autotypenumbers": "strict",
          "coloraxis": {
           "colorbar": {
            "outlinewidth": 0,
            "ticks": ""
           }
          },
          "colorscale": {
           "diverging": [
            [
             0,
             "#8e0152"
            ],
            [
             0.1,
             "#c51b7d"
            ],
            [
             0.2,
             "#de77ae"
            ],
            [
             0.3,
             "#f1b6da"
            ],
            [
             0.4,
             "#fde0ef"
            ],
            [
             0.5,
             "#f7f7f7"
            ],
            [
             0.6,
             "#e6f5d0"
            ],
            [
             0.7,
             "#b8e186"
            ],
            [
             0.8,
             "#7fbc41"
            ],
            [
             0.9,
             "#4d9221"
            ],
            [
             1,
             "#276419"
            ]
           ],
           "sequential": [
            [
             0,
             "#0d0887"
            ],
            [
             0.1111111111111111,
             "#46039f"
            ],
            [
             0.2222222222222222,
             "#7201a8"
            ],
            [
             0.3333333333333333,
             "#9c179e"
            ],
            [
             0.4444444444444444,
             "#bd3786"
            ],
            [
             0.5555555555555556,
             "#d8576b"
            ],
            [
             0.6666666666666666,
             "#ed7953"
            ],
            [
             0.7777777777777778,
             "#fb9f3a"
            ],
            [
             0.8888888888888888,
             "#fdca26"
            ],
            [
             1,
             "#f0f921"
            ]
           ],
           "sequentialminus": [
            [
             0,
             "#0d0887"
            ],
            [
             0.1111111111111111,
             "#46039f"
            ],
            [
             0.2222222222222222,
             "#7201a8"
            ],
            [
             0.3333333333333333,
             "#9c179e"
            ],
            [
             0.4444444444444444,
             "#bd3786"
            ],
            [
             0.5555555555555556,
             "#d8576b"
            ],
            [
             0.6666666666666666,
             "#ed7953"
            ],
            [
             0.7777777777777778,
             "#fb9f3a"
            ],
            [
             0.8888888888888888,
             "#fdca26"
            ],
            [
             1,
             "#f0f921"
            ]
           ]
          },
          "colorway": [
           "#636efa",
           "#EF553B",
           "#00cc96",
           "#ab63fa",
           "#FFA15A",
           "#19d3f3",
           "#FF6692",
           "#B6E880",
           "#FF97FF",
           "#FECB52"
          ],
          "font": {
           "color": "#2a3f5f"
          },
          "geo": {
           "bgcolor": "white",
           "lakecolor": "white",
           "landcolor": "#E5ECF6",
           "showlakes": true,
           "showland": true,
           "subunitcolor": "white"
          },
          "hoverlabel": {
           "align": "left"
          },
          "hovermode": "closest",
          "mapbox": {
           "style": "light"
          },
          "paper_bgcolor": "white",
          "plot_bgcolor": "#E5ECF6",
          "polar": {
           "angularaxis": {
            "gridcolor": "white",
            "linecolor": "white",
            "ticks": ""
           },
           "bgcolor": "#E5ECF6",
           "radialaxis": {
            "gridcolor": "white",
            "linecolor": "white",
            "ticks": ""
           }
          },
          "scene": {
           "xaxis": {
            "backgroundcolor": "#E5ECF6",
            "gridcolor": "white",
            "gridwidth": 2,
            "linecolor": "white",
            "showbackground": true,
            "ticks": "",
            "zerolinecolor": "white"
           },
           "yaxis": {
            "backgroundcolor": "#E5ECF6",
            "gridcolor": "white",
            "gridwidth": 2,
            "linecolor": "white",
            "showbackground": true,
            "ticks": "",
            "zerolinecolor": "white"
           },
           "zaxis": {
            "backgroundcolor": "#E5ECF6",
            "gridcolor": "white",
            "gridwidth": 2,
            "linecolor": "white",
            "showbackground": true,
            "ticks": "",
            "zerolinecolor": "white"
           }
          },
          "shapedefaults": {
           "line": {
            "color": "#2a3f5f"
           }
          },
          "ternary": {
           "aaxis": {
            "gridcolor": "white",
            "linecolor": "white",
            "ticks": ""
           },
           "baxis": {
            "gridcolor": "white",
            "linecolor": "white",
            "ticks": ""
           },
           "bgcolor": "#E5ECF6",
           "caxis": {
            "gridcolor": "white",
            "linecolor": "white",
            "ticks": ""
           }
          },
          "title": {
           "x": 0.05
          },
          "xaxis": {
           "automargin": true,
           "gridcolor": "white",
           "linecolor": "white",
           "ticks": "",
           "title": {
            "standoff": 15
           },
           "zerolinecolor": "white",
           "zerolinewidth": 2
          },
          "yaxis": {
           "automargin": true,
           "gridcolor": "white",
           "linecolor": "white",
           "ticks": "",
           "title": {
            "standoff": 15
           },
           "zerolinecolor": "white",
           "zerolinewidth": 2
          }
         }
        },
        "title": {
         "text": "The 10 fighters with most losses"
        },
        "xaxis": {
         "anchor": "y",
         "domain": [
          0,
          1
         ],
         "title": {
          "text": "Name"
         }
        },
        "yaxis": {
         "anchor": "x",
         "domain": [
          0,
          1
         ],
         "title": {
          "text": "No. of losses"
         }
        }
       }
      }
     },
     "metadata": {},
     "output_type": "display_data"
    }
   ],
   "source": [
    "df_unwinning = df.loc[df[\"win%\"] == 0].sort_values(by=['losses'], ascending=False)\n",
    "per_unwinning_fig = round(df_unwinning.shape[0]/df.shape[0] * 100, 2)\n",
    "uw_mean_match_played = round(df_unwinning[\"total_career_fights\"].mean(), 1)\n",
    "print(f\"{per_unwinning_fig} % of fighters haven't won a match with an average of {uw_mean_match_played} matches played\")\n",
    "\n",
    "worst_10_fighters = df_unwinning.head(10)\n",
    "fig2 = px.bar(worst_10_fighters,\n",
    "              x='name',\n",
    "              y='losses',\n",
    "              title = \"The 10 fighters with most losses\",\n",
    "             labels={'name':'Name',\n",
    "                     'losses': \"No. of losses\",\n",
    "                     \"significant_strikes_absorbed_per_minute\": \"strikes absordeb/min\"\n",
    "                     }, \n",
    "             color = \"significant_strikes_absorbed_per_minute\"\n",
    "             )\n",
    "fig2.show()"
   ]
  },
  {
   "cell_type": "markdown",
   "metadata": {},
   "source": [
    "Most of these are newcomers and its common to lose in the beginning of your career. Here we can observe Jin Oh Kim absorbed the most strikes per minute."
   ]
  },
  {
   "cell_type": "markdown",
   "metadata": {},
   "source": [
    "### Finding the relation between height and winning fights"
   ]
  },
  {
   "cell_type": "code",
   "execution_count": 16,
   "metadata": {},
   "outputs": [
    {
     "data": {
      "application/vnd.plotly.v1+json": {
       "config": {
        "plotlyServerURL": "https://plot.ly"
       },
       "data": [
        {
         "hovertemplate": "Height [cm]=%{x}<br>No. of wins=%{y}<extra></extra>",
         "legendgroup": "",
         "marker": {
          "color": "#636efa",
          "symbol": "circle"
         },
         "mode": "markers",
         "name": "",
         "showlegend": false,
         "type": "scattergl",
         "x": [
          190.5,
          185.42,
          177.8,
          167.64,
          190.5,
          175.26,
          177.8,
          182.88,
          177.8,
          198.12,
          190.5,
          185.42,
          165.1,
          160.02,
          182.88,
          187.96,
          177.8,
          185.42,
          165.1,
          170.18,
          182.88,
          172.72,
          167.64,
          193.04,
          180.34,
          185.42,
          175.26,
          182.88,
          190.5,
          175.26,
          187.96,
          187.96,
          187.96,
          182.88,
          null,
          177.8,
          187.96,
          175.26,
          null,
          null,
          175.26,
          185.42,
          182.88,
          185.42,
          180.34,
          175.26,
          175.26,
          null,
          167.64,
          170.18,
          190.5,
          172.72,
          182.88,
          172.72,
          175.26,
          182.88,
          193.04,
          182.88,
          185.42,
          190.5,
          180.34,
          177.8,
          180.34,
          193.04,
          162.56,
          180.34,
          182.88,
          182.88,
          170.18,
          167.64,
          190.5,
          185.42,
          165.1,
          172.72,
          167.64,
          180.34,
          170.18,
          null,
          190.5,
          182.88,
          175.26,
          170.18,
          160.02,
          165.1,
          177.8,
          175.26,
          190.5,
          177.8,
          null,
          185.42,
          182.88,
          175.26,
          175.26,
          175.26,
          200.66,
          180.34,
          172.72,
          170.18,
          null,
          172.72,
          187.96,
          165.1,
          185.42,
          185.42,
          180.34,
          167.64,
          190.5,
          175.26,
          175.26,
          165.1,
          193.04,
          172.72,
          182.88,
          175.26,
          172.72,
          190.5,
          180.34,
          180.34,
          195.58,
          180.34,
          185.42,
          185.42,
          162.56,
          170.18,
          160.02,
          170.18,
          180.34,
          182.88,
          185.42,
          177.8,
          170.18,
          177.8,
          182.88,
          190.5,
          190.5,
          182.88,
          180.34,
          175.26,
          180.34,
          175.26,
          172.72,
          177.8,
          172.72,
          190.5,
          167.64,
          175.26,
          185.42,
          182.88,
          187.96,
          172.72,
          185.42,
          190.5,
          182.88,
          187.96,
          187.96,
          177.8,
          182.88,
          172.72,
          180.34,
          185.42,
          182.88,
          182.88,
          187.96,
          180.34,
          170.18,
          187.96,
          172.72,
          185.42,
          172.72,
          182.88,
          198.12,
          170.18,
          172.72,
          193.04,
          185.42,
          190.5,
          167.64,
          180.34,
          165.1,
          170.18,
          187.96,
          170.18,
          170.18,
          177.8,
          170.18,
          167.64,
          187.96,
          185.42,
          177.8,
          185.42,
          177.8,
          167.64,
          165.1,
          187.96,
          182.88,
          167.64,
          185.42,
          175.26,
          167.64,
          175.26,
          185.42,
          177.8,
          182.88,
          167.64,
          175.26,
          193.04,
          182.88,
          177.8,
          null,
          185.42,
          185.42,
          182.88,
          177.8,
          185.42,
          187.96,
          175.26,
          180.34,
          167.64,
          182.88,
          167.64,
          182.88,
          193.04,
          198.12,
          190.5,
          177.8,
          187.96,
          193.04,
          190.5,
          190.5,
          175.26,
          177.8,
          180.34,
          177.8,
          167.64,
          180.34,
          190.5,
          180.34,
          177.8,
          172.72,
          182.88,
          208.28,
          165.1,
          175.26,
          167.64,
          185.42,
          170.18,
          165.1,
          180.34,
          182.88,
          167.64,
          190.5,
          180.34,
          187.96,
          182.88,
          182.88,
          198.12,
          185.42,
          182.88,
          177.8,
          182.88,
          177.8,
          170.18,
          170.18,
          180.34,
          172.72,
          182.88,
          180.34,
          170.18,
          null,
          180.34,
          185.42,
          187.96,
          167.64,
          170.18,
          185.42,
          187.96,
          162.56,
          180.34,
          185.42,
          165.1,
          187.96,
          187.96,
          182.88,
          175.26,
          175.26,
          172.72,
          162.56,
          182.88,
          170.18,
          167.64,
          172.72,
          185.42,
          187.96,
          172.72,
          175.26,
          null,
          180.34,
          180.34,
          182.88,
          180.34,
          175.26,
          180.34,
          187.96,
          177.8,
          175.26,
          180.34,
          182.88,
          175.26,
          177.8,
          182.88,
          187.96,
          190.5,
          172.72,
          167.64,
          172.72,
          187.96,
          177.8,
          170.18,
          175.26,
          170.18,
          175.26,
          180.34,
          175.26,
          172.72,
          180.34,
          187.96,
          175.26,
          190.5,
          182.88,
          165.1,
          167.64,
          175.26,
          180.34,
          182.88,
          182.88,
          190.5,
          165.1,
          187.96,
          193.04,
          172.72,
          187.96,
          167.64,
          180.34,
          172.72,
          180.34,
          185.42,
          177.8,
          172.72,
          180.34,
          175.26,
          170.18,
          177.8,
          167.64,
          180.34,
          177.8,
          190.5,
          182.88,
          182.88,
          167.64,
          185.42,
          177.8,
          187.96,
          172.72,
          165.1,
          167.64,
          170.18,
          185.42,
          175.26,
          167.64,
          187.96,
          177.8,
          187.96,
          160.02,
          170.18,
          175.26,
          177.8,
          175.26,
          185.42,
          175.26,
          190.5,
          185.42,
          172.72,
          162.56,
          187.96,
          175.26,
          190.5,
          182.88,
          187.96,
          180.34,
          185.42,
          170.18,
          170.18,
          198.12,
          185.42,
          182.88,
          175.26,
          160.02,
          195.58,
          null,
          190.5,
          187.96,
          187.96,
          180.34,
          182.88,
          165.1,
          167.64,
          172.72,
          157.48,
          210.82,
          175.26,
          177.8,
          180.34,
          190.5,
          187.96,
          182.88,
          175.26,
          180.34,
          185.42,
          190.5,
          180.34,
          180.34,
          172.72,
          182.88,
          172.72,
          175.26,
          177.8,
          167.64,
          170.18,
          175.26,
          177.8,
          165.1,
          187.96,
          185.42,
          175.26,
          177.8,
          193.04,
          190.5,
          162.56,
          170.18,
          175.26,
          180.34,
          177.8,
          172.72,
          170.18,
          160.02,
          167.64,
          172.72,
          185.42,
          180.34,
          177.8,
          172.72,
          162.56,
          177.8,
          182.88,
          185.42,
          165.1,
          182.88,
          177.8,
          180.34,
          170.18,
          195.58,
          170.18,
          185.42,
          185.42,
          175.26,
          170.18,
          177.8,
          167.64,
          185.42,
          182.88,
          182.88,
          182.88,
          170.18,
          180.34,
          177.8,
          185.42,
          172.72,
          170.18,
          185.42,
          177.8,
          180.34,
          167.64,
          175.26,
          177.8,
          180.34,
          172.72,
          170.18,
          170.18,
          182.88,
          162.56,
          185.42,
          177.8,
          190.5,
          162.56,
          182.88,
          182.88,
          175.26,
          167.64,
          182.88,
          177.8,
          182.88,
          175.26,
          180.34,
          187.96,
          180.34,
          157.48,
          187.96,
          160.02,
          190.5,
          190.5,
          177.8,
          175.26,
          175.26,
          175.26,
          175.26,
          182.88,
          177.8,
          180.34,
          180.34,
          165.1,
          170.18,
          170.18,
          193.04,
          177.8,
          172.72,
          175.26,
          182.88,
          177.8,
          170.18,
          172.72,
          180.34,
          170.18,
          167.64,
          175.26,
          182.88,
          195.58,
          172.72,
          162.56,
          187.96,
          170.18,
          177.8,
          185.42,
          167.64,
          170.18,
          182.88,
          185.42,
          182.88,
          162.56,
          190.5,
          180.34,
          175.26,
          167.64,
          180.34,
          182.88,
          177.8,
          187.96,
          187.96,
          177.8,
          187.96,
          193.04,
          177.8,
          185.42,
          175.26,
          170.18,
          187.96,
          170.18,
          167.64,
          175.26,
          185.42,
          167.64,
          182.88,
          187.96,
          195.58,
          172.72,
          182.88,
          177.8,
          182.88,
          193.04,
          185.42,
          177.8,
          180.34,
          175.26,
          187.96,
          182.88,
          175.26,
          185.42,
          187.96,
          175.26,
          187.96,
          175.26,
          180.34,
          190.5,
          177.8,
          177.8,
          180.34,
          172.72,
          180.34,
          170.18,
          170.18,
          190.5,
          187.96,
          182.88,
          175.26,
          182.88,
          193.04,
          167.64,
          175.26,
          185.42,
          175.26,
          175.26,
          190.5,
          180.34,
          187.96,
          175.26,
          177.8,
          182.88,
          187.96,
          175.26,
          177.8,
          172.72,
          175.26,
          187.96,
          162.56,
          190.5,
          177.8,
          190.5,
          175.26,
          182.88,
          175.26,
          203.2,
          177.8,
          182.88,
          170.18,
          170.18,
          175.26,
          190.5,
          177.8,
          193.04,
          185.42,
          187.96,
          175.26,
          190.5,
          167.64,
          182.88,
          175.26,
          172.72,
          170.18,
          177.8,
          180.34,
          190.5,
          182.88,
          157.48,
          177.8,
          167.64,
          172.72,
          190.5,
          190.5,
          170.18,
          175.26,
          177.8,
          187.96,
          208.28,
          175.26,
          167.64,
          175.26,
          160.02,
          180.34,
          180.34,
          170.18,
          182.88,
          167.64,
          172.72,
          177.8,
          187.96,
          170.18,
          185.42,
          185.42,
          185.42,
          180.34,
          177.8,
          187.96,
          170.18,
          185.42,
          157.48,
          177.8,
          172.72,
          177.8,
          187.96,
          185.42,
          167.64,
          172.72,
          167.64,
          160.02,
          162.56,
          193.04,
          167.64,
          187.96,
          170.18,
          177.8,
          187.96,
          180.34,
          167.64,
          175.26,
          167.64,
          177.8,
          170.18,
          172.72,
          198.12,
          187.96,
          177.8,
          190.5,
          170.18,
          177.8,
          182.88,
          162.56,
          175.26,
          185.42,
          165.1,
          182.88,
          160.02,
          177.8,
          182.88,
          190.5,
          null,
          182.88,
          177.8,
          180.34,
          187.96,
          187.96,
          177.8,
          null,
          187.96,
          193.04,
          182.88,
          182.88,
          172.72,
          160.02,
          190.5,
          170.18,
          175.26,
          167.64,
          185.42,
          180.34,
          160.02,
          170.18,
          195.58,
          182.88,
          185.42,
          175.26,
          180.34,
          185.42,
          180.34,
          177.8,
          180.34,
          190.5,
          170.18,
          165.1,
          185.42,
          182.88,
          180.34,
          177.8,
          170.18,
          177.8,
          187.96,
          165.1,
          162.56,
          190.5,
          185.42,
          175.26,
          167.64,
          null,
          190.5,
          177.8,
          162.56,
          187.96,
          172.72,
          180.34,
          172.72,
          187.96,
          187.96,
          167.64,
          185.42,
          172.72,
          182.88,
          177.8,
          185.42,
          167.64,
          160.02,
          195.58,
          177.8,
          180.34,
          193.04,
          162.56,
          185.42,
          190.5,
          162.56,
          187.96,
          165.1,
          185.42,
          182.88,
          177.8,
          175.26,
          175.26,
          200.66,
          180.34,
          187.96,
          172.72,
          187.96,
          180.34,
          175.26,
          177.8,
          190.5,
          175.26,
          170.18,
          157.48,
          177.8,
          177.8,
          180.34,
          177.8,
          167.64,
          165.1,
          190.5,
          177.8,
          185.42,
          175.26,
          193.04,
          167.64,
          172.72,
          172.72,
          185.42,
          187.96,
          167.64,
          172.72,
          175.26,
          167.64,
          198.12,
          172.72,
          185.42,
          180.34,
          177.8,
          182.88,
          182.88,
          182.88,
          170.18,
          187.96,
          187.96,
          190.5,
          187.96,
          167.64,
          187.96,
          190.5,
          172.72,
          172.72,
          187.96,
          180.34,
          182.88,
          175.26,
          187.96,
          170.18,
          172.72,
          172.72,
          172.72,
          182.88,
          175.26,
          172.72,
          170.18,
          170.18,
          172.72,
          172.72,
          175.26,
          185.42,
          175.26,
          167.64,
          200.66,
          193.04,
          170.18,
          165.1,
          172.72,
          175.26,
          198.12,
          177.8,
          167.64,
          172.72,
          175.26,
          177.8,
          170.18,
          172.72,
          180.34,
          187.96,
          182.88,
          185.42,
          177.8,
          185.42,
          185.42,
          170.18,
          187.96,
          160.02,
          187.96,
          170.18,
          170.18,
          177.8,
          172.72,
          180.34,
          177.8,
          162.56,
          172.72,
          190.5,
          182.88,
          177.8,
          152.4,
          177.8,
          190.5,
          182.88,
          170.18,
          190.5,
          180.34,
          165.1,
          177.8,
          170.18,
          177.8,
          187.96,
          177.8,
          180.34,
          193.04,
          182.88,
          177.8,
          190.5,
          175.26,
          170.18,
          162.56,
          180.34,
          172.72,
          167.64,
          195.58,
          182.88,
          175.26,
          185.42,
          185.42,
          185.42,
          170.18,
          175.26,
          172.72,
          193.04,
          170.18,
          182.88,
          170.18,
          167.64,
          157.48,
          177.8,
          177.8,
          170.18,
          182.88,
          193.04,
          167.64,
          177.8,
          165.1,
          165.1,
          160.02,
          185.42,
          157.48,
          182.88,
          162.56,
          170.18,
          175.26,
          175.26,
          185.42,
          187.96,
          172.72,
          160.02,
          170.18,
          167.64,
          187.96,
          187.96,
          167.64,
          177.8,
          177.8,
          167.64,
          177.8,
          180.34,
          167.64,
          172.72,
          182.88,
          185.42,
          154.94,
          193.04,
          170.18,
          180.34,
          180.34,
          180.34,
          172.72,
          172.72,
          162.56,
          172.72,
          167.64,
          182.88,
          177.8,
          167.64,
          180.34,
          165.1,
          167.64,
          180.34,
          167.64,
          167.64,
          187.96,
          172.72,
          175.26,
          190.5,
          177.8,
          165.1,
          182.88,
          170.18,
          172.72,
          167.64,
          185.42,
          165.1,
          182.88,
          185.42,
          170.18,
          160.02,
          172.72,
          170.18,
          185.42,
          177.8,
          165.1,
          185.42,
          167.64,
          182.88,
          182.88,
          182.88,
          187.96,
          177.8,
          190.5,
          175.26,
          193.04,
          162.56,
          182.88,
          175.26,
          175.26,
          175.26,
          187.96,
          187.96,
          182.88,
          185.42,
          187.96,
          172.72,
          200.66,
          175.26,
          190.5,
          185.42,
          175.26,
          170.18,
          175.26,
          190.5,
          167.64,
          175.26,
          187.96,
          190.5,
          170.18,
          187.96,
          175.26,
          167.64,
          180.34,
          193.04,
          177.8,
          180.34,
          167.64,
          180.34,
          185.42,
          177.8,
          180.34,
          177.8,
          180.34,
          165.1,
          170.18,
          170.18,
          175.26,
          170.18,
          187.96,
          177.8,
          177.8,
          177.8,
          180.34,
          182.88,
          187.96,
          157.48,
          175.26,
          190.5,
          177.8,
          182.88,
          175.26,
          182.88,
          190.5,
          172.72,
          160.02,
          167.64,
          162.56,
          185.42,
          172.72,
          175.26,
          187.96,
          187.96,
          165.1,
          165.1,
          175.26,
          157.48,
          182.88,
          182.88,
          182.88,
          182.88,
          172.72,
          172.72,
          170.18,
          170.18,
          187.96,
          190.5,
          180.34,
          180.34,
          177.8,
          177.8,
          170.18,
          172.72,
          170.18,
          175.26,
          185.42,
          170.18,
          162.56,
          182.88,
          185.42,
          167.64,
          177.8,
          170.18,
          190.5,
          167.64,
          165.1,
          177.8,
          160.02,
          195.58,
          167.64,
          187.96,
          180.34,
          170.18,
          170.18,
          170.18,
          187.96,
          170.18,
          165.1,
          185.42,
          175.26,
          177.8,
          180.34,
          165.1,
          185.42,
          187.96,
          180.34,
          167.64,
          172.72,
          170.18,
          172.72,
          175.26,
          193.04,
          172.72,
          190.5,
          193.04,
          180.34,
          182.88,
          180.34,
          177.8,
          165.1,
          190.5,
          167.64,
          185.42,
          172.72,
          172.72,
          172.72,
          180.34,
          162.56,
          165.1,
          182.88,
          185.42,
          175.26,
          170.18,
          172.72,
          170.18,
          165.1,
          167.64,
          180.34,
          162.56,
          172.72,
          187.96,
          182.88,
          177.8,
          177.8,
          167.64,
          175.26,
          182.88,
          162.56,
          185.42,
          185.42,
          177.8,
          182.88,
          190.5,
          182.88,
          170.18,
          172.72,
          185.42,
          190.5,
          175.26,
          190.5,
          185.42,
          182.88,
          170.18,
          172.72,
          167.64,
          177.8,
          175.26,
          170.18,
          160.02,
          180.34,
          170.18,
          185.42,
          162.56,
          175.26,
          182.88,
          182.88,
          185.42,
          170.18,
          167.64,
          177.8,
          162.56,
          182.88,
          175.26,
          172.72,
          180.34,
          180.34,
          190.5,
          180.34,
          165.1,
          190.5,
          165.1,
          177.8,
          175.26,
          170.18,
          185.42,
          165.1,
          175.26,
          177.8,
          172.72,
          167.64,
          182.88,
          180.34,
          172.72,
          177.8,
          185.42,
          172.72,
          175.26,
          170.18,
          185.42,
          165.1,
          187.96,
          175.26,
          187.96,
          172.72,
          193.04,
          160.02,
          182.88,
          167.64,
          182.88,
          187.96,
          190.5,
          180.34,
          175.26,
          162.56,
          182.88,
          160.02,
          182.88,
          182.88,
          175.26,
          180.34,
          187.96,
          175.26,
          180.34,
          182.88,
          175.26,
          190.5,
          175.26,
          175.26,
          175.26,
          175.26,
          160.02,
          160.02,
          193.04,
          167.64,
          182.88,
          182.88,
          193.04,
          190.5,
          167.64,
          185.42,
          null,
          165.1,
          182.88,
          177.8,
          187.96,
          170.18,
          180.34,
          170.18,
          180.34,
          193.04,
          175.26,
          180.34,
          182.88,
          190.5,
          167.64,
          165.1,
          187.96,
          170.18,
          182.88,
          190.5,
          185.42,
          null,
          175.26,
          172.72,
          185.42,
          154.94,
          190.5,
          170.18,
          167.64,
          182.88,
          185.42,
          182.88,
          182.88,
          187.96,
          177.8,
          185.42,
          182.88,
          180.34,
          175.26,
          182.88,
          167.64,
          180.34,
          185.42,
          170.18,
          177.8,
          182.88,
          193.04,
          160.02,
          172.72,
          177.8,
          177.8,
          162.56,
          190.5,
          165.1,
          167.64,
          172.72,
          185.42,
          177.8,
          180.34,
          170.18,
          180.34,
          195.58,
          165.1,
          182.88,
          180.34,
          185.42,
          167.64,
          185.42,
          190.5,
          167.64,
          198.12,
          180.34,
          177.8,
          182.88,
          177.8,
          187.96,
          167.64,
          175.26,
          172.72,
          182.88,
          170.18,
          172.72,
          157.48,
          172.72,
          172.72,
          193.04,
          182.88,
          167.64,
          175.26,
          185.42,
          177.8,
          187.96,
          200.66,
          175.26,
          175.26,
          167.64,
          190.5,
          177.8,
          180.34,
          167.64,
          175.26,
          170.18,
          180.34,
          172.72,
          177.8,
          177.8,
          172.72,
          177.8,
          182.88,
          170.18,
          167.64,
          177.8,
          195.58,
          182.88,
          185.42,
          170.18,
          175.26,
          190.5,
          172.72,
          172.72,
          154.94,
          167.64,
          165.1,
          177.8,
          180.34,
          154.94,
          165.1,
          185.42,
          172.72,
          180.34,
          167.64,
          177.8,
          177.8,
          175.26,
          193.04,
          193.04,
          190.5,
          162.56,
          175.26,
          177.8,
          187.96,
          180.34,
          175.26,
          185.42,
          175.26,
          170.18,
          165.1,
          226.06,
          182.88,
          182.88,
          175.26,
          172.72,
          162.56,
          172.72,
          182.88,
          182.88,
          193.04,
          185.42,
          172.72,
          170.18,
          187.96,
          177.8,
          180.34,
          177.8,
          170.18,
          162.56,
          175.26,
          175.26,
          167.64,
          162.56,
          170.18,
          172.72,
          187.96,
          160.02,
          180.34,
          175.26,
          182.88,
          175.26,
          177.8,
          177.8,
          162.56,
          172.72,
          167.64,
          182.88,
          165.1,
          193.04,
          175.26,
          172.72,
          167.64,
          180.34,
          175.26,
          177.8,
          177.8,
          177.8,
          162.56,
          177.8,
          175.26,
          193.04,
          177.8,
          165.1,
          157.48,
          177.8,
          167.64,
          177.8,
          157.48,
          165.1,
          185.42,
          190.5,
          182.88,
          190.5,
          195.58,
          187.96,
          175.26,
          182.88,
          187.96,
          180.34,
          170.18,
          177.8,
          180.34,
          170.18,
          182.88,
          162.56,
          167.64,
          167.64,
          172.72,
          180.34,
          190.5,
          167.64,
          170.18,
          177.8,
          182.88,
          180.34,
          180.34,
          180.34,
          180.34,
          175.26,
          177.8,
          182.88,
          165.1,
          180.34,
          182.88,
          187.96,
          170.18,
          162.56,
          182.88,
          175.26,
          182.88,
          175.26,
          162.56,
          172.72,
          170.18,
          162.56,
          185.42,
          175.26,
          175.26,
          170.18,
          177.8,
          180.34,
          172.72,
          185.42,
          167.64,
          175.26,
          175.26,
          167.64,
          175.26,
          182.88,
          167.64,
          193.04,
          177.8,
          154.94,
          187.96,
          172.72,
          172.72,
          180.34,
          190.5,
          177.8,
          180.34,
          182.88,
          180.34,
          170.18,
          180.34,
          172.72,
          175.26,
          180.34,
          172.72,
          170.18,
          165.1,
          175.26,
          170.18,
          182.88,
          177.8,
          154.94,
          167.64,
          177.8,
          165.1,
          167.64,
          182.88,
          185.42,
          170.18,
          175.26,
          182.88,
          190.5,
          175.26,
          185.42,
          165.1,
          165.1,
          167.64,
          167.64,
          182.88,
          177.8,
          170.18,
          180.34,
          170.18,
          190.5,
          172.72,
          182.88,
          167.64,
          167.64,
          182.88,
          152.4,
          190.5,
          170.18,
          162.56,
          175.26,
          160.02,
          165.1,
          162.56,
          182.88,
          187.96,
          157.48,
          182.88,
          177.8,
          177.8,
          175.26,
          175.26,
          167.64,
          182.88,
          180.34,
          175.26,
          193.04,
          187.96,
          162.56,
          172.72,
          180.34,
          172.72,
          167.64,
          167.64,
          165.1,
          175.26,
          154.94,
          180.34,
          185.42,
          172.72,
          177.8,
          177.8,
          172.72,
          185.42,
          162.56,
          180.34,
          180.34,
          167.64,
          190.5,
          160.02,
          160.02,
          177.8,
          165.1,
          172.72,
          172.72,
          172.72,
          167.64,
          170.18,
          175.26,
          190.5,
          180.34,
          193.04,
          193.04,
          177.8,
          187.96,
          167.64,
          180.34,
          182.88,
          180.34,
          175.26,
          198.12,
          167.64,
          198.12,
          177.8,
          167.64,
          167.64,
          175.26,
          177.8,
          154.94,
          193.04,
          172.72,
          190.5,
          172.72,
          172.72,
          185.42,
          180.34,
          182.88,
          175.26,
          182.88,
          182.88,
          185.42,
          172.72,
          175.26,
          154.94,
          177.8,
          193.04,
          177.8,
          200.66,
          182.88,
          185.42,
          175.26,
          185.42,
          175.26,
          185.42,
          172.72,
          170.18,
          154.94,
          190.5,
          172.72,
          177.8,
          167.64,
          185.42,
          180.34,
          180.34,
          170.18,
          165.1,
          182.88,
          187.96,
          172.72,
          193.04,
          182.88,
          175.26,
          165.1,
          170.18,
          162.56,
          167.64,
          172.72,
          182.88,
          165.1,
          185.42,
          172.72,
          187.96,
          185.42,
          187.96,
          182.88,
          187.96,
          170.18,
          180.34,
          190.5,
          167.64,
          185.42,
          165.1,
          172.72,
          175.26,
          170.18,
          170.18,
          182.88,
          195.58,
          190.5,
          170.18,
          170.18,
          172.72,
          177.8,
          182.88,
          175.26,
          182.88,
          170.18,
          177.8,
          180.34,
          170.18,
          182.88,
          182.88,
          180.34,
          182.88,
          175.26,
          180.34,
          185.42,
          193.04,
          185.42,
          167.64,
          185.42,
          187.96,
          160.02,
          203.2,
          162.56,
          177.8,
          182.88,
          182.88,
          187.96,
          165.1,
          185.42,
          175.26,
          177.8,
          187.96,
          160.02,
          180.34,
          180.34,
          170.18,
          187.96,
          187.96,
          182.88,
          172.72,
          177.8,
          170.18,
          null,
          180.34,
          185.42,
          null,
          175.26,
          190.5,
          null,
          175.26,
          null,
          null,
          180.34,
          190.5,
          null,
          172.72,
          175.26,
          null,
          180.34,
          167.64,
          null,
          182.88,
          177.8,
          182.88,
          null,
          185.42,
          170.18,
          187.96,
          187.96,
          185.42,
          165.1,
          180.34,
          null,
          177.8,
          167.64,
          null,
          185.42,
          175.26,
          193.04,
          193.04,
          null,
          160.02,
          172.72,
          175.26,
          195.58,
          177.8,
          175.26,
          170.18,
          180.34,
          170.18,
          175.26,
          187.96,
          null,
          170.18,
          193.04,
          182.88,
          null,
          170.18,
          null,
          193.04,
          177.8,
          172.72,
          177.8,
          172.72,
          187.96,
          190.5,
          null,
          195.58,
          167.64,
          160.02,
          185.42,
          177.8,
          172.72,
          185.42,
          182.88,
          170.18,
          null,
          182.88,
          182.88,
          177.8,
          177.8,
          175.26,
          177.8,
          170.18,
          177.8,
          167.64,
          170.18,
          165.1,
          170.18,
          177.8,
          185.42,
          167.64,
          185.42,
          170.18,
          198.12,
          170.18,
          182.88,
          170.18,
          160.02,
          182.88,
          null,
          180.34,
          190.5,
          177.8,
          190.5,
          160.02,
          182.88,
          177.8,
          185.42,
          167.64,
          182.88,
          177.8,
          170.18,
          190.5,
          190.5,
          187.96,
          187.96,
          165.1,
          187.96,
          170.18,
          185.42,
          160.02,
          177.8,
          175.26,
          177.8,
          187.96,
          177.8,
          187.96,
          167.64,
          177.8,
          172.72,
          172.72,
          170.18,
          180.34,
          187.96,
          185.42,
          175.26,
          null,
          177.8,
          170.18,
          177.8,
          175.26,
          177.8,
          160.02,
          187.96,
          182.88,
          180.34,
          182.88,
          193.04,
          162.56,
          175.26,
          180.34,
          167.64,
          175.26,
          185.42,
          167.64,
          182.88,
          157.48,
          null,
          175.26,
          190.5,
          177.8,
          172.72,
          170.18,
          177.8,
          177.8,
          195.58,
          177.8,
          167.64,
          203.2,
          170.18,
          172.72,
          175.26,
          175.26,
          165.1,
          177.8,
          180.34,
          165.1,
          182.88,
          170.18,
          182.88,
          182.88,
          182.88,
          180.34,
          null,
          190.5,
          170.18,
          167.64,
          180.34,
          175.26,
          180.34,
          177.8,
          175.26,
          172.72,
          177.8,
          175.26,
          182.88,
          177.8,
          200.66,
          172.72,
          167.64,
          177.8,
          182.88,
          185.42,
          165.1,
          182.88,
          172.72,
          null,
          185.42,
          187.96,
          175.26,
          177.8,
          180.34,
          170.18,
          172.72,
          null,
          null,
          170.18,
          177.8,
          null,
          182.88,
          165.1,
          167.64,
          177.8,
          170.18,
          195.58,
          185.42,
          180.34,
          null,
          175.26,
          170.18,
          172.72,
          162.56,
          null,
          190.5,
          170.18,
          185.42,
          177.8,
          185.42,
          null,
          175.26,
          null,
          177.8,
          180.34,
          180.34,
          167.64,
          172.72,
          177.8,
          180.34,
          185.42,
          null,
          162.56,
          170.18,
          167.64,
          187.96,
          190.5,
          177.8,
          190.5,
          null,
          175.26,
          null,
          172.72,
          172.72,
          190.5,
          182.88,
          175.26,
          187.96,
          182.88,
          182.88,
          177.8,
          170.18,
          185.42,
          172.72,
          190.5,
          null,
          170.18,
          175.26,
          182.88,
          182.88,
          182.88,
          172.72,
          195.58,
          null,
          187.96,
          167.64,
          172.72,
          177.8,
          175.26,
          180.34,
          175.26,
          172.72,
          177.8,
          190.5,
          182.88,
          187.96,
          175.26,
          null,
          182.88,
          185.42,
          null,
          160.02,
          180.34,
          165.1,
          null,
          175.26,
          180.34,
          177.8,
          null,
          null,
          180.34,
          187.96,
          157.48,
          187.96,
          185.42,
          175.26,
          null,
          182.88,
          182.88,
          165.1,
          null,
          193.04,
          null,
          180.34,
          170.18,
          182.88,
          165.1,
          172.72,
          165.1,
          null,
          180.34,
          185.42,
          175.26,
          170.18,
          185.42,
          null,
          170.18,
          187.96,
          185.42,
          193.04,
          182.88,
          175.26,
          185.42,
          175.26,
          172.72,
          null,
          157.48,
          177.8,
          null,
          162.56,
          190.5,
          177.8,
          177.8,
          160.02,
          167.64,
          177.8,
          167.64,
          187.96,
          170.18,
          185.42,
          187.96,
          167.64,
          null,
          null,
          180.34,
          null,
          187.96,
          182.88,
          165.1,
          172.72,
          170.18,
          172.72,
          185.42,
          null,
          null,
          172.72,
          177.8,
          180.34,
          175.26,
          182.88,
          182.88,
          190.5,
          182.88,
          182.88,
          170.18,
          190.5,
          193.04,
          193.04,
          170.18,
          175.26,
          193.04,
          172.72,
          170.18,
          180.34,
          190.5,
          175.26,
          195.58,
          172.72,
          175.26,
          177.8,
          193.04,
          182.88,
          172.72,
          172.72,
          182.88,
          167.64,
          null,
          182.88,
          175.26,
          195.58,
          185.42,
          195.58,
          175.26,
          172.72,
          180.34,
          177.8,
          180.34,
          187.96,
          null,
          185.42,
          177.8,
          175.26,
          175.26,
          160.02,
          177.8,
          170.18,
          162.56,
          172.72,
          180.34,
          177.8,
          177.8,
          160.02,
          null,
          170.18,
          180.34,
          175.26,
          175.26,
          null,
          198.12,
          198.12,
          190.5,
          180.34,
          182.88,
          177.8,
          175.26,
          165.1,
          190.5,
          180.34,
          185.42,
          170.18,
          160.02,
          180.34,
          180.34,
          187.96,
          null,
          180.34,
          180.34,
          null,
          175.26,
          185.42,
          175.26,
          null,
          182.88,
          185.42,
          175.26,
          170.18,
          180.34,
          177.8,
          208.28,
          182.88,
          null,
          187.96,
          175.26,
          180.34,
          162.56,
          167.64,
          null,
          172.72,
          170.18,
          187.96,
          177.8,
          180.34,
          175.26,
          167.64,
          193.04,
          182.88,
          175.26,
          185.42,
          193.04,
          182.88,
          177.8,
          180.34,
          193.04,
          185.42,
          185.42,
          177.8,
          177.8,
          172.72,
          null,
          190.5,
          182.88,
          170.18,
          177.8,
          182.88,
          null,
          187.96,
          190.5,
          177.8,
          185.42,
          177.8,
          182.88,
          190.5,
          null,
          182.88,
          167.64,
          170.18,
          180.34,
          180.34,
          187.96,
          160.02,
          187.96,
          175.26,
          180.34,
          182.88,
          180.34,
          177.8,
          182.88,
          172.72,
          187.96,
          185.42,
          175.26,
          null,
          180.34,
          187.96,
          180.34,
          195.58,
          175.26,
          182.88,
          170.18,
          172.72,
          180.34,
          182.88,
          195.58,
          187.96,
          193.04,
          170.18,
          172.72,
          170.18,
          null,
          185.42,
          170.18,
          177.8,
          null,
          182.88,
          null,
          193.04,
          175.26,
          182.88,
          180.34,
          185.42,
          185.42,
          162.56,
          null,
          177.8,
          172.72,
          null,
          175.26,
          177.8,
          187.96,
          177.8,
          187.96,
          162.56,
          182.88,
          162.56,
          167.64,
          177.8,
          162.56,
          null,
          null,
          175.26,
          190.5,
          185.42,
          182.88,
          170.18,
          182.88,
          180.34,
          172.72,
          null,
          190.5,
          187.96,
          null,
          175.26,
          187.96,
          190.5,
          175.26,
          null,
          172.72,
          172.72,
          180.34,
          182.88,
          180.34,
          175.26,
          180.34,
          203.2,
          180.34,
          172.72,
          null,
          182.88,
          182.88,
          170.18,
          182.88,
          187.96,
          180.34,
          180.34,
          165.1,
          167.64,
          null,
          170.18,
          187.96,
          167.64,
          null,
          170.18,
          180.34,
          180.34,
          162.56,
          167.64,
          177.8,
          185.42,
          187.96,
          170.18,
          172.72,
          175.26,
          162.56,
          172.72,
          175.26,
          182.88,
          175.26,
          null,
          167.64,
          165.1,
          190.5,
          172.72,
          190.5,
          170.18,
          195.58,
          180.34,
          175.26,
          182.88,
          177.8,
          190.5,
          190.5,
          null,
          190.5,
          190.5,
          177.8,
          172.72,
          172.72,
          170.18,
          182.88,
          null,
          190.5,
          175.26,
          182.88,
          172.72,
          167.64,
          170.18,
          154.94,
          177.8,
          187.96,
          190.5,
          182.88,
          null,
          182.88,
          177.8,
          182.88,
          null,
          null,
          165.1,
          182.88,
          177.8,
          182.88,
          null,
          177.8,
          185.42,
          175.26,
          null,
          170.18,
          172.72,
          193.04,
          182.88,
          175.26,
          185.42,
          null,
          167.64,
          175.26,
          177.8,
          177.8,
          177.8,
          null,
          175.26,
          165.1,
          182.88,
          187.96,
          175.26,
          null,
          null,
          182.88,
          187.96,
          null,
          170.18,
          180.34,
          180.34,
          182.88,
          175.26,
          167.64,
          180.34,
          187.96,
          195.58,
          170.18,
          167.64,
          162.56,
          175.26,
          160.02,
          175.26,
          null,
          170.18,
          170.18,
          null,
          182.88,
          185.42,
          182.88,
          185.42,
          null,
          175.26,
          165.1,
          177.8,
          null,
          190.5,
          180.34,
          172.72,
          198.12,
          182.88,
          170.18,
          195.58,
          157.48,
          172.72,
          null,
          190.5,
          null,
          177.8,
          170.18,
          182.88,
          170.18,
          170.18,
          170.18,
          172.72,
          172.72,
          185.42,
          182.88,
          170.18,
          193.04,
          null,
          187.96,
          182.88,
          170.18,
          162.56,
          177.8,
          177.8,
          null,
          182.88,
          180.34,
          193.04,
          172.72,
          190.5,
          180.34,
          175.26,
          null,
          185.42,
          193.04,
          190.5,
          180.34,
          182.88,
          180.34,
          175.26,
          190.5,
          185.42,
          180.34,
          162.56,
          175.26,
          167.64,
          null,
          182.88,
          154.94,
          177.8,
          182.88,
          167.64,
          182.88,
          null,
          193.04,
          172.72,
          170.18,
          172.72,
          187.96,
          185.42,
          195.58,
          177.8,
          190.5,
          null,
          170.18,
          177.8,
          null,
          182.88,
          190.5,
          152.4,
          170.18,
          187.96,
          187.96,
          182.88,
          172.72,
          170.18,
          170.18,
          170.18,
          190.5,
          null,
          175.26,
          187.96,
          185.42,
          null,
          177.8,
          170.18,
          167.64,
          193.04,
          190.5,
          190.5,
          190.5,
          177.8,
          177.8,
          187.96,
          170.18,
          190.5,
          165.1,
          180.34,
          160.02,
          180.34,
          185.42,
          182.88,
          185.42,
          185.42,
          177.8,
          172.72,
          193.04,
          182.88,
          null,
          null,
          180.34,
          185.42,
          175.26,
          175.26,
          175.26,
          177.8,
          187.96,
          null,
          177.8,
          167.64,
          177.8,
          null,
          177.8,
          182.88,
          170.18,
          203.2,
          175.26,
          185.42,
          170.18,
          180.34,
          195.58,
          null,
          null,
          172.72,
          177.8,
          null,
          185.42,
          null,
          185.42,
          172.72,
          198.12,
          172.72,
          190.5,
          195.58,
          185.42,
          162.56,
          182.88,
          182.88,
          182.88,
          185.42,
          null,
          167.64,
          177.8,
          null,
          190.5,
          182.88,
          170.18,
          187.96,
          160.02,
          null,
          172.72,
          180.34,
          193.04,
          172.72,
          185.42,
          175.26,
          185.42,
          180.34,
          187.96,
          175.26,
          180.34,
          185.42,
          175.26,
          170.18,
          162.56,
          185.42,
          null,
          177.8,
          165.1,
          187.96,
          null,
          165.1,
          182.88,
          172.72,
          190.5,
          182.88,
          172.72,
          187.96,
          170.18,
          167.64,
          185.42,
          182.88,
          185.42,
          null,
          null,
          172.72,
          175.26,
          165.1,
          177.8,
          175.26,
          177.8,
          null,
          185.42,
          167.64,
          172.72,
          182.88,
          165.1,
          172.72,
          175.26,
          185.42,
          180.34,
          185.42,
          null,
          175.26,
          175.26,
          167.64,
          187.96,
          182.88,
          195.58,
          180.34,
          165.1,
          170.18,
          180.34,
          175.26,
          180.34,
          190.5,
          175.26,
          175.26,
          182.88,
          177.8,
          187.96,
          172.72,
          null,
          180.34,
          157.48,
          null,
          185.42,
          172.72,
          170.18,
          182.88,
          177.8,
          175.26,
          160.02,
          187.96,
          172.72,
          182.88,
          null,
          190.5,
          180.34,
          167.64,
          187.96,
          182.88,
          175.26,
          182.88,
          187.96,
          180.34,
          175.26,
          180.34,
          null,
          175.26,
          null,
          185.42,
          177.8,
          177.8,
          167.64,
          172.72,
          175.26,
          182.88,
          182.88,
          193.04,
          172.72,
          162.56,
          null,
          210.82,
          180.34,
          180.34,
          null,
          175.26,
          177.8,
          180.34,
          190.5,
          154.94,
          193.04,
          180.34,
          190.5,
          170.18,
          175.26,
          182.88,
          193.04,
          187.96,
          172.72,
          167.64,
          182.88,
          null,
          170.18,
          167.64,
          null,
          null,
          185.42,
          180.34,
          177.8,
          177.8,
          193.04,
          167.64,
          180.34,
          203.2,
          170.18,
          null,
          195.58,
          172.72,
          172.72,
          187.96,
          200.66,
          167.64,
          null,
          177.8,
          null,
          193.04,
          185.42,
          190.5,
          175.26,
          180.34,
          190.5,
          175.26,
          null,
          190.5,
          182.88,
          175.26,
          170.18,
          162.56,
          190.5,
          null,
          182.88,
          154.94,
          175.26,
          187.96,
          177.8,
          167.64,
          177.8,
          182.88,
          177.8,
          165.1,
          190.5,
          170.18,
          187.96,
          185.42,
          185.42,
          177.8,
          205.74,
          185.42,
          175.26,
          190.5,
          180.34,
          null,
          172.72,
          185.42,
          187.96,
          172.72,
          null,
          170.18,
          null,
          180.34,
          182.88,
          177.8,
          180.34,
          175.26,
          190.5,
          180.34,
          190.5,
          182.88,
          null,
          177.8,
          177.8,
          null,
          180.34,
          177.8,
          null,
          187.96,
          167.64,
          185.42,
          165.1,
          185.42,
          200.66,
          null,
          182.88,
          175.26,
          null,
          180.34,
          187.96,
          182.88,
          177.8,
          167.64,
          185.42,
          180.34,
          170.18,
          185.42,
          167.64,
          177.8,
          182.88,
          190.5,
          172.72,
          177.8,
          185.42,
          177.8,
          null,
          175.26,
          167.64,
          null,
          172.72,
          172.72,
          187.96,
          null,
          182.88,
          182.88,
          null,
          177.8,
          165.1,
          198.12,
          193.04,
          null,
          187.96,
          null,
          172.72,
          null,
          null,
          177.8,
          null,
          167.64,
          180.34,
          177.8,
          null,
          170.18,
          177.8,
          175.26,
          null,
          185.42,
          177.8,
          null,
          195.58,
          177.8,
          null,
          175.26,
          165.1,
          170.18,
          160.02,
          182.88,
          172.72,
          172.72,
          170.18,
          180.34,
          172.72,
          null,
          175.26,
          170.18,
          180.34,
          null,
          170.18,
          162.56,
          180.34,
          172.72,
          182.88,
          165.1,
          193.04,
          182.88,
          193.04,
          190.5,
          193.04,
          182.88,
          185.42,
          null,
          162.56,
          165.1,
          187.96,
          162.56,
          190.5,
          162.56,
          165.1,
          180.34,
          187.96,
          172.72,
          170.18,
          175.26,
          185.42,
          177.8,
          175.26,
          165.1,
          182.88,
          182.88,
          165.1,
          null,
          null,
          175.26,
          165.1,
          170.18,
          182.88,
          180.34,
          165.1,
          170.18,
          182.88,
          172.72,
          null,
          177.8,
          180.34,
          175.26,
          190.5,
          187.96,
          193.04,
          175.26,
          172.72,
          193.04,
          172.72,
          162.56,
          170.18,
          177.8,
          162.56,
          null,
          175.26,
          182.88,
          175.26,
          180.34,
          157.48,
          182.88,
          null,
          172.72,
          180.34,
          190.5,
          187.96,
          170.18,
          180.34,
          172.72,
          null,
          null,
          177.8,
          187.96,
          185.42,
          177.8,
          162.56,
          null,
          157.48,
          187.96,
          172.72,
          185.42,
          195.58,
          187.96,
          null,
          170.18,
          null,
          193.04,
          null,
          null,
          182.88,
          182.88,
          177.8,
          172.72,
          193.04,
          175.26,
          187.96,
          190.5,
          170.18,
          null,
          175.26,
          160.02,
          157.48,
          null,
          177.8,
          null,
          177.8,
          165.1,
          167.64,
          175.26,
          177.8,
          177.8,
          187.96,
          172.72,
          182.88,
          170.18,
          170.18,
          172.72,
          182.88,
          175.26,
          null,
          160.02,
          187.96,
          172.72,
          180.34,
          177.8,
          195.58,
          177.8,
          160.02,
          172.72,
          177.8,
          185.42,
          160.02,
          185.42,
          170.18,
          195.58,
          193.04,
          187.96,
          185.42,
          185.42,
          190.5,
          177.8,
          182.88,
          175.26,
          190.5,
          175.26,
          null,
          175.26,
          167.64,
          190.5,
          177.8,
          null,
          167.64,
          203.2,
          162.56,
          167.64,
          null,
          172.72,
          180.34,
          172.72,
          180.34,
          185.42,
          172.72,
          165.1,
          167.64,
          177.8,
          187.96,
          167.64,
          187.96,
          180.34,
          165.1,
          167.64,
          172.72,
          185.42,
          182.88,
          160.02,
          195.58,
          null,
          187.96,
          182.88,
          185.42,
          193.04,
          165.1,
          180.34,
          172.72,
          172.72,
          177.8,
          165.1,
          160.02,
          185.42,
          180.34,
          190.5,
          182.88,
          187.96,
          null,
          175.26,
          172.72,
          182.88,
          177.8,
          177.8,
          182.88,
          177.8,
          177.8,
          187.96,
          182.88,
          172.72,
          185.42,
          177.8,
          null,
          172.72,
          null,
          180.34,
          175.26,
          180.34,
          null,
          172.72,
          182.88,
          175.26,
          187.96,
          172.72,
          187.96,
          null,
          180.34,
          175.26,
          193.04,
          167.64,
          null,
          185.42,
          177.8,
          null,
          172.72,
          180.34,
          190.5,
          193.04,
          172.72,
          187.96,
          187.96,
          167.64,
          177.8,
          165.1,
          182.88,
          187.96,
          185.42,
          167.64,
          182.88,
          185.42,
          193.04,
          null,
          null,
          180.34,
          185.42,
          165.1,
          null,
          182.88,
          180.34,
          182.88,
          167.64,
          180.34,
          177.8,
          null,
          170.18,
          193.04,
          175.26,
          170.18,
          null,
          187.96,
          162.56,
          null,
          180.34,
          175.26,
          167.64,
          170.18,
          185.42,
          195.58,
          152.4,
          193.04,
          175.26,
          182.88,
          177.8,
          177.8,
          167.64,
          185.42,
          170.18,
          182.88,
          null,
          175.26,
          157.48,
          182.88,
          182.88,
          180.34,
          185.42,
          180.34,
          187.96,
          180.34,
          170.18,
          190.5,
          187.96,
          185.42,
          177.8,
          172.72,
          165.1,
          187.96,
          172.72,
          182.88,
          165.1,
          160.02,
          172.72,
          172.72,
          185.42,
          182.88,
          180.34,
          177.8,
          170.18,
          185.42,
          177.8,
          165.1,
          177.8,
          182.88,
          180.34,
          167.64,
          175.26,
          177.8,
          null,
          165.1,
          185.42,
          180.34,
          187.96,
          170.18,
          null,
          180.34,
          172.72,
          182.88,
          182.88,
          175.26,
          185.42,
          190.5,
          162.56,
          null,
          null,
          157.48,
          180.34,
          165.1,
          187.96,
          167.64,
          172.72,
          175.26,
          190.5,
          182.88,
          165.1,
          null,
          172.72,
          185.42,
          170.18,
          null,
          180.34,
          185.42,
          175.26,
          182.88,
          187.96,
          185.42,
          187.96,
          162.56,
          172.72,
          187.96,
          193.04,
          180.34,
          165.1,
          null,
          null,
          180.34,
          182.88,
          175.26,
          180.34,
          185.42,
          185.42,
          182.88,
          175.26,
          null,
          175.26,
          null,
          162.56,
          180.34,
          175.26,
          170.18,
          180.34,
          193.04,
          187.96,
          175.26,
          182.88,
          185.42,
          182.88,
          180.34,
          172.72,
          175.26,
          null,
          175.26,
          180.34,
          175.26,
          180.34,
          167.64,
          182.88,
          177.8,
          null,
          180.34,
          null,
          167.64,
          172.72,
          null,
          180.34,
          170.18,
          170.18,
          170.18,
          170.18,
          177.8,
          180.34,
          172.72,
          null,
          175.26,
          175.26,
          190.5,
          177.8,
          170.18,
          167.64,
          190.5,
          182.88,
          175.26,
          187.96,
          190.5,
          177.8,
          177.8,
          185.42,
          null,
          175.26,
          null,
          185.42,
          175.26,
          167.64,
          167.64,
          172.72,
          187.96,
          167.64,
          167.64,
          167.64,
          172.72,
          157.48,
          187.96,
          177.8,
          165.1,
          165.1,
          182.88,
          177.8,
          null,
          185.42,
          170.18,
          180.34,
          177.8,
          185.42,
          182.88,
          180.34,
          170.18,
          177.8,
          172.72,
          177.8,
          172.72,
          170.18,
          162.56,
          180.34,
          167.64,
          null,
          172.72,
          185.42,
          162.56,
          170.18,
          175.26,
          185.42,
          157.48,
          190.5,
          180.34,
          170.18,
          null,
          167.64,
          180.34,
          160.02,
          190.5,
          162.56,
          null,
          187.96,
          182.88,
          175.26,
          180.34,
          182.88,
          182.88,
          null,
          190.5,
          177.8,
          175.26,
          177.8,
          172.72,
          185.42,
          187.96,
          193.04,
          180.34,
          185.42,
          167.64,
          170.18,
          177.8,
          162.56,
          172.72,
          190.5,
          175.26,
          180.34,
          190.5,
          null,
          null,
          180.34,
          182.88,
          175.26,
          null,
          182.88,
          190.5,
          198.12,
          180.34,
          null,
          185.42,
          null,
          162.56,
          177.8,
          null,
          175.26,
          165.1,
          177.8,
          182.88,
          170.18,
          177.8,
          182.88,
          177.8,
          157.48,
          172.72,
          182.88,
          167.64,
          177.8,
          165.1,
          172.72,
          180.34,
          165.1,
          180.34,
          null,
          182.88,
          177.8,
          182.88,
          180.34,
          185.42,
          162.56,
          167.64,
          null,
          175.26,
          167.64,
          180.34,
          null,
          190.5,
          175.26,
          193.04,
          182.88,
          165.1,
          175.26,
          185.42,
          182.88,
          175.26,
          172.72,
          185.42,
          170.18,
          null,
          null,
          187.96,
          160.02,
          170.18,
          185.42,
          172.72,
          175.26,
          193.04,
          182.88,
          167.64,
          185.42,
          177.8,
          175.26,
          190.5,
          185.42,
          175.26,
          182.88,
          175.26,
          170.18,
          167.64,
          182.88,
          167.64,
          180.34,
          null,
          187.96,
          190.5,
          167.64,
          170.18,
          170.18,
          177.8,
          182.88,
          172.72,
          190.5,
          175.26,
          190.5,
          160.02,
          172.72,
          187.96,
          182.88,
          175.26,
          187.96,
          175.26,
          null,
          162.56,
          null,
          170.18,
          180.34,
          165.1,
          167.64,
          182.88,
          185.42,
          177.8,
          177.8,
          182.88,
          177.8,
          null,
          180.34,
          180.34,
          170.18,
          null,
          172.72,
          null,
          175.26,
          177.8,
          190.5,
          185.42,
          167.64,
          null,
          177.8,
          172.72,
          180.34,
          null,
          null,
          null,
          182.88,
          167.64,
          185.42,
          175.26,
          172.72,
          175.26,
          170.18,
          null,
          177.8,
          177.8,
          175.26,
          172.72,
          172.72,
          185.42,
          182.88,
          null,
          195.58,
          187.96,
          null,
          null,
          190.5,
          187.96,
          190.5,
          167.64,
          152.4,
          180.34,
          165.1,
          182.88,
          167.64,
          null,
          180.34,
          null,
          180.34,
          180.34,
          null,
          182.88,
          170.18,
          172.72,
          177.8,
          185.42,
          170.18,
          185.42,
          175.26,
          172.72,
          187.96,
          180.34,
          170.18,
          177.8,
          180.34,
          175.26,
          160.02,
          187.96,
          185.42,
          182.88,
          170.18,
          190.5,
          185.42,
          172.72,
          172.72,
          162.56,
          175.26,
          null,
          180.34,
          182.88,
          172.72,
          180.34,
          175.26,
          187.96,
          185.42,
          175.26,
          195.58,
          190.5,
          null,
          187.96,
          182.88,
          null,
          165.1,
          167.64,
          182.88,
          185.42,
          180.34,
          185.42,
          170.18,
          182.88,
          185.42,
          170.18,
          177.8,
          null,
          185.42,
          172.72,
          162.56,
          175.26,
          185.42,
          172.72,
          177.8,
          null,
          172.72,
          167.64,
          170.18,
          185.42,
          187.96,
          185.42,
          182.88,
          175.26,
          162.56,
          193.04,
          177.8,
          185.42,
          167.64,
          195.58,
          193.04,
          185.42,
          185.42,
          175.26,
          190.5,
          190.5,
          172.72,
          165.1,
          180.34,
          182.88,
          180.34,
          null,
          172.72,
          200.66,
          175.26,
          187.96,
          190.5,
          172.72,
          165.1,
          185.42,
          null,
          182.88,
          172.72,
          null,
          165.1,
          170.18,
          175.26,
          180.34,
          172.72,
          185.42,
          182.88,
          182.88,
          180.34,
          175.26,
          177.8,
          182.88,
          177.8,
          null,
          180.34,
          177.8,
          187.96,
          165.1,
          172.72,
          172.72,
          167.64,
          175.26,
          180.34,
          160.02,
          187.96,
          null,
          172.72,
          185.42,
          182.88,
          185.42,
          198.12,
          180.34,
          182.88,
          172.72,
          175.26,
          182.88,
          218.44,
          193.04,
          185.42,
          167.64,
          190.5,
          182.88,
          210.82,
          187.96,
          175.26,
          190.5,
          185.42,
          190.5,
          175.26,
          185.42,
          185.42,
          177.8,
          177.8,
          175.26,
          177.8,
          170.18,
          180.34,
          180.34,
          170.18,
          187.96,
          null,
          null,
          167.64,
          null,
          187.96,
          180.34,
          170.18,
          154.94,
          182.88,
          175.26,
          185.42,
          180.34,
          175.26,
          190.5,
          170.18,
          193.04,
          null,
          172.72,
          170.18,
          175.26,
          162.56,
          177.8,
          172.72,
          182.88,
          177.8,
          180.34,
          182.88,
          180.34,
          187.96,
          180.34,
          185.42,
          182.88,
          182.88,
          165.1,
          187.96,
          177.8,
          185.42,
          185.42,
          182.88,
          null,
          187.96,
          187.96,
          182.88,
          160.02,
          182.88,
          175.26,
          170.18,
          null,
          167.64,
          172.72,
          null,
          177.8,
          172.72,
          175.26,
          null,
          190.5,
          165.1,
          175.26,
          180.34,
          182.88,
          182.88,
          180.34,
          190.5,
          193.04,
          175.26,
          187.96,
          175.26,
          182.88,
          170.18,
          175.26,
          177.8,
          187.96,
          175.26,
          167.64,
          182.88,
          180.34,
          172.72,
          177.8,
          182.88,
          180.34,
          177.8,
          172.72,
          185.42,
          182.88,
          180.34,
          195.58,
          167.64,
          177.8,
          180.34,
          185.42,
          170.18,
          177.8,
          177.8,
          182.88,
          175.26,
          172.72,
          null,
          172.72,
          182.88,
          177.8,
          193.04,
          170.18,
          182.88,
          180.34,
          170.18,
          182.88,
          167.64,
          182.88,
          167.64,
          170.18,
          180.34,
          190.5,
          null,
          177.8,
          170.18,
          170.18,
          190.5,
          193.04,
          170.18,
          157.48,
          null,
          180.34,
          172.72,
          182.88,
          165.1,
          185.42,
          162.56,
          187.96,
          177.8,
          167.64,
          167.64,
          175.26,
          165.1,
          182.88,
          172.72,
          185.42,
          175.26,
          200.66,
          182.88,
          null,
          170.18,
          190.5,
          177.8,
          172.72,
          null,
          165.1,
          170.18,
          175.26,
          null,
          187.96,
          172.72,
          190.5,
          182.88,
          165.1,
          null,
          167.64,
          175.26,
          182.88,
          165.1,
          180.34,
          177.8,
          182.88,
          170.18,
          182.88,
          172.72,
          182.88,
          187.96,
          172.72,
          187.96,
          162.56,
          null,
          170.18,
          167.64,
          177.8,
          170.18,
          170.18,
          null,
          182.88,
          185.42,
          null,
          182.88,
          195.58,
          187.96,
          170.18,
          175.26,
          175.26,
          null,
          175.26,
          175.26,
          182.88,
          175.26,
          170.18,
          193.04,
          185.42,
          185.42,
          null,
          190.5,
          172.72,
          190.5,
          175.26,
          180.34,
          190.5,
          177.8,
          182.88,
          185.42,
          175.26,
          190.5,
          182.88,
          170.18,
          172.72,
          198.12,
          180.34,
          187.96,
          null,
          185.42,
          null,
          177.8,
          180.34,
          167.64,
          170.18,
          193.04,
          172.72,
          162.56,
          203.2,
          170.18,
          170.18,
          182.88,
          193.04,
          175.26,
          172.72,
          null,
          180.34,
          182.88,
          175.26,
          null,
          185.42,
          193.04,
          175.26,
          182.88,
          185.42,
          185.42,
          null,
          172.72,
          182.88,
          null,
          175.26,
          190.5,
          170.18,
          177.8,
          172.72,
          162.56,
          182.88,
          203.2,
          182.88,
          null,
          165.1,
          167.64,
          180.34,
          172.72,
          175.26,
          175.26,
          172.72,
          180.34,
          190.5,
          162.56
         ],
         "xaxis": "x",
         "y": [
          7,
          15,
          13,
          7,
          8,
          9,
          5,
          4,
          9,
          12,
          9,
          5,
          9,
          26,
          6,
          14,
          8,
          16,
          7,
          7,
          13,
          3,
          6,
          6,
          7,
          6,
          29,
          9,
          8,
          6,
          18,
          4,
          16,
          10,
          4,
          7,
          5,
          8,
          11,
          1,
          14,
          11,
          14,
          0,
          15,
          30,
          4,
          1,
          2,
          4,
          9,
          23,
          13,
          6,
          20,
          6,
          11,
          39,
          6,
          5,
          11,
          3,
          23,
          10,
          8,
          10,
          19,
          10,
          10,
          6,
          15,
          18,
          10,
          5,
          10,
          16,
          12,
          6,
          30,
          12,
          6,
          16,
          8,
          6,
          45,
          6,
          17,
          21,
          8,
          16,
          3,
          6,
          15,
          25,
          17,
          21,
          5,
          24,
          2,
          19,
          1,
          17,
          12,
          13,
          39,
          10,
          11,
          6,
          8,
          15,
          20,
          10,
          6,
          14,
          7,
          20,
          3,
          7,
          12,
          17,
          15,
          7,
          18,
          8,
          7,
          8,
          5,
          2,
          16,
          14,
          28,
          14,
          0,
          11,
          5,
          6,
          5,
          5,
          10,
          13,
          15,
          15,
          4,
          12,
          10,
          11,
          38,
          11,
          16,
          8,
          18,
          11,
          31,
          0,
          9,
          14,
          9,
          8,
          37,
          8,
          1,
          8,
          19,
          9,
          0,
          0,
          9,
          2,
          10,
          11,
          4,
          14,
          21,
          9,
          6,
          10,
          8,
          18,
          5,
          8,
          16,
          20,
          5,
          17,
          26,
          17,
          13,
          1,
          34,
          30,
          10,
          13,
          7,
          9,
          10,
          9,
          38,
          12,
          14,
          8,
          37,
          15,
          3,
          8,
          23,
          15,
          10,
          45,
          7,
          7,
          28,
          6,
          6,
          8,
          8,
          11,
          8,
          7,
          14,
          17,
          16,
          14,
          12,
          20,
          18,
          21,
          11,
          11,
          26,
          11,
          20,
          17,
          25,
          24,
          8,
          34,
          31,
          10,
          15,
          51,
          24,
          9,
          15,
          6,
          11,
          34,
          37,
          30,
          15,
          11,
          10,
          19,
          11,
          12,
          14,
          8,
          11,
          15,
          42,
          20,
          9,
          11,
          11,
          14,
          5,
          12,
          6,
          33,
          12,
          29,
          14,
          19,
          10,
          10,
          13,
          5,
          36,
          12,
          13,
          13,
          18,
          11,
          14,
          8,
          53,
          21,
          11,
          9,
          0,
          40,
          7,
          13,
          7,
          30,
          10,
          8,
          5,
          16,
          8,
          33,
          19,
          42,
          4,
          8,
          7,
          6,
          22,
          16,
          5,
          5,
          6,
          8,
          4,
          11,
          2,
          12,
          28,
          17,
          10,
          15,
          9,
          15,
          9,
          6,
          7,
          17,
          21,
          25,
          20,
          7,
          9,
          35,
          20,
          9,
          20,
          18,
          12,
          19,
          8,
          10,
          7,
          18,
          4,
          18,
          3,
          21,
          8,
          26,
          4,
          60,
          23,
          18,
          8,
          6,
          14,
          11,
          36,
          5,
          28,
          3,
          11,
          60,
          13,
          11,
          12,
          9,
          6,
          8,
          23,
          10,
          11,
          5,
          3,
          4,
          17,
          16,
          12,
          12,
          31,
          14,
          14,
          36,
          9,
          8,
          27,
          8,
          8,
          12,
          9,
          21,
          14,
          28,
          23,
          15,
          17,
          3,
          5,
          14,
          2,
          12,
          12,
          23,
          21,
          17,
          8,
          12,
          9,
          0,
          33,
          15,
          20,
          7,
          15,
          3,
          26,
          25,
          14,
          17,
          8,
          31,
          22,
          7,
          8,
          23,
          9,
          12,
          16,
          18,
          44,
          14,
          22,
          17,
          18,
          20,
          24,
          8,
          17,
          16,
          24,
          16,
          29,
          16,
          8,
          18,
          4,
          10,
          17,
          10,
          15,
          13,
          16,
          18,
          14,
          5,
          17,
          19,
          27,
          27,
          17,
          0,
          21,
          13,
          35,
          5,
          13,
          16,
          6,
          13,
          10,
          11,
          14,
          11,
          14,
          12,
          10,
          8,
          20,
          21,
          23,
          16,
          10,
          17,
          14,
          20,
          20,
          18,
          10,
          21,
          6,
          23,
          16,
          13,
          35,
          13,
          5,
          7,
          8,
          13,
          9,
          9,
          10,
          17,
          14,
          13,
          21,
          14,
          13,
          14,
          30,
          28,
          22,
          26,
          21,
          14,
          11,
          19,
          13,
          13,
          4,
          6,
          11,
          10,
          11,
          22,
          18,
          13,
          18,
          14,
          11,
          9,
          10,
          8,
          11,
          17,
          22,
          20,
          12,
          8,
          22,
          10,
          22,
          12,
          24,
          19,
          32,
          26,
          26,
          10,
          20,
          22,
          14,
          10,
          36,
          22,
          11,
          10,
          12,
          12,
          11,
          9,
          22,
          13,
          23,
          10,
          6,
          15,
          20,
          17,
          23,
          16,
          9,
          10,
          4,
          15,
          13,
          35,
          12,
          24,
          1,
          18,
          35,
          17,
          36,
          9,
          15,
          8,
          17,
          12,
          5,
          1,
          18,
          7,
          16,
          21,
          14,
          20,
          20,
          24,
          13,
          75,
          10,
          5,
          12,
          31,
          7,
          36,
          10,
          36,
          17,
          19,
          14,
          13,
          15,
          8,
          12,
          9,
          15,
          29,
          14,
          30,
          26,
          8,
          12,
          9,
          17,
          10,
          45,
          15,
          6,
          20,
          28,
          9,
          16,
          6,
          11,
          5,
          19,
          15,
          20,
          17,
          24,
          15,
          17,
          10,
          45,
          23,
          24,
          17,
          26,
          15,
          34,
          12,
          10,
          19,
          21,
          5,
          12,
          6,
          17,
          23,
          42,
          26,
          15,
          11,
          4,
          8,
          9,
          14,
          18,
          29,
          19,
          16,
          24,
          14,
          10,
          91,
          28,
          13,
          21,
          12,
          10,
          36,
          34,
          9,
          29,
          11,
          18,
          4,
          27,
          8,
          7,
          7,
          8,
          13,
          9,
          10,
          10,
          20,
          19,
          32,
          19,
          13,
          12,
          16,
          10,
          13,
          15,
          21,
          6,
          9,
          1,
          16,
          24,
          10,
          8,
          14,
          12,
          7,
          11,
          6,
          16,
          17,
          7,
          2,
          7,
          6,
          4,
          5,
          11,
          11,
          1,
          3,
          53,
          23,
          9,
          15,
          5,
          9,
          28,
          8,
          14,
          25,
          21,
          19,
          2,
          8,
          5,
          26,
          21,
          15,
          12,
          9,
          9,
          27,
          16,
          17,
          16,
          5,
          26,
          9,
          14,
          6,
          25,
          10,
          16,
          10,
          6,
          18,
          6,
          25,
          10,
          5,
          9,
          8,
          12,
          7,
          7,
          2,
          39,
          10,
          10,
          28,
          6,
          13,
          10,
          7,
          5,
          5,
          14,
          9,
          10,
          15,
          6,
          12,
          14,
          8,
          8,
          26,
          26,
          11,
          15,
          11,
          26,
          13,
          18,
          17,
          20,
          10,
          15,
          21,
          10,
          10,
          13,
          14,
          16,
          10,
          9,
          19,
          22,
          19,
          12,
          12,
          18,
          17,
          13,
          8,
          11,
          23,
          26,
          11,
          18,
          16,
          15,
          5,
          19,
          23,
          10,
          16,
          10,
          19,
          7,
          12,
          9,
          19,
          12,
          12,
          18,
          33,
          19,
          28,
          8,
          16,
          5,
          6,
          26,
          16,
          12,
          21,
          24,
          20,
          21,
          10,
          13,
          11,
          8,
          19,
          9,
          10,
          20,
          19,
          13,
          20,
          10,
          6,
          21,
          26,
          11,
          26,
          16,
          11,
          13,
          8,
          12,
          35,
          14,
          24,
          16,
          16,
          34,
          19,
          25,
          33,
          11,
          16,
          6,
          17,
          17,
          23,
          15,
          14,
          13,
          16,
          23,
          12,
          13,
          21,
          20,
          14,
          15,
          10,
          29,
          23,
          15,
          14,
          7,
          7,
          19,
          11,
          23,
          17,
          11,
          10,
          10,
          19,
          35,
          12,
          14,
          21,
          12,
          9,
          12,
          9,
          10,
          8,
          9,
          28,
          13,
          15,
          9,
          1,
          18,
          34,
          8,
          9,
          8,
          35,
          18,
          8,
          22,
          5,
          14,
          21,
          22,
          9,
          7,
          8,
          7,
          4,
          18,
          7,
          30,
          14,
          9,
          19,
          24,
          5,
          15,
          21,
          12,
          13,
          7,
          11,
          14,
          35,
          11,
          10,
          12,
          31,
          22,
          12,
          24,
          18,
          22,
          12,
          47,
          21,
          12,
          17,
          16,
          17,
          18,
          18,
          13,
          17,
          17,
          20,
          20,
          16,
          15,
          9,
          20,
          22,
          21,
          7,
          14,
          16,
          12,
          16,
          21,
          13,
          3,
          23,
          8,
          29,
          15,
          9,
          11,
          8,
          18,
          12,
          8,
          27,
          19,
          17,
          12,
          10,
          12,
          15,
          17,
          8,
          21,
          15,
          10,
          28,
          12,
          15,
          7,
          11,
          9,
          11,
          11,
          13,
          15,
          12,
          7,
          8,
          7,
          19,
          20,
          16,
          11,
          13,
          13,
          24,
          18,
          19,
          14,
          18,
          17,
          11,
          9,
          10,
          37,
          2,
          22,
          17,
          5,
          15,
          13,
          15,
          17,
          18,
          12,
          35,
          20,
          42,
          11,
          19,
          18,
          15,
          26,
          14,
          4,
          7,
          10,
          60,
          7,
          18,
          9,
          22,
          26,
          19,
          11,
          13,
          19,
          28,
          11,
          8,
          13,
          21,
          14,
          14,
          9,
          7,
          12,
          44,
          15,
          23,
          13,
          9,
          14,
          38,
          15,
          17,
          17,
          21,
          16,
          14,
          23,
          15,
          11,
          17,
          2,
          25,
          9,
          4,
          14,
          23,
          26,
          21,
          8,
          13,
          9,
          26,
          7,
          31,
          12,
          10,
          12,
          14,
          23,
          10,
          6,
          22,
          9,
          10,
          28,
          12,
          23,
          35,
          12,
          15,
          17,
          19,
          13,
          9,
          22,
          14,
          27,
          18,
          11,
          25,
          8,
          29,
          25,
          16,
          20,
          9,
          11,
          17,
          23,
          16,
          16,
          32,
          22,
          23,
          16,
          16,
          29,
          12,
          12,
          21,
          20,
          23,
          26,
          13,
          15,
          25,
          22,
          11,
          8,
          10,
          19,
          29,
          9,
          6,
          10,
          19,
          22,
          14,
          17,
          13,
          7,
          16,
          17,
          14,
          11,
          12,
          9,
          18,
          28,
          10,
          20,
          12,
          15,
          11,
          8,
          14,
          14,
          21,
          13,
          16,
          8,
          11,
          13,
          21,
          7,
          13,
          18,
          11,
          7,
          23,
          14,
          13,
          5,
          11,
          4,
          9,
          4,
          18,
          13,
          33,
          8,
          13,
          15,
          18,
          55,
          8,
          8,
          21,
          15,
          15,
          9,
          9,
          22,
          8,
          14,
          9,
          24,
          36,
          10,
          12,
          12,
          14,
          19,
          34,
          18,
          21,
          15,
          60,
          8,
          6,
          9,
          8,
          10,
          23,
          23,
          20,
          34,
          8,
          14,
          17,
          7,
          6,
          28,
          15,
          18,
          34,
          12,
          27,
          27,
          15,
          19,
          12,
          7,
          26,
          15,
          17,
          20,
          11,
          15,
          21,
          17,
          35,
          9,
          9,
          1,
          8,
          5,
          14,
          14,
          25,
          20,
          6,
          11,
          35,
          21,
          30,
          13,
          4,
          23,
          8,
          9,
          19,
          16,
          10,
          13,
          10,
          17,
          5,
          12,
          9,
          11,
          17,
          7,
          27,
          13,
          14,
          13,
          15,
          17,
          16,
          16,
          34,
          10,
          15,
          13,
          21,
          20,
          9,
          3,
          19,
          16,
          12,
          5,
          15,
          22,
          16,
          11,
          18,
          20,
          6,
          9,
          29,
          18,
          18,
          13,
          7,
          13,
          8,
          21,
          19,
          8,
          23,
          17,
          18,
          14,
          14,
          28,
          15,
          3,
          9,
          12,
          12,
          8,
          25,
          10,
          24,
          6,
          35,
          9,
          28,
          5,
          20,
          15,
          19,
          6,
          11,
          20,
          17,
          22,
          10,
          28,
          13,
          24,
          11,
          15,
          18,
          14,
          11,
          10,
          25,
          14,
          12,
          20,
          10,
          11,
          15,
          25,
          36,
          10,
          23,
          17,
          11,
          23,
          21,
          14,
          17,
          10,
          17,
          17,
          31,
          39,
          9,
          14,
          8,
          19,
          15,
          12,
          24,
          18,
          23,
          10,
          24,
          5,
          2,
          13,
          22,
          13,
          29,
          24,
          21,
          14,
          23,
          18,
          27,
          10,
          9,
          21,
          13,
          16,
          18,
          16,
          7,
          14,
          8,
          16,
          7,
          27,
          12,
          35,
          11,
          32,
          22,
          14,
          15,
          15,
          31,
          13,
          13,
          16,
          28,
          8,
          10,
          18,
          20,
          13,
          13,
          9,
          24,
          17,
          28,
          15,
          17,
          18,
          17,
          14,
          10,
          14,
          12,
          23,
          18,
          11,
          11,
          7,
          22,
          16,
          29,
          12,
          17,
          12,
          5,
          16,
          11,
          38,
          12,
          24,
          8,
          18,
          5,
          18,
          23,
          19,
          9,
          8,
          18,
          13,
          20,
          10,
          25,
          35,
          23,
          15,
          13,
          22,
          17,
          23,
          19,
          13,
          14,
          8,
          8,
          15,
          11,
          15,
          14,
          6,
          8,
          12,
          20,
          12,
          18,
          23,
          16,
          11,
          34,
          13,
          14,
          7,
          24,
          25,
          6,
          20,
          21,
          23,
          13,
          9,
          10,
          29,
          18,
          8,
          19,
          28,
          9,
          17,
          16,
          10,
          17,
          15,
          21,
          15,
          22,
          9,
          9,
          11,
          17,
          17,
          14,
          6,
          20,
          16,
          10,
          7,
          23,
          16,
          30,
          17,
          22,
          10,
          14,
          14,
          12,
          13,
          12,
          21,
          7,
          21,
          14,
          29,
          17,
          13,
          13,
          23,
          13,
          12,
          12,
          8,
          9,
          34,
          10,
          6,
          17,
          16,
          11,
          11,
          23,
          26,
          17,
          9,
          19,
          13,
          13,
          14,
          9,
          15,
          17,
          32,
          14,
          33,
          14,
          12,
          9,
          17,
          12,
          13,
          20,
          14,
          9,
          23,
          18,
          18,
          10,
          14,
          13,
          16,
          16,
          13,
          8,
          15,
          15,
          20,
          7,
          9,
          28,
          13,
          17,
          15,
          11,
          9,
          20,
          9,
          32,
          9,
          15,
          14,
          16,
          21,
          23,
          18,
          16,
          13,
          18,
          17,
          19,
          12,
          6,
          26,
          14,
          22,
          8,
          27,
          21,
          15,
          20,
          8,
          28,
          23,
          16,
          13,
          12,
          31,
          14,
          8,
          7,
          13,
          23,
          15,
          20,
          37,
          28,
          15,
          20,
          15,
          15,
          11,
          30,
          18,
          13,
          24,
          24,
          21,
          13,
          17,
          18,
          19,
          24,
          7,
          51,
          10,
          15,
          24,
          18,
          18,
          13,
          25,
          23,
          14,
          24,
          17,
          16,
          20,
          19,
          19,
          16,
          14,
          19,
          22,
          17,
          23,
          20,
          18,
          12,
          19,
          27,
          14,
          21,
          31,
          12,
          13,
          24,
          10,
          9,
          17,
          16,
          19,
          20,
          14,
          20,
          14,
          23,
          16,
          18,
          23,
          24,
          22,
          22,
          15,
          13,
          21,
          24,
          16,
          37,
          33,
          16,
          31,
          21,
          22,
          20,
          27,
          13,
          17,
          6,
          5,
          25,
          0,
          2,
          11,
          5,
          12,
          3,
          16,
          6,
          29,
          31,
          7,
          2,
          14,
          11,
          0,
          23,
          8,
          3,
          9,
          1,
          5,
          8,
          11,
          0,
          8,
          6,
          3,
          2,
          8,
          0,
          7,
          13,
          4,
          5,
          19,
          11,
          0,
          7,
          20,
          8,
          0,
          10,
          6,
          0,
          5,
          4,
          13,
          8,
          8,
          0,
          11,
          13,
          13,
          5,
          13,
          3,
          20,
          9,
          21,
          6,
          5,
          0,
          12,
          7,
          1,
          10,
          5,
          2,
          3,
          12,
          29,
          8,
          1,
          13,
          0,
          0,
          6,
          15,
          6,
          1,
          20,
          11,
          15,
          15,
          18,
          0,
          3,
          14,
          9,
          16,
          16,
          8,
          10,
          5,
          22,
          1,
          12,
          2,
          5,
          0,
          14,
          10,
          15,
          12,
          3,
          3,
          17,
          7,
          19,
          5,
          14,
          12,
          9,
          6,
          17,
          6,
          4,
          7,
          11,
          5,
          11,
          8,
          0,
          0,
          16,
          17,
          2,
          6,
          10,
          2,
          3,
          3,
          4,
          21,
          19,
          2,
          12,
          9,
          6,
          5,
          9,
          11,
          1,
          13,
          6,
          3,
          0,
          30,
          16,
          29,
          6,
          23,
          1,
          6,
          18,
          2,
          14,
          0,
          8,
          8,
          1,
          0,
          2,
          10,
          15,
          13,
          7,
          4,
          21,
          11,
          2,
          9,
          11,
          12,
          5,
          17,
          0,
          7,
          1,
          7,
          1,
          19,
          15,
          18,
          17,
          12,
          9,
          1,
          2,
          19,
          5,
          18,
          22,
          6,
          9,
          18,
          3,
          7,
          20,
          12,
          11,
          8,
          9,
          29,
          13,
          20,
          8,
          1,
          11,
          10,
          17,
          7,
          4,
          8,
          12,
          10,
          6,
          13,
          10,
          14,
          11,
          3,
          9,
          5,
          45,
          1,
          5,
          17,
          17,
          14,
          11,
          13,
          1,
          16,
          10,
          8,
          18,
          4,
          9,
          1,
          0,
          10,
          0,
          14,
          9,
          0,
          13,
          8,
          5,
          2,
          15,
          11,
          4,
          11,
          21,
          38,
          1,
          4,
          15,
          13,
          13,
          5,
          8,
          1,
          6,
          20,
          16,
          1,
          27,
          2,
          16,
          18,
          12,
          8,
          4,
          11,
          5,
          13,
          12,
          4,
          4,
          16,
          9,
          2,
          32,
          11,
          10,
          4,
          8,
          28,
          8,
          5,
          4,
          10,
          2,
          7,
          12,
          9,
          15,
          20,
          14,
          10,
          11,
          8,
          4,
          13,
          8,
          15,
          1,
          4,
          7,
          4,
          7,
          19,
          3,
          16,
          3,
          6,
          6,
          10,
          6,
          11,
          9,
          5,
          2,
          6,
          5,
          9,
          4,
          22,
          0,
          5,
          3,
          19,
          9,
          6,
          7,
          0,
          8,
          12,
          56,
          6,
          9,
          5,
          10,
          13,
          10,
          4,
          9,
          19,
          5,
          6,
          20,
          3,
          7,
          19,
          0,
          9,
          11,
          14,
          13,
          7,
          19,
          11,
          8,
          8,
          10,
          17,
          12,
          12,
          3,
          1,
          18,
          7,
          13,
          3,
          19,
          6,
          18,
          3,
          4,
          8,
          13,
          11,
          11,
          10,
          11,
          3,
          8,
          8,
          16,
          23,
          13,
          9,
          8,
          14,
          4,
          39,
          17,
          23,
          9,
          4,
          7,
          6,
          13,
          11,
          6,
          14,
          12,
          1,
          15,
          8,
          18,
          6,
          5,
          5,
          11,
          1,
          5,
          4,
          11,
          2,
          0,
          7,
          7,
          17,
          1,
          8,
          17,
          8,
          7,
          7,
          2,
          13,
          20,
          10,
          1,
          7,
          0,
          11,
          7,
          11,
          6,
          9,
          13,
          6,
          23,
          6,
          5,
          18,
          14,
          25,
          3,
          8,
          8,
          8,
          4,
          7,
          9,
          4,
          10,
          4,
          0,
          10,
          13,
          1,
          10,
          14,
          10,
          6,
          8,
          3,
          10,
          8,
          8,
          10,
          13,
          14,
          2,
          7,
          22,
          5,
          9,
          13,
          0,
          9,
          6,
          0,
          11,
          13,
          13,
          8,
          11,
          6,
          3,
          1,
          6,
          25,
          7,
          14,
          16,
          13,
          30,
          10,
          17,
          21,
          6,
          17,
          2,
          22,
          11,
          12,
          15,
          7,
          5,
          10,
          17,
          8,
          17,
          12,
          12,
          38,
          14,
          0,
          9,
          7,
          4,
          9,
          6,
          1,
          17,
          8,
          7,
          17,
          14,
          10,
          14,
          12,
          23,
          2,
          13,
          29,
          11,
          1,
          12,
          15,
          7,
          11,
          15,
          6,
          6,
          5,
          1,
          11,
          6,
          20,
          0,
          7,
          7,
          2,
          6,
          33,
          8,
          11,
          14,
          7,
          23,
          0,
          12,
          13,
          7,
          11,
          15,
          2,
          21,
          17,
          4,
          16,
          8,
          3,
          8,
          2,
          11,
          4,
          18,
          6,
          1,
          29,
          1,
          13,
          8,
          6,
          0,
          0,
          14,
          13,
          26,
          8,
          0,
          2,
          0,
          8,
          3,
          3,
          25,
          13,
          4,
          14,
          19,
          0,
          1,
          2,
          11,
          20,
          5,
          6,
          16,
          8,
          6,
          13,
          11,
          9,
          7,
          12,
          1,
          15,
          101,
          6,
          4,
          16,
          11,
          18,
          7,
          15,
          12,
          16,
          1,
          6,
          12,
          15,
          3,
          12,
          0,
          15,
          1,
          2,
          0,
          30,
          14,
          8,
          9,
          0,
          4,
          14,
          6,
          15,
          7,
          5,
          19,
          20,
          11,
          15,
          4,
          39,
          12,
          11,
          13,
          5,
          7,
          10,
          1,
          16,
          19,
          5,
          4,
          10,
          9,
          10,
          2,
          5,
          6,
          11,
          20,
          2,
          7,
          10,
          3,
          0,
          18,
          0,
          10,
          2,
          26,
          1,
          12,
          10,
          2,
          12,
          1,
          12,
          0,
          26,
          9,
          10,
          11,
          10,
          0,
          10,
          2,
          7,
          14,
          8,
          5,
          10,
          13,
          8,
          20,
          15,
          4,
          19,
          0,
          6,
          7,
          30,
          10,
          15,
          10,
          10,
          6,
          1,
          17,
          14,
          6,
          6,
          8,
          12,
          6,
          9,
          0,
          17,
          10,
          9,
          30,
          14,
          0,
          18,
          18,
          9,
          10,
          9,
          14,
          5,
          1,
          9,
          2,
          19,
          0,
          11,
          1,
          6,
          9,
          10,
          23,
          4,
          15,
          19,
          23,
          4,
          11,
          12,
          5,
          17,
          8,
          6,
          6,
          11,
          3,
          13,
          3,
          34,
          6,
          5,
          18,
          7,
          1,
          29,
          12,
          27,
          2,
          14,
          0,
          21,
          14,
          5,
          10,
          4,
          4,
          1,
          1,
          18,
          5,
          9,
          26,
          49,
          4,
          1,
          2,
          1,
          17,
          12,
          6,
          9,
          26,
          4,
          5,
          7,
          0,
          4,
          1,
          15,
          22,
          16,
          7,
          20,
          8,
          16,
          11,
          7,
          3,
          7,
          3,
          13,
          12,
          11,
          11,
          3,
          9,
          17,
          12,
          13,
          11,
          4,
          32,
          22,
          23,
          14,
          9,
          8,
          0,
          7,
          4,
          24,
          8,
          13,
          11,
          28,
          11,
          9,
          1,
          17,
          0,
          2,
          11,
          6,
          9,
          17,
          11,
          19,
          10,
          4,
          0,
          13,
          10,
          0,
          1,
          19,
          14,
          10,
          3,
          38,
          7,
          7,
          7,
          1,
          5,
          2,
          8,
          13,
          2,
          1,
          7,
          8,
          6,
          3,
          18,
          5,
          4,
          11,
          1,
          2,
          18,
          15,
          1,
          7,
          11,
          1,
          4,
          13,
          2,
          10,
          3,
          4,
          11,
          3,
          10,
          17,
          12,
          22,
          9,
          10,
          0,
          5,
          8,
          6,
          27,
          22,
          15,
          15,
          14,
          4,
          5,
          3,
          11,
          11,
          1,
          20,
          18,
          0,
          13,
          25,
          17,
          14,
          11,
          13,
          10,
          9,
          3,
          4,
          10,
          18,
          8,
          5,
          9,
          7,
          3,
          18,
          11,
          7,
          9,
          15,
          11,
          15,
          2,
          22,
          0,
          0,
          7,
          13,
          14,
          11,
          5,
          14,
          8,
          11,
          8,
          0,
          9,
          15,
          11,
          20,
          12,
          0,
          13,
          5,
          6,
          12,
          6,
          1,
          7,
          8,
          0,
          11,
          6,
          6,
          11,
          7,
          2,
          23,
          10,
          11,
          9,
          0,
          15,
          1,
          3,
          18,
          6,
          11,
          12,
          10,
          0,
          14,
          1,
          13,
          4,
          11,
          21,
          10,
          8,
          9,
          3,
          13,
          3,
          22,
          7,
          2,
          7,
          12,
          1,
          0,
          6,
          1,
          19,
          4,
          9,
          14,
          8,
          9,
          11,
          4,
          12,
          10,
          18,
          7,
          2,
          0,
          10,
          8,
          5,
          9,
          17,
          12,
          10,
          10,
          6,
          5,
          14,
          9,
          5,
          3,
          5,
          18,
          14,
          4,
          6,
          18,
          9,
          8,
          2,
          0,
          11,
          0,
          14,
          21,
          0,
          0,
          11,
          9,
          21,
          25,
          13,
          5,
          5,
          3,
          10,
          12,
          23,
          6,
          8,
          6,
          12,
          15,
          2,
          5,
          10,
          6,
          0,
          8,
          6,
          6,
          7,
          9,
          17,
          10,
          16,
          6,
          6,
          14,
          6,
          13,
          13,
          5,
          0,
          12,
          14,
          15,
          17,
          14,
          14,
          3,
          10,
          4,
          8,
          8,
          4,
          6,
          15,
          28,
          2,
          5,
          13,
          14,
          9,
          11,
          9,
          10,
          11,
          7,
          7,
          5,
          7,
          11,
          13,
          16,
          9,
          13,
          5,
          4,
          10,
          6,
          12,
          6,
          6,
          8,
          18,
          10,
          1,
          19,
          7,
          0,
          13,
          10,
          6,
          3,
          3,
          15,
          6,
          9,
          12,
          1,
          17,
          1,
          2,
          0,
          13,
          2,
          15,
          4,
          0,
          10,
          7,
          8,
          8,
          12,
          39,
          5,
          7,
          11,
          18,
          9,
          11,
          6,
          1,
          19,
          10,
          6,
          10,
          12,
          6,
          8,
          21,
          13,
          11,
          2,
          23,
          3,
          56,
          0,
          10,
          10,
          13,
          9,
          11,
          10,
          8,
          0,
          11,
          7,
          22,
          20,
          9,
          1,
          15,
          21,
          7,
          5,
          14,
          8,
          14,
          12,
          8,
          10,
          9,
          9,
          0,
          12,
          3,
          2,
          6,
          13,
          14,
          16,
          7,
          19,
          9,
          17,
          3,
          2,
          13,
          17,
          24,
          26,
          19,
          24,
          17,
          7,
          3,
          10,
          7,
          11,
          13,
          0,
          13,
          5,
          6,
          5,
          0,
          3,
          15,
          8,
          11,
          10,
          6,
          16,
          2,
          6,
          9,
          10,
          18,
          5,
          6,
          5,
          8,
          7,
          8,
          7,
          35,
          3,
          24,
          6,
          6,
          6,
          24,
          7,
          0,
          8,
          3,
          8,
          5,
          7,
          4,
          4,
          7,
          22,
          8,
          6,
          9,
          12,
          7,
          0,
          8,
          7,
          7,
          9,
          8,
          21,
          5,
          3,
          21,
          8,
          8,
          22,
          2,
          2,
          8,
          13,
          11,
          10,
          4,
          36,
          12,
          12,
          3,
          3,
          12,
          9,
          11,
          9,
          35,
          6,
          13,
          21,
          8,
          2,
          15,
          11,
          14,
          2,
          6,
          10,
          4,
          10,
          16,
          10,
          0,
          8,
          4,
          0,
          4,
          5,
          0,
          0,
          9,
          12,
          19,
          7,
          6,
          8,
          12,
          12,
          13,
          6,
          8,
          6,
          4,
          6,
          36,
          9,
          13,
          7,
          1,
          0,
          0,
          19,
          16,
          13,
          7,
          3,
          7,
          8,
          9,
          0,
          4,
          6,
          6,
          27,
          19,
          7,
          12,
          11,
          13,
          11,
          18,
          17,
          5,
          4,
          2,
          3,
          0,
          8,
          4,
          9,
          6,
          12,
          42,
          9,
          18,
          12,
          10,
          8,
          0,
          12,
          3,
          7,
          14,
          7,
          1,
          20,
          2,
          3,
          20,
          6,
          15,
          4,
          1,
          8,
          8,
          6,
          9,
          18,
          15,
          0,
          12,
          23,
          8,
          7,
          7,
          13,
          21,
          0,
          16,
          5,
          3,
          0,
          1,
          19,
          3,
          4,
          22,
          0,
          5,
          6,
          7,
          7,
          8,
          15,
          35,
          7,
          0,
          10,
          11,
          15,
          23,
          2,
          8,
          0,
          5,
          14,
          7,
          3,
          15,
          2,
          13,
          13,
          9,
          17,
          9,
          20,
          8,
          25,
          11,
          11,
          14,
          7,
          11,
          5,
          12,
          33,
          13,
          1,
          14,
          9,
          0,
          6,
          18,
          3,
          11,
          0,
          11,
          28,
          22,
          11,
          13,
          7,
          33,
          8,
          17,
          19,
          8,
          8,
          5,
          17,
          8,
          14,
          11,
          14,
          15,
          7,
          7,
          9,
          13,
          2,
          5,
          14,
          8,
          14,
          19,
          17,
          24,
          1,
          3,
          25,
          30,
          24,
          19,
          9,
          4,
          2,
          0,
          3,
          7,
          13,
          10,
          6,
          18,
          13,
          14,
          8,
          14,
          9,
          7,
          6,
          6,
          26,
          15,
          8,
          6,
          23,
          8,
          0,
          4,
          9,
          6,
          7,
          20,
          14,
          4,
          0,
          16,
          7,
          2,
          5,
          11,
          8,
          13,
          17,
          16,
          15,
          12,
          2,
          6,
          0,
          2,
          2,
          11,
          15,
          14,
          20,
          14,
          11,
          11,
          15,
          1,
          24,
          12,
          11,
          1,
          8,
          7,
          9,
          8,
          10,
          11,
          51,
          1,
          0,
          3,
          7,
          7,
          6,
          0,
          10,
          5,
          13,
          11,
          6,
          13,
          5,
          8,
          6,
          6,
          19,
          9,
          9,
          5,
          5,
          16,
          24,
          7,
          6,
          18,
          19,
          20,
          0,
          16,
          0,
          20,
          23,
          4,
          4,
          12,
          6,
          2,
          7,
          21,
          9,
          30,
          17,
          5,
          9,
          8,
          17,
          4,
          7,
          5,
          7,
          8,
          10,
          10,
          8,
          17,
          19,
          6,
          15,
          19,
          5,
          6,
          11,
          16,
          7,
          1,
          9,
          13,
          6,
          21,
          6,
          6,
          14,
          17,
          12,
          9,
          10,
          11,
          45,
          11,
          6,
          6,
          2,
          25,
          9,
          13,
          9,
          0,
          9,
          2,
          14,
          4,
          8,
          4,
          2,
          8,
          20,
          11,
          33,
          29,
          7,
          2,
          17,
          9,
          19,
          8,
          1,
          0,
          5,
          4,
          0,
          0,
          30,
          9,
          4,
          10,
          4,
          5,
          16,
          7,
          4,
          2,
          3,
          5,
          0,
          0,
          17,
          18,
          5,
          4,
          9,
          13,
          1,
          10,
          11,
          14,
          9,
          6,
          2,
          16,
          12,
          6,
          16,
          3,
          2,
          10,
          15,
          5,
          14,
          8,
          21,
          11,
          7,
          9,
          16,
          0,
          7,
          5,
          8,
          4,
          6,
          6,
          4,
          12,
          16,
          0,
          5,
          4,
          2,
          0,
          14,
          14,
          13,
          11,
          13,
          6,
          11,
          6,
          12,
          11,
          29,
          13,
          9,
          6,
          25,
          5,
          10,
          1,
          4,
          7,
          20,
          11,
          0,
          15,
          3,
          2,
          12,
          6,
          13,
          12,
          16,
          21,
          14,
          10,
          8,
          13,
          28,
          4,
          2,
          1,
          7,
          8,
          3,
          11,
          14,
          5,
          20,
          13,
          9,
          8,
          5,
          14,
          7,
          0,
          5,
          20,
          5,
          11,
          1,
          7,
          10,
          26,
          3,
          8,
          3,
          9,
          0,
          26,
          3,
          4,
          3,
          7,
          0,
          0,
          4,
          3,
          19,
          23,
          13,
          25,
          2,
          16,
          9,
          8,
          56,
          9,
          3,
          12,
          5,
          8,
          7,
          1,
          5,
          5,
          15,
          11,
          13,
          6,
          0,
          10,
          18,
          8,
          4,
          12,
          9,
          5,
          13,
          12,
          2,
          6,
          6,
          17,
          4,
          7,
          14,
          43,
          7,
          9,
          2,
          12,
          7,
          7,
          14,
          2,
          30,
          7,
          13,
          13,
          2,
          6,
          6,
          26,
          1,
          6,
          4,
          11,
          11,
          28,
          13,
          21,
          11,
          11,
          3,
          7,
          3,
          2,
          7,
          15,
          5,
          5,
          15,
          8,
          4,
          2,
          4,
          8,
          7,
          12,
          5,
          6,
          2,
          63,
          13,
          16,
          36,
          9,
          2,
          12,
          1,
          2,
          0,
          13,
          1,
          14,
          12,
          5,
          11,
          4,
          19,
          30,
          1,
          9,
          11,
          8,
          5,
          3,
          30,
          7,
          12,
          7,
          9,
          5,
          29,
          16,
          0,
          1,
          10,
          8,
          20,
          20,
          10,
          5,
          4,
          1,
          15,
          8,
          6,
          5,
          16,
          17,
          11,
          26,
          32,
          9,
          6,
          15,
          6,
          14,
          18,
          2,
          10,
          13,
          0,
          5,
          7,
          9,
          5,
          7,
          11,
          1,
          6,
          16,
          9,
          18,
          16,
          14,
          0,
          10,
          21,
          8,
          15,
          5,
          19,
          4,
          1,
          25,
          3,
          14,
          8,
          0,
          0,
          0,
          6,
          7,
          24,
          20,
          6,
          9,
          11,
          15,
          12,
          21,
          12,
          11,
          6,
          19,
          2,
          1,
          6,
          14,
          2,
          33,
          8,
          7,
          6,
          9,
          3,
          19,
          9,
          19,
          18,
          15,
          8,
          3,
          6,
          14,
          18,
          13,
          15,
          23,
          11,
          6,
          9,
          1,
          8,
          6,
          7,
          17,
          6,
          23,
          10,
          14,
          9,
          9,
          16,
          29,
          1,
          6,
          12,
          0,
          22,
          13,
          5,
          6,
          4,
          8,
          10,
          0,
          12,
          3,
          4,
          3,
          6,
          14,
          1,
          0,
          1,
          11,
          2,
          15,
          9,
          4,
          0,
          7,
          10,
          11,
          20,
          24,
          7,
          1,
          6,
          21,
          7,
          7,
          9,
          12,
          9,
          13,
          16,
          5,
          7,
          6,
          1,
          9,
          16,
          9,
          11,
          10,
          11,
          15,
          6,
          8,
          4,
          1,
          7,
          9,
          7,
          14,
          5,
          11,
          29,
          12,
          1,
          3,
          15,
          26,
          14,
          6,
          11,
          1,
          3,
          25,
          8,
          10,
          8,
          10,
          5,
          1,
          6,
          19,
          253,
          9,
          10,
          11,
          15,
          15,
          12,
          17,
          33,
          9,
          5,
          10,
          9,
          12,
          1,
          19,
          8,
          7,
          12,
          5,
          19,
          1,
          3,
          7,
          11,
          0,
          16,
          5,
          14,
          8,
          14,
          1,
          5,
          18,
          1,
          16,
          11,
          9,
          7,
          0,
          5,
          5,
          4,
          21,
          3,
          8,
          8,
          6,
          18,
          4,
          9,
          26,
          12,
          2,
          8,
          3,
          3,
          12,
          7,
          5,
          13,
          14,
          9,
          2,
          30,
          13,
          6,
          0,
          3,
          18,
          8,
          11,
          4,
          39,
          11,
          31,
          12,
          12,
          6,
          12,
          23,
          6,
          9,
          13,
          12,
          17,
          13,
          10,
          11,
          7,
          4,
          11,
          2,
          0,
          13,
          11,
          10,
          7,
          18,
          8,
          1,
          10,
          12,
          18,
          3,
          11,
          25,
          0,
          25,
          11,
          23,
          3,
          12,
          6,
          2,
          10,
          0,
          0,
          5,
          11,
          6,
          0,
          8,
          9,
          14,
          26,
          0,
          6,
          4,
          9,
          7,
          1,
          22,
          4,
          20,
          7,
          5,
          0,
          1,
          12,
          6,
          4
         ],
         "yaxis": "y"
        }
       ],
       "layout": {
        "legend": {
         "tracegroupgap": 0
        },
        "margin": {
         "t": 60
        },
        "template": {
         "data": {
          "bar": [
           {
            "error_x": {
             "color": "#2a3f5f"
            },
            "error_y": {
             "color": "#2a3f5f"
            },
            "marker": {
             "line": {
              "color": "#E5ECF6",
              "width": 0.5
             },
             "pattern": {
              "fillmode": "overlay",
              "size": 10,
              "solidity": 0.2
             }
            },
            "type": "bar"
           }
          ],
          "barpolar": [
           {
            "marker": {
             "line": {
              "color": "#E5ECF6",
              "width": 0.5
             },
             "pattern": {
              "fillmode": "overlay",
              "size": 10,
              "solidity": 0.2
             }
            },
            "type": "barpolar"
           }
          ],
          "carpet": [
           {
            "aaxis": {
             "endlinecolor": "#2a3f5f",
             "gridcolor": "white",
             "linecolor": "white",
             "minorgridcolor": "white",
             "startlinecolor": "#2a3f5f"
            },
            "baxis": {
             "endlinecolor": "#2a3f5f",
             "gridcolor": "white",
             "linecolor": "white",
             "minorgridcolor": "white",
             "startlinecolor": "#2a3f5f"
            },
            "type": "carpet"
           }
          ],
          "choropleth": [
           {
            "colorbar": {
             "outlinewidth": 0,
             "ticks": ""
            },
            "type": "choropleth"
           }
          ],
          "contour": [
           {
            "colorbar": {
             "outlinewidth": 0,
             "ticks": ""
            },
            "colorscale": [
             [
              0,
              "#0d0887"
             ],
             [
              0.1111111111111111,
              "#46039f"
             ],
             [
              0.2222222222222222,
              "#7201a8"
             ],
             [
              0.3333333333333333,
              "#9c179e"
             ],
             [
              0.4444444444444444,
              "#bd3786"
             ],
             [
              0.5555555555555556,
              "#d8576b"
             ],
             [
              0.6666666666666666,
              "#ed7953"
             ],
             [
              0.7777777777777778,
              "#fb9f3a"
             ],
             [
              0.8888888888888888,
              "#fdca26"
             ],
             [
              1,
              "#f0f921"
             ]
            ],
            "type": "contour"
           }
          ],
          "contourcarpet": [
           {
            "colorbar": {
             "outlinewidth": 0,
             "ticks": ""
            },
            "type": "contourcarpet"
           }
          ],
          "heatmap": [
           {
            "colorbar": {
             "outlinewidth": 0,
             "ticks": ""
            },
            "colorscale": [
             [
              0,
              "#0d0887"
             ],
             [
              0.1111111111111111,
              "#46039f"
             ],
             [
              0.2222222222222222,
              "#7201a8"
             ],
             [
              0.3333333333333333,
              "#9c179e"
             ],
             [
              0.4444444444444444,
              "#bd3786"
             ],
             [
              0.5555555555555556,
              "#d8576b"
             ],
             [
              0.6666666666666666,
              "#ed7953"
             ],
             [
              0.7777777777777778,
              "#fb9f3a"
             ],
             [
              0.8888888888888888,
              "#fdca26"
             ],
             [
              1,
              "#f0f921"
             ]
            ],
            "type": "heatmap"
           }
          ],
          "heatmapgl": [
           {
            "colorbar": {
             "outlinewidth": 0,
             "ticks": ""
            },
            "colorscale": [
             [
              0,
              "#0d0887"
             ],
             [
              0.1111111111111111,
              "#46039f"
             ],
             [
              0.2222222222222222,
              "#7201a8"
             ],
             [
              0.3333333333333333,
              "#9c179e"
             ],
             [
              0.4444444444444444,
              "#bd3786"
             ],
             [
              0.5555555555555556,
              "#d8576b"
             ],
             [
              0.6666666666666666,
              "#ed7953"
             ],
             [
              0.7777777777777778,
              "#fb9f3a"
             ],
             [
              0.8888888888888888,
              "#fdca26"
             ],
             [
              1,
              "#f0f921"
             ]
            ],
            "type": "heatmapgl"
           }
          ],
          "histogram": [
           {
            "marker": {
             "pattern": {
              "fillmode": "overlay",
              "size": 10,
              "solidity": 0.2
             }
            },
            "type": "histogram"
           }
          ],
          "histogram2d": [
           {
            "colorbar": {
             "outlinewidth": 0,
             "ticks": ""
            },
            "colorscale": [
             [
              0,
              "#0d0887"
             ],
             [
              0.1111111111111111,
              "#46039f"
             ],
             [
              0.2222222222222222,
              "#7201a8"
             ],
             [
              0.3333333333333333,
              "#9c179e"
             ],
             [
              0.4444444444444444,
              "#bd3786"
             ],
             [
              0.5555555555555556,
              "#d8576b"
             ],
             [
              0.6666666666666666,
              "#ed7953"
             ],
             [
              0.7777777777777778,
              "#fb9f3a"
             ],
             [
              0.8888888888888888,
              "#fdca26"
             ],
             [
              1,
              "#f0f921"
             ]
            ],
            "type": "histogram2d"
           }
          ],
          "histogram2dcontour": [
           {
            "colorbar": {
             "outlinewidth": 0,
             "ticks": ""
            },
            "colorscale": [
             [
              0,
              "#0d0887"
             ],
             [
              0.1111111111111111,
              "#46039f"
             ],
             [
              0.2222222222222222,
              "#7201a8"
             ],
             [
              0.3333333333333333,
              "#9c179e"
             ],
             [
              0.4444444444444444,
              "#bd3786"
             ],
             [
              0.5555555555555556,
              "#d8576b"
             ],
             [
              0.6666666666666666,
              "#ed7953"
             ],
             [
              0.7777777777777778,
              "#fb9f3a"
             ],
             [
              0.8888888888888888,
              "#fdca26"
             ],
             [
              1,
              "#f0f921"
             ]
            ],
            "type": "histogram2dcontour"
           }
          ],
          "mesh3d": [
           {
            "colorbar": {
             "outlinewidth": 0,
             "ticks": ""
            },
            "type": "mesh3d"
           }
          ],
          "parcoords": [
           {
            "line": {
             "colorbar": {
              "outlinewidth": 0,
              "ticks": ""
             }
            },
            "type": "parcoords"
           }
          ],
          "pie": [
           {
            "automargin": true,
            "type": "pie"
           }
          ],
          "scatter": [
           {
            "fillpattern": {
             "fillmode": "overlay",
             "size": 10,
             "solidity": 0.2
            },
            "type": "scatter"
           }
          ],
          "scatter3d": [
           {
            "line": {
             "colorbar": {
              "outlinewidth": 0,
              "ticks": ""
             }
            },
            "marker": {
             "colorbar": {
              "outlinewidth": 0,
              "ticks": ""
             }
            },
            "type": "scatter3d"
           }
          ],
          "scattercarpet": [
           {
            "marker": {
             "colorbar": {
              "outlinewidth": 0,
              "ticks": ""
             }
            },
            "type": "scattercarpet"
           }
          ],
          "scattergeo": [
           {
            "marker": {
             "colorbar": {
              "outlinewidth": 0,
              "ticks": ""
             }
            },
            "type": "scattergeo"
           }
          ],
          "scattergl": [
           {
            "marker": {
             "colorbar": {
              "outlinewidth": 0,
              "ticks": ""
             }
            },
            "type": "scattergl"
           }
          ],
          "scattermapbox": [
           {
            "marker": {
             "colorbar": {
              "outlinewidth": 0,
              "ticks": ""
             }
            },
            "type": "scattermapbox"
           }
          ],
          "scatterpolar": [
           {
            "marker": {
             "colorbar": {
              "outlinewidth": 0,
              "ticks": ""
             }
            },
            "type": "scatterpolar"
           }
          ],
          "scatterpolargl": [
           {
            "marker": {
             "colorbar": {
              "outlinewidth": 0,
              "ticks": ""
             }
            },
            "type": "scatterpolargl"
           }
          ],
          "scatterternary": [
           {
            "marker": {
             "colorbar": {
              "outlinewidth": 0,
              "ticks": ""
             }
            },
            "type": "scatterternary"
           }
          ],
          "surface": [
           {
            "colorbar": {
             "outlinewidth": 0,
             "ticks": ""
            },
            "colorscale": [
             [
              0,
              "#0d0887"
             ],
             [
              0.1111111111111111,
              "#46039f"
             ],
             [
              0.2222222222222222,
              "#7201a8"
             ],
             [
              0.3333333333333333,
              "#9c179e"
             ],
             [
              0.4444444444444444,
              "#bd3786"
             ],
             [
              0.5555555555555556,
              "#d8576b"
             ],
             [
              0.6666666666666666,
              "#ed7953"
             ],
             [
              0.7777777777777778,
              "#fb9f3a"
             ],
             [
              0.8888888888888888,
              "#fdca26"
             ],
             [
              1,
              "#f0f921"
             ]
            ],
            "type": "surface"
           }
          ],
          "table": [
           {
            "cells": {
             "fill": {
              "color": "#EBF0F8"
             },
             "line": {
              "color": "white"
             }
            },
            "header": {
             "fill": {
              "color": "#C8D4E3"
             },
             "line": {
              "color": "white"
             }
            },
            "type": "table"
           }
          ]
         },
         "layout": {
          "annotationdefaults": {
           "arrowcolor": "#2a3f5f",
           "arrowhead": 0,
           "arrowwidth": 1
          },
          "autotypenumbers": "strict",
          "coloraxis": {
           "colorbar": {
            "outlinewidth": 0,
            "ticks": ""
           }
          },
          "colorscale": {
           "diverging": [
            [
             0,
             "#8e0152"
            ],
            [
             0.1,
             "#c51b7d"
            ],
            [
             0.2,
             "#de77ae"
            ],
            [
             0.3,
             "#f1b6da"
            ],
            [
             0.4,
             "#fde0ef"
            ],
            [
             0.5,
             "#f7f7f7"
            ],
            [
             0.6,
             "#e6f5d0"
            ],
            [
             0.7,
             "#b8e186"
            ],
            [
             0.8,
             "#7fbc41"
            ],
            [
             0.9,
             "#4d9221"
            ],
            [
             1,
             "#276419"
            ]
           ],
           "sequential": [
            [
             0,
             "#0d0887"
            ],
            [
             0.1111111111111111,
             "#46039f"
            ],
            [
             0.2222222222222222,
             "#7201a8"
            ],
            [
             0.3333333333333333,
             "#9c179e"
            ],
            [
             0.4444444444444444,
             "#bd3786"
            ],
            [
             0.5555555555555556,
             "#d8576b"
            ],
            [
             0.6666666666666666,
             "#ed7953"
            ],
            [
             0.7777777777777778,
             "#fb9f3a"
            ],
            [
             0.8888888888888888,
             "#fdca26"
            ],
            [
             1,
             "#f0f921"
            ]
           ],
           "sequentialminus": [
            [
             0,
             "#0d0887"
            ],
            [
             0.1111111111111111,
             "#46039f"
            ],
            [
             0.2222222222222222,
             "#7201a8"
            ],
            [
             0.3333333333333333,
             "#9c179e"
            ],
            [
             0.4444444444444444,
             "#bd3786"
            ],
            [
             0.5555555555555556,
             "#d8576b"
            ],
            [
             0.6666666666666666,
             "#ed7953"
            ],
            [
             0.7777777777777778,
             "#fb9f3a"
            ],
            [
             0.8888888888888888,
             "#fdca26"
            ],
            [
             1,
             "#f0f921"
            ]
           ]
          },
          "colorway": [
           "#636efa",
           "#EF553B",
           "#00cc96",
           "#ab63fa",
           "#FFA15A",
           "#19d3f3",
           "#FF6692",
           "#B6E880",
           "#FF97FF",
           "#FECB52"
          ],
          "font": {
           "color": "#2a3f5f"
          },
          "geo": {
           "bgcolor": "white",
           "lakecolor": "white",
           "landcolor": "#E5ECF6",
           "showlakes": true,
           "showland": true,
           "subunitcolor": "white"
          },
          "hoverlabel": {
           "align": "left"
          },
          "hovermode": "closest",
          "mapbox": {
           "style": "light"
          },
          "paper_bgcolor": "white",
          "plot_bgcolor": "#E5ECF6",
          "polar": {
           "angularaxis": {
            "gridcolor": "white",
            "linecolor": "white",
            "ticks": ""
           },
           "bgcolor": "#E5ECF6",
           "radialaxis": {
            "gridcolor": "white",
            "linecolor": "white",
            "ticks": ""
           }
          },
          "scene": {
           "xaxis": {
            "backgroundcolor": "#E5ECF6",
            "gridcolor": "white",
            "gridwidth": 2,
            "linecolor": "white",
            "showbackground": true,
            "ticks": "",
            "zerolinecolor": "white"
           },
           "yaxis": {
            "backgroundcolor": "#E5ECF6",
            "gridcolor": "white",
            "gridwidth": 2,
            "linecolor": "white",
            "showbackground": true,
            "ticks": "",
            "zerolinecolor": "white"
           },
           "zaxis": {
            "backgroundcolor": "#E5ECF6",
            "gridcolor": "white",
            "gridwidth": 2,
            "linecolor": "white",
            "showbackground": true,
            "ticks": "",
            "zerolinecolor": "white"
           }
          },
          "shapedefaults": {
           "line": {
            "color": "#2a3f5f"
           }
          },
          "ternary": {
           "aaxis": {
            "gridcolor": "white",
            "linecolor": "white",
            "ticks": ""
           },
           "baxis": {
            "gridcolor": "white",
            "linecolor": "white",
            "ticks": ""
           },
           "bgcolor": "#E5ECF6",
           "caxis": {
            "gridcolor": "white",
            "linecolor": "white",
            "ticks": ""
           }
          },
          "title": {
           "x": 0.05
          },
          "xaxis": {
           "automargin": true,
           "gridcolor": "white",
           "linecolor": "white",
           "ticks": "",
           "title": {
            "standoff": 15
           },
           "zerolinecolor": "white",
           "zerolinewidth": 2
          },
          "yaxis": {
           "automargin": true,
           "gridcolor": "white",
           "linecolor": "white",
           "ticks": "",
           "title": {
            "standoff": 15
           },
           "zerolinecolor": "white",
           "zerolinewidth": 2
          }
         }
        },
        "xaxis": {
         "anchor": "y",
         "domain": [
          0,
          1
         ],
         "title": {
          "text": "Height [cm]"
         }
        },
        "yaxis": {
         "anchor": "x",
         "domain": [
          0,
          1
         ],
         "title": {
          "text": "No. of wins"
         }
        }
       }
      }
     },
     "metadata": {},
     "output_type": "display_data"
    }
   ],
   "source": [
    "fig3 = px.scatter(df, x=\"height_cm\", y=\"wins\",\n",
    "                 labels = {\"height_cm\": \"Height [cm]\", \"wins\": \"No. of wins\"}) \n",
    "fig3.show()"
   ]
  },
  {
   "cell_type": "code",
   "execution_count": 17,
   "metadata": {},
   "outputs": [
    {
     "data": {
      "text/html": [
       "<div>\n",
       "<style scoped>\n",
       "    .dataframe tbody tr th:only-of-type {\n",
       "        vertical-align: middle;\n",
       "    }\n",
       "\n",
       "    .dataframe tbody tr th {\n",
       "        vertical-align: top;\n",
       "    }\n",
       "\n",
       "    .dataframe thead th {\n",
       "        text-align: right;\n",
       "    }\n",
       "</style>\n",
       "<table border=\"1\" class=\"dataframe\">\n",
       "  <thead>\n",
       "    <tr style=\"text-align: right;\">\n",
       "      <th></th>\n",
       "      <th>name</th>\n",
       "      <th>nickname</th>\n",
       "      <th>wins</th>\n",
       "      <th>losses</th>\n",
       "      <th>draws</th>\n",
       "      <th>height_cm</th>\n",
       "      <th>weight_in_kg</th>\n",
       "      <th>reach_in_cm</th>\n",
       "      <th>stance</th>\n",
       "      <th>date_of_birth</th>\n",
       "      <th>...</th>\n",
       "      <th>significant_strike_defence</th>\n",
       "      <th>average_takedowns_landed_per_15_minutes</th>\n",
       "      <th>takedown_accuracy</th>\n",
       "      <th>takedown_defense</th>\n",
       "      <th>average_submissions_attempted_per_15_minutes</th>\n",
       "      <th>total_career_fights</th>\n",
       "      <th>win%</th>\n",
       "      <th>loss%</th>\n",
       "      <th>draw%</th>\n",
       "      <th>weight_class</th>\n",
       "    </tr>\n",
       "  </thead>\n",
       "  <tbody>\n",
       "    <tr>\n",
       "      <th>3969</th>\n",
       "      <td>Travis Fulton</td>\n",
       "      <td>The Ironman</td>\n",
       "      <td>253</td>\n",
       "      <td>53</td>\n",
       "      <td>10</td>\n",
       "      <td>182.88</td>\n",
       "      <td>108.86</td>\n",
       "      <td>NaN</td>\n",
       "      <td>Orthodox</td>\n",
       "      <td>1977-05-29</td>\n",
       "      <td>...</td>\n",
       "      <td>0.0</td>\n",
       "      <td>0.0</td>\n",
       "      <td>0.0</td>\n",
       "      <td>0.0</td>\n",
       "      <td>0.0</td>\n",
       "      <td>316</td>\n",
       "      <td>80.0</td>\n",
       "      <td>17.0</td>\n",
       "      <td>3.0</td>\n",
       "      <td>Heavyweight</td>\n",
       "    </tr>\n",
       "  </tbody>\n",
       "</table>\n",
       "<p>1 rows × 23 columns</p>\n",
       "</div>"
      ],
      "text/plain": [
       "               name     nickname  wins  losses  draws  height_cm  \\\n",
       "3969  Travis Fulton  The Ironman   253      53     10     182.88   \n",
       "\n",
       "      weight_in_kg  reach_in_cm    stance date_of_birth  ...  \\\n",
       "3969        108.86          NaN  Orthodox    1977-05-29  ...   \n",
       "\n",
       "      significant_strike_defence  average_takedowns_landed_per_15_minutes  \\\n",
       "3969                         0.0                                      0.0   \n",
       "\n",
       "      takedown_accuracy  takedown_defense  \\\n",
       "3969                0.0               0.0   \n",
       "\n",
       "      average_submissions_attempted_per_15_minutes  total_career_fights  win%  \\\n",
       "3969                                           0.0                  316  80.0   \n",
       "\n",
       "      loss%  draw%  weight_class  \n",
       "3969   17.0    3.0   Heavyweight  \n",
       "\n",
       "[1 rows x 23 columns]"
      ]
     },
     "execution_count": 17,
     "metadata": {},
     "output_type": "execute_result"
    }
   ],
   "source": [
    "# finding this fighter with the most victories\n",
    "df.loc[df['wins']==df['wins'].max()]"
   ]
  },
  {
   "cell_type": "markdown",
   "metadata": {},
   "source": [
    "With the above plot we have found an insane outlier Travis Fulton . Here's some info about him:\n",
    "\n",
    "Travis Jon Fulton (May 29, 1977 – July 10, 2021) was an American mixed martial artist and a professional boxer in the heavyweight division of both sports. Known as a longtime veteran in mixed martial arts, he competed in over 300 sanctioned bouts and while he was perhaps best known for competing in smaller US-based promotions, he also competed in the UFC, the USWF, the WEC, Pancrase, M-1 Global, the Chicago Red Bears of the IFL, King of the Cage, RINGS, and Oktagon MMA. He also holds the record for the most sanctioned mixed martial arts bouts, with 320 bouts; in addition to that, he also holds the most wins in mixed martial arts history (255). [Data source: Wikipedia]"
   ]
  },
  {
   "cell_type": "markdown",
   "metadata": {},
   "source": [
    "![Image Description](//upload.wikimedia.org/wikipedia/commons/thumb/a/ac/Travis_Fulton.png/220px-Travis_Fulton.png)"
   ]
  },
  {
   "cell_type": "markdown",
   "metadata": {},
   "source": [
    "### Finding the relation between weight and winning fights"
   ]
  },
  {
   "cell_type": "code",
   "execution_count": 19,
   "metadata": {},
   "outputs": [
    {
     "data": {
      "application/vnd.plotly.v1+json": {
       "config": {
        "plotlyServerURL": "https://plot.ly"
       },
       "data": [
        {
         "hovertemplate": "Weight [Kg]=%{x}<br>No. of wins=%{y}<extra></extra>",
         "legendgroup": "",
         "marker": {
          "color": "#636efa",
          "symbol": "circle"
         },
         "mode": "markers",
         "name": "",
         "showlegend": false,
         "type": "scattergl",
         "x": [
          92.99,
          83.91,
          97.98,
          61.23,
          83.91,
          70.31,
          70.31,
          83.91,
          70.31,
          120.2,
          118.39,
          83.91,
          61.23,
          51.26,
          65.77,
          87.09,
          65.77,
          65.77,
          70.31,
          70.31,
          83.91,
          77.11,
          56.7,
          83.91,
          92.99,
          77.11,
          65.77,
          77.11,
          106.59,
          83.91,
          83.91,
          92.99,
          92.99,
          77.11,
          61.23,
          null,
          77.11,
          56.7,
          83.91,
          null,
          77.11,
          108.86,
          70.31,
          83.91,
          92.99,
          92.99,
          77.11,
          77.11,
          65.77,
          70.31,
          127.01,
          70.31,
          92.99,
          61.23,
          65.77,
          77.11,
          120.2,
          83.91,
          83.91,
          92.99,
          77.11,
          77.11,
          65.77,
          110.22,
          56.7,
          83.91,
          106.59,
          70.31,
          61.23,
          56.7,
          83.91,
          77.11,
          56.7,
          61.23,
          61.23,
          77.11,
          61.23,
          83.91,
          104.33,
          83.91,
          92.99,
          56.7,
          52.16,
          56.7,
          65.77,
          65.77,
          106.59,
          65.77,
          null,
          92.99,
          104.33,
          77.11,
          70.31,
          92.99,
          120.2,
          92.99,
          77.11,
          61.23,
          83.91,
          77.11,
          83.91,
          56.7,
          77.11,
          77.11,
          69.85,
          70.31,
          113.4,
          83.01,
          70.31,
          70.31,
          104.33,
          69.85,
          77.11,
          83.91,
          83.91,
          90.72,
          70.31,
          92.99,
          92.99,
          77.11,
          77.11,
          77.11,
          56.7,
          56.7,
          52.16,
          56.7,
          77.11,
          83.01,
          92.99,
          70.31,
          69.85,
          77.11,
          73.03,
          70.31,
          83.91,
          77.11,
          83.91,
          70.31,
          77.11,
          65.77,
          70.31,
          70.31,
          70.31,
          83.91,
          72.57,
          65.77,
          83.91,
          92.99,
          120.2,
          83.01,
          104.33,
          108.86,
          77.11,
          107.95,
          77.11,
          65.77,
          83.91,
          77.11,
          83.91,
          77.11,
          76.2,
          77.11,
          77.11,
          70.31,
          65.77,
          83.91,
          70.31,
          140.61,
          61.23,
          83.91,
          120.2,
          56.7,
          70.31,
          92.99,
          70.31,
          70.31,
          56.7,
          77.11,
          56.7,
          61.23,
          127.01,
          63.05,
          76.2,
          70.31,
          65.77,
          70.31,
          83.91,
          102.06,
          70.31,
          83.91,
          83.91,
          65.77,
          56.7,
          83.91,
          92.99,
          56.7,
          77.11,
          61.23,
          61.23,
          65.77,
          92.99,
          77.11,
          106.59,
          61.23,
          65.77,
          92.99,
          83.91,
          77.11,
          77.11,
          77.11,
          92.99,
          83.91,
          70.31,
          119.75,
          102.97,
          56.7,
          70.31,
          56.7,
          83.91,
          63.05,
          70.31,
          83.91,
          92.99,
          92.99,
          92.99,
          83.91,
          113.4,
          115.67,
          83.91,
          65.77,
          70.31,
          65.77,
          83.91,
          70.31,
          70.31,
          108.86,
          77.11,
          77.11,
          83.91,
          83.91,
          117.93,
          61.23,
          56.7,
          56.7,
          77.11,
          61.23,
          56.7,
          90.26,
          83.91,
          70.31,
          106.59,
          65.77,
          112.04,
          70.31,
          92.99,
          117.93,
          65.77,
          70.31,
          70.31,
          77.11,
          65.77,
          61.23,
          65.77,
          65.77,
          77.11,
          65.77,
          102.06,
          65.77,
          92.99,
          77.11,
          83.91,
          83.91,
          65.77,
          56.7,
          70.31,
          102.06,
          63.05,
          70.31,
          92.99,
          52.16,
          83.91,
          83.91,
          83.91,
          65.77,
          70.31,
          77.11,
          56.7,
          92.99,
          56.7,
          69.85,
          61.23,
          83.91,
          92.99,
          70.31,
          70.31,
          92.99,
          61.23,
          77.11,
          77.11,
          77.11,
          70.31,
          77.11,
          70.31,
          70.31,
          77.11,
          61.23,
          77.11,
          70.31,
          77.11,
          77.11,
          92.99,
          83.91,
          63.05,
          56.7,
          83.91,
          92.99,
          70.31,
          63.05,
          61.23,
          56.7,
          77.11,
          158.76,
          70.31,
          56.7,
          79.38,
          92.99,
          77.11,
          83.91,
          65.77,
          61.23,
          56.7,
          70.31,
          92.99,
          70.31,
          77.11,
          119.75,
          61.23,
          83.91,
          83.91,
          61.23,
          77.11,
          61.23,
          77.11,
          65.77,
          61.23,
          83.91,
          77.11,
          65.77,
          65.77,
          82.1,
          68.04,
          65.77,
          56.7,
          77.11,
          70.31,
          83.91,
          104.33,
          65.77,
          61.23,
          92.99,
          70.31,
          108.86,
          65.77,
          65.77,
          65.77,
          61.23,
          92.99,
          61.23,
          61.23,
          77.11,
          70.31,
          92.99,
          52.16,
          56.7,
          61.23,
          109.32,
          61.23,
          83.91,
          90.72,
          83.91,
          83.91,
          70.31,
          56.7,
          77.11,
          77.11,
          83.91,
          77.11,
          83.91,
          83.91,
          65.77,
          65.77,
          65.77,
          83.91,
          83.91,
          83.91,
          65.77,
          52.16,
          116.12,
          70.31,
          83.91,
          83.91,
          83.91,
          77.11,
          77.11,
          61.23,
          56.7,
          56.7,
          56.7,
          120.2,
          61.23,
          65.77,
          61.23,
          92.99,
          95.25,
          83.91,
          65.77,
          77.11,
          77.11,
          92.99,
          70.31,
          65.77,
          65.77,
          77.11,
          83.91,
          61.23,
          77.11,
          56.7,
          70.31,
          61.23,
          70.31,
          61.23,
          156.49,
          77.11,
          77.11,
          90.72,
          105.23,
          83.91,
          56.7,
          83.01,
          70.31,
          65.77,
          65.77,
          61.23,
          65.77,
          52.16,
          61.23,
          70.31,
          83.91,
          108.86,
          70.31,
          61.23,
          61.23,
          70.31,
          104.33,
          77.11,
          61.23,
          77.11,
          77.11,
          70.31,
          69.85,
          92.99,
          65.77,
          83.91,
          70.31,
          70.31,
          65.77,
          77.11,
          65.77,
          77.11,
          83.91,
          77.11,
          77.11,
          65.77,
          81.65,
          83.91,
          70.31,
          70.31,
          65.77,
          83.91,
          70.31,
          83.91,
          65.77,
          70.31,
          70.31,
          92.99,
          61.23,
          61.23,
          70.31,
          77.11,
          61.23,
          70.31,
          65.77,
          113.4,
          52.16,
          77.11,
          70.31,
          61.23,
          56.7,
          83.91,
          77.11,
          92.99,
          61.23,
          61.23,
          83.91,
          77.11,
          56.7,
          92.99,
          52.16,
          92.99,
          83.91,
          70.31,
          77.11,
          65.77,
          74.84,
          65.77,
          77.11,
          70.31,
          70.31,
          77.11,
          56.7,
          56.7,
          61.23,
          83.91,
          77.11,
          65.77,
          61.23,
          77.11,
          65.77,
          56.7,
          65.77,
          83.91,
          70.31,
          56.7,
          65.77,
          77.11,
          120.2,
          70.31,
          56.7,
          77.11,
          61.23,
          70.31,
          65.77,
          56.7,
          70.31,
          83.91,
          83.91,
          77.11,
          56.7,
          70.31,
          92.99,
          61.23,
          52.16,
          77.11,
          83.91,
          70.31,
          92.99,
          83.91,
          56.7,
          83.91,
          92.99,
          70.31,
          77.11,
          70.31,
          56.7,
          77.11,
          61.23,
          61.23,
          70.31,
          83.91,
          61.23,
          83.91,
          92.99,
          117.93,
          65.77,
          77.11,
          70.31,
          77.11,
          104.78,
          95.25,
          65.77,
          83.91,
          65.77,
          111.13,
          70.31,
          70.31,
          70.31,
          83.91,
          77.11,
          106.59,
          70.31,
          77.11,
          92.99,
          77.11,
          56.7,
          92.99,
          69.85,
          83.91,
          65.77,
          61.23,
          92.99,
          92.99,
          83.91,
          83.91,
          77.11,
          115.67,
          61.23,
          65.77,
          70.31,
          77.11,
          73.03,
          70.31,
          70.31,
          83.91,
          77.11,
          70.31,
          83.91,
          83.01,
          70.31,
          65.77,
          65.77,
          70.31,
          106.14,
          56.7,
          70.31,
          83.91,
          111.13,
          77.11,
          77.11,
          65.77,
          120.2,
          65.77,
          70.31,
          65.77,
          56.7,
          70.31,
          99.79,
          65.77,
          104.33,
          83.91,
          109.77,
          70.31,
          92.99,
          70.31,
          83.91,
          70.31,
          70.31,
          65.77,
          65.77,
          83.91,
          92.99,
          70.31,
          52.16,
          61.23,
          56.7,
          70.31,
          92.99,
          83.91,
          92.99,
          65.77,
          83.91,
          83.91,
          120.2,
          70.31,
          65.77,
          61.23,
          56.7,
          70.31,
          77.11,
          61.23,
          83.91,
          56.7,
          56.7,
          70.31,
          99.79,
          61.23,
          83.91,
          83.91,
          83.91,
          70.31,
          70.31,
          102.06,
          65.77,
          83.91,
          52.16,
          77.11,
          56.7,
          70.31,
          92.99,
          92.99,
          61.23,
          65.77,
          61.23,
          61.23,
          61.23,
          83.91,
          65.77,
          83.91,
          56.7,
          97.07,
          77.11,
          77.11,
          61.23,
          70.31,
          61.23,
          77.11,
          70.31,
          63.05,
          92.99,
          77.11,
          77.11,
          77.11,
          65.77,
          77.11,
          83.91,
          56.7,
          65.77,
          70.31,
          56.7,
          104.33,
          65.77,
          77.11,
          77.11,
          77.11,
          70.31,
          83.91,
          65.77,
          70.31,
          92.99,
          70.31,
          56.7,
          70.31,
          92.99,
          120.2,
          77.11,
          65.77,
          65.77,
          56.7,
          83.91,
          61.23,
          65.77,
          56.7,
          70.31,
          77.11,
          52.16,
          52.16,
          77.11,
          77.11,
          77.11,
          61.23,
          83.91,
          83.91,
          77.11,
          65.77,
          83.91,
          83.91,
          61.23,
          56.7,
          83.91,
          111.13,
          77.11,
          77.11,
          61.23,
          70.31,
          110.22,
          56.7,
          56.7,
          83.91,
          77.11,
          65.77,
          65.77,
          70.31,
          113.4,
          70.31,
          56.7,
          104.33,
          65.77,
          92.99,
          77.11,
          102.06,
          92.99,
          56.7,
          77.11,
          61.23,
          111.13,
          70.31,
          92.99,
          61.23,
          52.16,
          83.91,
          61.23,
          70.31,
          92.99,
          56.7,
          83.91,
          120.2,
          52.16,
          83.91,
          56.7,
          92.99,
          83.91,
          70.31,
          65.77,
          92.99,
          120.2,
          92.99,
          118.84,
          56.7,
          92.99,
          83.91,
          70.31,
          77.11,
          92.99,
          65.77,
          56.7,
          52.16,
          65.77,
          61.23,
          77.11,
          70.31,
          69.85,
          52.16,
          106.59,
          92.99,
          77.11,
          70.31,
          111.13,
          77.11,
          70.31,
          65.77,
          77.11,
          83.91,
          65.77,
          65.77,
          90.72,
          61.23,
          115.67,
          70.31,
          77.11,
          77.11,
          77.11,
          70.31,
          70.31,
          112.04,
          61.23,
          70.31,
          100.24,
          83.91,
          92.99,
          56.7,
          77.11,
          83.91,
          61.23,
          61.23,
          77.11,
          70.31,
          92.99,
          70.31,
          83.91,
          61.23,
          65.77,
          61.23,
          70.31,
          70.31,
          70.31,
          65.77,
          61.23,
          65.77,
          65.77,
          65.77,
          77.11,
          83.91,
          70.31,
          56.7,
          115.21,
          117.93,
          61.23,
          52.16,
          77.11,
          77.11,
          92.99,
          83.91,
          61.23,
          65.77,
          61.23,
          61.23,
          70.31,
          70.31,
          70.31,
          83.91,
          77.11,
          77.11,
          70.31,
          70.31,
          92.99,
          61.23,
          142.88,
          56.7,
          92.99,
          61.23,
          65.77,
          83.91,
          65.77,
          70.31,
          70.31,
          52.16,
          70.31,
          77.11,
          65.77,
          77.11,
          52.16,
          70.31,
          112.94,
          70.31,
          56.7,
          97.52,
          83.91,
          56.7,
          77.11,
          61.23,
          92.99,
          83.91,
          61.23,
          90.72,
          119.75,
          83.91,
          77.11,
          92.99,
          77.11,
          56.7,
          52.16,
          77.11,
          61.23,
          65.77,
          77.11,
          70.31,
          70.31,
          92.99,
          79.38,
          77.11,
          52.16,
          77.11,
          70.31,
          83.91,
          65.77,
          61.23,
          70.31,
          61.23,
          52.16,
          77.11,
          61.23,
          70.31,
          83.91,
          92.99,
          61.23,
          77.11,
          61.23,
          56.7,
          56.7,
          65.77,
          52.16,
          77.11,
          52.16,
          65.77,
          61.23,
          77.11,
          92.99,
          83.91,
          61.23,
          52.16,
          61.23,
          61.23,
          83.91,
          77.11,
          61.23,
          83.91,
          61.23,
          61.23,
          77.11,
          83.91,
          61.23,
          65.77,
          77.11,
          77.11,
          52.16,
          120.2,
          65.77,
          70.31,
          70.31,
          70.31,
          61.23,
          61.23,
          52.16,
          70.31,
          63.05,
          77.11,
          77.11,
          69.85,
          65.77,
          61.23,
          56.7,
          102.06,
          70.31,
          61.23,
          77.11,
          61.23,
          65.77,
          120.2,
          70.31,
          61.23,
          65.77,
          70.31,
          61.23,
          56.7,
          83.91,
          61.23,
          70.31,
          77.11,
          56.7,
          52.16,
          56.7,
          70.31,
          92.99,
          65.77,
          56.7,
          70.31,
          56.7,
          83.91,
          77.11,
          83.91,
          77.11,
          65.77,
          83.91,
          83.91,
          113.4,
          56.7,
          83.91,
          65.77,
          65.77,
          70.31,
          111.58,
          77.11,
          65.77,
          115.67,
          83.91,
          61.23,
          99.79,
          56.7,
          92.99,
          99.34,
          65.77,
          61.23,
          70.31,
          70.31,
          61.23,
          70.31,
          92.99,
          83.91,
          56.7,
          83.91,
          70.31,
          56.7,
          83.91,
          92.99,
          70.31,
          77.11,
          70.31,
          83.91,
          77.11,
          70.31,
          65.77,
          70.31,
          83.91,
          61.23,
          63.05,
          61.23,
          70.31,
          56.7,
          92.99,
          77.11,
          70.31,
          65.77,
          83.91,
          76.2,
          83.91,
          52.16,
          112.04,
          92.99,
          70.31,
          70.31,
          70.31,
          83.91,
          92.99,
          61.23,
          56.7,
          65.77,
          56.7,
          77.11,
          65.77,
          70.31,
          117.03,
          99.79,
          52.16,
          56.7,
          61.23,
          52.16,
          83.91,
          106.59,
          77.11,
          90.26,
          70.31,
          65.77,
          70.31,
          65.77,
          92.99,
          83.91,
          92.99,
          83.91,
          77.11,
          76.2,
          61.23,
          61.23,
          65.77,
          86.18,
          77.11,
          56.7,
          52.16,
          83.91,
          83.91,
          77.11,
          70.31,
          52.16,
          104.33,
          61.23,
          65.77,
          61.23,
          61.23,
          113.4,
          70.31,
          83.91,
          83.91,
          61.23,
          61.23,
          77.11,
          77.11,
          61.23,
          61.23,
          65.77,
          77.11,
          70.31,
          92.99,
          56.7,
          77.11,
          77.11,
          77.11,
          56.7,
          61.23,
          65.77,
          61.23,
          70.31,
          108.86,
          61.23,
          92.99,
          107.05,
          65.77,
          92.99,
          83.91,
          70.31,
          65.77,
          111.13,
          77.11,
          92.99,
          56.7,
          61.23,
          77.11,
          77.11,
          56.7,
          56.7,
          61.23,
          83.91,
          61.23,
          61.23,
          70.31,
          63.05,
          56.7,
          65.77,
          70.31,
          52.16,
          83.01,
          92.99,
          77.11,
          65.77,
          61.23,
          61.23,
          70.31,
          83.91,
          52.16,
          77.11,
          92.99,
          77.11,
          120.2,
          77.11,
          70.31,
          61.23,
          61.23,
          109.77,
          83.91,
          70.31,
          92.99,
          92.99,
          83.91,
          61.23,
          65.77,
          61.23,
          70.31,
          77.11,
          56.7,
          52.16,
          65.77,
          70.31,
          114.76,
          56.7,
          70.31,
          70.31,
          70.31,
          77.11,
          56.7,
          65.77,
          83.91,
          61.23,
          65.77,
          83.91,
          70.31,
          83.91,
          65.77,
          120.2,
          65.77,
          56.7,
          83.91,
          56.7,
          77.11,
          70.31,
          70.31,
          77.11,
          61.23,
          65.77,
          65.77,
          92.99,
          61.23,
          77.11,
          61.23,
          65.77,
          83.91,
          92.99,
          65.77,
          65.77,
          61.23,
          83.91,
          61.23,
          83.91,
          65.77,
          65.77,
          65.77,
          111.13,
          56.7,
          65.77,
          65.77,
          77.11,
          92.99,
          83.91,
          83.01,
          65.77,
          61.23,
          99.79,
          52.16,
          83.91,
          77.11,
          70.31,
          70.31,
          77.11,
          70.31,
          65.77,
          77.11,
          77.11,
          112.94,
          77.11,
          65.77,
          70.31,
          83.91,
          61.23,
          56.7,
          112.49,
          65.77,
          83.91,
          77.11,
          83.91,
          92.99,
          56.7,
          92.99,
          70.31,
          56.7,
          77.11,
          70.31,
          92.99,
          70.31,
          83.91,
          92.99,
          65.77,
          120.2,
          65.77,
          70.31,
          83.91,
          77.11,
          65.77,
          52.16,
          77.11,
          77.11,
          83.91,
          77.11,
          83.91,
          92.99,
          56.7,
          61.23,
          77.11,
          61.23,
          117.93,
          56.7,
          61.23,
          92.99,
          83.91,
          77.11,
          77.11,
          83.91,
          65.77,
          77.11,
          70.31,
          102.06,
          90.72,
          70.31,
          56.7,
          65.77,
          92.99,
          56.7,
          65.77,
          83.91,
          111.13,
          52.16,
          65.77,
          77.11,
          70.31,
          61.23,
          83.91,
          56.7,
          65.77,
          56.7,
          83.91,
          113.4,
          106.59,
          61.23,
          92.99,
          92.99,
          61.23,
          83.01,
          83.91,
          92.99,
          56.7,
          83.91,
          83.91,
          56.7,
          83.91,
          70.31,
          83.91,
          77.11,
          70.31,
          92.99,
          56.7,
          70.31,
          70.31,
          77.11,
          61.23,
          70.31,
          52.16,
          65.77,
          70.31,
          92.99,
          120.2,
          61.23,
          70.31,
          83.91,
          77.11,
          111.13,
          117.03,
          65.77,
          92.99,
          61.23,
          120.66,
          90.72,
          77.11,
          61.23,
          70.31,
          61.23,
          77.11,
          56.7,
          70.31,
          70.31,
          70.31,
          92.99,
          70.31,
          61.23,
          56.7,
          70.31,
          113.4,
          77.11,
          108.86,
          65.77,
          61.23,
          77.11,
          61.23,
          65.77,
          52.16,
          70.31,
          56.7,
          70.31,
          77.11,
          52.16,
          56.7,
          92.99,
          88.45,
          61.23,
          61.23,
          70.31,
          77.11,
          77.11,
          120.2,
          92.99,
          70.31,
          56.7,
          77.11,
          77.11,
          92.99,
          77.11,
          70.31,
          83.91,
          61.23,
          77.11,
          61.23,
          174.63,
          70.31,
          70.31,
          65.77,
          65.77,
          52.16,
          65.77,
          77.11,
          70.31,
          92.99,
          92.99,
          70.31,
          56.7,
          77.11,
          61.23,
          77.11,
          70.31,
          70.31,
          52.16,
          61.23,
          65.77,
          61.23,
          56.7,
          65.77,
          65.77,
          104.33,
          52.16,
          83.91,
          77.11,
          92.99,
          69.85,
          56.7,
          70.31,
          56.7,
          63.05,
          56.7,
          77.11,
          56.7,
          92.99,
          65.77,
          61.23,
          56.7,
          83.91,
          83.91,
          70.31,
          65.77,
          77.11,
          56.7,
          104.33,
          56.7,
          113.4,
          65.77,
          61.23,
          52.16,
          70.31,
          61.23,
          77.11,
          52.16,
          61.23,
          83.91,
          83.91,
          65.77,
          92.99,
          92.99,
          83.91,
          70.31,
          77.11,
          83.91,
          65.77,
          76.2,
          77.11,
          77.11,
          52.16,
          77.11,
          65.77,
          61.23,
          61.23,
          65.77,
          61.23,
          92.99,
          65.77,
          70.31,
          61.23,
          77.11,
          65.77,
          77.11,
          77.11,
          70.31,
          65.77,
          65.77,
          77.11,
          61.23,
          77.11,
          83.91,
          77.11,
          65.77,
          56.7,
          70.31,
          70.31,
          77.11,
          77.11,
          52.16,
          61.23,
          56.7,
          56.7,
          92.99,
          83.91,
          77.11,
          65.77,
          77.11,
          77.11,
          61.23,
          70.31,
          52.16,
          83.01,
          77.11,
          65.77,
          65.77,
          77.11,
          61.23,
          120.2,
          70.31,
          52.16,
          92.99,
          65.77,
          56.7,
          77.11,
          77.11,
          70.31,
          61.23,
          77.11,
          70.31,
          65.77,
          77.11,
          70.31,
          83.91,
          65.77,
          56.7,
          61.23,
          56.7,
          65.77,
          65.77,
          83.91,
          77.11,
          52.16,
          56.7,
          61.23,
          65.77,
          65.77,
          70.31,
          83.91,
          65.77,
          65.77,
          70.31,
          92.99,
          56.7,
          83.91,
          61.23,
          61.23,
          61.23,
          56.7,
          83.91,
          77.11,
          61.23,
          70.31,
          61.23,
          77.11,
          61.23,
          77.11,
          56.7,
          56.7,
          83.91,
          52.16,
          108.86,
          56.7,
          52.16,
          70.31,
          52.16,
          61.23,
          52.16,
          77.11,
          83.91,
          52.16,
          77.11,
          77.11,
          120.2,
          56.7,
          70.31,
          65.77,
          65.77,
          77.11,
          70.31,
          92.99,
          77.11,
          56.7,
          65.77,
          77.11,
          77.11,
          56.7,
          61.23,
          56.7,
          61.23,
          52.16,
          70.31,
          77.11,
          70.31,
          77.11,
          70.31,
          70.31,
          70.31,
          61.23,
          70.31,
          106.59,
          56.7,
          92.99,
          52.16,
          52.16,
          77.11,
          61.23,
          61.23,
          61.23,
          61.23,
          61.23,
          56.7,
          70.31,
          83.91,
          83.91,
          92.99,
          120.2,
          70.31,
          83.91,
          61.23,
          77.11,
          70.31,
          65.77,
          61.23,
          115.67,
          52.16,
          92.99,
          83.91,
          61.23,
          65.77,
          70.31,
          70.31,
          52.16,
          108.86,
          61.23,
          104.33,
          61.23,
          56.7,
          83.91,
          77.11,
          65.77,
          61.23,
          83.91,
          77.11,
          77.11,
          61.23,
          61.23,
          52.16,
          70.31,
          92.99,
          65.77,
          113.4,
          92.99,
          83.91,
          70.31,
          61.23,
          77.11,
          77.11,
          70.31,
          70.31,
          52.16,
          112.94,
          70.31,
          77.11,
          61.23,
          77.11,
          77.11,
          113.4,
          61.23,
          56.7,
          77.11,
          92.99,
          61.23,
          83.91,
          83.91,
          77.11,
          56.7,
          56.7,
          61.23,
          61.23,
          61.23,
          70.31,
          56.7,
          83.91,
          61.23,
          92.99,
          83.91,
          120.2,
          112.04,
          92.99,
          61.23,
          65.77,
          106.59,
          65.77,
          92.99,
          56.7,
          70.31,
          65.77,
          61.23,
          61.23,
          92.99,
          113.4,
          70.31,
          61.23,
          56.7,
          65.77,
          77.11,
          117.93,
          61.23,
          92.99,
          61.23,
          61.23,
          77.11,
          61.23,
          65.77,
          83.91,
          65.77,
          119.29,
          70.31,
          77.11,
          92.99,
          107.95,
          83.91,
          52.16,
          92.99,
          83.91,
          52.16,
          120.2,
          56.7,
          70.31,
          77.11,
          92.99,
          83.91,
          56.7,
          99.79,
          70.31,
          83.91,
          113.4,
          65.77,
          104.33,
          70.31,
          61.23,
          83.91,
          83.91,
          77.11,
          70.31,
          65.77,
          56.7,
          92.99,
          70.31,
          92.99,
          null,
          120.2,
          111.58,
          92.99,
          83.91,
          58.97,
          61.23,
          70.31,
          109.77,
          null,
          92.99,
          65.77,
          61.23,
          70.31,
          56.7,
          70.31,
          76.2,
          77.11,
          70.31,
          70.31,
          92.99,
          65.77,
          108.86,
          83.91,
          83.91,
          56.7,
          110.22,
          77.11,
          70.31,
          108.86,
          52.16,
          92.99,
          65.77,
          92.99,
          109.77,
          null,
          56.7,
          70.31,
          70.31,
          115.67,
          77.11,
          65.77,
          65.77,
          70.31,
          56.7,
          56.7,
          119.75,
          null,
          56.7,
          77.11,
          92.99,
          65.77,
          56.7,
          70.31,
          83.91,
          95.25,
          70.31,
          77.11,
          86.18,
          92.99,
          136.08,
          83.91,
          83.91,
          61.23,
          56.7,
          95.25,
          65.77,
          70.31,
          65.77,
          70.31,
          61.23,
          null,
          92.99,
          70.31,
          77.11,
          77.11,
          77.11,
          65.77,
          65.77,
          70.31,
          63.05,
          65.77,
          56.7,
          65.77,
          70.31,
          77.11,
          70.31,
          83.91,
          61.23,
          111.13,
          56.7,
          86.18,
          70.31,
          52.16,
          92.99,
          92.99,
          65.77,
          83.91,
          70.31,
          113.85,
          56.7,
          70.31,
          65.77,
          124.74,
          56.7,
          70.31,
          61.23,
          61.23,
          83.91,
          102.06,
          92.99,
          92.99,
          56.7,
          120.2,
          61.23,
          83.91,
          52.16,
          70.31,
          83.91,
          61.23,
          106.59,
          61.23,
          83.91,
          61.23,
          61.23,
          90.72,
          65.77,
          56.7,
          104.33,
          83.91,
          77.11,
          56.7,
          null,
          83.91,
          61.23,
          77.11,
          83.91,
          92.99,
          65.77,
          83.91,
          86.18,
          92.99,
          70.31,
          106.59,
          56.7,
          70.31,
          92.99,
          61.23,
          61.23,
          77.11,
          61.23,
          92.99,
          52.16,
          83.91,
          81.65,
          104.33,
          70.31,
          65.77,
          65.77,
          65.77,
          65.77,
          92.99,
          88.45,
          61.23,
          122.47,
          56.7,
          83.91,
          77.11,
          83.91,
          61.23,
          83.91,
          92.99,
          61.23,
          120.2,
          65.77,
          83.91,
          77.11,
          83.91,
          83.91,
          83.91,
          117.93,
          92.99,
          77.11,
          77.11,
          69.85,
          92.99,
          70.31,
          65.77,
          77.11,
          77.11,
          65.77,
          77.11,
          83.91,
          158.76,
          83.91,
          61.23,
          70.31,
          83.91,
          90.26,
          52.16,
          77.11,
          65.77,
          92.99,
          108.86,
          103.42,
          70.31,
          61.23,
          70.31,
          69.85,
          88,
          92.99,
          83.91,
          61.23,
          77.11,
          83.91,
          70.31,
          61.23,
          56.7,
          77.11,
          61.23,
          115.67,
          83.91,
          77.11,
          83.91,
          70.31,
          61.23,
          65.77,
          63.05,
          null,
          83.91,
          70.31,
          97.52,
          70.31,
          83.91,
          72.57,
          102.51,
          70.31,
          87.54,
          70.31,
          92.99,
          56.7,
          77.11,
          83.91,
          77.11,
          83.91,
          65.77,
          61.23,
          65.77,
          61.23,
          108.86,
          112.04,
          61.23,
          92.99,
          92.99,
          70.31,
          70.31,
          56.7,
          61.23,
          92.99,
          77.11,
          83.91,
          92.99,
          null,
          83.91,
          65.77,
          77.11,
          88.45,
          65.77,
          83.91,
          65.77,
          56.7,
          70.31,
          120.2,
          77.11,
          70.31,
          70.31,
          120.2,
          92.99,
          92.99,
          70.31,
          61.23,
          70.31,
          99.79,
          92.99,
          65.77,
          70.31,
          70.31,
          118.84,
          70.31,
          92.99,
          83.91,
          92.99,
          77.11,
          70.31,
          70.31,
          52.16,
          70.31,
          52.16,
          61.23,
          76.2,
          70.31,
          77.11,
          null,
          61.23,
          77.11,
          83.91,
          52.16,
          70.31,
          83.91,
          70.31,
          70.31,
          92.99,
          83.91,
          56.7,
          65.77,
          120.2,
          null,
          90.26,
          83.01,
          77.11,
          56.7,
          61.23,
          56.7,
          65.77,
          77.11,
          120.2,
          86.18,
          69.85,
          83.91,
          null,
          61.23,
          92.99,
          83.91,
          92.99,
          77.11,
          70.31,
          92.99,
          65.77,
          77.11,
          77.11,
          61.23,
          77.11,
          null,
          52.16,
          92.99,
          70.31,
          109.77,
          52.16,
          65.77,
          65.77,
          56.7,
          92.99,
          61.23,
          83.91,
          120.2,
          65.77,
          92.99,
          70.31,
          70.31,
          77.11,
          120.2,
          106.59,
          56.7,
          77.11,
          65.77,
          61.23,
          104.33,
          77.11,
          77.11,
          61.23,
          70.31,
          92.99,
          77.11,
          90.72,
          92.99,
          77.11,
          83.91,
          83.91,
          56.7,
          83.91,
          92.99,
          104.33,
          70.31,
          77.11,
          120.2,
          83.91,
          65.77,
          77.11,
          92.99,
          77.11,
          120.2,
          65.77,
          70.31,
          77.11,
          120.2,
          97.52,
          63.05,
          65.77,
          115.67,
          65.77,
          null,
          86.18,
          70.31,
          124.74,
          92.99,
          122.47,
          65.77,
          99.79,
          99.79,
          77.11,
          77.11,
          77.11,
          null,
          77.11,
          77.11,
          77.11,
          70.31,
          52.16,
          77.11,
          65.77,
          56.7,
          65.77,
          102.06,
          77.11,
          92.99,
          56.7,
          null,
          65.77,
          83.91,
          65.77,
          86.18,
          77.11,
          92.99,
          114.76,
          104.33,
          77.11,
          77.11,
          77.11,
          65.77,
          56.7,
          77.11,
          77.11,
          92.99,
          61.23,
          52.16,
          70.31,
          92.99,
          97.52,
          null,
          61.23,
          77.11,
          null,
          65.77,
          70.31,
          70.31,
          80.74,
          77.11,
          92.99,
          65.77,
          65.77,
          65.77,
          65.77,
          120.2,
          92.99,
          70.31,
          119.29,
          65.77,
          116.57,
          56.7,
          56.7,
          92.99,
          83.91,
          65.77,
          92.99,
          77.11,
          104.33,
          70.31,
          70.31,
          92.99,
          65.77,
          77.11,
          83.91,
          70.31,
          83.91,
          70.31,
          77.11,
          113.4,
          92.99,
          90.72,
          77.11,
          65.77,
          70.31,
          58.97,
          104.33,
          99.79,
          70.31,
          83.91,
          69.85,
          77.11,
          83.91,
          90.72,
          61.23,
          92.99,
          null,
          92.99,
          92.99,
          null,
          77.11,
          61.23,
          63.05,
          70.31,
          70.31,
          83.91,
          70.31,
          77.11,
          90.72,
          77.11,
          77.11,
          77.11,
          70.31,
          83.91,
          92.99,
          77.11,
          70.31,
          65.77,
          null,
          77.11,
          83.91,
          83.91,
          120.2,
          77.11,
          124.74,
          56.7,
          65.77,
          77.11,
          70.31,
          124.74,
          92.99,
          104.33,
          65.77,
          61.23,
          70.31,
          83.91,
          70.31,
          61.23,
          95.25,
          61.23,
          92.99,
          null,
          92.99,
          77.11,
          65.77,
          83.91,
          83.91,
          77.11,
          56.7,
          70.31,
          65.77,
          70.31,
          83.91,
          70.31,
          70.31,
          90.72,
          70.31,
          83.91,
          56.7,
          70.31,
          65.77,
          56.7,
          77.11,
          61.23,
          120.2,
          77.11,
          65.77,
          120.2,
          83.91,
          65.77,
          61.23,
          151.95,
          92.99,
          77.11,
          56.7,
          92.99,
          83.91,
          null,
          77.11,
          83.91,
          92.99,
          61.23,
          70.31,
          77.11,
          70.31,
          146.51,
          83.91,
          77.11,
          92.99,
          92.99,
          111.13,
          65.77,
          77.11,
          70.31,
          108.86,
          77.11,
          56.7,
          69.85,
          77.11,
          77.11,
          65.77,
          52.16,
          65.77,
          null,
          65.77,
          113.4,
          65.77,
          77.11,
          61.23,
          70.31,
          65.77,
          61.23,
          61.23,
          70.31,
          83.91,
          83.91,
          122.47,
          77.11,
          83.91,
          61.23,
          65.77,
          70.31,
          92.99,
          72.57,
          null,
          61.23,
          56.7,
          92.99,
          65.77,
          106.59,
          65.77,
          113.4,
          65.77,
          77.11,
          70.31,
          77.11,
          108.86,
          92.99,
          99.79,
          92.99,
          92.99,
          92.99,
          65.77,
          56.7,
          61.23,
          70.31,
          65.77,
          102.06,
          67.59,
          97.52,
          65.77,
          61.23,
          65.77,
          52.16,
          77.11,
          114.76,
          92.99,
          65.77,
          70.31,
          70.31,
          70.31,
          77.11,
          61.23,
          83.91,
          56.7,
          69.85,
          86.18,
          77.11,
          61.23,
          77.11,
          97.52,
          83.91,
          92.99,
          65.77,
          61.23,
          124.74,
          83.91,
          83.91,
          92.99,
          77.11,
          61.23,
          97.52,
          83.91,
          65.77,
          119.75,
          70.31,
          61.23,
          56.7,
          83.91,
          113.4,
          77.11,
          61.23,
          92.99,
          83.91,
          83.91,
          65.77,
          52.16,
          70.31,
          83.01,
          90.26,
          61.23,
          61.23,
          77.11,
          113.4,
          117.93,
          61.23,
          56.7,
          52.16,
          77.11,
          61.23,
          65.77,
          83.91,
          56.7,
          70.31,
          77.11,
          70.31,
          77.11,
          77.11,
          104.33,
          92.99,
          70.31,
          61.23,
          65.77,
          null,
          92.99,
          70.31,
          70.31,
          117.93,
          117.93,
          70.31,
          120.2,
          56.7,
          65.77,
          61.23,
          92.99,
          92.99,
          83.91,
          77.11,
          77.11,
          61.23,
          61.23,
          63.05,
          61.23,
          70.31,
          106.59,
          83.91,
          61.23,
          108.86,
          null,
          83.01,
          77.11,
          83.91,
          52.16,
          77.11,
          77.11,
          92.99,
          83.91,
          77.11,
          65.77,
          70.31,
          106.59,
          92.99,
          70.31,
          null,
          77.11,
          112.49,
          117.93,
          90.72,
          83.91,
          83.91,
          65.77,
          120.2,
          99.79,
          70.31,
          56.7,
          null,
          61.23,
          61.23,
          83.91,
          52.16,
          77.11,
          92.99,
          70.31,
          93.89,
          null,
          102.06,
          70.31,
          70.31,
          70.31,
          111.13,
          83.91,
          92.99,
          90.26,
          77.11,
          70.31,
          64.86,
          77.11,
          null,
          65.77,
          92.99,
          83.91,
          70.31,
          70.31,
          92.99,
          77.11,
          56.7,
          61.23,
          65.77,
          56.7,
          83.91,
          65.77,
          70.31,
          108.41,
          83.91,
          102.06,
          61.23,
          70.31,
          70.31,
          108.86,
          113.4,
          92.99,
          92.99,
          77.11,
          70.31,
          156.49,
          70.31,
          77.11,
          77.11,
          77.11,
          56.7,
          77.11,
          119.75,
          77.11,
          83.91,
          77.11,
          70.31,
          77.11,
          92.99,
          95.25,
          null,
          83.91,
          77.11,
          83.91,
          77.11,
          70.31,
          92.99,
          77.11,
          92.99,
          77.11,
          83.91,
          65.77,
          70.31,
          70.31,
          83.91,
          83.91,
          56.7,
          122.47,
          65.77,
          92.99,
          61.23,
          83.91,
          92.99,
          61.23,
          83.91,
          61.23,
          70.31,
          65.77,
          92.99,
          null,
          83.91,
          61.23,
          92.99,
          70.31,
          70.31,
          120.2,
          65.77,
          64.86,
          95.25,
          108.86,
          83.91,
          92.99,
          null,
          61.23,
          70.31,
          70.31,
          120.2,
          103.87,
          70.31,
          92.99,
          52.16,
          56.7,
          70.31,
          70.31,
          117.93,
          61.23,
          77.11,
          83.01,
          83.91,
          77.11,
          129.73,
          77.11,
          70.31,
          117.93,
          77.11,
          65.77,
          61.23,
          77.11,
          92.99,
          77.11,
          52.16,
          83.91,
          null,
          61.23,
          97.52,
          70.31,
          116.57,
          195.04,
          56.7,
          83.91,
          70.31,
          61.23,
          120.2,
          83.91,
          115.67,
          77.11,
          83.91,
          70.31,
          61.23,
          61.23,
          65.77,
          102.06,
          77.11,
          70.31,
          120.2,
          56.7,
          61.23,
          77.11,
          56.7,
          65.77,
          61.23,
          92.99,
          88.45,
          83.91,
          77.11,
          90.72,
          70.31,
          61.23,
          77.11,
          65.77,
          120.2,
          77.11,
          56.7,
          56.7,
          83.91,
          99.79,
          77.11,
          92.99,
          65.77,
          70.31,
          83.91,
          85.28,
          77.11,
          61.23,
          65.77,
          77.11,
          65.77,
          92.99,
          70.31,
          56.7,
          80.74,
          77.11,
          92.99,
          61.23,
          52.16,
          92.99,
          70.31,
          77.11,
          92.99,
          116.57,
          83.91,
          72.57,
          104.33,
          90.72,
          77.11,
          70.31,
          120.2,
          81.65,
          65.77,
          70.31,
          70.31,
          65.77,
          92.99,
          83.91,
          83.91,
          83.91,
          61.23,
          70.31,
          70.31,
          113.4,
          92.99,
          83.91,
          83.91,
          56.7,
          83.91,
          181.44,
          74.84,
          70.31,
          null,
          92.99,
          70.31,
          83.91,
          92.99,
          52.16,
          83.91,
          83.91,
          77.11,
          83.91,
          77.11,
          92.99,
          92.99,
          92.99,
          65.77,
          56.7,
          108.86,
          null,
          52.16,
          61.23,
          83.91,
          92.99,
          83.91,
          92.99,
          77.11,
          83.91,
          115.21,
          52.16,
          70.31,
          136.08,
          61.23,
          83.91,
          83.91,
          70.31,
          61.23,
          111.13,
          111.13,
          65.77,
          70.31,
          70.31,
          null,
          108.86,
          92.99,
          98.43,
          77.11,
          76.2,
          120.2,
          61.23,
          null,
          117.93,
          77.11,
          77.11,
          56.7,
          52.16,
          92.99,
          null,
          124.74,
          47.63,
          77.11,
          102.06,
          83.91,
          61.23,
          61.23,
          77.11,
          97.52,
          56.7,
          113.4,
          61.23,
          77.11,
          92.99,
          69.85,
          65.77,
          110.22,
          77.11,
          77.11,
          101.6,
          86.18,
          56.7,
          61.23,
          113.85,
          83.91,
          65.77,
          61.23,
          72.57,
          null,
          70.31,
          77.11,
          70.31,
          70.31,
          70.31,
          109.77,
          77.11,
          108.86,
          77.11,
          77.11,
          65.77,
          56.7,
          77.11,
          83.91,
          77.11,
          null,
          99.79,
          52.16,
          77.11,
          56.7,
          83.91,
          176.9,
          null,
          77.11,
          65.77,
          70.31,
          77.11,
          106.59,
          92.99,
          70.31,
          56.7,
          83.91,
          70.31,
          61.23,
          83.91,
          65.77,
          83.91,
          92.99,
          70.31,
          61.23,
          65.77,
          77.11,
          77.11,
          null,
          70.31,
          61.23,
          null,
          65.77,
          70.31,
          113.4,
          83.91,
          83.91,
          70.31,
          70.31,
          61.23,
          61.23,
          133.81,
          111.13,
          null,
          92.99,
          null,
          70.31,
          null,
          77.11,
          77.11,
          92.99,
          56.7,
          76.2,
          70.31,
          83.91,
          61.23,
          65.77,
          70.31,
          70.31,
          70.31,
          83.91,
          83.91,
          158.76,
          70.31,
          65.77,
          61.23,
          65.77,
          61.23,
          52.16,
          83.91,
          61.23,
          65.77,
          70.31,
          61.23,
          65.77,
          null,
          70.31,
          56.7,
          83.91,
          null,
          70.31,
          61.23,
          92.99,
          61.23,
          111.13,
          65.77,
          92.99,
          102.06,
          99.79,
          120.2,
          109.77,
          108.86,
          77.11,
          70.31,
          111.58,
          56.7,
          77.11,
          56.7,
          83.91,
          52.16,
          56.7,
          70.31,
          83.91,
          61.23,
          70.31,
          70.31,
          74.84,
          83.91,
          92.99,
          69.85,
          70.31,
          92.99,
          65.77,
          null,
          61.23,
          70.31,
          52.16,
          56.7,
          92.99,
          88.9,
          56.7,
          61.23,
          83.91,
          70.31,
          56.7,
          70.31,
          70.31,
          61.23,
          83.91,
          106.59,
          77.11,
          90.26,
          70.31,
          89.36,
          56.7,
          65.77,
          61.23,
          77.11,
          107.05,
          110.22,
          83.91,
          77.11,
          70.31,
          77.11,
          56.7,
          90.26,
          null,
          77.11,
          65.77,
          83.91,
          99.79,
          65.77,
          90.72,
          65.77,
          65.77,
          null,
          70.31,
          104.33,
          106.59,
          83.91,
          56.7,
          75.75,
          56.7,
          92.99,
          70.31,
          102.06,
          136.08,
          83.91,
          70.31,
          61.23,
          null,
          83.91,
          77.11,
          68.04,
          83.91,
          113.4,
          70.31,
          70.31,
          102.06,
          65.77,
          83.91,
          95.25,
          70.31,
          92.99,
          70.31,
          47.63,
          52.16,
          65.77,
          65.77,
          74.84,
          65.77,
          52.16,
          65.77,
          77.11,
          77.11,
          83.91,
          77.11,
          70.31,
          70.31,
          70.31,
          65.77,
          65.77,
          83.91,
          70.31,
          77.11,
          52.16,
          77.11,
          61.23,
          77.11,
          77.11,
          83.91,
          65.77,
          56.7,
          65.77,
          70.31,
          131.54,
          52.16,
          102.06,
          61.23,
          97.98,
          106.59,
          77.11,
          120.2,
          120.2,
          120.2,
          70.31,
          95.25,
          65.77,
          97.98,
          92.99,
          65.77,
          61.23,
          61.23,
          106.59,
          77.11,
          56.7,
          72.57,
          null,
          61.23,
          56.7,
          65.77,
          61.23,
          70.31,
          65.77,
          83.91,
          113.4,
          61.23,
          61.23,
          70.31,
          70.31,
          77.11,
          70.31,
          181.44,
          92.99,
          56.7,
          63.05,
          70.31,
          77.11,
          92.99,
          56.7,
          120.2,
          70.31,
          92.99,
          77.11,
          83.91,
          113.4,
          65.77,
          77.11,
          65.77,
          83.91,
          70.31,
          70.31,
          61.23,
          83.91,
          70.31,
          83.91,
          77.11,
          90.72,
          null,
          70.31,
          107.95,
          83.91,
          65.77,
          70.31,
          77.11,
          77.11,
          70.31,
          77.11,
          83.91,
          70.31,
          70.31,
          61.23,
          70.31,
          70.31,
          null,
          70.31,
          83.91,
          92.99,
          56.7,
          77.11,
          95.25,
          70.31,
          112.94,
          61.23,
          70.31,
          56.7,
          79.38,
          65.77,
          99.79,
          61.23,
          83.91,
          92.99,
          65.77,
          null,
          77.11,
          70.31,
          110.22,
          92.99,
          70.31,
          109.77,
          92.99,
          106.59,
          70.31,
          56.7,
          111.13,
          117.93,
          90.72,
          61.23,
          70.31,
          72.57,
          120.2,
          null,
          70.31,
          77.11,
          92.99,
          61.23,
          52.16,
          83.91,
          70.31,
          77.11,
          88.45,
          77.11,
          65.77,
          61.23,
          83.91,
          140.61,
          61.23,
          74.84,
          65.77,
          104.33,
          56.7,
          null,
          65.77,
          83.91,
          56.7,
          65.77,
          95.25,
          120.2,
          52.16,
          108.86,
          77.11,
          97.52,
          110.22,
          70.31,
          70.31,
          83.91,
          65.77,
          77.11,
          56.7,
          65.77,
          52.16,
          77.11,
          77.11,
          77.11,
          88.9,
          92.99,
          83.91,
          77.11,
          65.77,
          136.08,
          92.99,
          92.99,
          70.31,
          65.77,
          56.7,
          92.99,
          65.77,
          83.91,
          61.23,
          65.77,
          61.23,
          77.11,
          92.99,
          83.91,
          77.11,
          61.23,
          70.31,
          83.91,
          83.91,
          61.23,
          70.31,
          70.31,
          77.11,
          61.23,
          77.11,
          65.77,
          61.23,
          61.23,
          92.99,
          77.11,
          120.2,
          70.31,
          58.97,
          70.31,
          81.65,
          108.86,
          77.11,
          65.77,
          90.72,
          120.2,
          56.7,
          null,
          83.91,
          56.7,
          61.23,
          52.16,
          83.91,
          61.23,
          70.31,
          61.23,
          83.91,
          77.11,
          56.7,
          77.11,
          56.7,
          92.99,
          61.23,
          70.31,
          83.91,
          77.11,
          70.31,
          102.06,
          92.99,
          77.11,
          104.33,
          61.23,
          61.23,
          92.99,
          111.13,
          92.99,
          61.23,
          65.77,
          81.65,
          65.77,
          77.11,
          70.31,
          83.91,
          97.52,
          77.11,
          92.99,
          65.77,
          70.31,
          70.31,
          null,
          61.23,
          88.45,
          88.45,
          61.23,
          77.11,
          108.86,
          77.11,
          77.11,
          70.31,
          77.11,
          113.4,
          77.11,
          65.77,
          70.31,
          null,
          120.2,
          77.11,
          99.79,
          70.31,
          56.7,
          92.99,
          77.11,
          77.11,
          92.99,
          null,
          83.91,
          61.23,
          null,
          90.26,
          70.31,
          99.79,
          61.23,
          65.77,
          70.31,
          92.99,
          61.23,
          52.16,
          65.77,
          65.77,
          111.13,
          77.11,
          65.77,
          77.11,
          83.91,
          83.91,
          70.31,
          92.99,
          92.99,
          61.23,
          77.11,
          109.32,
          null,
          70.31,
          null,
          109.32,
          77.11,
          56.7,
          65.77,
          70.31,
          92.99,
          61.23,
          52.16,
          63.05,
          61.23,
          77.11,
          77.11,
          83.91,
          56.7,
          56.7,
          77.11,
          65.77,
          77.11,
          111.13,
          61.23,
          70.31,
          65.77,
          65.77,
          102.06,
          83.91,
          73.03,
          83.91,
          68.04,
          70.31,
          83.91,
          61.23,
          65.77,
          70.31,
          70.31,
          70.31,
          77.11,
          83.91,
          65.77,
          70.31,
          61.23,
          83.91,
          52.16,
          73.03,
          65.77,
          56.7,
          77.11,
          56.7,
          83.91,
          61.23,
          106.59,
          52.16,
          null,
          83.91,
          83.91,
          65.77,
          83.91,
          79.38,
          92.99,
          70.31,
          119.75,
          65.77,
          70.31,
          77.11,
          83.91,
          110.68,
          102.06,
          92.99,
          86.18,
          77.11,
          61.23,
          61.23,
          65.77,
          56.7,
          70.31,
          92.99,
          86.18,
          104.33,
          83.91,
          70.31,
          56.7,
          70.31,
          77.11,
          70.31,
          70.31,
          83.91,
          117.93,
          110.68,
          70.31,
          83.91,
          95.25,
          116.57,
          56.7,
          83.91,
          null,
          102.06,
          52.16,
          70.31,
          77.11,
          70.31,
          83.91,
          77.11,
          96.16,
          65.77,
          65.77,
          70.31,
          56.7,
          77.11,
          56.7,
          61.23,
          70.31,
          56.7,
          77.11,
          92.99,
          77.11,
          56.7,
          83.91,
          70.31,
          83.91,
          56.7,
          70.31,
          61.23,
          77.11,
          52.16,
          77.11,
          null,
          92.99,
          77.11,
          92.99,
          120.2,
          56.7,
          65.77,
          92.99,
          92.99,
          56.7,
          88.45,
          77.11,
          61.23,
          null,
          null,
          70.31,
          51.26,
          70.31,
          104.33,
          65.77,
          65.77,
          117.48,
          83.91,
          70.31,
          83.91,
          77.11,
          70.31,
          92.99,
          77.11,
          69.85,
          83.91,
          70.31,
          77.11,
          56.7,
          119.75,
          61.23,
          92.99,
          70.31,
          119.75,
          120.2,
          61.23,
          70.31,
          52.16,
          70.31,
          110.68,
          70.31,
          92.99,
          70.31,
          83.91,
          65.77,
          61.23,
          90.72,
          83.91,
          61.23,
          77.11,
          70.31,
          65.77,
          null,
          61.23,
          61.23,
          83.91,
          65.77,
          61.23,
          77.11,
          120.2,
          77.11,
          70.31,
          77.11,
          102.06,
          70.31,
          70.31,
          77.11,
          61.23,
          70.31,
          61.23,
          61.23,
          77.11,
          83.91,
          92.99,
          77.11,
          61.23,
          null,
          83.91,
          64.86,
          106.59,
          83.91,
          92.99,
          92.99,
          99.79,
          65.77,
          131.54,
          65.77,
          65.77,
          70.31,
          61.23,
          70.31,
          70.31,
          61.23,
          70.31,
          77.11,
          70.31,
          109.77,
          92.99,
          70.31,
          120.2,
          92.99,
          52.16,
          92.99,
          108.86,
          92.99,
          111.13,
          61.23,
          52.16,
          81.65,
          83.91,
          92.99,
          61.23,
          83.91,
          70.31,
          83.91,
          77.11,
          83.91,
          92.99,
          84.37,
          61.23,
          61.23,
          65.77,
          70.31,
          61.23,
          70.31,
          83.91,
          70.31,
          83.91,
          92.99,
          70.31,
          83.91,
          77.11,
          70.31,
          52.16,
          92.99,
          77.11,
          77.11,
          65.77,
          83.91,
          83.91,
          61.23,
          76.2,
          52.16,
          61.23,
          70.31,
          90.26,
          83.91,
          70.31,
          92.99,
          70.31,
          110.22,
          102.06,
          83.91,
          120.2,
          92.99,
          70.31,
          83.91,
          77.11,
          58.97,
          52.16,
          61.23,
          70.31,
          61.23,
          77.11,
          77.11,
          56.7,
          77.11,
          131.54,
          65.77,
          77.11,
          92.99,
          77.11,
          117.93,
          56.7,
          70.31,
          77.11,
          72.57,
          77.11,
          77.11,
          65.77,
          63.05,
          56.7,
          99.79,
          83.91,
          77.11,
          92.99,
          65.77,
          56.7,
          92.99,
          83.91,
          97.52,
          56.7,
          117.93,
          83.91,
          92.99,
          77.11,
          65.77,
          83.91,
          120.2,
          65.77,
          61.23,
          145.15,
          90.72,
          92.99,
          null,
          70.31,
          107.95,
          65.77,
          92.99,
          117.93,
          65.77,
          56.7,
          92.99,
          117.93,
          92.99,
          65.77,
          70.31,
          56.7,
          61.23,
          83.91,
          70.31,
          61.23,
          83.91,
          70.31,
          83.91,
          83.91,
          65.77,
          65.77,
          83.91,
          77.11,
          70.31,
          76.2,
          82.1,
          92.99,
          61.23,
          65.77,
          68.04,
          70.31,
          65.77,
          92.99,
          52.16,
          104.33,
          77.11,
          65.77,
          77.11,
          174.63,
          185.97,
          83.91,
          70.31,
          70.31,
          65.77,
          70.31,
          83.91,
          149.69,
          129.27,
          119.29,
          70.31,
          92.99,
          83.91,
          156.49,
          97.52,
          95.25,
          117.93,
          77.11,
          107.5,
          77.11,
          70.31,
          92.99,
          61.23,
          70.31,
          61.23,
          77.11,
          56.7,
          83.91,
          102.06,
          61.23,
          77.11,
          null,
          null,
          70.31,
          70.31,
          92.99,
          83.91,
          77.11,
          52.16,
          83.91,
          70.31,
          77.11,
          104.33,
          61.23,
          92.99,
          61.23,
          117.93,
          61.23,
          61.23,
          56.7,
          83.91,
          61.23,
          77.11,
          65.77,
          77.11,
          77.11,
          83.91,
          106.59,
          65.77,
          108.41,
          77.11,
          77.11,
          83.91,
          77.11,
          61.23,
          92.99,
          77.11,
          77.11,
          83.91,
          77.11,
          61.23,
          70.31,
          83.91,
          92.99,
          61.23,
          108.86,
          56.7,
          70.31,
          72.57,
          56.7,
          70.31,
          null,
          65.77,
          77.11,
          70.31,
          92.99,
          109.77,
          61.23,
          86.18,
          80.74,
          92.99,
          70.31,
          90.72,
          115.67,
          77.11,
          61.23,
          111.13,
          77.11,
          61.23,
          70.31,
          65.77,
          70.31,
          105.69,
          83.91,
          61.23,
          92.99,
          77.11,
          77.11,
          77.11,
          70.31,
          70.31,
          92.99,
          70.31,
          92.99,
          77.11,
          83.91,
          127.01,
          61.23,
          83.91,
          77.11,
          77.11,
          61.23,
          65.77,
          115.67,
          92.99,
          77.11,
          65.77,
          65.77,
          77.11,
          83.91,
          77.11,
          92.99,
          99.79,
          77.11,
          83.91,
          65.77,
          81.65,
          65.77,
          117.93,
          70.31,
          90.72,
          77.11,
          83.91,
          null,
          90.26,
          65.77,
          61.23,
          83.91,
          113.4,
          65.77,
          52.16,
          70.31,
          83.91,
          65.77,
          108.86,
          61.23,
          77.11,
          61.23,
          83.91,
          70.31,
          65.77,
          70.31,
          92.99,
          61.23,
          83.91,
          65.77,
          111.13,
          65.77,
          133.81,
          77.11,
          56.7,
          52.16,
          111.13,
          77.11,
          70.31,
          null,
          56.7,
          61.23,
          61.23,
          null,
          92.99,
          65.77,
          92.99,
          83.91,
          61.23,
          120.2,
          56.7,
          102.06,
          83.91,
          61.23,
          69.85,
          65.77,
          120.2,
          99.79,
          92.99,
          65.77,
          106.59,
          92.99,
          65.77,
          77.11,
          56.7,
          65.77,
          70.31,
          56.7,
          77.11,
          70.31,
          61.23,
          83.91,
          108.86,
          115.67,
          83.91,
          92.99,
          120.2,
          77.11,
          70.31,
          65.77,
          65.77,
          null,
          83.91,
          65.77,
          113.4,
          92.99,
          92.99,
          92.99,
          83.91,
          106.59,
          77.11,
          119.75,
          70.31,
          83.91,
          70.31,
          83.91,
          102.97,
          77.11,
          83.91,
          92.99,
          61.23,
          77.11,
          70.31,
          65.77,
          70.31,
          111.13,
          70.31,
          115.67,
          61.23,
          77.11,
          null,
          70.31,
          77.11,
          70.31,
          65.77,
          92.99,
          61.23,
          56.7,
          349.27,
          77.11,
          63.05,
          76.2,
          92.99,
          65.77,
          69.85,
          null,
          70.31,
          77.11,
          56.7,
          61.23,
          83.91,
          117.93,
          89.81,
          120.2,
          108.86,
          97.52,
          77.11,
          65.77,
          77.11,
          null,
          70.31,
          83.91,
          65.77,
          92.99,
          83.91,
          61.23,
          83.91,
          115.67,
          92.99,
          77.11,
          61.23,
          56.7,
          70.31,
          77.11,
          83.91,
          106.59,
          70.31,
          77.11,
          83.91,
          52.16
         ],
         "xaxis": "x",
         "y": [
          7,
          15,
          13,
          7,
          8,
          9,
          5,
          4,
          9,
          12,
          9,
          5,
          9,
          26,
          6,
          14,
          8,
          16,
          7,
          7,
          13,
          3,
          6,
          6,
          7,
          6,
          29,
          9,
          8,
          6,
          18,
          4,
          16,
          10,
          4,
          7,
          5,
          8,
          11,
          1,
          14,
          11,
          14,
          0,
          15,
          30,
          4,
          1,
          2,
          4,
          9,
          23,
          13,
          6,
          20,
          6,
          11,
          39,
          6,
          5,
          11,
          3,
          23,
          10,
          8,
          10,
          19,
          10,
          10,
          6,
          15,
          18,
          10,
          5,
          10,
          16,
          12,
          6,
          30,
          12,
          6,
          16,
          8,
          6,
          45,
          6,
          17,
          21,
          8,
          16,
          3,
          6,
          15,
          25,
          17,
          21,
          5,
          24,
          2,
          19,
          1,
          17,
          12,
          13,
          39,
          10,
          11,
          6,
          8,
          15,
          20,
          10,
          6,
          14,
          7,
          20,
          3,
          7,
          12,
          17,
          15,
          7,
          18,
          8,
          7,
          8,
          5,
          2,
          16,
          14,
          28,
          14,
          0,
          11,
          5,
          6,
          5,
          5,
          10,
          13,
          15,
          15,
          4,
          12,
          10,
          11,
          38,
          11,
          16,
          8,
          18,
          11,
          31,
          0,
          9,
          14,
          9,
          8,
          37,
          8,
          1,
          8,
          19,
          9,
          0,
          0,
          9,
          2,
          10,
          11,
          4,
          14,
          21,
          9,
          6,
          10,
          8,
          18,
          5,
          8,
          16,
          20,
          5,
          17,
          26,
          17,
          13,
          1,
          34,
          30,
          10,
          13,
          7,
          9,
          10,
          9,
          38,
          12,
          14,
          8,
          37,
          15,
          3,
          8,
          23,
          15,
          10,
          45,
          7,
          7,
          28,
          6,
          6,
          8,
          8,
          11,
          8,
          7,
          14,
          17,
          16,
          14,
          12,
          20,
          18,
          21,
          11,
          11,
          26,
          11,
          20,
          17,
          25,
          24,
          8,
          34,
          31,
          10,
          15,
          51,
          24,
          9,
          15,
          6,
          11,
          34,
          37,
          30,
          15,
          11,
          10,
          19,
          11,
          12,
          14,
          8,
          11,
          15,
          42,
          20,
          9,
          11,
          11,
          14,
          5,
          12,
          6,
          33,
          12,
          29,
          14,
          19,
          10,
          10,
          13,
          5,
          36,
          12,
          13,
          13,
          18,
          11,
          14,
          8,
          53,
          21,
          11,
          9,
          0,
          40,
          7,
          13,
          7,
          30,
          10,
          8,
          5,
          16,
          8,
          33,
          19,
          42,
          4,
          8,
          7,
          6,
          22,
          16,
          5,
          5,
          6,
          8,
          4,
          11,
          2,
          12,
          28,
          17,
          10,
          15,
          9,
          15,
          9,
          6,
          7,
          17,
          21,
          25,
          20,
          7,
          9,
          35,
          20,
          9,
          20,
          18,
          12,
          19,
          8,
          10,
          7,
          18,
          4,
          18,
          3,
          21,
          8,
          26,
          4,
          60,
          23,
          18,
          8,
          6,
          14,
          11,
          36,
          5,
          28,
          3,
          11,
          60,
          13,
          11,
          12,
          9,
          6,
          8,
          23,
          10,
          11,
          5,
          3,
          4,
          17,
          16,
          12,
          12,
          31,
          14,
          14,
          36,
          9,
          8,
          27,
          8,
          8,
          12,
          9,
          21,
          14,
          28,
          23,
          15,
          17,
          3,
          5,
          14,
          2,
          12,
          12,
          23,
          21,
          17,
          8,
          12,
          9,
          0,
          33,
          15,
          20,
          7,
          15,
          3,
          26,
          25,
          14,
          17,
          8,
          31,
          22,
          7,
          8,
          23,
          9,
          12,
          16,
          18,
          44,
          14,
          22,
          17,
          18,
          20,
          24,
          8,
          17,
          16,
          24,
          16,
          29,
          16,
          8,
          18,
          4,
          10,
          17,
          10,
          15,
          13,
          16,
          18,
          14,
          5,
          17,
          19,
          27,
          27,
          17,
          0,
          21,
          13,
          35,
          5,
          13,
          16,
          6,
          13,
          10,
          11,
          14,
          11,
          14,
          12,
          10,
          8,
          20,
          21,
          23,
          16,
          10,
          17,
          14,
          20,
          20,
          18,
          10,
          21,
          6,
          23,
          16,
          13,
          35,
          13,
          5,
          7,
          8,
          13,
          9,
          9,
          10,
          17,
          14,
          13,
          21,
          14,
          13,
          14,
          30,
          28,
          22,
          26,
          21,
          14,
          11,
          19,
          13,
          13,
          4,
          6,
          11,
          10,
          11,
          22,
          18,
          13,
          18,
          14,
          11,
          9,
          10,
          8,
          11,
          17,
          22,
          20,
          12,
          8,
          22,
          10,
          22,
          12,
          24,
          19,
          32,
          26,
          26,
          10,
          20,
          22,
          14,
          10,
          36,
          22,
          11,
          10,
          12,
          12,
          11,
          9,
          22,
          13,
          23,
          10,
          6,
          15,
          20,
          17,
          23,
          16,
          9,
          10,
          4,
          15,
          13,
          35,
          12,
          24,
          1,
          18,
          35,
          17,
          36,
          9,
          15,
          8,
          17,
          12,
          5,
          1,
          18,
          7,
          16,
          21,
          14,
          20,
          20,
          24,
          13,
          75,
          10,
          5,
          12,
          31,
          7,
          36,
          10,
          36,
          17,
          19,
          14,
          13,
          15,
          8,
          12,
          9,
          15,
          29,
          14,
          30,
          26,
          8,
          12,
          9,
          17,
          10,
          45,
          15,
          6,
          20,
          28,
          9,
          16,
          6,
          11,
          5,
          19,
          15,
          20,
          17,
          24,
          15,
          17,
          10,
          45,
          23,
          24,
          17,
          26,
          15,
          34,
          12,
          10,
          19,
          21,
          5,
          12,
          6,
          17,
          23,
          42,
          26,
          15,
          11,
          4,
          8,
          9,
          14,
          18,
          29,
          19,
          16,
          24,
          14,
          10,
          91,
          28,
          13,
          21,
          12,
          10,
          36,
          34,
          9,
          29,
          11,
          18,
          4,
          27,
          8,
          7,
          7,
          8,
          13,
          9,
          10,
          10,
          20,
          19,
          32,
          19,
          13,
          12,
          16,
          10,
          13,
          15,
          21,
          6,
          9,
          1,
          16,
          24,
          10,
          8,
          14,
          12,
          7,
          11,
          6,
          16,
          17,
          7,
          2,
          7,
          6,
          4,
          5,
          11,
          11,
          1,
          3,
          53,
          23,
          9,
          15,
          5,
          9,
          28,
          8,
          14,
          25,
          21,
          19,
          2,
          8,
          5,
          26,
          21,
          15,
          12,
          9,
          9,
          27,
          16,
          17,
          16,
          5,
          26,
          9,
          14,
          6,
          25,
          10,
          16,
          10,
          6,
          18,
          6,
          25,
          10,
          5,
          9,
          8,
          12,
          7,
          7,
          2,
          39,
          10,
          10,
          28,
          6,
          13,
          10,
          7,
          5,
          5,
          14,
          9,
          10,
          15,
          6,
          12,
          14,
          8,
          8,
          26,
          26,
          11,
          15,
          11,
          26,
          13,
          18,
          17,
          20,
          10,
          15,
          21,
          10,
          10,
          13,
          14,
          16,
          10,
          9,
          19,
          22,
          19,
          12,
          12,
          18,
          17,
          13,
          8,
          11,
          23,
          26,
          11,
          18,
          16,
          15,
          5,
          19,
          23,
          10,
          16,
          10,
          19,
          7,
          12,
          9,
          19,
          12,
          12,
          18,
          33,
          19,
          28,
          8,
          16,
          5,
          6,
          26,
          16,
          12,
          21,
          24,
          20,
          21,
          10,
          13,
          11,
          8,
          19,
          9,
          10,
          20,
          19,
          13,
          20,
          10,
          6,
          21,
          26,
          11,
          26,
          16,
          11,
          13,
          8,
          12,
          35,
          14,
          24,
          16,
          16,
          34,
          19,
          25,
          33,
          11,
          16,
          6,
          17,
          17,
          23,
          15,
          14,
          13,
          16,
          23,
          12,
          13,
          21,
          20,
          14,
          15,
          10,
          29,
          23,
          15,
          14,
          7,
          7,
          19,
          11,
          23,
          17,
          11,
          10,
          10,
          19,
          35,
          12,
          14,
          21,
          12,
          9,
          12,
          9,
          10,
          8,
          9,
          28,
          13,
          15,
          9,
          1,
          18,
          34,
          8,
          9,
          8,
          35,
          18,
          8,
          22,
          5,
          14,
          21,
          22,
          9,
          7,
          8,
          7,
          4,
          18,
          7,
          30,
          14,
          9,
          19,
          24,
          5,
          15,
          21,
          12,
          13,
          7,
          11,
          14,
          35,
          11,
          10,
          12,
          31,
          22,
          12,
          24,
          18,
          22,
          12,
          47,
          21,
          12,
          17,
          16,
          17,
          18,
          18,
          13,
          17,
          17,
          20,
          20,
          16,
          15,
          9,
          20,
          22,
          21,
          7,
          14,
          16,
          12,
          16,
          21,
          13,
          3,
          23,
          8,
          29,
          15,
          9,
          11,
          8,
          18,
          12,
          8,
          27,
          19,
          17,
          12,
          10,
          12,
          15,
          17,
          8,
          21,
          15,
          10,
          28,
          12,
          15,
          7,
          11,
          9,
          11,
          11,
          13,
          15,
          12,
          7,
          8,
          7,
          19,
          20,
          16,
          11,
          13,
          13,
          24,
          18,
          19,
          14,
          18,
          17,
          11,
          9,
          10,
          37,
          2,
          22,
          17,
          5,
          15,
          13,
          15,
          17,
          18,
          12,
          35,
          20,
          42,
          11,
          19,
          18,
          15,
          26,
          14,
          4,
          7,
          10,
          60,
          7,
          18,
          9,
          22,
          26,
          19,
          11,
          13,
          19,
          28,
          11,
          8,
          13,
          21,
          14,
          14,
          9,
          7,
          12,
          44,
          15,
          23,
          13,
          9,
          14,
          38,
          15,
          17,
          17,
          21,
          16,
          14,
          23,
          15,
          11,
          17,
          2,
          25,
          9,
          4,
          14,
          23,
          26,
          21,
          8,
          13,
          9,
          26,
          7,
          31,
          12,
          10,
          12,
          14,
          23,
          10,
          6,
          22,
          9,
          10,
          28,
          12,
          23,
          35,
          12,
          15,
          17,
          19,
          13,
          9,
          22,
          14,
          27,
          18,
          11,
          25,
          8,
          29,
          25,
          16,
          20,
          9,
          11,
          17,
          23,
          16,
          16,
          32,
          22,
          23,
          16,
          16,
          29,
          12,
          12,
          21,
          20,
          23,
          26,
          13,
          15,
          25,
          22,
          11,
          8,
          10,
          19,
          29,
          9,
          6,
          10,
          19,
          22,
          14,
          17,
          13,
          7,
          16,
          17,
          14,
          11,
          12,
          9,
          18,
          28,
          10,
          20,
          12,
          15,
          11,
          8,
          14,
          14,
          21,
          13,
          16,
          8,
          11,
          13,
          21,
          7,
          13,
          18,
          11,
          7,
          23,
          14,
          13,
          5,
          11,
          4,
          9,
          4,
          18,
          13,
          33,
          8,
          13,
          15,
          18,
          55,
          8,
          8,
          21,
          15,
          15,
          9,
          9,
          22,
          8,
          14,
          9,
          24,
          36,
          10,
          12,
          12,
          14,
          19,
          34,
          18,
          21,
          15,
          60,
          8,
          6,
          9,
          8,
          10,
          23,
          23,
          20,
          34,
          8,
          14,
          17,
          7,
          6,
          28,
          15,
          18,
          34,
          12,
          27,
          27,
          15,
          19,
          12,
          7,
          26,
          15,
          17,
          20,
          11,
          15,
          21,
          17,
          35,
          9,
          9,
          1,
          8,
          5,
          14,
          14,
          25,
          20,
          6,
          11,
          35,
          21,
          30,
          13,
          4,
          23,
          8,
          9,
          19,
          16,
          10,
          13,
          10,
          17,
          5,
          12,
          9,
          11,
          17,
          7,
          27,
          13,
          14,
          13,
          15,
          17,
          16,
          16,
          34,
          10,
          15,
          13,
          21,
          20,
          9,
          3,
          19,
          16,
          12,
          5,
          15,
          22,
          16,
          11,
          18,
          20,
          6,
          9,
          29,
          18,
          18,
          13,
          7,
          13,
          8,
          21,
          19,
          8,
          23,
          17,
          18,
          14,
          14,
          28,
          15,
          3,
          9,
          12,
          12,
          8,
          25,
          10,
          24,
          6,
          35,
          9,
          28,
          5,
          20,
          15,
          19,
          6,
          11,
          20,
          17,
          22,
          10,
          28,
          13,
          24,
          11,
          15,
          18,
          14,
          11,
          10,
          25,
          14,
          12,
          20,
          10,
          11,
          15,
          25,
          36,
          10,
          23,
          17,
          11,
          23,
          21,
          14,
          17,
          10,
          17,
          17,
          31,
          39,
          9,
          14,
          8,
          19,
          15,
          12,
          24,
          18,
          23,
          10,
          24,
          5,
          2,
          13,
          22,
          13,
          29,
          24,
          21,
          14,
          23,
          18,
          27,
          10,
          9,
          21,
          13,
          16,
          18,
          16,
          7,
          14,
          8,
          16,
          7,
          27,
          12,
          35,
          11,
          32,
          22,
          14,
          15,
          15,
          31,
          13,
          13,
          16,
          28,
          8,
          10,
          18,
          20,
          13,
          13,
          9,
          24,
          17,
          28,
          15,
          17,
          18,
          17,
          14,
          10,
          14,
          12,
          23,
          18,
          11,
          11,
          7,
          22,
          16,
          29,
          12,
          17,
          12,
          5,
          16,
          11,
          38,
          12,
          24,
          8,
          18,
          5,
          18,
          23,
          19,
          9,
          8,
          18,
          13,
          20,
          10,
          25,
          35,
          23,
          15,
          13,
          22,
          17,
          23,
          19,
          13,
          14,
          8,
          8,
          15,
          11,
          15,
          14,
          6,
          8,
          12,
          20,
          12,
          18,
          23,
          16,
          11,
          34,
          13,
          14,
          7,
          24,
          25,
          6,
          20,
          21,
          23,
          13,
          9,
          10,
          29,
          18,
          8,
          19,
          28,
          9,
          17,
          16,
          10,
          17,
          15,
          21,
          15,
          22,
          9,
          9,
          11,
          17,
          17,
          14,
          6,
          20,
          16,
          10,
          7,
          23,
          16,
          30,
          17,
          22,
          10,
          14,
          14,
          12,
          13,
          12,
          21,
          7,
          21,
          14,
          29,
          17,
          13,
          13,
          23,
          13,
          12,
          12,
          8,
          9,
          34,
          10,
          6,
          17,
          16,
          11,
          11,
          23,
          26,
          17,
          9,
          19,
          13,
          13,
          14,
          9,
          15,
          17,
          32,
          14,
          33,
          14,
          12,
          9,
          17,
          12,
          13,
          20,
          14,
          9,
          23,
          18,
          18,
          10,
          14,
          13,
          16,
          16,
          13,
          8,
          15,
          15,
          20,
          7,
          9,
          28,
          13,
          17,
          15,
          11,
          9,
          20,
          9,
          32,
          9,
          15,
          14,
          16,
          21,
          23,
          18,
          16,
          13,
          18,
          17,
          19,
          12,
          6,
          26,
          14,
          22,
          8,
          27,
          21,
          15,
          20,
          8,
          28,
          23,
          16,
          13,
          12,
          31,
          14,
          8,
          7,
          13,
          23,
          15,
          20,
          37,
          28,
          15,
          20,
          15,
          15,
          11,
          30,
          18,
          13,
          24,
          24,
          21,
          13,
          17,
          18,
          19,
          24,
          7,
          51,
          10,
          15,
          24,
          18,
          18,
          13,
          25,
          23,
          14,
          24,
          17,
          16,
          20,
          19,
          19,
          16,
          14,
          19,
          22,
          17,
          23,
          20,
          18,
          12,
          19,
          27,
          14,
          21,
          31,
          12,
          13,
          24,
          10,
          9,
          17,
          16,
          19,
          20,
          14,
          20,
          14,
          23,
          16,
          18,
          23,
          24,
          22,
          22,
          15,
          13,
          21,
          24,
          16,
          37,
          33,
          16,
          31,
          21,
          22,
          20,
          27,
          13,
          17,
          6,
          5,
          25,
          0,
          2,
          11,
          5,
          12,
          3,
          16,
          6,
          29,
          31,
          7,
          2,
          14,
          11,
          0,
          23,
          8,
          3,
          9,
          1,
          5,
          8,
          11,
          0,
          8,
          6,
          3,
          2,
          8,
          0,
          7,
          13,
          4,
          5,
          19,
          11,
          0,
          7,
          20,
          8,
          0,
          10,
          6,
          0,
          5,
          4,
          13,
          8,
          8,
          0,
          11,
          13,
          13,
          5,
          13,
          3,
          20,
          9,
          21,
          6,
          5,
          0,
          12,
          7,
          1,
          10,
          5,
          2,
          3,
          12,
          29,
          8,
          1,
          13,
          0,
          0,
          6,
          15,
          6,
          1,
          20,
          11,
          15,
          15,
          18,
          0,
          3,
          14,
          9,
          16,
          16,
          8,
          10,
          5,
          22,
          1,
          12,
          2,
          5,
          0,
          14,
          10,
          15,
          12,
          3,
          3,
          17,
          7,
          19,
          5,
          14,
          12,
          9,
          6,
          17,
          6,
          4,
          7,
          11,
          5,
          11,
          8,
          0,
          0,
          16,
          17,
          2,
          6,
          10,
          2,
          3,
          3,
          4,
          21,
          19,
          2,
          12,
          9,
          6,
          5,
          9,
          11,
          1,
          13,
          6,
          3,
          0,
          30,
          16,
          29,
          6,
          23,
          1,
          6,
          18,
          2,
          14,
          0,
          8,
          8,
          1,
          0,
          2,
          10,
          15,
          13,
          7,
          4,
          21,
          11,
          2,
          9,
          11,
          12,
          5,
          17,
          0,
          7,
          1,
          7,
          1,
          19,
          15,
          18,
          17,
          12,
          9,
          1,
          2,
          19,
          5,
          18,
          22,
          6,
          9,
          18,
          3,
          7,
          20,
          12,
          11,
          8,
          9,
          29,
          13,
          20,
          8,
          1,
          11,
          10,
          17,
          7,
          4,
          8,
          12,
          10,
          6,
          13,
          10,
          14,
          11,
          3,
          9,
          5,
          45,
          1,
          5,
          17,
          17,
          14,
          11,
          13,
          1,
          16,
          10,
          8,
          18,
          4,
          9,
          1,
          0,
          10,
          0,
          14,
          9,
          0,
          13,
          8,
          5,
          2,
          15,
          11,
          4,
          11,
          21,
          38,
          1,
          4,
          15,
          13,
          13,
          5,
          8,
          1,
          6,
          20,
          16,
          1,
          27,
          2,
          16,
          18,
          12,
          8,
          4,
          11,
          5,
          13,
          12,
          4,
          4,
          16,
          9,
          2,
          32,
          11,
          10,
          4,
          8,
          28,
          8,
          5,
          4,
          10,
          2,
          7,
          12,
          9,
          15,
          20,
          14,
          10,
          11,
          8,
          4,
          13,
          8,
          15,
          1,
          4,
          7,
          4,
          7,
          19,
          3,
          16,
          3,
          6,
          6,
          10,
          6,
          11,
          9,
          5,
          2,
          6,
          5,
          9,
          4,
          22,
          0,
          5,
          3,
          19,
          9,
          6,
          7,
          0,
          8,
          12,
          56,
          6,
          9,
          5,
          10,
          13,
          10,
          4,
          9,
          19,
          5,
          6,
          20,
          3,
          7,
          19,
          0,
          9,
          11,
          14,
          13,
          7,
          19,
          11,
          8,
          8,
          10,
          17,
          12,
          12,
          3,
          1,
          18,
          7,
          13,
          3,
          19,
          6,
          18,
          3,
          4,
          8,
          13,
          11,
          11,
          10,
          11,
          3,
          8,
          8,
          16,
          23,
          13,
          9,
          8,
          14,
          4,
          39,
          17,
          23,
          9,
          4,
          7,
          6,
          13,
          11,
          6,
          14,
          12,
          1,
          15,
          8,
          18,
          6,
          5,
          5,
          11,
          1,
          5,
          4,
          11,
          2,
          0,
          7,
          7,
          17,
          1,
          8,
          17,
          8,
          7,
          7,
          2,
          13,
          20,
          10,
          1,
          7,
          0,
          11,
          7,
          11,
          6,
          9,
          13,
          6,
          23,
          6,
          5,
          18,
          14,
          25,
          3,
          8,
          8,
          8,
          4,
          7,
          9,
          4,
          10,
          4,
          0,
          10,
          13,
          1,
          10,
          14,
          10,
          6,
          8,
          3,
          10,
          8,
          8,
          10,
          13,
          14,
          2,
          7,
          22,
          5,
          9,
          13,
          0,
          9,
          6,
          0,
          11,
          13,
          13,
          8,
          11,
          6,
          3,
          1,
          6,
          25,
          7,
          14,
          16,
          13,
          30,
          10,
          17,
          21,
          6,
          17,
          2,
          22,
          11,
          12,
          15,
          7,
          5,
          10,
          17,
          8,
          17,
          12,
          12,
          38,
          14,
          0,
          9,
          7,
          4,
          9,
          6,
          1,
          17,
          8,
          7,
          17,
          14,
          10,
          14,
          12,
          23,
          2,
          13,
          29,
          11,
          1,
          12,
          15,
          7,
          11,
          15,
          6,
          6,
          5,
          1,
          11,
          6,
          20,
          0,
          7,
          7,
          2,
          6,
          33,
          8,
          11,
          14,
          7,
          23,
          0,
          12,
          13,
          7,
          11,
          15,
          2,
          21,
          17,
          4,
          16,
          8,
          3,
          8,
          2,
          11,
          4,
          18,
          6,
          1,
          29,
          1,
          13,
          8,
          6,
          0,
          0,
          14,
          13,
          26,
          8,
          0,
          2,
          0,
          8,
          3,
          3,
          25,
          13,
          4,
          14,
          19,
          0,
          1,
          2,
          11,
          20,
          5,
          6,
          16,
          8,
          6,
          13,
          11,
          9,
          7,
          12,
          1,
          15,
          101,
          6,
          4,
          16,
          11,
          18,
          7,
          15,
          12,
          16,
          1,
          6,
          12,
          15,
          3,
          12,
          0,
          15,
          1,
          2,
          0,
          30,
          14,
          8,
          9,
          0,
          4,
          14,
          6,
          15,
          7,
          5,
          19,
          20,
          11,
          15,
          4,
          39,
          12,
          11,
          13,
          5,
          7,
          10,
          1,
          16,
          19,
          5,
          4,
          10,
          9,
          10,
          2,
          5,
          6,
          11,
          20,
          2,
          7,
          10,
          3,
          0,
          18,
          0,
          10,
          2,
          26,
          1,
          12,
          10,
          2,
          12,
          1,
          12,
          0,
          26,
          9,
          10,
          11,
          10,
          0,
          10,
          2,
          7,
          14,
          8,
          5,
          10,
          13,
          8,
          20,
          15,
          4,
          19,
          0,
          6,
          7,
          30,
          10,
          15,
          10,
          10,
          6,
          1,
          17,
          14,
          6,
          6,
          8,
          12,
          6,
          9,
          0,
          17,
          10,
          9,
          30,
          14,
          0,
          18,
          18,
          9,
          10,
          9,
          14,
          5,
          1,
          9,
          2,
          19,
          0,
          11,
          1,
          6,
          9,
          10,
          23,
          4,
          15,
          19,
          23,
          4,
          11,
          12,
          5,
          17,
          8,
          6,
          6,
          11,
          3,
          13,
          3,
          34,
          6,
          5,
          18,
          7,
          1,
          29,
          12,
          27,
          2,
          14,
          0,
          21,
          14,
          5,
          10,
          4,
          4,
          1,
          1,
          18,
          5,
          9,
          26,
          49,
          4,
          1,
          2,
          1,
          17,
          12,
          6,
          9,
          26,
          4,
          5,
          7,
          0,
          4,
          1,
          15,
          22,
          16,
          7,
          20,
          8,
          16,
          11,
          7,
          3,
          7,
          3,
          13,
          12,
          11,
          11,
          3,
          9,
          17,
          12,
          13,
          11,
          4,
          32,
          22,
          23,
          14,
          9,
          8,
          0,
          7,
          4,
          24,
          8,
          13,
          11,
          28,
          11,
          9,
          1,
          17,
          0,
          2,
          11,
          6,
          9,
          17,
          11,
          19,
          10,
          4,
          0,
          13,
          10,
          0,
          1,
          19,
          14,
          10,
          3,
          38,
          7,
          7,
          7,
          1,
          5,
          2,
          8,
          13,
          2,
          1,
          7,
          8,
          6,
          3,
          18,
          5,
          4,
          11,
          1,
          2,
          18,
          15,
          1,
          7,
          11,
          1,
          4,
          13,
          2,
          10,
          3,
          4,
          11,
          3,
          10,
          17,
          12,
          22,
          9,
          10,
          0,
          5,
          8,
          6,
          27,
          22,
          15,
          15,
          14,
          4,
          5,
          3,
          11,
          11,
          1,
          20,
          18,
          0,
          13,
          25,
          17,
          14,
          11,
          13,
          10,
          9,
          3,
          4,
          10,
          18,
          8,
          5,
          9,
          7,
          3,
          18,
          11,
          7,
          9,
          15,
          11,
          15,
          2,
          22,
          0,
          0,
          7,
          13,
          14,
          11,
          5,
          14,
          8,
          11,
          8,
          0,
          9,
          15,
          11,
          20,
          12,
          0,
          13,
          5,
          6,
          12,
          6,
          1,
          7,
          8,
          0,
          11,
          6,
          6,
          11,
          7,
          2,
          23,
          10,
          11,
          9,
          0,
          15,
          1,
          3,
          18,
          6,
          11,
          12,
          10,
          0,
          14,
          1,
          13,
          4,
          11,
          21,
          10,
          8,
          9,
          3,
          13,
          3,
          22,
          7,
          2,
          7,
          12,
          1,
          0,
          6,
          1,
          19,
          4,
          9,
          14,
          8,
          9,
          11,
          4,
          12,
          10,
          18,
          7,
          2,
          0,
          10,
          8,
          5,
          9,
          17,
          12,
          10,
          10,
          6,
          5,
          14,
          9,
          5,
          3,
          5,
          18,
          14,
          4,
          6,
          18,
          9,
          8,
          2,
          0,
          11,
          0,
          14,
          21,
          0,
          0,
          11,
          9,
          21,
          25,
          13,
          5,
          5,
          3,
          10,
          12,
          23,
          6,
          8,
          6,
          12,
          15,
          2,
          5,
          10,
          6,
          0,
          8,
          6,
          6,
          7,
          9,
          17,
          10,
          16,
          6,
          6,
          14,
          6,
          13,
          13,
          5,
          0,
          12,
          14,
          15,
          17,
          14,
          14,
          3,
          10,
          4,
          8,
          8,
          4,
          6,
          15,
          28,
          2,
          5,
          13,
          14,
          9,
          11,
          9,
          10,
          11,
          7,
          7,
          5,
          7,
          11,
          13,
          16,
          9,
          13,
          5,
          4,
          10,
          6,
          12,
          6,
          6,
          8,
          18,
          10,
          1,
          19,
          7,
          0,
          13,
          10,
          6,
          3,
          3,
          15,
          6,
          9,
          12,
          1,
          17,
          1,
          2,
          0,
          13,
          2,
          15,
          4,
          0,
          10,
          7,
          8,
          8,
          12,
          39,
          5,
          7,
          11,
          18,
          9,
          11,
          6,
          1,
          19,
          10,
          6,
          10,
          12,
          6,
          8,
          21,
          13,
          11,
          2,
          23,
          3,
          56,
          0,
          10,
          10,
          13,
          9,
          11,
          10,
          8,
          0,
          11,
          7,
          22,
          20,
          9,
          1,
          15,
          21,
          7,
          5,
          14,
          8,
          14,
          12,
          8,
          10,
          9,
          9,
          0,
          12,
          3,
          2,
          6,
          13,
          14,
          16,
          7,
          19,
          9,
          17,
          3,
          2,
          13,
          17,
          24,
          26,
          19,
          24,
          17,
          7,
          3,
          10,
          7,
          11,
          13,
          0,
          13,
          5,
          6,
          5,
          0,
          3,
          15,
          8,
          11,
          10,
          6,
          16,
          2,
          6,
          9,
          10,
          18,
          5,
          6,
          5,
          8,
          7,
          8,
          7,
          35,
          3,
          24,
          6,
          6,
          6,
          24,
          7,
          0,
          8,
          3,
          8,
          5,
          7,
          4,
          4,
          7,
          22,
          8,
          6,
          9,
          12,
          7,
          0,
          8,
          7,
          7,
          9,
          8,
          21,
          5,
          3,
          21,
          8,
          8,
          22,
          2,
          2,
          8,
          13,
          11,
          10,
          4,
          36,
          12,
          12,
          3,
          3,
          12,
          9,
          11,
          9,
          35,
          6,
          13,
          21,
          8,
          2,
          15,
          11,
          14,
          2,
          6,
          10,
          4,
          10,
          16,
          10,
          0,
          8,
          4,
          0,
          4,
          5,
          0,
          0,
          9,
          12,
          19,
          7,
          6,
          8,
          12,
          12,
          13,
          6,
          8,
          6,
          4,
          6,
          36,
          9,
          13,
          7,
          1,
          0,
          0,
          19,
          16,
          13,
          7,
          3,
          7,
          8,
          9,
          0,
          4,
          6,
          6,
          27,
          19,
          7,
          12,
          11,
          13,
          11,
          18,
          17,
          5,
          4,
          2,
          3,
          0,
          8,
          4,
          9,
          6,
          12,
          42,
          9,
          18,
          12,
          10,
          8,
          0,
          12,
          3,
          7,
          14,
          7,
          1,
          20,
          2,
          3,
          20,
          6,
          15,
          4,
          1,
          8,
          8,
          6,
          9,
          18,
          15,
          0,
          12,
          23,
          8,
          7,
          7,
          13,
          21,
          0,
          16,
          5,
          3,
          0,
          1,
          19,
          3,
          4,
          22,
          0,
          5,
          6,
          7,
          7,
          8,
          15,
          35,
          7,
          0,
          10,
          11,
          15,
          23,
          2,
          8,
          0,
          5,
          14,
          7,
          3,
          15,
          2,
          13,
          13,
          9,
          17,
          9,
          20,
          8,
          25,
          11,
          11,
          14,
          7,
          11,
          5,
          12,
          33,
          13,
          1,
          14,
          9,
          0,
          6,
          18,
          3,
          11,
          0,
          11,
          28,
          22,
          11,
          13,
          7,
          33,
          8,
          17,
          19,
          8,
          8,
          5,
          17,
          8,
          14,
          11,
          14,
          15,
          7,
          7,
          9,
          13,
          2,
          5,
          14,
          8,
          14,
          19,
          17,
          24,
          1,
          3,
          25,
          30,
          24,
          19,
          9,
          4,
          2,
          0,
          3,
          7,
          13,
          10,
          6,
          18,
          13,
          14,
          8,
          14,
          9,
          7,
          6,
          6,
          26,
          15,
          8,
          6,
          23,
          8,
          0,
          4,
          9,
          6,
          7,
          20,
          14,
          4,
          0,
          16,
          7,
          2,
          5,
          11,
          8,
          13,
          17,
          16,
          15,
          12,
          2,
          6,
          0,
          2,
          2,
          11,
          15,
          14,
          20,
          14,
          11,
          11,
          15,
          1,
          24,
          12,
          11,
          1,
          8,
          7,
          9,
          8,
          10,
          11,
          51,
          1,
          0,
          3,
          7,
          7,
          6,
          0,
          10,
          5,
          13,
          11,
          6,
          13,
          5,
          8,
          6,
          6,
          19,
          9,
          9,
          5,
          5,
          16,
          24,
          7,
          6,
          18,
          19,
          20,
          0,
          16,
          0,
          20,
          23,
          4,
          4,
          12,
          6,
          2,
          7,
          21,
          9,
          30,
          17,
          5,
          9,
          8,
          17,
          4,
          7,
          5,
          7,
          8,
          10,
          10,
          8,
          17,
          19,
          6,
          15,
          19,
          5,
          6,
          11,
          16,
          7,
          1,
          9,
          13,
          6,
          21,
          6,
          6,
          14,
          17,
          12,
          9,
          10,
          11,
          45,
          11,
          6,
          6,
          2,
          25,
          9,
          13,
          9,
          0,
          9,
          2,
          14,
          4,
          8,
          4,
          2,
          8,
          20,
          11,
          33,
          29,
          7,
          2,
          17,
          9,
          19,
          8,
          1,
          0,
          5,
          4,
          0,
          0,
          30,
          9,
          4,
          10,
          4,
          5,
          16,
          7,
          4,
          2,
          3,
          5,
          0,
          0,
          17,
          18,
          5,
          4,
          9,
          13,
          1,
          10,
          11,
          14,
          9,
          6,
          2,
          16,
          12,
          6,
          16,
          3,
          2,
          10,
          15,
          5,
          14,
          8,
          21,
          11,
          7,
          9,
          16,
          0,
          7,
          5,
          8,
          4,
          6,
          6,
          4,
          12,
          16,
          0,
          5,
          4,
          2,
          0,
          14,
          14,
          13,
          11,
          13,
          6,
          11,
          6,
          12,
          11,
          29,
          13,
          9,
          6,
          25,
          5,
          10,
          1,
          4,
          7,
          20,
          11,
          0,
          15,
          3,
          2,
          12,
          6,
          13,
          12,
          16,
          21,
          14,
          10,
          8,
          13,
          28,
          4,
          2,
          1,
          7,
          8,
          3,
          11,
          14,
          5,
          20,
          13,
          9,
          8,
          5,
          14,
          7,
          0,
          5,
          20,
          5,
          11,
          1,
          7,
          10,
          26,
          3,
          8,
          3,
          9,
          0,
          26,
          3,
          4,
          3,
          7,
          0,
          0,
          4,
          3,
          19,
          23,
          13,
          25,
          2,
          16,
          9,
          8,
          56,
          9,
          3,
          12,
          5,
          8,
          7,
          1,
          5,
          5,
          15,
          11,
          13,
          6,
          0,
          10,
          18,
          8,
          4,
          12,
          9,
          5,
          13,
          12,
          2,
          6,
          6,
          17,
          4,
          7,
          14,
          43,
          7,
          9,
          2,
          12,
          7,
          7,
          14,
          2,
          30,
          7,
          13,
          13,
          2,
          6,
          6,
          26,
          1,
          6,
          4,
          11,
          11,
          28,
          13,
          21,
          11,
          11,
          3,
          7,
          3,
          2,
          7,
          15,
          5,
          5,
          15,
          8,
          4,
          2,
          4,
          8,
          7,
          12,
          5,
          6,
          2,
          63,
          13,
          16,
          36,
          9,
          2,
          12,
          1,
          2,
          0,
          13,
          1,
          14,
          12,
          5,
          11,
          4,
          19,
          30,
          1,
          9,
          11,
          8,
          5,
          3,
          30,
          7,
          12,
          7,
          9,
          5,
          29,
          16,
          0,
          1,
          10,
          8,
          20,
          20,
          10,
          5,
          4,
          1,
          15,
          8,
          6,
          5,
          16,
          17,
          11,
          26,
          32,
          9,
          6,
          15,
          6,
          14,
          18,
          2,
          10,
          13,
          0,
          5,
          7,
          9,
          5,
          7,
          11,
          1,
          6,
          16,
          9,
          18,
          16,
          14,
          0,
          10,
          21,
          8,
          15,
          5,
          19,
          4,
          1,
          25,
          3,
          14,
          8,
          0,
          0,
          0,
          6,
          7,
          24,
          20,
          6,
          9,
          11,
          15,
          12,
          21,
          12,
          11,
          6,
          19,
          2,
          1,
          6,
          14,
          2,
          33,
          8,
          7,
          6,
          9,
          3,
          19,
          9,
          19,
          18,
          15,
          8,
          3,
          6,
          14,
          18,
          13,
          15,
          23,
          11,
          6,
          9,
          1,
          8,
          6,
          7,
          17,
          6,
          23,
          10,
          14,
          9,
          9,
          16,
          29,
          1,
          6,
          12,
          0,
          22,
          13,
          5,
          6,
          4,
          8,
          10,
          0,
          12,
          3,
          4,
          3,
          6,
          14,
          1,
          0,
          1,
          11,
          2,
          15,
          9,
          4,
          0,
          7,
          10,
          11,
          20,
          24,
          7,
          1,
          6,
          21,
          7,
          7,
          9,
          12,
          9,
          13,
          16,
          5,
          7,
          6,
          1,
          9,
          16,
          9,
          11,
          10,
          11,
          15,
          6,
          8,
          4,
          1,
          7,
          9,
          7,
          14,
          5,
          11,
          29,
          12,
          1,
          3,
          15,
          26,
          14,
          6,
          11,
          1,
          3,
          25,
          8,
          10,
          8,
          10,
          5,
          1,
          6,
          19,
          253,
          9,
          10,
          11,
          15,
          15,
          12,
          17,
          33,
          9,
          5,
          10,
          9,
          12,
          1,
          19,
          8,
          7,
          12,
          5,
          19,
          1,
          3,
          7,
          11,
          0,
          16,
          5,
          14,
          8,
          14,
          1,
          5,
          18,
          1,
          16,
          11,
          9,
          7,
          0,
          5,
          5,
          4,
          21,
          3,
          8,
          8,
          6,
          18,
          4,
          9,
          26,
          12,
          2,
          8,
          3,
          3,
          12,
          7,
          5,
          13,
          14,
          9,
          2,
          30,
          13,
          6,
          0,
          3,
          18,
          8,
          11,
          4,
          39,
          11,
          31,
          12,
          12,
          6,
          12,
          23,
          6,
          9,
          13,
          12,
          17,
          13,
          10,
          11,
          7,
          4,
          11,
          2,
          0,
          13,
          11,
          10,
          7,
          18,
          8,
          1,
          10,
          12,
          18,
          3,
          11,
          25,
          0,
          25,
          11,
          23,
          3,
          12,
          6,
          2,
          10,
          0,
          0,
          5,
          11,
          6,
          0,
          8,
          9,
          14,
          26,
          0,
          6,
          4,
          9,
          7,
          1,
          22,
          4,
          20,
          7,
          5,
          0,
          1,
          12,
          6,
          4
         ],
         "yaxis": "y"
        }
       ],
       "layout": {
        "legend": {
         "tracegroupgap": 0
        },
        "margin": {
         "t": 60
        },
        "template": {
         "data": {
          "bar": [
           {
            "error_x": {
             "color": "#2a3f5f"
            },
            "error_y": {
             "color": "#2a3f5f"
            },
            "marker": {
             "line": {
              "color": "#E5ECF6",
              "width": 0.5
             },
             "pattern": {
              "fillmode": "overlay",
              "size": 10,
              "solidity": 0.2
             }
            },
            "type": "bar"
           }
          ],
          "barpolar": [
           {
            "marker": {
             "line": {
              "color": "#E5ECF6",
              "width": 0.5
             },
             "pattern": {
              "fillmode": "overlay",
              "size": 10,
              "solidity": 0.2
             }
            },
            "type": "barpolar"
           }
          ],
          "carpet": [
           {
            "aaxis": {
             "endlinecolor": "#2a3f5f",
             "gridcolor": "white",
             "linecolor": "white",
             "minorgridcolor": "white",
             "startlinecolor": "#2a3f5f"
            },
            "baxis": {
             "endlinecolor": "#2a3f5f",
             "gridcolor": "white",
             "linecolor": "white",
             "minorgridcolor": "white",
             "startlinecolor": "#2a3f5f"
            },
            "type": "carpet"
           }
          ],
          "choropleth": [
           {
            "colorbar": {
             "outlinewidth": 0,
             "ticks": ""
            },
            "type": "choropleth"
           }
          ],
          "contour": [
           {
            "colorbar": {
             "outlinewidth": 0,
             "ticks": ""
            },
            "colorscale": [
             [
              0,
              "#0d0887"
             ],
             [
              0.1111111111111111,
              "#46039f"
             ],
             [
              0.2222222222222222,
              "#7201a8"
             ],
             [
              0.3333333333333333,
              "#9c179e"
             ],
             [
              0.4444444444444444,
              "#bd3786"
             ],
             [
              0.5555555555555556,
              "#d8576b"
             ],
             [
              0.6666666666666666,
              "#ed7953"
             ],
             [
              0.7777777777777778,
              "#fb9f3a"
             ],
             [
              0.8888888888888888,
              "#fdca26"
             ],
             [
              1,
              "#f0f921"
             ]
            ],
            "type": "contour"
           }
          ],
          "contourcarpet": [
           {
            "colorbar": {
             "outlinewidth": 0,
             "ticks": ""
            },
            "type": "contourcarpet"
           }
          ],
          "heatmap": [
           {
            "colorbar": {
             "outlinewidth": 0,
             "ticks": ""
            },
            "colorscale": [
             [
              0,
              "#0d0887"
             ],
             [
              0.1111111111111111,
              "#46039f"
             ],
             [
              0.2222222222222222,
              "#7201a8"
             ],
             [
              0.3333333333333333,
              "#9c179e"
             ],
             [
              0.4444444444444444,
              "#bd3786"
             ],
             [
              0.5555555555555556,
              "#d8576b"
             ],
             [
              0.6666666666666666,
              "#ed7953"
             ],
             [
              0.7777777777777778,
              "#fb9f3a"
             ],
             [
              0.8888888888888888,
              "#fdca26"
             ],
             [
              1,
              "#f0f921"
             ]
            ],
            "type": "heatmap"
           }
          ],
          "heatmapgl": [
           {
            "colorbar": {
             "outlinewidth": 0,
             "ticks": ""
            },
            "colorscale": [
             [
              0,
              "#0d0887"
             ],
             [
              0.1111111111111111,
              "#46039f"
             ],
             [
              0.2222222222222222,
              "#7201a8"
             ],
             [
              0.3333333333333333,
              "#9c179e"
             ],
             [
              0.4444444444444444,
              "#bd3786"
             ],
             [
              0.5555555555555556,
              "#d8576b"
             ],
             [
              0.6666666666666666,
              "#ed7953"
             ],
             [
              0.7777777777777778,
              "#fb9f3a"
             ],
             [
              0.8888888888888888,
              "#fdca26"
             ],
             [
              1,
              "#f0f921"
             ]
            ],
            "type": "heatmapgl"
           }
          ],
          "histogram": [
           {
            "marker": {
             "pattern": {
              "fillmode": "overlay",
              "size": 10,
              "solidity": 0.2
             }
            },
            "type": "histogram"
           }
          ],
          "histogram2d": [
           {
            "colorbar": {
             "outlinewidth": 0,
             "ticks": ""
            },
            "colorscale": [
             [
              0,
              "#0d0887"
             ],
             [
              0.1111111111111111,
              "#46039f"
             ],
             [
              0.2222222222222222,
              "#7201a8"
             ],
             [
              0.3333333333333333,
              "#9c179e"
             ],
             [
              0.4444444444444444,
              "#bd3786"
             ],
             [
              0.5555555555555556,
              "#d8576b"
             ],
             [
              0.6666666666666666,
              "#ed7953"
             ],
             [
              0.7777777777777778,
              "#fb9f3a"
             ],
             [
              0.8888888888888888,
              "#fdca26"
             ],
             [
              1,
              "#f0f921"
             ]
            ],
            "type": "histogram2d"
           }
          ],
          "histogram2dcontour": [
           {
            "colorbar": {
             "outlinewidth": 0,
             "ticks": ""
            },
            "colorscale": [
             [
              0,
              "#0d0887"
             ],
             [
              0.1111111111111111,
              "#46039f"
             ],
             [
              0.2222222222222222,
              "#7201a8"
             ],
             [
              0.3333333333333333,
              "#9c179e"
             ],
             [
              0.4444444444444444,
              "#bd3786"
             ],
             [
              0.5555555555555556,
              "#d8576b"
             ],
             [
              0.6666666666666666,
              "#ed7953"
             ],
             [
              0.7777777777777778,
              "#fb9f3a"
             ],
             [
              0.8888888888888888,
              "#fdca26"
             ],
             [
              1,
              "#f0f921"
             ]
            ],
            "type": "histogram2dcontour"
           }
          ],
          "mesh3d": [
           {
            "colorbar": {
             "outlinewidth": 0,
             "ticks": ""
            },
            "type": "mesh3d"
           }
          ],
          "parcoords": [
           {
            "line": {
             "colorbar": {
              "outlinewidth": 0,
              "ticks": ""
             }
            },
            "type": "parcoords"
           }
          ],
          "pie": [
           {
            "automargin": true,
            "type": "pie"
           }
          ],
          "scatter": [
           {
            "fillpattern": {
             "fillmode": "overlay",
             "size": 10,
             "solidity": 0.2
            },
            "type": "scatter"
           }
          ],
          "scatter3d": [
           {
            "line": {
             "colorbar": {
              "outlinewidth": 0,
              "ticks": ""
             }
            },
            "marker": {
             "colorbar": {
              "outlinewidth": 0,
              "ticks": ""
             }
            },
            "type": "scatter3d"
           }
          ],
          "scattercarpet": [
           {
            "marker": {
             "colorbar": {
              "outlinewidth": 0,
              "ticks": ""
             }
            },
            "type": "scattercarpet"
           }
          ],
          "scattergeo": [
           {
            "marker": {
             "colorbar": {
              "outlinewidth": 0,
              "ticks": ""
             }
            },
            "type": "scattergeo"
           }
          ],
          "scattergl": [
           {
            "marker": {
             "colorbar": {
              "outlinewidth": 0,
              "ticks": ""
             }
            },
            "type": "scattergl"
           }
          ],
          "scattermapbox": [
           {
            "marker": {
             "colorbar": {
              "outlinewidth": 0,
              "ticks": ""
             }
            },
            "type": "scattermapbox"
           }
          ],
          "scatterpolar": [
           {
            "marker": {
             "colorbar": {
              "outlinewidth": 0,
              "ticks": ""
             }
            },
            "type": "scatterpolar"
           }
          ],
          "scatterpolargl": [
           {
            "marker": {
             "colorbar": {
              "outlinewidth": 0,
              "ticks": ""
             }
            },
            "type": "scatterpolargl"
           }
          ],
          "scatterternary": [
           {
            "marker": {
             "colorbar": {
              "outlinewidth": 0,
              "ticks": ""
             }
            },
            "type": "scatterternary"
           }
          ],
          "surface": [
           {
            "colorbar": {
             "outlinewidth": 0,
             "ticks": ""
            },
            "colorscale": [
             [
              0,
              "#0d0887"
             ],
             [
              0.1111111111111111,
              "#46039f"
             ],
             [
              0.2222222222222222,
              "#7201a8"
             ],
             [
              0.3333333333333333,
              "#9c179e"
             ],
             [
              0.4444444444444444,
              "#bd3786"
             ],
             [
              0.5555555555555556,
              "#d8576b"
             ],
             [
              0.6666666666666666,
              "#ed7953"
             ],
             [
              0.7777777777777778,
              "#fb9f3a"
             ],
             [
              0.8888888888888888,
              "#fdca26"
             ],
             [
              1,
              "#f0f921"
             ]
            ],
            "type": "surface"
           }
          ],
          "table": [
           {
            "cells": {
             "fill": {
              "color": "#EBF0F8"
             },
             "line": {
              "color": "white"
             }
            },
            "header": {
             "fill": {
              "color": "#C8D4E3"
             },
             "line": {
              "color": "white"
             }
            },
            "type": "table"
           }
          ]
         },
         "layout": {
          "annotationdefaults": {
           "arrowcolor": "#2a3f5f",
           "arrowhead": 0,
           "arrowwidth": 1
          },
          "autotypenumbers": "strict",
          "coloraxis": {
           "colorbar": {
            "outlinewidth": 0,
            "ticks": ""
           }
          },
          "colorscale": {
           "diverging": [
            [
             0,
             "#8e0152"
            ],
            [
             0.1,
             "#c51b7d"
            ],
            [
             0.2,
             "#de77ae"
            ],
            [
             0.3,
             "#f1b6da"
            ],
            [
             0.4,
             "#fde0ef"
            ],
            [
             0.5,
             "#f7f7f7"
            ],
            [
             0.6,
             "#e6f5d0"
            ],
            [
             0.7,
             "#b8e186"
            ],
            [
             0.8,
             "#7fbc41"
            ],
            [
             0.9,
             "#4d9221"
            ],
            [
             1,
             "#276419"
            ]
           ],
           "sequential": [
            [
             0,
             "#0d0887"
            ],
            [
             0.1111111111111111,
             "#46039f"
            ],
            [
             0.2222222222222222,
             "#7201a8"
            ],
            [
             0.3333333333333333,
             "#9c179e"
            ],
            [
             0.4444444444444444,
             "#bd3786"
            ],
            [
             0.5555555555555556,
             "#d8576b"
            ],
            [
             0.6666666666666666,
             "#ed7953"
            ],
            [
             0.7777777777777778,
             "#fb9f3a"
            ],
            [
             0.8888888888888888,
             "#fdca26"
            ],
            [
             1,
             "#f0f921"
            ]
           ],
           "sequentialminus": [
            [
             0,
             "#0d0887"
            ],
            [
             0.1111111111111111,
             "#46039f"
            ],
            [
             0.2222222222222222,
             "#7201a8"
            ],
            [
             0.3333333333333333,
             "#9c179e"
            ],
            [
             0.4444444444444444,
             "#bd3786"
            ],
            [
             0.5555555555555556,
             "#d8576b"
            ],
            [
             0.6666666666666666,
             "#ed7953"
            ],
            [
             0.7777777777777778,
             "#fb9f3a"
            ],
            [
             0.8888888888888888,
             "#fdca26"
            ],
            [
             1,
             "#f0f921"
            ]
           ]
          },
          "colorway": [
           "#636efa",
           "#EF553B",
           "#00cc96",
           "#ab63fa",
           "#FFA15A",
           "#19d3f3",
           "#FF6692",
           "#B6E880",
           "#FF97FF",
           "#FECB52"
          ],
          "font": {
           "color": "#2a3f5f"
          },
          "geo": {
           "bgcolor": "white",
           "lakecolor": "white",
           "landcolor": "#E5ECF6",
           "showlakes": true,
           "showland": true,
           "subunitcolor": "white"
          },
          "hoverlabel": {
           "align": "left"
          },
          "hovermode": "closest",
          "mapbox": {
           "style": "light"
          },
          "paper_bgcolor": "white",
          "plot_bgcolor": "#E5ECF6",
          "polar": {
           "angularaxis": {
            "gridcolor": "white",
            "linecolor": "white",
            "ticks": ""
           },
           "bgcolor": "#E5ECF6",
           "radialaxis": {
            "gridcolor": "white",
            "linecolor": "white",
            "ticks": ""
           }
          },
          "scene": {
           "xaxis": {
            "backgroundcolor": "#E5ECF6",
            "gridcolor": "white",
            "gridwidth": 2,
            "linecolor": "white",
            "showbackground": true,
            "ticks": "",
            "zerolinecolor": "white"
           },
           "yaxis": {
            "backgroundcolor": "#E5ECF6",
            "gridcolor": "white",
            "gridwidth": 2,
            "linecolor": "white",
            "showbackground": true,
            "ticks": "",
            "zerolinecolor": "white"
           },
           "zaxis": {
            "backgroundcolor": "#E5ECF6",
            "gridcolor": "white",
            "gridwidth": 2,
            "linecolor": "white",
            "showbackground": true,
            "ticks": "",
            "zerolinecolor": "white"
           }
          },
          "shapedefaults": {
           "line": {
            "color": "#2a3f5f"
           }
          },
          "ternary": {
           "aaxis": {
            "gridcolor": "white",
            "linecolor": "white",
            "ticks": ""
           },
           "baxis": {
            "gridcolor": "white",
            "linecolor": "white",
            "ticks": ""
           },
           "bgcolor": "#E5ECF6",
           "caxis": {
            "gridcolor": "white",
            "linecolor": "white",
            "ticks": ""
           }
          },
          "title": {
           "x": 0.05
          },
          "xaxis": {
           "automargin": true,
           "gridcolor": "white",
           "linecolor": "white",
           "ticks": "",
           "title": {
            "standoff": 15
           },
           "zerolinecolor": "white",
           "zerolinewidth": 2
          },
          "yaxis": {
           "automargin": true,
           "gridcolor": "white",
           "linecolor": "white",
           "ticks": "",
           "title": {
            "standoff": 15
           },
           "zerolinecolor": "white",
           "zerolinewidth": 2
          }
         }
        },
        "xaxis": {
         "anchor": "y",
         "domain": [
          0,
          1
         ],
         "title": {
          "text": "Weight [Kg]"
         }
        },
        "yaxis": {
         "anchor": "x",
         "domain": [
          0,
          1
         ],
         "title": {
          "text": "No. of wins"
         }
        }
       }
      }
     },
     "metadata": {},
     "output_type": "display_data"
    }
   ],
   "source": [
    "fig4 = px.scatter(df, x=\"weight_in_kg\", y=\"wins\",\n",
    "                 labels = {\"weight_in_kg\": \"Weight [Kg]\", \"wins\": \"No. of wins\"}) \n",
    "fig4.show()"
   ]
  },
  {
   "cell_type": "code",
   "execution_count": 20,
   "metadata": {},
   "outputs": [
    {
     "data": {
      "text/html": [
       "<div>\n",
       "<style scoped>\n",
       "    .dataframe tbody tr th:only-of-type {\n",
       "        vertical-align: middle;\n",
       "    }\n",
       "\n",
       "    .dataframe tbody tr th {\n",
       "        vertical-align: top;\n",
       "    }\n",
       "\n",
       "    .dataframe thead th {\n",
       "        text-align: right;\n",
       "    }\n",
       "</style>\n",
       "<table border=\"1\" class=\"dataframe\">\n",
       "  <thead>\n",
       "    <tr style=\"text-align: right;\">\n",
       "      <th></th>\n",
       "      <th>name</th>\n",
       "      <th>nickname</th>\n",
       "      <th>wins</th>\n",
       "      <th>losses</th>\n",
       "      <th>draws</th>\n",
       "      <th>height_cm</th>\n",
       "      <th>weight_in_kg</th>\n",
       "      <th>reach_in_cm</th>\n",
       "      <th>stance</th>\n",
       "      <th>date_of_birth</th>\n",
       "      <th>...</th>\n",
       "      <th>significant_strike_defence</th>\n",
       "      <th>average_takedowns_landed_per_15_minutes</th>\n",
       "      <th>takedown_accuracy</th>\n",
       "      <th>takedown_defense</th>\n",
       "      <th>average_submissions_attempted_per_15_minutes</th>\n",
       "      <th>total_career_fights</th>\n",
       "      <th>win%</th>\n",
       "      <th>loss%</th>\n",
       "      <th>draw%</th>\n",
       "      <th>weight_class</th>\n",
       "    </tr>\n",
       "  </thead>\n",
       "  <tbody>\n",
       "    <tr>\n",
       "      <th>4069</th>\n",
       "      <td>Emmanuel Yarborough</td>\n",
       "      <td>NaN</td>\n",
       "      <td>1</td>\n",
       "      <td>2</td>\n",
       "      <td>0</td>\n",
       "      <td>203.2</td>\n",
       "      <td>349.27</td>\n",
       "      <td>NaN</td>\n",
       "      <td>Open Stance</td>\n",
       "      <td>1960-09-05</td>\n",
       "      <td>...</td>\n",
       "      <td>0.0</td>\n",
       "      <td>0.0</td>\n",
       "      <td>0.0</td>\n",
       "      <td>0.0</td>\n",
       "      <td>0.0</td>\n",
       "      <td>3</td>\n",
       "      <td>33.0</td>\n",
       "      <td>67.0</td>\n",
       "      <td>0.0</td>\n",
       "      <td>Heavyweight</td>\n",
       "    </tr>\n",
       "  </tbody>\n",
       "</table>\n",
       "<p>1 rows × 23 columns</p>\n",
       "</div>"
      ],
      "text/plain": [
       "                     name nickname  wins  losses  draws  height_cm  \\\n",
       "4069  Emmanuel Yarborough      NaN     1       2      0      203.2   \n",
       "\n",
       "      weight_in_kg  reach_in_cm       stance date_of_birth  ...  \\\n",
       "4069        349.27          NaN  Open Stance    1960-09-05  ...   \n",
       "\n",
       "      significant_strike_defence  average_takedowns_landed_per_15_minutes  \\\n",
       "4069                         0.0                                      0.0   \n",
       "\n",
       "      takedown_accuracy  takedown_defense  \\\n",
       "4069                0.0               0.0   \n",
       "\n",
       "      average_submissions_attempted_per_15_minutes  total_career_fights  win%  \\\n",
       "4069                                           0.0                    3  33.0   \n",
       "\n",
       "      loss%  draw%  weight_class  \n",
       "4069   67.0    0.0   Heavyweight  \n",
       "\n",
       "[1 rows x 23 columns]"
      ]
     },
     "execution_count": 20,
     "metadata": {},
     "output_type": "execute_result"
    }
   ],
   "source": [
    "# Finding the heaviest fighter\n",
    "df.loc[df[\"weight_in_kg\"] == df[\"weight_in_kg\"].max()]"
   ]
  },
  {
   "cell_type": "markdown",
   "metadata": {},
   "source": [
    "We have found another outlier in the weight category with Emmanual Yaborough weighing 349 kg. Here's some info about him :\n",
    "\n",
    "Emmanuel Yarbrough (September 5, 1964 – December 21, 2015) was an American martial artist, professional wrestler, football player and actor. He was particularly known for his career in amateur sumo, and held the Guinness World Record for the heaviest living athlete. [Data source: Wikipedia]"
   ]
  },
  {
   "cell_type": "markdown",
   "metadata": {},
   "source": [
    "![Image Description](https://ufc-video.s3.amazonaws.com/image/Mannysuit.jpg)"
   ]
  },
  {
   "cell_type": "markdown",
   "metadata": {},
   "source": [
    "### Finding how many fighters have a nickname"
   ]
  },
  {
   "cell_type": "code",
   "execution_count": 21,
   "metadata": {},
   "outputs": [
    {
     "name": "stdout",
     "output_type": "stream",
     "text": [
      "54.9 % of fighters have a nickname\n"
     ]
    }
   ],
   "source": [
    "perc_fighters_with_no_nick = round((df[\"nickname\"].isna().sum()/df.shape[0])*100,2)\n",
    "perc_fighters_with_nick = 100 - perc_fighters_with_no_nick\n",
    "print(f\"{perc_fighters_with_nick} % of fighters have a nickname\")"
   ]
  },
  {
   "cell_type": "markdown",
   "metadata": {},
   "source": [
    "### Finding the best fighters in each weight class"
   ]
  },
  {
   "cell_type": "code",
   "execution_count": 22,
   "metadata": {},
   "outputs": [
    {
     "name": "stdout",
     "output_type": "stream",
     "text": [
      "{'Welterweight', 'Lightweight', 'Flyweight', 'Middleweight', 'Heavyweight', 'Light Heavyweight', 'Featherweight', 'Bantamweight', 'Undefined'}\n"
     ]
    }
   ],
   "source": [
    "weight_cat_list = set(df[\"weight_class\"].values)\n",
    "print(weight_cat_list)"
   ]
  },
  {
   "cell_type": "code",
   "execution_count": 26,
   "metadata": {},
   "outputs": [
    {
     "name": "stdout",
     "output_type": "stream",
     "text": [
      "There are 16 undefeated fighters in Welterweight class and the best 10 are\n"
     ]
    },
    {
     "data": {
      "application/vnd.plotly.v1+json": {
       "config": {
        "plotlyServerURL": "https://plot.ly"
       },
       "data": [
        {
         "alignmentgroup": "True",
         "hovertemplate": "Name=%{x}<br>% of wins=%{y}<br>Total fights=%{marker.color}<extra></extra>",
         "legendgroup": "",
         "marker": {
          "color": [
           6,
           11,
           9,
           8,
           7,
           6,
           6,
           29,
           7,
           9
          ],
          "coloraxis": "coloraxis",
          "pattern": {
           "shape": ""
          }
         },
         "name": "",
         "offsetgroup": "",
         "orientation": "v",
         "showlegend": false,
         "textposition": "auto",
         "type": "bar",
         "x": [
          "Taylor Callens",
          "Nair Melikyan",
          "Nurullo Aliev",
          "Brent Primus",
          "Manuel Gaxhja",
          "Jonathan Contrestano",
          "Tom Nolan",
          "Khabib Nurmagomedov",
          "Shin Haraguchi",
          "Adam Piccolotti"
         ],
         "xaxis": "x",
         "y": [
          100,
          100,
          100,
          100,
          100,
          100,
          100,
          100,
          100,
          100
         ],
         "yaxis": "y"
        }
       ],
       "layout": {
        "barmode": "relative",
        "coloraxis": {
         "colorbar": {
          "title": {
           "text": "Total fights"
          }
         },
         "colorscale": [
          [
           0,
           "#0d0887"
          ],
          [
           0.1111111111111111,
           "#46039f"
          ],
          [
           0.2222222222222222,
           "#7201a8"
          ],
          [
           0.3333333333333333,
           "#9c179e"
          ],
          [
           0.4444444444444444,
           "#bd3786"
          ],
          [
           0.5555555555555556,
           "#d8576b"
          ],
          [
           0.6666666666666666,
           "#ed7953"
          ],
          [
           0.7777777777777778,
           "#fb9f3a"
          ],
          [
           0.8888888888888888,
           "#fdca26"
          ],
          [
           1,
           "#f0f921"
          ]
         ]
        },
        "legend": {
         "tracegroupgap": 0
        },
        "margin": {
         "t": 60
        },
        "template": {
         "data": {
          "bar": [
           {
            "error_x": {
             "color": "#2a3f5f"
            },
            "error_y": {
             "color": "#2a3f5f"
            },
            "marker": {
             "line": {
              "color": "#E5ECF6",
              "width": 0.5
             },
             "pattern": {
              "fillmode": "overlay",
              "size": 10,
              "solidity": 0.2
             }
            },
            "type": "bar"
           }
          ],
          "barpolar": [
           {
            "marker": {
             "line": {
              "color": "#E5ECF6",
              "width": 0.5
             },
             "pattern": {
              "fillmode": "overlay",
              "size": 10,
              "solidity": 0.2
             }
            },
            "type": "barpolar"
           }
          ],
          "carpet": [
           {
            "aaxis": {
             "endlinecolor": "#2a3f5f",
             "gridcolor": "white",
             "linecolor": "white",
             "minorgridcolor": "white",
             "startlinecolor": "#2a3f5f"
            },
            "baxis": {
             "endlinecolor": "#2a3f5f",
             "gridcolor": "white",
             "linecolor": "white",
             "minorgridcolor": "white",
             "startlinecolor": "#2a3f5f"
            },
            "type": "carpet"
           }
          ],
          "choropleth": [
           {
            "colorbar": {
             "outlinewidth": 0,
             "ticks": ""
            },
            "type": "choropleth"
           }
          ],
          "contour": [
           {
            "colorbar": {
             "outlinewidth": 0,
             "ticks": ""
            },
            "colorscale": [
             [
              0,
              "#0d0887"
             ],
             [
              0.1111111111111111,
              "#46039f"
             ],
             [
              0.2222222222222222,
              "#7201a8"
             ],
             [
              0.3333333333333333,
              "#9c179e"
             ],
             [
              0.4444444444444444,
              "#bd3786"
             ],
             [
              0.5555555555555556,
              "#d8576b"
             ],
             [
              0.6666666666666666,
              "#ed7953"
             ],
             [
              0.7777777777777778,
              "#fb9f3a"
             ],
             [
              0.8888888888888888,
              "#fdca26"
             ],
             [
              1,
              "#f0f921"
             ]
            ],
            "type": "contour"
           }
          ],
          "contourcarpet": [
           {
            "colorbar": {
             "outlinewidth": 0,
             "ticks": ""
            },
            "type": "contourcarpet"
           }
          ],
          "heatmap": [
           {
            "colorbar": {
             "outlinewidth": 0,
             "ticks": ""
            },
            "colorscale": [
             [
              0,
              "#0d0887"
             ],
             [
              0.1111111111111111,
              "#46039f"
             ],
             [
              0.2222222222222222,
              "#7201a8"
             ],
             [
              0.3333333333333333,
              "#9c179e"
             ],
             [
              0.4444444444444444,
              "#bd3786"
             ],
             [
              0.5555555555555556,
              "#d8576b"
             ],
             [
              0.6666666666666666,
              "#ed7953"
             ],
             [
              0.7777777777777778,
              "#fb9f3a"
             ],
             [
              0.8888888888888888,
              "#fdca26"
             ],
             [
              1,
              "#f0f921"
             ]
            ],
            "type": "heatmap"
           }
          ],
          "heatmapgl": [
           {
            "colorbar": {
             "outlinewidth": 0,
             "ticks": ""
            },
            "colorscale": [
             [
              0,
              "#0d0887"
             ],
             [
              0.1111111111111111,
              "#46039f"
             ],
             [
              0.2222222222222222,
              "#7201a8"
             ],
             [
              0.3333333333333333,
              "#9c179e"
             ],
             [
              0.4444444444444444,
              "#bd3786"
             ],
             [
              0.5555555555555556,
              "#d8576b"
             ],
             [
              0.6666666666666666,
              "#ed7953"
             ],
             [
              0.7777777777777778,
              "#fb9f3a"
             ],
             [
              0.8888888888888888,
              "#fdca26"
             ],
             [
              1,
              "#f0f921"
             ]
            ],
            "type": "heatmapgl"
           }
          ],
          "histogram": [
           {
            "marker": {
             "pattern": {
              "fillmode": "overlay",
              "size": 10,
              "solidity": 0.2
             }
            },
            "type": "histogram"
           }
          ],
          "histogram2d": [
           {
            "colorbar": {
             "outlinewidth": 0,
             "ticks": ""
            },
            "colorscale": [
             [
              0,
              "#0d0887"
             ],
             [
              0.1111111111111111,
              "#46039f"
             ],
             [
              0.2222222222222222,
              "#7201a8"
             ],
             [
              0.3333333333333333,
              "#9c179e"
             ],
             [
              0.4444444444444444,
              "#bd3786"
             ],
             [
              0.5555555555555556,
              "#d8576b"
             ],
             [
              0.6666666666666666,
              "#ed7953"
             ],
             [
              0.7777777777777778,
              "#fb9f3a"
             ],
             [
              0.8888888888888888,
              "#fdca26"
             ],
             [
              1,
              "#f0f921"
             ]
            ],
            "type": "histogram2d"
           }
          ],
          "histogram2dcontour": [
           {
            "colorbar": {
             "outlinewidth": 0,
             "ticks": ""
            },
            "colorscale": [
             [
              0,
              "#0d0887"
             ],
             [
              0.1111111111111111,
              "#46039f"
             ],
             [
              0.2222222222222222,
              "#7201a8"
             ],
             [
              0.3333333333333333,
              "#9c179e"
             ],
             [
              0.4444444444444444,
              "#bd3786"
             ],
             [
              0.5555555555555556,
              "#d8576b"
             ],
             [
              0.6666666666666666,
              "#ed7953"
             ],
             [
              0.7777777777777778,
              "#fb9f3a"
             ],
             [
              0.8888888888888888,
              "#fdca26"
             ],
             [
              1,
              "#f0f921"
             ]
            ],
            "type": "histogram2dcontour"
           }
          ],
          "mesh3d": [
           {
            "colorbar": {
             "outlinewidth": 0,
             "ticks": ""
            },
            "type": "mesh3d"
           }
          ],
          "parcoords": [
           {
            "line": {
             "colorbar": {
              "outlinewidth": 0,
              "ticks": ""
             }
            },
            "type": "parcoords"
           }
          ],
          "pie": [
           {
            "automargin": true,
            "type": "pie"
           }
          ],
          "scatter": [
           {
            "fillpattern": {
             "fillmode": "overlay",
             "size": 10,
             "solidity": 0.2
            },
            "type": "scatter"
           }
          ],
          "scatter3d": [
           {
            "line": {
             "colorbar": {
              "outlinewidth": 0,
              "ticks": ""
             }
            },
            "marker": {
             "colorbar": {
              "outlinewidth": 0,
              "ticks": ""
             }
            },
            "type": "scatter3d"
           }
          ],
          "scattercarpet": [
           {
            "marker": {
             "colorbar": {
              "outlinewidth": 0,
              "ticks": ""
             }
            },
            "type": "scattercarpet"
           }
          ],
          "scattergeo": [
           {
            "marker": {
             "colorbar": {
              "outlinewidth": 0,
              "ticks": ""
             }
            },
            "type": "scattergeo"
           }
          ],
          "scattergl": [
           {
            "marker": {
             "colorbar": {
              "outlinewidth": 0,
              "ticks": ""
             }
            },
            "type": "scattergl"
           }
          ],
          "scattermapbox": [
           {
            "marker": {
             "colorbar": {
              "outlinewidth": 0,
              "ticks": ""
             }
            },
            "type": "scattermapbox"
           }
          ],
          "scatterpolar": [
           {
            "marker": {
             "colorbar": {
              "outlinewidth": 0,
              "ticks": ""
             }
            },
            "type": "scatterpolar"
           }
          ],
          "scatterpolargl": [
           {
            "marker": {
             "colorbar": {
              "outlinewidth": 0,
              "ticks": ""
             }
            },
            "type": "scatterpolargl"
           }
          ],
          "scatterternary": [
           {
            "marker": {
             "colorbar": {
              "outlinewidth": 0,
              "ticks": ""
             }
            },
            "type": "scatterternary"
           }
          ],
          "surface": [
           {
            "colorbar": {
             "outlinewidth": 0,
             "ticks": ""
            },
            "colorscale": [
             [
              0,
              "#0d0887"
             ],
             [
              0.1111111111111111,
              "#46039f"
             ],
             [
              0.2222222222222222,
              "#7201a8"
             ],
             [
              0.3333333333333333,
              "#9c179e"
             ],
             [
              0.4444444444444444,
              "#bd3786"
             ],
             [
              0.5555555555555556,
              "#d8576b"
             ],
             [
              0.6666666666666666,
              "#ed7953"
             ],
             [
              0.7777777777777778,
              "#fb9f3a"
             ],
             [
              0.8888888888888888,
              "#fdca26"
             ],
             [
              1,
              "#f0f921"
             ]
            ],
            "type": "surface"
           }
          ],
          "table": [
           {
            "cells": {
             "fill": {
              "color": "#EBF0F8"
             },
             "line": {
              "color": "white"
             }
            },
            "header": {
             "fill": {
              "color": "#C8D4E3"
             },
             "line": {
              "color": "white"
             }
            },
            "type": "table"
           }
          ]
         },
         "layout": {
          "annotationdefaults": {
           "arrowcolor": "#2a3f5f",
           "arrowhead": 0,
           "arrowwidth": 1
          },
          "autotypenumbers": "strict",
          "coloraxis": {
           "colorbar": {
            "outlinewidth": 0,
            "ticks": ""
           }
          },
          "colorscale": {
           "diverging": [
            [
             0,
             "#8e0152"
            ],
            [
             0.1,
             "#c51b7d"
            ],
            [
             0.2,
             "#de77ae"
            ],
            [
             0.3,
             "#f1b6da"
            ],
            [
             0.4,
             "#fde0ef"
            ],
            [
             0.5,
             "#f7f7f7"
            ],
            [
             0.6,
             "#e6f5d0"
            ],
            [
             0.7,
             "#b8e186"
            ],
            [
             0.8,
             "#7fbc41"
            ],
            [
             0.9,
             "#4d9221"
            ],
            [
             1,
             "#276419"
            ]
           ],
           "sequential": [
            [
             0,
             "#0d0887"
            ],
            [
             0.1111111111111111,
             "#46039f"
            ],
            [
             0.2222222222222222,
             "#7201a8"
            ],
            [
             0.3333333333333333,
             "#9c179e"
            ],
            [
             0.4444444444444444,
             "#bd3786"
            ],
            [
             0.5555555555555556,
             "#d8576b"
            ],
            [
             0.6666666666666666,
             "#ed7953"
            ],
            [
             0.7777777777777778,
             "#fb9f3a"
            ],
            [
             0.8888888888888888,
             "#fdca26"
            ],
            [
             1,
             "#f0f921"
            ]
           ],
           "sequentialminus": [
            [
             0,
             "#0d0887"
            ],
            [
             0.1111111111111111,
             "#46039f"
            ],
            [
             0.2222222222222222,
             "#7201a8"
            ],
            [
             0.3333333333333333,
             "#9c179e"
            ],
            [
             0.4444444444444444,
             "#bd3786"
            ],
            [
             0.5555555555555556,
             "#d8576b"
            ],
            [
             0.6666666666666666,
             "#ed7953"
            ],
            [
             0.7777777777777778,
             "#fb9f3a"
            ],
            [
             0.8888888888888888,
             "#fdca26"
            ],
            [
             1,
             "#f0f921"
            ]
           ]
          },
          "colorway": [
           "#636efa",
           "#EF553B",
           "#00cc96",
           "#ab63fa",
           "#FFA15A",
           "#19d3f3",
           "#FF6692",
           "#B6E880",
           "#FF97FF",
           "#FECB52"
          ],
          "font": {
           "color": "#2a3f5f"
          },
          "geo": {
           "bgcolor": "white",
           "lakecolor": "white",
           "landcolor": "#E5ECF6",
           "showlakes": true,
           "showland": true,
           "subunitcolor": "white"
          },
          "hoverlabel": {
           "align": "left"
          },
          "hovermode": "closest",
          "mapbox": {
           "style": "light"
          },
          "paper_bgcolor": "white",
          "plot_bgcolor": "#E5ECF6",
          "polar": {
           "angularaxis": {
            "gridcolor": "white",
            "linecolor": "white",
            "ticks": ""
           },
           "bgcolor": "#E5ECF6",
           "radialaxis": {
            "gridcolor": "white",
            "linecolor": "white",
            "ticks": ""
           }
          },
          "scene": {
           "xaxis": {
            "backgroundcolor": "#E5ECF6",
            "gridcolor": "white",
            "gridwidth": 2,
            "linecolor": "white",
            "showbackground": true,
            "ticks": "",
            "zerolinecolor": "white"
           },
           "yaxis": {
            "backgroundcolor": "#E5ECF6",
            "gridcolor": "white",
            "gridwidth": 2,
            "linecolor": "white",
            "showbackground": true,
            "ticks": "",
            "zerolinecolor": "white"
           },
           "zaxis": {
            "backgroundcolor": "#E5ECF6",
            "gridcolor": "white",
            "gridwidth": 2,
            "linecolor": "white",
            "showbackground": true,
            "ticks": "",
            "zerolinecolor": "white"
           }
          },
          "shapedefaults": {
           "line": {
            "color": "#2a3f5f"
           }
          },
          "ternary": {
           "aaxis": {
            "gridcolor": "white",
            "linecolor": "white",
            "ticks": ""
           },
           "baxis": {
            "gridcolor": "white",
            "linecolor": "white",
            "ticks": ""
           },
           "bgcolor": "#E5ECF6",
           "caxis": {
            "gridcolor": "white",
            "linecolor": "white",
            "ticks": ""
           }
          },
          "title": {
           "x": 0.05
          },
          "xaxis": {
           "automargin": true,
           "gridcolor": "white",
           "linecolor": "white",
           "ticks": "",
           "title": {
            "standoff": 15
           },
           "zerolinecolor": "white",
           "zerolinewidth": 2
          },
          "yaxis": {
           "automargin": true,
           "gridcolor": "white",
           "linecolor": "white",
           "ticks": "",
           "title": {
            "standoff": 15
           },
           "zerolinecolor": "white",
           "zerolinewidth": 2
          }
         }
        },
        "xaxis": {
         "anchor": "y",
         "domain": [
          0,
          1
         ],
         "title": {
          "text": "Name"
         }
        },
        "yaxis": {
         "anchor": "x",
         "domain": [
          0,
          1
         ],
         "title": {
          "text": "% of wins"
         }
        }
       }
      }
     },
     "metadata": {},
     "output_type": "display_data"
    },
    {
     "name": "stdout",
     "output_type": "stream",
     "text": [
      "There are 0 undefeated fighters in Lightweight class and the best 10 are\n"
     ]
    },
    {
     "data": {
      "application/vnd.plotly.v1+json": {
       "config": {
        "plotlyServerURL": "https://plot.ly"
       },
       "data": [
        {
         "alignmentgroup": "True",
         "hovertemplate": "Name=%{x}<br>% of wins=%{y}<br>Total fights=%{marker.color}<extra></extra>",
         "legendgroup": "",
         "marker": {
          "color": [
           46,
           25,
           4,
           35,
           27,
           29,
           6,
           30,
           15,
           15
          ],
          "coloraxis": "coloraxis",
          "pattern": {
           "shape": ""
          }
         },
         "name": "",
         "offsetgroup": "",
         "orientation": "v",
         "showlegend": false,
         "textposition": "auto",
         "type": "bar",
         "x": [
          "Shinya Aoki",
          "Vitor Ribeiro",
          "Andy Ologun",
          "Kazunori Yokota",
          "Luiz Firmino",
          "Mitsuhiro Ishida",
          "Rafael Rios",
          "Ross Ebanez",
          "Bruno Carvalho",
          "Chris Jones"
         ],
         "xaxis": "x",
         "y": [
          85,
          80,
          75,
          71,
          70,
          69,
          67,
          67,
          67,
          67
         ],
         "yaxis": "y"
        }
       ],
       "layout": {
        "barmode": "relative",
        "coloraxis": {
         "colorbar": {
          "title": {
           "text": "Total fights"
          }
         },
         "colorscale": [
          [
           0,
           "#0d0887"
          ],
          [
           0.1111111111111111,
           "#46039f"
          ],
          [
           0.2222222222222222,
           "#7201a8"
          ],
          [
           0.3333333333333333,
           "#9c179e"
          ],
          [
           0.4444444444444444,
           "#bd3786"
          ],
          [
           0.5555555555555556,
           "#d8576b"
          ],
          [
           0.6666666666666666,
           "#ed7953"
          ],
          [
           0.7777777777777778,
           "#fb9f3a"
          ],
          [
           0.8888888888888888,
           "#fdca26"
          ],
          [
           1,
           "#f0f921"
          ]
         ]
        },
        "legend": {
         "tracegroupgap": 0
        },
        "margin": {
         "t": 60
        },
        "template": {
         "data": {
          "bar": [
           {
            "error_x": {
             "color": "#2a3f5f"
            },
            "error_y": {
             "color": "#2a3f5f"
            },
            "marker": {
             "line": {
              "color": "#E5ECF6",
              "width": 0.5
             },
             "pattern": {
              "fillmode": "overlay",
              "size": 10,
              "solidity": 0.2
             }
            },
            "type": "bar"
           }
          ],
          "barpolar": [
           {
            "marker": {
             "line": {
              "color": "#E5ECF6",
              "width": 0.5
             },
             "pattern": {
              "fillmode": "overlay",
              "size": 10,
              "solidity": 0.2
             }
            },
            "type": "barpolar"
           }
          ],
          "carpet": [
           {
            "aaxis": {
             "endlinecolor": "#2a3f5f",
             "gridcolor": "white",
             "linecolor": "white",
             "minorgridcolor": "white",
             "startlinecolor": "#2a3f5f"
            },
            "baxis": {
             "endlinecolor": "#2a3f5f",
             "gridcolor": "white",
             "linecolor": "white",
             "minorgridcolor": "white",
             "startlinecolor": "#2a3f5f"
            },
            "type": "carpet"
           }
          ],
          "choropleth": [
           {
            "colorbar": {
             "outlinewidth": 0,
             "ticks": ""
            },
            "type": "choropleth"
           }
          ],
          "contour": [
           {
            "colorbar": {
             "outlinewidth": 0,
             "ticks": ""
            },
            "colorscale": [
             [
              0,
              "#0d0887"
             ],
             [
              0.1111111111111111,
              "#46039f"
             ],
             [
              0.2222222222222222,
              "#7201a8"
             ],
             [
              0.3333333333333333,
              "#9c179e"
             ],
             [
              0.4444444444444444,
              "#bd3786"
             ],
             [
              0.5555555555555556,
              "#d8576b"
             ],
             [
              0.6666666666666666,
              "#ed7953"
             ],
             [
              0.7777777777777778,
              "#fb9f3a"
             ],
             [
              0.8888888888888888,
              "#fdca26"
             ],
             [
              1,
              "#f0f921"
             ]
            ],
            "type": "contour"
           }
          ],
          "contourcarpet": [
           {
            "colorbar": {
             "outlinewidth": 0,
             "ticks": ""
            },
            "type": "contourcarpet"
           }
          ],
          "heatmap": [
           {
            "colorbar": {
             "outlinewidth": 0,
             "ticks": ""
            },
            "colorscale": [
             [
              0,
              "#0d0887"
             ],
             [
              0.1111111111111111,
              "#46039f"
             ],
             [
              0.2222222222222222,
              "#7201a8"
             ],
             [
              0.3333333333333333,
              "#9c179e"
             ],
             [
              0.4444444444444444,
              "#bd3786"
             ],
             [
              0.5555555555555556,
              "#d8576b"
             ],
             [
              0.6666666666666666,
              "#ed7953"
             ],
             [
              0.7777777777777778,
              "#fb9f3a"
             ],
             [
              0.8888888888888888,
              "#fdca26"
             ],
             [
              1,
              "#f0f921"
             ]
            ],
            "type": "heatmap"
           }
          ],
          "heatmapgl": [
           {
            "colorbar": {
             "outlinewidth": 0,
             "ticks": ""
            },
            "colorscale": [
             [
              0,
              "#0d0887"
             ],
             [
              0.1111111111111111,
              "#46039f"
             ],
             [
              0.2222222222222222,
              "#7201a8"
             ],
             [
              0.3333333333333333,
              "#9c179e"
             ],
             [
              0.4444444444444444,
              "#bd3786"
             ],
             [
              0.5555555555555556,
              "#d8576b"
             ],
             [
              0.6666666666666666,
              "#ed7953"
             ],
             [
              0.7777777777777778,
              "#fb9f3a"
             ],
             [
              0.8888888888888888,
              "#fdca26"
             ],
             [
              1,
              "#f0f921"
             ]
            ],
            "type": "heatmapgl"
           }
          ],
          "histogram": [
           {
            "marker": {
             "pattern": {
              "fillmode": "overlay",
              "size": 10,
              "solidity": 0.2
             }
            },
            "type": "histogram"
           }
          ],
          "histogram2d": [
           {
            "colorbar": {
             "outlinewidth": 0,
             "ticks": ""
            },
            "colorscale": [
             [
              0,
              "#0d0887"
             ],
             [
              0.1111111111111111,
              "#46039f"
             ],
             [
              0.2222222222222222,
              "#7201a8"
             ],
             [
              0.3333333333333333,
              "#9c179e"
             ],
             [
              0.4444444444444444,
              "#bd3786"
             ],
             [
              0.5555555555555556,
              "#d8576b"
             ],
             [
              0.6666666666666666,
              "#ed7953"
             ],
             [
              0.7777777777777778,
              "#fb9f3a"
             ],
             [
              0.8888888888888888,
              "#fdca26"
             ],
             [
              1,
              "#f0f921"
             ]
            ],
            "type": "histogram2d"
           }
          ],
          "histogram2dcontour": [
           {
            "colorbar": {
             "outlinewidth": 0,
             "ticks": ""
            },
            "colorscale": [
             [
              0,
              "#0d0887"
             ],
             [
              0.1111111111111111,
              "#46039f"
             ],
             [
              0.2222222222222222,
              "#7201a8"
             ],
             [
              0.3333333333333333,
              "#9c179e"
             ],
             [
              0.4444444444444444,
              "#bd3786"
             ],
             [
              0.5555555555555556,
              "#d8576b"
             ],
             [
              0.6666666666666666,
              "#ed7953"
             ],
             [
              0.7777777777777778,
              "#fb9f3a"
             ],
             [
              0.8888888888888888,
              "#fdca26"
             ],
             [
              1,
              "#f0f921"
             ]
            ],
            "type": "histogram2dcontour"
           }
          ],
          "mesh3d": [
           {
            "colorbar": {
             "outlinewidth": 0,
             "ticks": ""
            },
            "type": "mesh3d"
           }
          ],
          "parcoords": [
           {
            "line": {
             "colorbar": {
              "outlinewidth": 0,
              "ticks": ""
             }
            },
            "type": "parcoords"
           }
          ],
          "pie": [
           {
            "automargin": true,
            "type": "pie"
           }
          ],
          "scatter": [
           {
            "fillpattern": {
             "fillmode": "overlay",
             "size": 10,
             "solidity": 0.2
            },
            "type": "scatter"
           }
          ],
          "scatter3d": [
           {
            "line": {
             "colorbar": {
              "outlinewidth": 0,
              "ticks": ""
             }
            },
            "marker": {
             "colorbar": {
              "outlinewidth": 0,
              "ticks": ""
             }
            },
            "type": "scatter3d"
           }
          ],
          "scattercarpet": [
           {
            "marker": {
             "colorbar": {
              "outlinewidth": 0,
              "ticks": ""
             }
            },
            "type": "scattercarpet"
           }
          ],
          "scattergeo": [
           {
            "marker": {
             "colorbar": {
              "outlinewidth": 0,
              "ticks": ""
             }
            },
            "type": "scattergeo"
           }
          ],
          "scattergl": [
           {
            "marker": {
             "colorbar": {
              "outlinewidth": 0,
              "ticks": ""
             }
            },
            "type": "scattergl"
           }
          ],
          "scattermapbox": [
           {
            "marker": {
             "colorbar": {
              "outlinewidth": 0,
              "ticks": ""
             }
            },
            "type": "scattermapbox"
           }
          ],
          "scatterpolar": [
           {
            "marker": {
             "colorbar": {
              "outlinewidth": 0,
              "ticks": ""
             }
            },
            "type": "scatterpolar"
           }
          ],
          "scatterpolargl": [
           {
            "marker": {
             "colorbar": {
              "outlinewidth": 0,
              "ticks": ""
             }
            },
            "type": "scatterpolargl"
           }
          ],
          "scatterternary": [
           {
            "marker": {
             "colorbar": {
              "outlinewidth": 0,
              "ticks": ""
             }
            },
            "type": "scatterternary"
           }
          ],
          "surface": [
           {
            "colorbar": {
             "outlinewidth": 0,
             "ticks": ""
            },
            "colorscale": [
             [
              0,
              "#0d0887"
             ],
             [
              0.1111111111111111,
              "#46039f"
             ],
             [
              0.2222222222222222,
              "#7201a8"
             ],
             [
              0.3333333333333333,
              "#9c179e"
             ],
             [
              0.4444444444444444,
              "#bd3786"
             ],
             [
              0.5555555555555556,
              "#d8576b"
             ],
             [
              0.6666666666666666,
              "#ed7953"
             ],
             [
              0.7777777777777778,
              "#fb9f3a"
             ],
             [
              0.8888888888888888,
              "#fdca26"
             ],
             [
              1,
              "#f0f921"
             ]
            ],
            "type": "surface"
           }
          ],
          "table": [
           {
            "cells": {
             "fill": {
              "color": "#EBF0F8"
             },
             "line": {
              "color": "white"
             }
            },
            "header": {
             "fill": {
              "color": "#C8D4E3"
             },
             "line": {
              "color": "white"
             }
            },
            "type": "table"
           }
          ]
         },
         "layout": {
          "annotationdefaults": {
           "arrowcolor": "#2a3f5f",
           "arrowhead": 0,
           "arrowwidth": 1
          },
          "autotypenumbers": "strict",
          "coloraxis": {
           "colorbar": {
            "outlinewidth": 0,
            "ticks": ""
           }
          },
          "colorscale": {
           "diverging": [
            [
             0,
             "#8e0152"
            ],
            [
             0.1,
             "#c51b7d"
            ],
            [
             0.2,
             "#de77ae"
            ],
            [
             0.3,
             "#f1b6da"
            ],
            [
             0.4,
             "#fde0ef"
            ],
            [
             0.5,
             "#f7f7f7"
            ],
            [
             0.6,
             "#e6f5d0"
            ],
            [
             0.7,
             "#b8e186"
            ],
            [
             0.8,
             "#7fbc41"
            ],
            [
             0.9,
             "#4d9221"
            ],
            [
             1,
             "#276419"
            ]
           ],
           "sequential": [
            [
             0,
             "#0d0887"
            ],
            [
             0.1111111111111111,
             "#46039f"
            ],
            [
             0.2222222222222222,
             "#7201a8"
            ],
            [
             0.3333333333333333,
             "#9c179e"
            ],
            [
             0.4444444444444444,
             "#bd3786"
            ],
            [
             0.5555555555555556,
             "#d8576b"
            ],
            [
             0.6666666666666666,
             "#ed7953"
            ],
            [
             0.7777777777777778,
             "#fb9f3a"
            ],
            [
             0.8888888888888888,
             "#fdca26"
            ],
            [
             1,
             "#f0f921"
            ]
           ],
           "sequentialminus": [
            [
             0,
             "#0d0887"
            ],
            [
             0.1111111111111111,
             "#46039f"
            ],
            [
             0.2222222222222222,
             "#7201a8"
            ],
            [
             0.3333333333333333,
             "#9c179e"
            ],
            [
             0.4444444444444444,
             "#bd3786"
            ],
            [
             0.5555555555555556,
             "#d8576b"
            ],
            [
             0.6666666666666666,
             "#ed7953"
            ],
            [
             0.7777777777777778,
             "#fb9f3a"
            ],
            [
             0.8888888888888888,
             "#fdca26"
            ],
            [
             1,
             "#f0f921"
            ]
           ]
          },
          "colorway": [
           "#636efa",
           "#EF553B",
           "#00cc96",
           "#ab63fa",
           "#FFA15A",
           "#19d3f3",
           "#FF6692",
           "#B6E880",
           "#FF97FF",
           "#FECB52"
          ],
          "font": {
           "color": "#2a3f5f"
          },
          "geo": {
           "bgcolor": "white",
           "lakecolor": "white",
           "landcolor": "#E5ECF6",
           "showlakes": true,
           "showland": true,
           "subunitcolor": "white"
          },
          "hoverlabel": {
           "align": "left"
          },
          "hovermode": "closest",
          "mapbox": {
           "style": "light"
          },
          "paper_bgcolor": "white",
          "plot_bgcolor": "#E5ECF6",
          "polar": {
           "angularaxis": {
            "gridcolor": "white",
            "linecolor": "white",
            "ticks": ""
           },
           "bgcolor": "#E5ECF6",
           "radialaxis": {
            "gridcolor": "white",
            "linecolor": "white",
            "ticks": ""
           }
          },
          "scene": {
           "xaxis": {
            "backgroundcolor": "#E5ECF6",
            "gridcolor": "white",
            "gridwidth": 2,
            "linecolor": "white",
            "showbackground": true,
            "ticks": "",
            "zerolinecolor": "white"
           },
           "yaxis": {
            "backgroundcolor": "#E5ECF6",
            "gridcolor": "white",
            "gridwidth": 2,
            "linecolor": "white",
            "showbackground": true,
            "ticks": "",
            "zerolinecolor": "white"
           },
           "zaxis": {
            "backgroundcolor": "#E5ECF6",
            "gridcolor": "white",
            "gridwidth": 2,
            "linecolor": "white",
            "showbackground": true,
            "ticks": "",
            "zerolinecolor": "white"
           }
          },
          "shapedefaults": {
           "line": {
            "color": "#2a3f5f"
           }
          },
          "ternary": {
           "aaxis": {
            "gridcolor": "white",
            "linecolor": "white",
            "ticks": ""
           },
           "baxis": {
            "gridcolor": "white",
            "linecolor": "white",
            "ticks": ""
           },
           "bgcolor": "#E5ECF6",
           "caxis": {
            "gridcolor": "white",
            "linecolor": "white",
            "ticks": ""
           }
          },
          "title": {
           "x": 0.05
          },
          "xaxis": {
           "automargin": true,
           "gridcolor": "white",
           "linecolor": "white",
           "ticks": "",
           "title": {
            "standoff": 15
           },
           "zerolinecolor": "white",
           "zerolinewidth": 2
          },
          "yaxis": {
           "automargin": true,
           "gridcolor": "white",
           "linecolor": "white",
           "ticks": "",
           "title": {
            "standoff": 15
           },
           "zerolinecolor": "white",
           "zerolinewidth": 2
          }
         }
        },
        "xaxis": {
         "anchor": "y",
         "domain": [
          0,
          1
         ],
         "title": {
          "text": "Name"
         }
        },
        "yaxis": {
         "anchor": "x",
         "domain": [
          0,
          1
         ],
         "title": {
          "text": "% of wins"
         }
        }
       }
      }
     },
     "metadata": {},
     "output_type": "display_data"
    },
    {
     "name": "stdout",
     "output_type": "stream",
     "text": [
      "There are 19 undefeated fighters in Flyweight class and the best 10 are\n"
     ]
    },
    {
     "data": {
      "application/vnd.plotly.v1+json": {
       "config": {
        "plotlyServerURL": "https://plot.ly"
       },
       "data": [
        {
         "alignmentgroup": "True",
         "hovertemplate": "Name=%{x}<br>% of wins=%{y}<br>Total fights=%{marker.color}<extra></extra>",
         "legendgroup": "",
         "marker": {
          "color": [
           1,
           8,
           11,
           6,
           5,
           7,
           10,
           8,
           11,
           7
          ],
          "coloraxis": "coloraxis",
          "pattern": {
           "shape": ""
          }
         },
         "name": "",
         "offsetgroup": "",
         "orientation": "v",
         "showlegend": false,
         "textposition": "auto",
         "type": "bar",
         "x": [
          "Jenna Castillo",
          "Rei Tsuruya",
          "Tatiana Suarez",
          "Ilima Macfarlane",
          "Fabiola Pidroni",
          "Josefine Knutsson",
          "Eduarda Moura",
          "Igor Da Silva",
          "Muhammad Mokaev",
          "Andre Lima"
         ],
         "xaxis": "x",
         "y": [
          100,
          100,
          100,
          100,
          100,
          100,
          100,
          100,
          100,
          100
         ],
         "yaxis": "y"
        }
       ],
       "layout": {
        "barmode": "relative",
        "coloraxis": {
         "colorbar": {
          "title": {
           "text": "Total fights"
          }
         },
         "colorscale": [
          [
           0,
           "#0d0887"
          ],
          [
           0.1111111111111111,
           "#46039f"
          ],
          [
           0.2222222222222222,
           "#7201a8"
          ],
          [
           0.3333333333333333,
           "#9c179e"
          ],
          [
           0.4444444444444444,
           "#bd3786"
          ],
          [
           0.5555555555555556,
           "#d8576b"
          ],
          [
           0.6666666666666666,
           "#ed7953"
          ],
          [
           0.7777777777777778,
           "#fb9f3a"
          ],
          [
           0.8888888888888888,
           "#fdca26"
          ],
          [
           1,
           "#f0f921"
          ]
         ]
        },
        "legend": {
         "tracegroupgap": 0
        },
        "margin": {
         "t": 60
        },
        "template": {
         "data": {
          "bar": [
           {
            "error_x": {
             "color": "#2a3f5f"
            },
            "error_y": {
             "color": "#2a3f5f"
            },
            "marker": {
             "line": {
              "color": "#E5ECF6",
              "width": 0.5
             },
             "pattern": {
              "fillmode": "overlay",
              "size": 10,
              "solidity": 0.2
             }
            },
            "type": "bar"
           }
          ],
          "barpolar": [
           {
            "marker": {
             "line": {
              "color": "#E5ECF6",
              "width": 0.5
             },
             "pattern": {
              "fillmode": "overlay",
              "size": 10,
              "solidity": 0.2
             }
            },
            "type": "barpolar"
           }
          ],
          "carpet": [
           {
            "aaxis": {
             "endlinecolor": "#2a3f5f",
             "gridcolor": "white",
             "linecolor": "white",
             "minorgridcolor": "white",
             "startlinecolor": "#2a3f5f"
            },
            "baxis": {
             "endlinecolor": "#2a3f5f",
             "gridcolor": "white",
             "linecolor": "white",
             "minorgridcolor": "white",
             "startlinecolor": "#2a3f5f"
            },
            "type": "carpet"
           }
          ],
          "choropleth": [
           {
            "colorbar": {
             "outlinewidth": 0,
             "ticks": ""
            },
            "type": "choropleth"
           }
          ],
          "contour": [
           {
            "colorbar": {
             "outlinewidth": 0,
             "ticks": ""
            },
            "colorscale": [
             [
              0,
              "#0d0887"
             ],
             [
              0.1111111111111111,
              "#46039f"
             ],
             [
              0.2222222222222222,
              "#7201a8"
             ],
             [
              0.3333333333333333,
              "#9c179e"
             ],
             [
              0.4444444444444444,
              "#bd3786"
             ],
             [
              0.5555555555555556,
              "#d8576b"
             ],
             [
              0.6666666666666666,
              "#ed7953"
             ],
             [
              0.7777777777777778,
              "#fb9f3a"
             ],
             [
              0.8888888888888888,
              "#fdca26"
             ],
             [
              1,
              "#f0f921"
             ]
            ],
            "type": "contour"
           }
          ],
          "contourcarpet": [
           {
            "colorbar": {
             "outlinewidth": 0,
             "ticks": ""
            },
            "type": "contourcarpet"
           }
          ],
          "heatmap": [
           {
            "colorbar": {
             "outlinewidth": 0,
             "ticks": ""
            },
            "colorscale": [
             [
              0,
              "#0d0887"
             ],
             [
              0.1111111111111111,
              "#46039f"
             ],
             [
              0.2222222222222222,
              "#7201a8"
             ],
             [
              0.3333333333333333,
              "#9c179e"
             ],
             [
              0.4444444444444444,
              "#bd3786"
             ],
             [
              0.5555555555555556,
              "#d8576b"
             ],
             [
              0.6666666666666666,
              "#ed7953"
             ],
             [
              0.7777777777777778,
              "#fb9f3a"
             ],
             [
              0.8888888888888888,
              "#fdca26"
             ],
             [
              1,
              "#f0f921"
             ]
            ],
            "type": "heatmap"
           }
          ],
          "heatmapgl": [
           {
            "colorbar": {
             "outlinewidth": 0,
             "ticks": ""
            },
            "colorscale": [
             [
              0,
              "#0d0887"
             ],
             [
              0.1111111111111111,
              "#46039f"
             ],
             [
              0.2222222222222222,
              "#7201a8"
             ],
             [
              0.3333333333333333,
              "#9c179e"
             ],
             [
              0.4444444444444444,
              "#bd3786"
             ],
             [
              0.5555555555555556,
              "#d8576b"
             ],
             [
              0.6666666666666666,
              "#ed7953"
             ],
             [
              0.7777777777777778,
              "#fb9f3a"
             ],
             [
              0.8888888888888888,
              "#fdca26"
             ],
             [
              1,
              "#f0f921"
             ]
            ],
            "type": "heatmapgl"
           }
          ],
          "histogram": [
           {
            "marker": {
             "pattern": {
              "fillmode": "overlay",
              "size": 10,
              "solidity": 0.2
             }
            },
            "type": "histogram"
           }
          ],
          "histogram2d": [
           {
            "colorbar": {
             "outlinewidth": 0,
             "ticks": ""
            },
            "colorscale": [
             [
              0,
              "#0d0887"
             ],
             [
              0.1111111111111111,
              "#46039f"
             ],
             [
              0.2222222222222222,
              "#7201a8"
             ],
             [
              0.3333333333333333,
              "#9c179e"
             ],
             [
              0.4444444444444444,
              "#bd3786"
             ],
             [
              0.5555555555555556,
              "#d8576b"
             ],
             [
              0.6666666666666666,
              "#ed7953"
             ],
             [
              0.7777777777777778,
              "#fb9f3a"
             ],
             [
              0.8888888888888888,
              "#fdca26"
             ],
             [
              1,
              "#f0f921"
             ]
            ],
            "type": "histogram2d"
           }
          ],
          "histogram2dcontour": [
           {
            "colorbar": {
             "outlinewidth": 0,
             "ticks": ""
            },
            "colorscale": [
             [
              0,
              "#0d0887"
             ],
             [
              0.1111111111111111,
              "#46039f"
             ],
             [
              0.2222222222222222,
              "#7201a8"
             ],
             [
              0.3333333333333333,
              "#9c179e"
             ],
             [
              0.4444444444444444,
              "#bd3786"
             ],
             [
              0.5555555555555556,
              "#d8576b"
             ],
             [
              0.6666666666666666,
              "#ed7953"
             ],
             [
              0.7777777777777778,
              "#fb9f3a"
             ],
             [
              0.8888888888888888,
              "#fdca26"
             ],
             [
              1,
              "#f0f921"
             ]
            ],
            "type": "histogram2dcontour"
           }
          ],
          "mesh3d": [
           {
            "colorbar": {
             "outlinewidth": 0,
             "ticks": ""
            },
            "type": "mesh3d"
           }
          ],
          "parcoords": [
           {
            "line": {
             "colorbar": {
              "outlinewidth": 0,
              "ticks": ""
             }
            },
            "type": "parcoords"
           }
          ],
          "pie": [
           {
            "automargin": true,
            "type": "pie"
           }
          ],
          "scatter": [
           {
            "fillpattern": {
             "fillmode": "overlay",
             "size": 10,
             "solidity": 0.2
            },
            "type": "scatter"
           }
          ],
          "scatter3d": [
           {
            "line": {
             "colorbar": {
              "outlinewidth": 0,
              "ticks": ""
             }
            },
            "marker": {
             "colorbar": {
              "outlinewidth": 0,
              "ticks": ""
             }
            },
            "type": "scatter3d"
           }
          ],
          "scattercarpet": [
           {
            "marker": {
             "colorbar": {
              "outlinewidth": 0,
              "ticks": ""
             }
            },
            "type": "scattercarpet"
           }
          ],
          "scattergeo": [
           {
            "marker": {
             "colorbar": {
              "outlinewidth": 0,
              "ticks": ""
             }
            },
            "type": "scattergeo"
           }
          ],
          "scattergl": [
           {
            "marker": {
             "colorbar": {
              "outlinewidth": 0,
              "ticks": ""
             }
            },
            "type": "scattergl"
           }
          ],
          "scattermapbox": [
           {
            "marker": {
             "colorbar": {
              "outlinewidth": 0,
              "ticks": ""
             }
            },
            "type": "scattermapbox"
           }
          ],
          "scatterpolar": [
           {
            "marker": {
             "colorbar": {
              "outlinewidth": 0,
              "ticks": ""
             }
            },
            "type": "scatterpolar"
           }
          ],
          "scatterpolargl": [
           {
            "marker": {
             "colorbar": {
              "outlinewidth": 0,
              "ticks": ""
             }
            },
            "type": "scatterpolargl"
           }
          ],
          "scatterternary": [
           {
            "marker": {
             "colorbar": {
              "outlinewidth": 0,
              "ticks": ""
             }
            },
            "type": "scatterternary"
           }
          ],
          "surface": [
           {
            "colorbar": {
             "outlinewidth": 0,
             "ticks": ""
            },
            "colorscale": [
             [
              0,
              "#0d0887"
             ],
             [
              0.1111111111111111,
              "#46039f"
             ],
             [
              0.2222222222222222,
              "#7201a8"
             ],
             [
              0.3333333333333333,
              "#9c179e"
             ],
             [
              0.4444444444444444,
              "#bd3786"
             ],
             [
              0.5555555555555556,
              "#d8576b"
             ],
             [
              0.6666666666666666,
              "#ed7953"
             ],
             [
              0.7777777777777778,
              "#fb9f3a"
             ],
             [
              0.8888888888888888,
              "#fdca26"
             ],
             [
              1,
              "#f0f921"
             ]
            ],
            "type": "surface"
           }
          ],
          "table": [
           {
            "cells": {
             "fill": {
              "color": "#EBF0F8"
             },
             "line": {
              "color": "white"
             }
            },
            "header": {
             "fill": {
              "color": "#C8D4E3"
             },
             "line": {
              "color": "white"
             }
            },
            "type": "table"
           }
          ]
         },
         "layout": {
          "annotationdefaults": {
           "arrowcolor": "#2a3f5f",
           "arrowhead": 0,
           "arrowwidth": 1
          },
          "autotypenumbers": "strict",
          "coloraxis": {
           "colorbar": {
            "outlinewidth": 0,
            "ticks": ""
           }
          },
          "colorscale": {
           "diverging": [
            [
             0,
             "#8e0152"
            ],
            [
             0.1,
             "#c51b7d"
            ],
            [
             0.2,
             "#de77ae"
            ],
            [
             0.3,
             "#f1b6da"
            ],
            [
             0.4,
             "#fde0ef"
            ],
            [
             0.5,
             "#f7f7f7"
            ],
            [
             0.6,
             "#e6f5d0"
            ],
            [
             0.7,
             "#b8e186"
            ],
            [
             0.8,
             "#7fbc41"
            ],
            [
             0.9,
             "#4d9221"
            ],
            [
             1,
             "#276419"
            ]
           ],
           "sequential": [
            [
             0,
             "#0d0887"
            ],
            [
             0.1111111111111111,
             "#46039f"
            ],
            [
             0.2222222222222222,
             "#7201a8"
            ],
            [
             0.3333333333333333,
             "#9c179e"
            ],
            [
             0.4444444444444444,
             "#bd3786"
            ],
            [
             0.5555555555555556,
             "#d8576b"
            ],
            [
             0.6666666666666666,
             "#ed7953"
            ],
            [
             0.7777777777777778,
             "#fb9f3a"
            ],
            [
             0.8888888888888888,
             "#fdca26"
            ],
            [
             1,
             "#f0f921"
            ]
           ],
           "sequentialminus": [
            [
             0,
             "#0d0887"
            ],
            [
             0.1111111111111111,
             "#46039f"
            ],
            [
             0.2222222222222222,
             "#7201a8"
            ],
            [
             0.3333333333333333,
             "#9c179e"
            ],
            [
             0.4444444444444444,
             "#bd3786"
            ],
            [
             0.5555555555555556,
             "#d8576b"
            ],
            [
             0.6666666666666666,
             "#ed7953"
            ],
            [
             0.7777777777777778,
             "#fb9f3a"
            ],
            [
             0.8888888888888888,
             "#fdca26"
            ],
            [
             1,
             "#f0f921"
            ]
           ]
          },
          "colorway": [
           "#636efa",
           "#EF553B",
           "#00cc96",
           "#ab63fa",
           "#FFA15A",
           "#19d3f3",
           "#FF6692",
           "#B6E880",
           "#FF97FF",
           "#FECB52"
          ],
          "font": {
           "color": "#2a3f5f"
          },
          "geo": {
           "bgcolor": "white",
           "lakecolor": "white",
           "landcolor": "#E5ECF6",
           "showlakes": true,
           "showland": true,
           "subunitcolor": "white"
          },
          "hoverlabel": {
           "align": "left"
          },
          "hovermode": "closest",
          "mapbox": {
           "style": "light"
          },
          "paper_bgcolor": "white",
          "plot_bgcolor": "#E5ECF6",
          "polar": {
           "angularaxis": {
            "gridcolor": "white",
            "linecolor": "white",
            "ticks": ""
           },
           "bgcolor": "#E5ECF6",
           "radialaxis": {
            "gridcolor": "white",
            "linecolor": "white",
            "ticks": ""
           }
          },
          "scene": {
           "xaxis": {
            "backgroundcolor": "#E5ECF6",
            "gridcolor": "white",
            "gridwidth": 2,
            "linecolor": "white",
            "showbackground": true,
            "ticks": "",
            "zerolinecolor": "white"
           },
           "yaxis": {
            "backgroundcolor": "#E5ECF6",
            "gridcolor": "white",
            "gridwidth": 2,
            "linecolor": "white",
            "showbackground": true,
            "ticks": "",
            "zerolinecolor": "white"
           },
           "zaxis": {
            "backgroundcolor": "#E5ECF6",
            "gridcolor": "white",
            "gridwidth": 2,
            "linecolor": "white",
            "showbackground": true,
            "ticks": "",
            "zerolinecolor": "white"
           }
          },
          "shapedefaults": {
           "line": {
            "color": "#2a3f5f"
           }
          },
          "ternary": {
           "aaxis": {
            "gridcolor": "white",
            "linecolor": "white",
            "ticks": ""
           },
           "baxis": {
            "gridcolor": "white",
            "linecolor": "white",
            "ticks": ""
           },
           "bgcolor": "#E5ECF6",
           "caxis": {
            "gridcolor": "white",
            "linecolor": "white",
            "ticks": ""
           }
          },
          "title": {
           "x": 0.05
          },
          "xaxis": {
           "automargin": true,
           "gridcolor": "white",
           "linecolor": "white",
           "ticks": "",
           "title": {
            "standoff": 15
           },
           "zerolinecolor": "white",
           "zerolinewidth": 2
          },
          "yaxis": {
           "automargin": true,
           "gridcolor": "white",
           "linecolor": "white",
           "ticks": "",
           "title": {
            "standoff": 15
           },
           "zerolinecolor": "white",
           "zerolinewidth": 2
          }
         }
        },
        "xaxis": {
         "anchor": "y",
         "domain": [
          0,
          1
         ],
         "title": {
          "text": "Name"
         }
        },
        "yaxis": {
         "anchor": "x",
         "domain": [
          0,
          1
         ],
         "title": {
          "text": "% of wins"
         }
        }
       }
      }
     },
     "metadata": {},
     "output_type": "display_data"
    },
    {
     "name": "stdout",
     "output_type": "stream",
     "text": [
      "There are 19 undefeated fighters in Middleweight class and the best 10 are\n"
     ]
    },
    {
     "data": {
      "application/vnd.plotly.v1+json": {
       "config": {
        "plotlyServerURL": "https://plot.ly"
       },
       "data": [
        {
         "alignmentgroup": "True",
         "hovertemplate": "Name=%{x}<br>% of wins=%{y}<br>Total fights=%{marker.color}<extra></extra>",
         "legendgroup": "",
         "marker": {
          "color": [
           13,
           8,
           8,
           3,
           2,
           2,
           6,
           7,
           5,
           1
          ],
          "coloraxis": "coloraxis",
          "pattern": {
           "shape": ""
          }
         },
         "name": "",
         "offsetgroup": "",
         "orientation": "v",
         "showlegend": false,
         "textposition": "auto",
         "type": "bar",
         "x": [
          "Joe Ray",
          "Ramazan Kuramagomedov",
          "Samandar Murodov",
          "Steve Hadsel",
          "Cedric Doumbe",
          "Mason Fowler",
          "Adam Khaliev",
          "Felix Klinkhammer",
          "Christian Uflacker",
          "Marcelo Mello"
         ],
         "xaxis": "x",
         "y": [
          100,
          100,
          100,
          100,
          100,
          100,
          100,
          100,
          100,
          100
         ],
         "yaxis": "y"
        }
       ],
       "layout": {
        "barmode": "relative",
        "coloraxis": {
         "colorbar": {
          "title": {
           "text": "Total fights"
          }
         },
         "colorscale": [
          [
           0,
           "#0d0887"
          ],
          [
           0.1111111111111111,
           "#46039f"
          ],
          [
           0.2222222222222222,
           "#7201a8"
          ],
          [
           0.3333333333333333,
           "#9c179e"
          ],
          [
           0.4444444444444444,
           "#bd3786"
          ],
          [
           0.5555555555555556,
           "#d8576b"
          ],
          [
           0.6666666666666666,
           "#ed7953"
          ],
          [
           0.7777777777777778,
           "#fb9f3a"
          ],
          [
           0.8888888888888888,
           "#fdca26"
          ],
          [
           1,
           "#f0f921"
          ]
         ]
        },
        "legend": {
         "tracegroupgap": 0
        },
        "margin": {
         "t": 60
        },
        "template": {
         "data": {
          "bar": [
           {
            "error_x": {
             "color": "#2a3f5f"
            },
            "error_y": {
             "color": "#2a3f5f"
            },
            "marker": {
             "line": {
              "color": "#E5ECF6",
              "width": 0.5
             },
             "pattern": {
              "fillmode": "overlay",
              "size": 10,
              "solidity": 0.2
             }
            },
            "type": "bar"
           }
          ],
          "barpolar": [
           {
            "marker": {
             "line": {
              "color": "#E5ECF6",
              "width": 0.5
             },
             "pattern": {
              "fillmode": "overlay",
              "size": 10,
              "solidity": 0.2
             }
            },
            "type": "barpolar"
           }
          ],
          "carpet": [
           {
            "aaxis": {
             "endlinecolor": "#2a3f5f",
             "gridcolor": "white",
             "linecolor": "white",
             "minorgridcolor": "white",
             "startlinecolor": "#2a3f5f"
            },
            "baxis": {
             "endlinecolor": "#2a3f5f",
             "gridcolor": "white",
             "linecolor": "white",
             "minorgridcolor": "white",
             "startlinecolor": "#2a3f5f"
            },
            "type": "carpet"
           }
          ],
          "choropleth": [
           {
            "colorbar": {
             "outlinewidth": 0,
             "ticks": ""
            },
            "type": "choropleth"
           }
          ],
          "contour": [
           {
            "colorbar": {
             "outlinewidth": 0,
             "ticks": ""
            },
            "colorscale": [
             [
              0,
              "#0d0887"
             ],
             [
              0.1111111111111111,
              "#46039f"
             ],
             [
              0.2222222222222222,
              "#7201a8"
             ],
             [
              0.3333333333333333,
              "#9c179e"
             ],
             [
              0.4444444444444444,
              "#bd3786"
             ],
             [
              0.5555555555555556,
              "#d8576b"
             ],
             [
              0.6666666666666666,
              "#ed7953"
             ],
             [
              0.7777777777777778,
              "#fb9f3a"
             ],
             [
              0.8888888888888888,
              "#fdca26"
             ],
             [
              1,
              "#f0f921"
             ]
            ],
            "type": "contour"
           }
          ],
          "contourcarpet": [
           {
            "colorbar": {
             "outlinewidth": 0,
             "ticks": ""
            },
            "type": "contourcarpet"
           }
          ],
          "heatmap": [
           {
            "colorbar": {
             "outlinewidth": 0,
             "ticks": ""
            },
            "colorscale": [
             [
              0,
              "#0d0887"
             ],
             [
              0.1111111111111111,
              "#46039f"
             ],
             [
              0.2222222222222222,
              "#7201a8"
             ],
             [
              0.3333333333333333,
              "#9c179e"
             ],
             [
              0.4444444444444444,
              "#bd3786"
             ],
             [
              0.5555555555555556,
              "#d8576b"
             ],
             [
              0.6666666666666666,
              "#ed7953"
             ],
             [
              0.7777777777777778,
              "#fb9f3a"
             ],
             [
              0.8888888888888888,
              "#fdca26"
             ],
             [
              1,
              "#f0f921"
             ]
            ],
            "type": "heatmap"
           }
          ],
          "heatmapgl": [
           {
            "colorbar": {
             "outlinewidth": 0,
             "ticks": ""
            },
            "colorscale": [
             [
              0,
              "#0d0887"
             ],
             [
              0.1111111111111111,
              "#46039f"
             ],
             [
              0.2222222222222222,
              "#7201a8"
             ],
             [
              0.3333333333333333,
              "#9c179e"
             ],
             [
              0.4444444444444444,
              "#bd3786"
             ],
             [
              0.5555555555555556,
              "#d8576b"
             ],
             [
              0.6666666666666666,
              "#ed7953"
             ],
             [
              0.7777777777777778,
              "#fb9f3a"
             ],
             [
              0.8888888888888888,
              "#fdca26"
             ],
             [
              1,
              "#f0f921"
             ]
            ],
            "type": "heatmapgl"
           }
          ],
          "histogram": [
           {
            "marker": {
             "pattern": {
              "fillmode": "overlay",
              "size": 10,
              "solidity": 0.2
             }
            },
            "type": "histogram"
           }
          ],
          "histogram2d": [
           {
            "colorbar": {
             "outlinewidth": 0,
             "ticks": ""
            },
            "colorscale": [
             [
              0,
              "#0d0887"
             ],
             [
              0.1111111111111111,
              "#46039f"
             ],
             [
              0.2222222222222222,
              "#7201a8"
             ],
             [
              0.3333333333333333,
              "#9c179e"
             ],
             [
              0.4444444444444444,
              "#bd3786"
             ],
             [
              0.5555555555555556,
              "#d8576b"
             ],
             [
              0.6666666666666666,
              "#ed7953"
             ],
             [
              0.7777777777777778,
              "#fb9f3a"
             ],
             [
              0.8888888888888888,
              "#fdca26"
             ],
             [
              1,
              "#f0f921"
             ]
            ],
            "type": "histogram2d"
           }
          ],
          "histogram2dcontour": [
           {
            "colorbar": {
             "outlinewidth": 0,
             "ticks": ""
            },
            "colorscale": [
             [
              0,
              "#0d0887"
             ],
             [
              0.1111111111111111,
              "#46039f"
             ],
             [
              0.2222222222222222,
              "#7201a8"
             ],
             [
              0.3333333333333333,
              "#9c179e"
             ],
             [
              0.4444444444444444,
              "#bd3786"
             ],
             [
              0.5555555555555556,
              "#d8576b"
             ],
             [
              0.6666666666666666,
              "#ed7953"
             ],
             [
              0.7777777777777778,
              "#fb9f3a"
             ],
             [
              0.8888888888888888,
              "#fdca26"
             ],
             [
              1,
              "#f0f921"
             ]
            ],
            "type": "histogram2dcontour"
           }
          ],
          "mesh3d": [
           {
            "colorbar": {
             "outlinewidth": 0,
             "ticks": ""
            },
            "type": "mesh3d"
           }
          ],
          "parcoords": [
           {
            "line": {
             "colorbar": {
              "outlinewidth": 0,
              "ticks": ""
             }
            },
            "type": "parcoords"
           }
          ],
          "pie": [
           {
            "automargin": true,
            "type": "pie"
           }
          ],
          "scatter": [
           {
            "fillpattern": {
             "fillmode": "overlay",
             "size": 10,
             "solidity": 0.2
            },
            "type": "scatter"
           }
          ],
          "scatter3d": [
           {
            "line": {
             "colorbar": {
              "outlinewidth": 0,
              "ticks": ""
             }
            },
            "marker": {
             "colorbar": {
              "outlinewidth": 0,
              "ticks": ""
             }
            },
            "type": "scatter3d"
           }
          ],
          "scattercarpet": [
           {
            "marker": {
             "colorbar": {
              "outlinewidth": 0,
              "ticks": ""
             }
            },
            "type": "scattercarpet"
           }
          ],
          "scattergeo": [
           {
            "marker": {
             "colorbar": {
              "outlinewidth": 0,
              "ticks": ""
             }
            },
            "type": "scattergeo"
           }
          ],
          "scattergl": [
           {
            "marker": {
             "colorbar": {
              "outlinewidth": 0,
              "ticks": ""
             }
            },
            "type": "scattergl"
           }
          ],
          "scattermapbox": [
           {
            "marker": {
             "colorbar": {
              "outlinewidth": 0,
              "ticks": ""
             }
            },
            "type": "scattermapbox"
           }
          ],
          "scatterpolar": [
           {
            "marker": {
             "colorbar": {
              "outlinewidth": 0,
              "ticks": ""
             }
            },
            "type": "scatterpolar"
           }
          ],
          "scatterpolargl": [
           {
            "marker": {
             "colorbar": {
              "outlinewidth": 0,
              "ticks": ""
             }
            },
            "type": "scatterpolargl"
           }
          ],
          "scatterternary": [
           {
            "marker": {
             "colorbar": {
              "outlinewidth": 0,
              "ticks": ""
             }
            },
            "type": "scatterternary"
           }
          ],
          "surface": [
           {
            "colorbar": {
             "outlinewidth": 0,
             "ticks": ""
            },
            "colorscale": [
             [
              0,
              "#0d0887"
             ],
             [
              0.1111111111111111,
              "#46039f"
             ],
             [
              0.2222222222222222,
              "#7201a8"
             ],
             [
              0.3333333333333333,
              "#9c179e"
             ],
             [
              0.4444444444444444,
              "#bd3786"
             ],
             [
              0.5555555555555556,
              "#d8576b"
             ],
             [
              0.6666666666666666,
              "#ed7953"
             ],
             [
              0.7777777777777778,
              "#fb9f3a"
             ],
             [
              0.8888888888888888,
              "#fdca26"
             ],
             [
              1,
              "#f0f921"
             ]
            ],
            "type": "surface"
           }
          ],
          "table": [
           {
            "cells": {
             "fill": {
              "color": "#EBF0F8"
             },
             "line": {
              "color": "white"
             }
            },
            "header": {
             "fill": {
              "color": "#C8D4E3"
             },
             "line": {
              "color": "white"
             }
            },
            "type": "table"
           }
          ]
         },
         "layout": {
          "annotationdefaults": {
           "arrowcolor": "#2a3f5f",
           "arrowhead": 0,
           "arrowwidth": 1
          },
          "autotypenumbers": "strict",
          "coloraxis": {
           "colorbar": {
            "outlinewidth": 0,
            "ticks": ""
           }
          },
          "colorscale": {
           "diverging": [
            [
             0,
             "#8e0152"
            ],
            [
             0.1,
             "#c51b7d"
            ],
            [
             0.2,
             "#de77ae"
            ],
            [
             0.3,
             "#f1b6da"
            ],
            [
             0.4,
             "#fde0ef"
            ],
            [
             0.5,
             "#f7f7f7"
            ],
            [
             0.6,
             "#e6f5d0"
            ],
            [
             0.7,
             "#b8e186"
            ],
            [
             0.8,
             "#7fbc41"
            ],
            [
             0.9,
             "#4d9221"
            ],
            [
             1,
             "#276419"
            ]
           ],
           "sequential": [
            [
             0,
             "#0d0887"
            ],
            [
             0.1111111111111111,
             "#46039f"
            ],
            [
             0.2222222222222222,
             "#7201a8"
            ],
            [
             0.3333333333333333,
             "#9c179e"
            ],
            [
             0.4444444444444444,
             "#bd3786"
            ],
            [
             0.5555555555555556,
             "#d8576b"
            ],
            [
             0.6666666666666666,
             "#ed7953"
            ],
            [
             0.7777777777777778,
             "#fb9f3a"
            ],
            [
             0.8888888888888888,
             "#fdca26"
            ],
            [
             1,
             "#f0f921"
            ]
           ],
           "sequentialminus": [
            [
             0,
             "#0d0887"
            ],
            [
             0.1111111111111111,
             "#46039f"
            ],
            [
             0.2222222222222222,
             "#7201a8"
            ],
            [
             0.3333333333333333,
             "#9c179e"
            ],
            [
             0.4444444444444444,
             "#bd3786"
            ],
            [
             0.5555555555555556,
             "#d8576b"
            ],
            [
             0.6666666666666666,
             "#ed7953"
            ],
            [
             0.7777777777777778,
             "#fb9f3a"
            ],
            [
             0.8888888888888888,
             "#fdca26"
            ],
            [
             1,
             "#f0f921"
            ]
           ]
          },
          "colorway": [
           "#636efa",
           "#EF553B",
           "#00cc96",
           "#ab63fa",
           "#FFA15A",
           "#19d3f3",
           "#FF6692",
           "#B6E880",
           "#FF97FF",
           "#FECB52"
          ],
          "font": {
           "color": "#2a3f5f"
          },
          "geo": {
           "bgcolor": "white",
           "lakecolor": "white",
           "landcolor": "#E5ECF6",
           "showlakes": true,
           "showland": true,
           "subunitcolor": "white"
          },
          "hoverlabel": {
           "align": "left"
          },
          "hovermode": "closest",
          "mapbox": {
           "style": "light"
          },
          "paper_bgcolor": "white",
          "plot_bgcolor": "#E5ECF6",
          "polar": {
           "angularaxis": {
            "gridcolor": "white",
            "linecolor": "white",
            "ticks": ""
           },
           "bgcolor": "#E5ECF6",
           "radialaxis": {
            "gridcolor": "white",
            "linecolor": "white",
            "ticks": ""
           }
          },
          "scene": {
           "xaxis": {
            "backgroundcolor": "#E5ECF6",
            "gridcolor": "white",
            "gridwidth": 2,
            "linecolor": "white",
            "showbackground": true,
            "ticks": "",
            "zerolinecolor": "white"
           },
           "yaxis": {
            "backgroundcolor": "#E5ECF6",
            "gridcolor": "white",
            "gridwidth": 2,
            "linecolor": "white",
            "showbackground": true,
            "ticks": "",
            "zerolinecolor": "white"
           },
           "zaxis": {
            "backgroundcolor": "#E5ECF6",
            "gridcolor": "white",
            "gridwidth": 2,
            "linecolor": "white",
            "showbackground": true,
            "ticks": "",
            "zerolinecolor": "white"
           }
          },
          "shapedefaults": {
           "line": {
            "color": "#2a3f5f"
           }
          },
          "ternary": {
           "aaxis": {
            "gridcolor": "white",
            "linecolor": "white",
            "ticks": ""
           },
           "baxis": {
            "gridcolor": "white",
            "linecolor": "white",
            "ticks": ""
           },
           "bgcolor": "#E5ECF6",
           "caxis": {
            "gridcolor": "white",
            "linecolor": "white",
            "ticks": ""
           }
          },
          "title": {
           "x": 0.05
          },
          "xaxis": {
           "automargin": true,
           "gridcolor": "white",
           "linecolor": "white",
           "ticks": "",
           "title": {
            "standoff": 15
           },
           "zerolinecolor": "white",
           "zerolinewidth": 2
          },
          "yaxis": {
           "automargin": true,
           "gridcolor": "white",
           "linecolor": "white",
           "ticks": "",
           "title": {
            "standoff": 15
           },
           "zerolinecolor": "white",
           "zerolinewidth": 2
          }
         }
        },
        "xaxis": {
         "anchor": "y",
         "domain": [
          0,
          1
         ],
         "title": {
          "text": "Name"
         }
        },
        "yaxis": {
         "anchor": "x",
         "domain": [
          0,
          1
         ],
         "title": {
          "text": "% of wins"
         }
        }
       }
      }
     },
     "metadata": {},
     "output_type": "display_data"
    },
    {
     "name": "stdout",
     "output_type": "stream",
     "text": [
      "There are 20 undefeated fighters in Heavyweight class and the best 10 are\n"
     ]
    },
    {
     "data": {
      "application/vnd.plotly.v1+json": {
       "config": {
        "plotlyServerURL": "https://plot.ly"
       },
       "data": [
        {
         "alignmentgroup": "True",
         "hovertemplate": "Name=%{x}<br>% of wins=%{y}<br>Total fights=%{marker.color}<extra></extra>",
         "legendgroup": "",
         "marker": {
          "color": [
           6,
           8,
           5,
           5,
           5,
           1,
           8,
           11,
           2,
           1
          ],
          "coloraxis": "coloraxis",
          "pattern": {
           "shape": ""
          }
         },
         "name": "",
         "offsetgroup": "",
         "orientation": "v",
         "showlegend": false,
         "textposition": "auto",
         "type": "bar",
         "x": [
          "Hugo Cunha",
          "Tom Murphy",
          "Dustin Joynson",
          "Hamdy Abdelwahab",
          "Chad Corvin",
          "Mark Robinson",
          "Mario Piazzon",
          "Dmitry Sosnovskiy",
          "Alex Hunter",
          "Sione Latu"
         ],
         "xaxis": "x",
         "y": [
          100,
          100,
          100,
          100,
          100,
          100,
          100,
          100,
          100,
          100
         ],
         "yaxis": "y"
        }
       ],
       "layout": {
        "barmode": "relative",
        "coloraxis": {
         "colorbar": {
          "title": {
           "text": "Total fights"
          }
         },
         "colorscale": [
          [
           0,
           "#0d0887"
          ],
          [
           0.1111111111111111,
           "#46039f"
          ],
          [
           0.2222222222222222,
           "#7201a8"
          ],
          [
           0.3333333333333333,
           "#9c179e"
          ],
          [
           0.4444444444444444,
           "#bd3786"
          ],
          [
           0.5555555555555556,
           "#d8576b"
          ],
          [
           0.6666666666666666,
           "#ed7953"
          ],
          [
           0.7777777777777778,
           "#fb9f3a"
          ],
          [
           0.8888888888888888,
           "#fdca26"
          ],
          [
           1,
           "#f0f921"
          ]
         ]
        },
        "legend": {
         "tracegroupgap": 0
        },
        "margin": {
         "t": 60
        },
        "template": {
         "data": {
          "bar": [
           {
            "error_x": {
             "color": "#2a3f5f"
            },
            "error_y": {
             "color": "#2a3f5f"
            },
            "marker": {
             "line": {
              "color": "#E5ECF6",
              "width": 0.5
             },
             "pattern": {
              "fillmode": "overlay",
              "size": 10,
              "solidity": 0.2
             }
            },
            "type": "bar"
           }
          ],
          "barpolar": [
           {
            "marker": {
             "line": {
              "color": "#E5ECF6",
              "width": 0.5
             },
             "pattern": {
              "fillmode": "overlay",
              "size": 10,
              "solidity": 0.2
             }
            },
            "type": "barpolar"
           }
          ],
          "carpet": [
           {
            "aaxis": {
             "endlinecolor": "#2a3f5f",
             "gridcolor": "white",
             "linecolor": "white",
             "minorgridcolor": "white",
             "startlinecolor": "#2a3f5f"
            },
            "baxis": {
             "endlinecolor": "#2a3f5f",
             "gridcolor": "white",
             "linecolor": "white",
             "minorgridcolor": "white",
             "startlinecolor": "#2a3f5f"
            },
            "type": "carpet"
           }
          ],
          "choropleth": [
           {
            "colorbar": {
             "outlinewidth": 0,
             "ticks": ""
            },
            "type": "choropleth"
           }
          ],
          "contour": [
           {
            "colorbar": {
             "outlinewidth": 0,
             "ticks": ""
            },
            "colorscale": [
             [
              0,
              "#0d0887"
             ],
             [
              0.1111111111111111,
              "#46039f"
             ],
             [
              0.2222222222222222,
              "#7201a8"
             ],
             [
              0.3333333333333333,
              "#9c179e"
             ],
             [
              0.4444444444444444,
              "#bd3786"
             ],
             [
              0.5555555555555556,
              "#d8576b"
             ],
             [
              0.6666666666666666,
              "#ed7953"
             ],
             [
              0.7777777777777778,
              "#fb9f3a"
             ],
             [
              0.8888888888888888,
              "#fdca26"
             ],
             [
              1,
              "#f0f921"
             ]
            ],
            "type": "contour"
           }
          ],
          "contourcarpet": [
           {
            "colorbar": {
             "outlinewidth": 0,
             "ticks": ""
            },
            "type": "contourcarpet"
           }
          ],
          "heatmap": [
           {
            "colorbar": {
             "outlinewidth": 0,
             "ticks": ""
            },
            "colorscale": [
             [
              0,
              "#0d0887"
             ],
             [
              0.1111111111111111,
              "#46039f"
             ],
             [
              0.2222222222222222,
              "#7201a8"
             ],
             [
              0.3333333333333333,
              "#9c179e"
             ],
             [
              0.4444444444444444,
              "#bd3786"
             ],
             [
              0.5555555555555556,
              "#d8576b"
             ],
             [
              0.6666666666666666,
              "#ed7953"
             ],
             [
              0.7777777777777778,
              "#fb9f3a"
             ],
             [
              0.8888888888888888,
              "#fdca26"
             ],
             [
              1,
              "#f0f921"
             ]
            ],
            "type": "heatmap"
           }
          ],
          "heatmapgl": [
           {
            "colorbar": {
             "outlinewidth": 0,
             "ticks": ""
            },
            "colorscale": [
             [
              0,
              "#0d0887"
             ],
             [
              0.1111111111111111,
              "#46039f"
             ],
             [
              0.2222222222222222,
              "#7201a8"
             ],
             [
              0.3333333333333333,
              "#9c179e"
             ],
             [
              0.4444444444444444,
              "#bd3786"
             ],
             [
              0.5555555555555556,
              "#d8576b"
             ],
             [
              0.6666666666666666,
              "#ed7953"
             ],
             [
              0.7777777777777778,
              "#fb9f3a"
             ],
             [
              0.8888888888888888,
              "#fdca26"
             ],
             [
              1,
              "#f0f921"
             ]
            ],
            "type": "heatmapgl"
           }
          ],
          "histogram": [
           {
            "marker": {
             "pattern": {
              "fillmode": "overlay",
              "size": 10,
              "solidity": 0.2
             }
            },
            "type": "histogram"
           }
          ],
          "histogram2d": [
           {
            "colorbar": {
             "outlinewidth": 0,
             "ticks": ""
            },
            "colorscale": [
             [
              0,
              "#0d0887"
             ],
             [
              0.1111111111111111,
              "#46039f"
             ],
             [
              0.2222222222222222,
              "#7201a8"
             ],
             [
              0.3333333333333333,
              "#9c179e"
             ],
             [
              0.4444444444444444,
              "#bd3786"
             ],
             [
              0.5555555555555556,
              "#d8576b"
             ],
             [
              0.6666666666666666,
              "#ed7953"
             ],
             [
              0.7777777777777778,
              "#fb9f3a"
             ],
             [
              0.8888888888888888,
              "#fdca26"
             ],
             [
              1,
              "#f0f921"
             ]
            ],
            "type": "histogram2d"
           }
          ],
          "histogram2dcontour": [
           {
            "colorbar": {
             "outlinewidth": 0,
             "ticks": ""
            },
            "colorscale": [
             [
              0,
              "#0d0887"
             ],
             [
              0.1111111111111111,
              "#46039f"
             ],
             [
              0.2222222222222222,
              "#7201a8"
             ],
             [
              0.3333333333333333,
              "#9c179e"
             ],
             [
              0.4444444444444444,
              "#bd3786"
             ],
             [
              0.5555555555555556,
              "#d8576b"
             ],
             [
              0.6666666666666666,
              "#ed7953"
             ],
             [
              0.7777777777777778,
              "#fb9f3a"
             ],
             [
              0.8888888888888888,
              "#fdca26"
             ],
             [
              1,
              "#f0f921"
             ]
            ],
            "type": "histogram2dcontour"
           }
          ],
          "mesh3d": [
           {
            "colorbar": {
             "outlinewidth": 0,
             "ticks": ""
            },
            "type": "mesh3d"
           }
          ],
          "parcoords": [
           {
            "line": {
             "colorbar": {
              "outlinewidth": 0,
              "ticks": ""
             }
            },
            "type": "parcoords"
           }
          ],
          "pie": [
           {
            "automargin": true,
            "type": "pie"
           }
          ],
          "scatter": [
           {
            "fillpattern": {
             "fillmode": "overlay",
             "size": 10,
             "solidity": 0.2
            },
            "type": "scatter"
           }
          ],
          "scatter3d": [
           {
            "line": {
             "colorbar": {
              "outlinewidth": 0,
              "ticks": ""
             }
            },
            "marker": {
             "colorbar": {
              "outlinewidth": 0,
              "ticks": ""
             }
            },
            "type": "scatter3d"
           }
          ],
          "scattercarpet": [
           {
            "marker": {
             "colorbar": {
              "outlinewidth": 0,
              "ticks": ""
             }
            },
            "type": "scattercarpet"
           }
          ],
          "scattergeo": [
           {
            "marker": {
             "colorbar": {
              "outlinewidth": 0,
              "ticks": ""
             }
            },
            "type": "scattergeo"
           }
          ],
          "scattergl": [
           {
            "marker": {
             "colorbar": {
              "outlinewidth": 0,
              "ticks": ""
             }
            },
            "type": "scattergl"
           }
          ],
          "scattermapbox": [
           {
            "marker": {
             "colorbar": {
              "outlinewidth": 0,
              "ticks": ""
             }
            },
            "type": "scattermapbox"
           }
          ],
          "scatterpolar": [
           {
            "marker": {
             "colorbar": {
              "outlinewidth": 0,
              "ticks": ""
             }
            },
            "type": "scatterpolar"
           }
          ],
          "scatterpolargl": [
           {
            "marker": {
             "colorbar": {
              "outlinewidth": 0,
              "ticks": ""
             }
            },
            "type": "scatterpolargl"
           }
          ],
          "scatterternary": [
           {
            "marker": {
             "colorbar": {
              "outlinewidth": 0,
              "ticks": ""
             }
            },
            "type": "scatterternary"
           }
          ],
          "surface": [
           {
            "colorbar": {
             "outlinewidth": 0,
             "ticks": ""
            },
            "colorscale": [
             [
              0,
              "#0d0887"
             ],
             [
              0.1111111111111111,
              "#46039f"
             ],
             [
              0.2222222222222222,
              "#7201a8"
             ],
             [
              0.3333333333333333,
              "#9c179e"
             ],
             [
              0.4444444444444444,
              "#bd3786"
             ],
             [
              0.5555555555555556,
              "#d8576b"
             ],
             [
              0.6666666666666666,
              "#ed7953"
             ],
             [
              0.7777777777777778,
              "#fb9f3a"
             ],
             [
              0.8888888888888888,
              "#fdca26"
             ],
             [
              1,
              "#f0f921"
             ]
            ],
            "type": "surface"
           }
          ],
          "table": [
           {
            "cells": {
             "fill": {
              "color": "#EBF0F8"
             },
             "line": {
              "color": "white"
             }
            },
            "header": {
             "fill": {
              "color": "#C8D4E3"
             },
             "line": {
              "color": "white"
             }
            },
            "type": "table"
           }
          ]
         },
         "layout": {
          "annotationdefaults": {
           "arrowcolor": "#2a3f5f",
           "arrowhead": 0,
           "arrowwidth": 1
          },
          "autotypenumbers": "strict",
          "coloraxis": {
           "colorbar": {
            "outlinewidth": 0,
            "ticks": ""
           }
          },
          "colorscale": {
           "diverging": [
            [
             0,
             "#8e0152"
            ],
            [
             0.1,
             "#c51b7d"
            ],
            [
             0.2,
             "#de77ae"
            ],
            [
             0.3,
             "#f1b6da"
            ],
            [
             0.4,
             "#fde0ef"
            ],
            [
             0.5,
             "#f7f7f7"
            ],
            [
             0.6,
             "#e6f5d0"
            ],
            [
             0.7,
             "#b8e186"
            ],
            [
             0.8,
             "#7fbc41"
            ],
            [
             0.9,
             "#4d9221"
            ],
            [
             1,
             "#276419"
            ]
           ],
           "sequential": [
            [
             0,
             "#0d0887"
            ],
            [
             0.1111111111111111,
             "#46039f"
            ],
            [
             0.2222222222222222,
             "#7201a8"
            ],
            [
             0.3333333333333333,
             "#9c179e"
            ],
            [
             0.4444444444444444,
             "#bd3786"
            ],
            [
             0.5555555555555556,
             "#d8576b"
            ],
            [
             0.6666666666666666,
             "#ed7953"
            ],
            [
             0.7777777777777778,
             "#fb9f3a"
            ],
            [
             0.8888888888888888,
             "#fdca26"
            ],
            [
             1,
             "#f0f921"
            ]
           ],
           "sequentialminus": [
            [
             0,
             "#0d0887"
            ],
            [
             0.1111111111111111,
             "#46039f"
            ],
            [
             0.2222222222222222,
             "#7201a8"
            ],
            [
             0.3333333333333333,
             "#9c179e"
            ],
            [
             0.4444444444444444,
             "#bd3786"
            ],
            [
             0.5555555555555556,
             "#d8576b"
            ],
            [
             0.6666666666666666,
             "#ed7953"
            ],
            [
             0.7777777777777778,
             "#fb9f3a"
            ],
            [
             0.8888888888888888,
             "#fdca26"
            ],
            [
             1,
             "#f0f921"
            ]
           ]
          },
          "colorway": [
           "#636efa",
           "#EF553B",
           "#00cc96",
           "#ab63fa",
           "#FFA15A",
           "#19d3f3",
           "#FF6692",
           "#B6E880",
           "#FF97FF",
           "#FECB52"
          ],
          "font": {
           "color": "#2a3f5f"
          },
          "geo": {
           "bgcolor": "white",
           "lakecolor": "white",
           "landcolor": "#E5ECF6",
           "showlakes": true,
           "showland": true,
           "subunitcolor": "white"
          },
          "hoverlabel": {
           "align": "left"
          },
          "hovermode": "closest",
          "mapbox": {
           "style": "light"
          },
          "paper_bgcolor": "white",
          "plot_bgcolor": "#E5ECF6",
          "polar": {
           "angularaxis": {
            "gridcolor": "white",
            "linecolor": "white",
            "ticks": ""
           },
           "bgcolor": "#E5ECF6",
           "radialaxis": {
            "gridcolor": "white",
            "linecolor": "white",
            "ticks": ""
           }
          },
          "scene": {
           "xaxis": {
            "backgroundcolor": "#E5ECF6",
            "gridcolor": "white",
            "gridwidth": 2,
            "linecolor": "white",
            "showbackground": true,
            "ticks": "",
            "zerolinecolor": "white"
           },
           "yaxis": {
            "backgroundcolor": "#E5ECF6",
            "gridcolor": "white",
            "gridwidth": 2,
            "linecolor": "white",
            "showbackground": true,
            "ticks": "",
            "zerolinecolor": "white"
           },
           "zaxis": {
            "backgroundcolor": "#E5ECF6",
            "gridcolor": "white",
            "gridwidth": 2,
            "linecolor": "white",
            "showbackground": true,
            "ticks": "",
            "zerolinecolor": "white"
           }
          },
          "shapedefaults": {
           "line": {
            "color": "#2a3f5f"
           }
          },
          "ternary": {
           "aaxis": {
            "gridcolor": "white",
            "linecolor": "white",
            "ticks": ""
           },
           "baxis": {
            "gridcolor": "white",
            "linecolor": "white",
            "ticks": ""
           },
           "bgcolor": "#E5ECF6",
           "caxis": {
            "gridcolor": "white",
            "linecolor": "white",
            "ticks": ""
           }
          },
          "title": {
           "x": 0.05
          },
          "xaxis": {
           "automargin": true,
           "gridcolor": "white",
           "linecolor": "white",
           "ticks": "",
           "title": {
            "standoff": 15
           },
           "zerolinecolor": "white",
           "zerolinewidth": 2
          },
          "yaxis": {
           "automargin": true,
           "gridcolor": "white",
           "linecolor": "white",
           "ticks": "",
           "title": {
            "standoff": 15
           },
           "zerolinecolor": "white",
           "zerolinewidth": 2
          }
         }
        },
        "xaxis": {
         "anchor": "y",
         "domain": [
          0,
          1
         ],
         "title": {
          "text": "Name"
         }
        },
        "yaxis": {
         "anchor": "x",
         "domain": [
          0,
          1
         ],
         "title": {
          "text": "% of wins"
         }
        }
       }
      }
     },
     "metadata": {},
     "output_type": "display_data"
    },
    {
     "name": "stdout",
     "output_type": "stream",
     "text": [
      "There are 29 undefeated fighters in Light Heavyweight class and the best 10 are\n"
     ]
    },
    {
     "data": {
      "application/vnd.plotly.v1+json": {
       "config": {
        "plotlyServerURL": "https://plot.ly"
       },
       "data": [
        {
         "alignmentgroup": "True",
         "hovertemplate": "Name=%{x}<br>% of wins=%{y}<br>Total fights=%{marker.color}<extra></extra>",
         "legendgroup": "",
         "marker": {
          "color": [
           7,
           8,
           14,
           7,
           1,
           11,
           1,
           13,
           8,
           11
          ],
          "coloraxis": "coloraxis",
          "pattern": {
           "shape": ""
          }
         },
         "name": "",
         "offsetgroup": "",
         "orientation": "v",
         "showlegend": false,
         "textposition": "auto",
         "type": "bar",
         "x": [
          "Robert Drysdale",
          "Andrew Todhunter",
          "Aliaskhab Khizriev",
          "Torrez Finney",
          "Spencer Hearns",
          "Artem Frolov",
          "Pro Escobedo",
          "Khamzat Chimaev",
          "Kenneth Bergh",
          "Rickson Gracie"
         ],
         "xaxis": "x",
         "y": [
          100,
          100,
          100,
          100,
          100,
          100,
          100,
          100,
          100,
          100
         ],
         "yaxis": "y"
        }
       ],
       "layout": {
        "barmode": "relative",
        "coloraxis": {
         "colorbar": {
          "title": {
           "text": "Total fights"
          }
         },
         "colorscale": [
          [
           0,
           "#0d0887"
          ],
          [
           0.1111111111111111,
           "#46039f"
          ],
          [
           0.2222222222222222,
           "#7201a8"
          ],
          [
           0.3333333333333333,
           "#9c179e"
          ],
          [
           0.4444444444444444,
           "#bd3786"
          ],
          [
           0.5555555555555556,
           "#d8576b"
          ],
          [
           0.6666666666666666,
           "#ed7953"
          ],
          [
           0.7777777777777778,
           "#fb9f3a"
          ],
          [
           0.8888888888888888,
           "#fdca26"
          ],
          [
           1,
           "#f0f921"
          ]
         ]
        },
        "legend": {
         "tracegroupgap": 0
        },
        "margin": {
         "t": 60
        },
        "template": {
         "data": {
          "bar": [
           {
            "error_x": {
             "color": "#2a3f5f"
            },
            "error_y": {
             "color": "#2a3f5f"
            },
            "marker": {
             "line": {
              "color": "#E5ECF6",
              "width": 0.5
             },
             "pattern": {
              "fillmode": "overlay",
              "size": 10,
              "solidity": 0.2
             }
            },
            "type": "bar"
           }
          ],
          "barpolar": [
           {
            "marker": {
             "line": {
              "color": "#E5ECF6",
              "width": 0.5
             },
             "pattern": {
              "fillmode": "overlay",
              "size": 10,
              "solidity": 0.2
             }
            },
            "type": "barpolar"
           }
          ],
          "carpet": [
           {
            "aaxis": {
             "endlinecolor": "#2a3f5f",
             "gridcolor": "white",
             "linecolor": "white",
             "minorgridcolor": "white",
             "startlinecolor": "#2a3f5f"
            },
            "baxis": {
             "endlinecolor": "#2a3f5f",
             "gridcolor": "white",
             "linecolor": "white",
             "minorgridcolor": "white",
             "startlinecolor": "#2a3f5f"
            },
            "type": "carpet"
           }
          ],
          "choropleth": [
           {
            "colorbar": {
             "outlinewidth": 0,
             "ticks": ""
            },
            "type": "choropleth"
           }
          ],
          "contour": [
           {
            "colorbar": {
             "outlinewidth": 0,
             "ticks": ""
            },
            "colorscale": [
             [
              0,
              "#0d0887"
             ],
             [
              0.1111111111111111,
              "#46039f"
             ],
             [
              0.2222222222222222,
              "#7201a8"
             ],
             [
              0.3333333333333333,
              "#9c179e"
             ],
             [
              0.4444444444444444,
              "#bd3786"
             ],
             [
              0.5555555555555556,
              "#d8576b"
             ],
             [
              0.6666666666666666,
              "#ed7953"
             ],
             [
              0.7777777777777778,
              "#fb9f3a"
             ],
             [
              0.8888888888888888,
              "#fdca26"
             ],
             [
              1,
              "#f0f921"
             ]
            ],
            "type": "contour"
           }
          ],
          "contourcarpet": [
           {
            "colorbar": {
             "outlinewidth": 0,
             "ticks": ""
            },
            "type": "contourcarpet"
           }
          ],
          "heatmap": [
           {
            "colorbar": {
             "outlinewidth": 0,
             "ticks": ""
            },
            "colorscale": [
             [
              0,
              "#0d0887"
             ],
             [
              0.1111111111111111,
              "#46039f"
             ],
             [
              0.2222222222222222,
              "#7201a8"
             ],
             [
              0.3333333333333333,
              "#9c179e"
             ],
             [
              0.4444444444444444,
              "#bd3786"
             ],
             [
              0.5555555555555556,
              "#d8576b"
             ],
             [
              0.6666666666666666,
              "#ed7953"
             ],
             [
              0.7777777777777778,
              "#fb9f3a"
             ],
             [
              0.8888888888888888,
              "#fdca26"
             ],
             [
              1,
              "#f0f921"
             ]
            ],
            "type": "heatmap"
           }
          ],
          "heatmapgl": [
           {
            "colorbar": {
             "outlinewidth": 0,
             "ticks": ""
            },
            "colorscale": [
             [
              0,
              "#0d0887"
             ],
             [
              0.1111111111111111,
              "#46039f"
             ],
             [
              0.2222222222222222,
              "#7201a8"
             ],
             [
              0.3333333333333333,
              "#9c179e"
             ],
             [
              0.4444444444444444,
              "#bd3786"
             ],
             [
              0.5555555555555556,
              "#d8576b"
             ],
             [
              0.6666666666666666,
              "#ed7953"
             ],
             [
              0.7777777777777778,
              "#fb9f3a"
             ],
             [
              0.8888888888888888,
              "#fdca26"
             ],
             [
              1,
              "#f0f921"
             ]
            ],
            "type": "heatmapgl"
           }
          ],
          "histogram": [
           {
            "marker": {
             "pattern": {
              "fillmode": "overlay",
              "size": 10,
              "solidity": 0.2
             }
            },
            "type": "histogram"
           }
          ],
          "histogram2d": [
           {
            "colorbar": {
             "outlinewidth": 0,
             "ticks": ""
            },
            "colorscale": [
             [
              0,
              "#0d0887"
             ],
             [
              0.1111111111111111,
              "#46039f"
             ],
             [
              0.2222222222222222,
              "#7201a8"
             ],
             [
              0.3333333333333333,
              "#9c179e"
             ],
             [
              0.4444444444444444,
              "#bd3786"
             ],
             [
              0.5555555555555556,
              "#d8576b"
             ],
             [
              0.6666666666666666,
              "#ed7953"
             ],
             [
              0.7777777777777778,
              "#fb9f3a"
             ],
             [
              0.8888888888888888,
              "#fdca26"
             ],
             [
              1,
              "#f0f921"
             ]
            ],
            "type": "histogram2d"
           }
          ],
          "histogram2dcontour": [
           {
            "colorbar": {
             "outlinewidth": 0,
             "ticks": ""
            },
            "colorscale": [
             [
              0,
              "#0d0887"
             ],
             [
              0.1111111111111111,
              "#46039f"
             ],
             [
              0.2222222222222222,
              "#7201a8"
             ],
             [
              0.3333333333333333,
              "#9c179e"
             ],
             [
              0.4444444444444444,
              "#bd3786"
             ],
             [
              0.5555555555555556,
              "#d8576b"
             ],
             [
              0.6666666666666666,
              "#ed7953"
             ],
             [
              0.7777777777777778,
              "#fb9f3a"
             ],
             [
              0.8888888888888888,
              "#fdca26"
             ],
             [
              1,
              "#f0f921"
             ]
            ],
            "type": "histogram2dcontour"
           }
          ],
          "mesh3d": [
           {
            "colorbar": {
             "outlinewidth": 0,
             "ticks": ""
            },
            "type": "mesh3d"
           }
          ],
          "parcoords": [
           {
            "line": {
             "colorbar": {
              "outlinewidth": 0,
              "ticks": ""
             }
            },
            "type": "parcoords"
           }
          ],
          "pie": [
           {
            "automargin": true,
            "type": "pie"
           }
          ],
          "scatter": [
           {
            "fillpattern": {
             "fillmode": "overlay",
             "size": 10,
             "solidity": 0.2
            },
            "type": "scatter"
           }
          ],
          "scatter3d": [
           {
            "line": {
             "colorbar": {
              "outlinewidth": 0,
              "ticks": ""
             }
            },
            "marker": {
             "colorbar": {
              "outlinewidth": 0,
              "ticks": ""
             }
            },
            "type": "scatter3d"
           }
          ],
          "scattercarpet": [
           {
            "marker": {
             "colorbar": {
              "outlinewidth": 0,
              "ticks": ""
             }
            },
            "type": "scattercarpet"
           }
          ],
          "scattergeo": [
           {
            "marker": {
             "colorbar": {
              "outlinewidth": 0,
              "ticks": ""
             }
            },
            "type": "scattergeo"
           }
          ],
          "scattergl": [
           {
            "marker": {
             "colorbar": {
              "outlinewidth": 0,
              "ticks": ""
             }
            },
            "type": "scattergl"
           }
          ],
          "scattermapbox": [
           {
            "marker": {
             "colorbar": {
              "outlinewidth": 0,
              "ticks": ""
             }
            },
            "type": "scattermapbox"
           }
          ],
          "scatterpolar": [
           {
            "marker": {
             "colorbar": {
              "outlinewidth": 0,
              "ticks": ""
             }
            },
            "type": "scatterpolar"
           }
          ],
          "scatterpolargl": [
           {
            "marker": {
             "colorbar": {
              "outlinewidth": 0,
              "ticks": ""
             }
            },
            "type": "scatterpolargl"
           }
          ],
          "scatterternary": [
           {
            "marker": {
             "colorbar": {
              "outlinewidth": 0,
              "ticks": ""
             }
            },
            "type": "scatterternary"
           }
          ],
          "surface": [
           {
            "colorbar": {
             "outlinewidth": 0,
             "ticks": ""
            },
            "colorscale": [
             [
              0,
              "#0d0887"
             ],
             [
              0.1111111111111111,
              "#46039f"
             ],
             [
              0.2222222222222222,
              "#7201a8"
             ],
             [
              0.3333333333333333,
              "#9c179e"
             ],
             [
              0.4444444444444444,
              "#bd3786"
             ],
             [
              0.5555555555555556,
              "#d8576b"
             ],
             [
              0.6666666666666666,
              "#ed7953"
             ],
             [
              0.7777777777777778,
              "#fb9f3a"
             ],
             [
              0.8888888888888888,
              "#fdca26"
             ],
             [
              1,
              "#f0f921"
             ]
            ],
            "type": "surface"
           }
          ],
          "table": [
           {
            "cells": {
             "fill": {
              "color": "#EBF0F8"
             },
             "line": {
              "color": "white"
             }
            },
            "header": {
             "fill": {
              "color": "#C8D4E3"
             },
             "line": {
              "color": "white"
             }
            },
            "type": "table"
           }
          ]
         },
         "layout": {
          "annotationdefaults": {
           "arrowcolor": "#2a3f5f",
           "arrowhead": 0,
           "arrowwidth": 1
          },
          "autotypenumbers": "strict",
          "coloraxis": {
           "colorbar": {
            "outlinewidth": 0,
            "ticks": ""
           }
          },
          "colorscale": {
           "diverging": [
            [
             0,
             "#8e0152"
            ],
            [
             0.1,
             "#c51b7d"
            ],
            [
             0.2,
             "#de77ae"
            ],
            [
             0.3,
             "#f1b6da"
            ],
            [
             0.4,
             "#fde0ef"
            ],
            [
             0.5,
             "#f7f7f7"
            ],
            [
             0.6,
             "#e6f5d0"
            ],
            [
             0.7,
             "#b8e186"
            ],
            [
             0.8,
             "#7fbc41"
            ],
            [
             0.9,
             "#4d9221"
            ],
            [
             1,
             "#276419"
            ]
           ],
           "sequential": [
            [
             0,
             "#0d0887"
            ],
            [
             0.1111111111111111,
             "#46039f"
            ],
            [
             0.2222222222222222,
             "#7201a8"
            ],
            [
             0.3333333333333333,
             "#9c179e"
            ],
            [
             0.4444444444444444,
             "#bd3786"
            ],
            [
             0.5555555555555556,
             "#d8576b"
            ],
            [
             0.6666666666666666,
             "#ed7953"
            ],
            [
             0.7777777777777778,
             "#fb9f3a"
            ],
            [
             0.8888888888888888,
             "#fdca26"
            ],
            [
             1,
             "#f0f921"
            ]
           ],
           "sequentialminus": [
            [
             0,
             "#0d0887"
            ],
            [
             0.1111111111111111,
             "#46039f"
            ],
            [
             0.2222222222222222,
             "#7201a8"
            ],
            [
             0.3333333333333333,
             "#9c179e"
            ],
            [
             0.4444444444444444,
             "#bd3786"
            ],
            [
             0.5555555555555556,
             "#d8576b"
            ],
            [
             0.6666666666666666,
             "#ed7953"
            ],
            [
             0.7777777777777778,
             "#fb9f3a"
            ],
            [
             0.8888888888888888,
             "#fdca26"
            ],
            [
             1,
             "#f0f921"
            ]
           ]
          },
          "colorway": [
           "#636efa",
           "#EF553B",
           "#00cc96",
           "#ab63fa",
           "#FFA15A",
           "#19d3f3",
           "#FF6692",
           "#B6E880",
           "#FF97FF",
           "#FECB52"
          ],
          "font": {
           "color": "#2a3f5f"
          },
          "geo": {
           "bgcolor": "white",
           "lakecolor": "white",
           "landcolor": "#E5ECF6",
           "showlakes": true,
           "showland": true,
           "subunitcolor": "white"
          },
          "hoverlabel": {
           "align": "left"
          },
          "hovermode": "closest",
          "mapbox": {
           "style": "light"
          },
          "paper_bgcolor": "white",
          "plot_bgcolor": "#E5ECF6",
          "polar": {
           "angularaxis": {
            "gridcolor": "white",
            "linecolor": "white",
            "ticks": ""
           },
           "bgcolor": "#E5ECF6",
           "radialaxis": {
            "gridcolor": "white",
            "linecolor": "white",
            "ticks": ""
           }
          },
          "scene": {
           "xaxis": {
            "backgroundcolor": "#E5ECF6",
            "gridcolor": "white",
            "gridwidth": 2,
            "linecolor": "white",
            "showbackground": true,
            "ticks": "",
            "zerolinecolor": "white"
           },
           "yaxis": {
            "backgroundcolor": "#E5ECF6",
            "gridcolor": "white",
            "gridwidth": 2,
            "linecolor": "white",
            "showbackground": true,
            "ticks": "",
            "zerolinecolor": "white"
           },
           "zaxis": {
            "backgroundcolor": "#E5ECF6",
            "gridcolor": "white",
            "gridwidth": 2,
            "linecolor": "white",
            "showbackground": true,
            "ticks": "",
            "zerolinecolor": "white"
           }
          },
          "shapedefaults": {
           "line": {
            "color": "#2a3f5f"
           }
          },
          "ternary": {
           "aaxis": {
            "gridcolor": "white",
            "linecolor": "white",
            "ticks": ""
           },
           "baxis": {
            "gridcolor": "white",
            "linecolor": "white",
            "ticks": ""
           },
           "bgcolor": "#E5ECF6",
           "caxis": {
            "gridcolor": "white",
            "linecolor": "white",
            "ticks": ""
           }
          },
          "title": {
           "x": 0.05
          },
          "xaxis": {
           "automargin": true,
           "gridcolor": "white",
           "linecolor": "white",
           "ticks": "",
           "title": {
            "standoff": 15
           },
           "zerolinecolor": "white",
           "zerolinewidth": 2
          },
          "yaxis": {
           "automargin": true,
           "gridcolor": "white",
           "linecolor": "white",
           "ticks": "",
           "title": {
            "standoff": 15
           },
           "zerolinecolor": "white",
           "zerolinewidth": 2
          }
         }
        },
        "xaxis": {
         "anchor": "y",
         "domain": [
          0,
          1
         ],
         "title": {
          "text": "Name"
         }
        },
        "yaxis": {
         "anchor": "x",
         "domain": [
          0,
          1
         ],
         "title": {
          "text": "% of wins"
         }
        }
       }
      }
     },
     "metadata": {},
     "output_type": "display_data"
    },
    {
     "name": "stdout",
     "output_type": "stream",
     "text": [
      "There are 32 undefeated fighters in Featherweight class and the best 10 are\n"
     ]
    },
    {
     "data": {
      "application/vnd.plotly.v1+json": {
       "config": {
        "plotlyServerURL": "https://plot.ly"
       },
       "data": [
        {
         "alignmentgroup": "True",
         "hovertemplate": "Name=%{x}<br>% of wins=%{y}<br>Total fights=%{marker.color}<extra></extra>",
         "legendgroup": "",
         "marker": {
          "color": [
           6,
           9,
           2,
           7,
           4,
           11,
           17,
           2,
           8,
           5
          ],
          "coloraxis": "coloraxis",
          "pattern": {
           "shape": ""
          }
         },
         "name": "",
         "offsetgroup": "",
         "orientation": "v",
         "showlegend": false,
         "textposition": "auto",
         "type": "bar",
         "x": [
          "Chris Holdsworth",
          "Martin Buschkamp",
          "Kerry Vera",
          "Payton Talbott",
          "Alberto Montes",
          "Farid Basharat",
          "Movsar Evloev",
          "David Blanco",
          "Rinya Nakamura",
          "Drew Pendleton"
         ],
         "xaxis": "x",
         "y": [
          100,
          100,
          100,
          100,
          100,
          100,
          100,
          100,
          100,
          100
         ],
         "yaxis": "y"
        }
       ],
       "layout": {
        "barmode": "relative",
        "coloraxis": {
         "colorbar": {
          "title": {
           "text": "Total fights"
          }
         },
         "colorscale": [
          [
           0,
           "#0d0887"
          ],
          [
           0.1111111111111111,
           "#46039f"
          ],
          [
           0.2222222222222222,
           "#7201a8"
          ],
          [
           0.3333333333333333,
           "#9c179e"
          ],
          [
           0.4444444444444444,
           "#bd3786"
          ],
          [
           0.5555555555555556,
           "#d8576b"
          ],
          [
           0.6666666666666666,
           "#ed7953"
          ],
          [
           0.7777777777777778,
           "#fb9f3a"
          ],
          [
           0.8888888888888888,
           "#fdca26"
          ],
          [
           1,
           "#f0f921"
          ]
         ]
        },
        "legend": {
         "tracegroupgap": 0
        },
        "margin": {
         "t": 60
        },
        "template": {
         "data": {
          "bar": [
           {
            "error_x": {
             "color": "#2a3f5f"
            },
            "error_y": {
             "color": "#2a3f5f"
            },
            "marker": {
             "line": {
              "color": "#E5ECF6",
              "width": 0.5
             },
             "pattern": {
              "fillmode": "overlay",
              "size": 10,
              "solidity": 0.2
             }
            },
            "type": "bar"
           }
          ],
          "barpolar": [
           {
            "marker": {
             "line": {
              "color": "#E5ECF6",
              "width": 0.5
             },
             "pattern": {
              "fillmode": "overlay",
              "size": 10,
              "solidity": 0.2
             }
            },
            "type": "barpolar"
           }
          ],
          "carpet": [
           {
            "aaxis": {
             "endlinecolor": "#2a3f5f",
             "gridcolor": "white",
             "linecolor": "white",
             "minorgridcolor": "white",
             "startlinecolor": "#2a3f5f"
            },
            "baxis": {
             "endlinecolor": "#2a3f5f",
             "gridcolor": "white",
             "linecolor": "white",
             "minorgridcolor": "white",
             "startlinecolor": "#2a3f5f"
            },
            "type": "carpet"
           }
          ],
          "choropleth": [
           {
            "colorbar": {
             "outlinewidth": 0,
             "ticks": ""
            },
            "type": "choropleth"
           }
          ],
          "contour": [
           {
            "colorbar": {
             "outlinewidth": 0,
             "ticks": ""
            },
            "colorscale": [
             [
              0,
              "#0d0887"
             ],
             [
              0.1111111111111111,
              "#46039f"
             ],
             [
              0.2222222222222222,
              "#7201a8"
             ],
             [
              0.3333333333333333,
              "#9c179e"
             ],
             [
              0.4444444444444444,
              "#bd3786"
             ],
             [
              0.5555555555555556,
              "#d8576b"
             ],
             [
              0.6666666666666666,
              "#ed7953"
             ],
             [
              0.7777777777777778,
              "#fb9f3a"
             ],
             [
              0.8888888888888888,
              "#fdca26"
             ],
             [
              1,
              "#f0f921"
             ]
            ],
            "type": "contour"
           }
          ],
          "contourcarpet": [
           {
            "colorbar": {
             "outlinewidth": 0,
             "ticks": ""
            },
            "type": "contourcarpet"
           }
          ],
          "heatmap": [
           {
            "colorbar": {
             "outlinewidth": 0,
             "ticks": ""
            },
            "colorscale": [
             [
              0,
              "#0d0887"
             ],
             [
              0.1111111111111111,
              "#46039f"
             ],
             [
              0.2222222222222222,
              "#7201a8"
             ],
             [
              0.3333333333333333,
              "#9c179e"
             ],
             [
              0.4444444444444444,
              "#bd3786"
             ],
             [
              0.5555555555555556,
              "#d8576b"
             ],
             [
              0.6666666666666666,
              "#ed7953"
             ],
             [
              0.7777777777777778,
              "#fb9f3a"
             ],
             [
              0.8888888888888888,
              "#fdca26"
             ],
             [
              1,
              "#f0f921"
             ]
            ],
            "type": "heatmap"
           }
          ],
          "heatmapgl": [
           {
            "colorbar": {
             "outlinewidth": 0,
             "ticks": ""
            },
            "colorscale": [
             [
              0,
              "#0d0887"
             ],
             [
              0.1111111111111111,
              "#46039f"
             ],
             [
              0.2222222222222222,
              "#7201a8"
             ],
             [
              0.3333333333333333,
              "#9c179e"
             ],
             [
              0.4444444444444444,
              "#bd3786"
             ],
             [
              0.5555555555555556,
              "#d8576b"
             ],
             [
              0.6666666666666666,
              "#ed7953"
             ],
             [
              0.7777777777777778,
              "#fb9f3a"
             ],
             [
              0.8888888888888888,
              "#fdca26"
             ],
             [
              1,
              "#f0f921"
             ]
            ],
            "type": "heatmapgl"
           }
          ],
          "histogram": [
           {
            "marker": {
             "pattern": {
              "fillmode": "overlay",
              "size": 10,
              "solidity": 0.2
             }
            },
            "type": "histogram"
           }
          ],
          "histogram2d": [
           {
            "colorbar": {
             "outlinewidth": 0,
             "ticks": ""
            },
            "colorscale": [
             [
              0,
              "#0d0887"
             ],
             [
              0.1111111111111111,
              "#46039f"
             ],
             [
              0.2222222222222222,
              "#7201a8"
             ],
             [
              0.3333333333333333,
              "#9c179e"
             ],
             [
              0.4444444444444444,
              "#bd3786"
             ],
             [
              0.5555555555555556,
              "#d8576b"
             ],
             [
              0.6666666666666666,
              "#ed7953"
             ],
             [
              0.7777777777777778,
              "#fb9f3a"
             ],
             [
              0.8888888888888888,
              "#fdca26"
             ],
             [
              1,
              "#f0f921"
             ]
            ],
            "type": "histogram2d"
           }
          ],
          "histogram2dcontour": [
           {
            "colorbar": {
             "outlinewidth": 0,
             "ticks": ""
            },
            "colorscale": [
             [
              0,
              "#0d0887"
             ],
             [
              0.1111111111111111,
              "#46039f"
             ],
             [
              0.2222222222222222,
              "#7201a8"
             ],
             [
              0.3333333333333333,
              "#9c179e"
             ],
             [
              0.4444444444444444,
              "#bd3786"
             ],
             [
              0.5555555555555556,
              "#d8576b"
             ],
             [
              0.6666666666666666,
              "#ed7953"
             ],
             [
              0.7777777777777778,
              "#fb9f3a"
             ],
             [
              0.8888888888888888,
              "#fdca26"
             ],
             [
              1,
              "#f0f921"
             ]
            ],
            "type": "histogram2dcontour"
           }
          ],
          "mesh3d": [
           {
            "colorbar": {
             "outlinewidth": 0,
             "ticks": ""
            },
            "type": "mesh3d"
           }
          ],
          "parcoords": [
           {
            "line": {
             "colorbar": {
              "outlinewidth": 0,
              "ticks": ""
             }
            },
            "type": "parcoords"
           }
          ],
          "pie": [
           {
            "automargin": true,
            "type": "pie"
           }
          ],
          "scatter": [
           {
            "fillpattern": {
             "fillmode": "overlay",
             "size": 10,
             "solidity": 0.2
            },
            "type": "scatter"
           }
          ],
          "scatter3d": [
           {
            "line": {
             "colorbar": {
              "outlinewidth": 0,
              "ticks": ""
             }
            },
            "marker": {
             "colorbar": {
              "outlinewidth": 0,
              "ticks": ""
             }
            },
            "type": "scatter3d"
           }
          ],
          "scattercarpet": [
           {
            "marker": {
             "colorbar": {
              "outlinewidth": 0,
              "ticks": ""
             }
            },
            "type": "scattercarpet"
           }
          ],
          "scattergeo": [
           {
            "marker": {
             "colorbar": {
              "outlinewidth": 0,
              "ticks": ""
             }
            },
            "type": "scattergeo"
           }
          ],
          "scattergl": [
           {
            "marker": {
             "colorbar": {
              "outlinewidth": 0,
              "ticks": ""
             }
            },
            "type": "scattergl"
           }
          ],
          "scattermapbox": [
           {
            "marker": {
             "colorbar": {
              "outlinewidth": 0,
              "ticks": ""
             }
            },
            "type": "scattermapbox"
           }
          ],
          "scatterpolar": [
           {
            "marker": {
             "colorbar": {
              "outlinewidth": 0,
              "ticks": ""
             }
            },
            "type": "scatterpolar"
           }
          ],
          "scatterpolargl": [
           {
            "marker": {
             "colorbar": {
              "outlinewidth": 0,
              "ticks": ""
             }
            },
            "type": "scatterpolargl"
           }
          ],
          "scatterternary": [
           {
            "marker": {
             "colorbar": {
              "outlinewidth": 0,
              "ticks": ""
             }
            },
            "type": "scatterternary"
           }
          ],
          "surface": [
           {
            "colorbar": {
             "outlinewidth": 0,
             "ticks": ""
            },
            "colorscale": [
             [
              0,
              "#0d0887"
             ],
             [
              0.1111111111111111,
              "#46039f"
             ],
             [
              0.2222222222222222,
              "#7201a8"
             ],
             [
              0.3333333333333333,
              "#9c179e"
             ],
             [
              0.4444444444444444,
              "#bd3786"
             ],
             [
              0.5555555555555556,
              "#d8576b"
             ],
             [
              0.6666666666666666,
              "#ed7953"
             ],
             [
              0.7777777777777778,
              "#fb9f3a"
             ],
             [
              0.8888888888888888,
              "#fdca26"
             ],
             [
              1,
              "#f0f921"
             ]
            ],
            "type": "surface"
           }
          ],
          "table": [
           {
            "cells": {
             "fill": {
              "color": "#EBF0F8"
             },
             "line": {
              "color": "white"
             }
            },
            "header": {
             "fill": {
              "color": "#C8D4E3"
             },
             "line": {
              "color": "white"
             }
            },
            "type": "table"
           }
          ]
         },
         "layout": {
          "annotationdefaults": {
           "arrowcolor": "#2a3f5f",
           "arrowhead": 0,
           "arrowwidth": 1
          },
          "autotypenumbers": "strict",
          "coloraxis": {
           "colorbar": {
            "outlinewidth": 0,
            "ticks": ""
           }
          },
          "colorscale": {
           "diverging": [
            [
             0,
             "#8e0152"
            ],
            [
             0.1,
             "#c51b7d"
            ],
            [
             0.2,
             "#de77ae"
            ],
            [
             0.3,
             "#f1b6da"
            ],
            [
             0.4,
             "#fde0ef"
            ],
            [
             0.5,
             "#f7f7f7"
            ],
            [
             0.6,
             "#e6f5d0"
            ],
            [
             0.7,
             "#b8e186"
            ],
            [
             0.8,
             "#7fbc41"
            ],
            [
             0.9,
             "#4d9221"
            ],
            [
             1,
             "#276419"
            ]
           ],
           "sequential": [
            [
             0,
             "#0d0887"
            ],
            [
             0.1111111111111111,
             "#46039f"
            ],
            [
             0.2222222222222222,
             "#7201a8"
            ],
            [
             0.3333333333333333,
             "#9c179e"
            ],
            [
             0.4444444444444444,
             "#bd3786"
            ],
            [
             0.5555555555555556,
             "#d8576b"
            ],
            [
             0.6666666666666666,
             "#ed7953"
            ],
            [
             0.7777777777777778,
             "#fb9f3a"
            ],
            [
             0.8888888888888888,
             "#fdca26"
            ],
            [
             1,
             "#f0f921"
            ]
           ],
           "sequentialminus": [
            [
             0,
             "#0d0887"
            ],
            [
             0.1111111111111111,
             "#46039f"
            ],
            [
             0.2222222222222222,
             "#7201a8"
            ],
            [
             0.3333333333333333,
             "#9c179e"
            ],
            [
             0.4444444444444444,
             "#bd3786"
            ],
            [
             0.5555555555555556,
             "#d8576b"
            ],
            [
             0.6666666666666666,
             "#ed7953"
            ],
            [
             0.7777777777777778,
             "#fb9f3a"
            ],
            [
             0.8888888888888888,
             "#fdca26"
            ],
            [
             1,
             "#f0f921"
            ]
           ]
          },
          "colorway": [
           "#636efa",
           "#EF553B",
           "#00cc96",
           "#ab63fa",
           "#FFA15A",
           "#19d3f3",
           "#FF6692",
           "#B6E880",
           "#FF97FF",
           "#FECB52"
          ],
          "font": {
           "color": "#2a3f5f"
          },
          "geo": {
           "bgcolor": "white",
           "lakecolor": "white",
           "landcolor": "#E5ECF6",
           "showlakes": true,
           "showland": true,
           "subunitcolor": "white"
          },
          "hoverlabel": {
           "align": "left"
          },
          "hovermode": "closest",
          "mapbox": {
           "style": "light"
          },
          "paper_bgcolor": "white",
          "plot_bgcolor": "#E5ECF6",
          "polar": {
           "angularaxis": {
            "gridcolor": "white",
            "linecolor": "white",
            "ticks": ""
           },
           "bgcolor": "#E5ECF6",
           "radialaxis": {
            "gridcolor": "white",
            "linecolor": "white",
            "ticks": ""
           }
          },
          "scene": {
           "xaxis": {
            "backgroundcolor": "#E5ECF6",
            "gridcolor": "white",
            "gridwidth": 2,
            "linecolor": "white",
            "showbackground": true,
            "ticks": "",
            "zerolinecolor": "white"
           },
           "yaxis": {
            "backgroundcolor": "#E5ECF6",
            "gridcolor": "white",
            "gridwidth": 2,
            "linecolor": "white",
            "showbackground": true,
            "ticks": "",
            "zerolinecolor": "white"
           },
           "zaxis": {
            "backgroundcolor": "#E5ECF6",
            "gridcolor": "white",
            "gridwidth": 2,
            "linecolor": "white",
            "showbackground": true,
            "ticks": "",
            "zerolinecolor": "white"
           }
          },
          "shapedefaults": {
           "line": {
            "color": "#2a3f5f"
           }
          },
          "ternary": {
           "aaxis": {
            "gridcolor": "white",
            "linecolor": "white",
            "ticks": ""
           },
           "baxis": {
            "gridcolor": "white",
            "linecolor": "white",
            "ticks": ""
           },
           "bgcolor": "#E5ECF6",
           "caxis": {
            "gridcolor": "white",
            "linecolor": "white",
            "ticks": ""
           }
          },
          "title": {
           "x": 0.05
          },
          "xaxis": {
           "automargin": true,
           "gridcolor": "white",
           "linecolor": "white",
           "ticks": "",
           "title": {
            "standoff": 15
           },
           "zerolinecolor": "white",
           "zerolinewidth": 2
          },
          "yaxis": {
           "automargin": true,
           "gridcolor": "white",
           "linecolor": "white",
           "ticks": "",
           "title": {
            "standoff": 15
           },
           "zerolinecolor": "white",
           "zerolinewidth": 2
          }
         }
        },
        "xaxis": {
         "anchor": "y",
         "domain": [
          0,
          1
         ],
         "title": {
          "text": "Name"
         }
        },
        "yaxis": {
         "anchor": "x",
         "domain": [
          0,
          1
         ],
         "title": {
          "text": "% of wins"
         }
        }
       }
      }
     },
     "metadata": {},
     "output_type": "display_data"
    },
    {
     "name": "stdout",
     "output_type": "stream",
     "text": [
      "There are 1 undefeated fighters in Bantamweight class and the best 10 are\n"
     ]
    },
    {
     "data": {
      "application/vnd.plotly.v1+json": {
       "config": {
        "plotlyServerURL": "https://plot.ly"
       },
       "data": [
        {
         "alignmentgroup": "True",
         "hovertemplate": "Name=%{x}<br>% of wins=%{y}<br>Total fights=%{marker.color}<extra></extra>",
         "legendgroup": "",
         "marker": {
          "color": [
           1,
           6,
           13,
           11
          ],
          "coloraxis": "coloraxis",
          "pattern": {
           "shape": ""
          }
         },
         "name": "",
         "offsetgroup": "",
         "orientation": "v",
         "showlegend": false,
         "textposition": "auto",
         "type": "bar",
         "x": [
          "JW Wright",
          "Raul Sandoval",
          "Josh Epps",
          "Bobby Escalante"
         ],
         "xaxis": "x",
         "y": [
          100,
          50,
          46,
          45
         ],
         "yaxis": "y"
        }
       ],
       "layout": {
        "barmode": "relative",
        "coloraxis": {
         "colorbar": {
          "title": {
           "text": "Total fights"
          }
         },
         "colorscale": [
          [
           0,
           "#0d0887"
          ],
          [
           0.1111111111111111,
           "#46039f"
          ],
          [
           0.2222222222222222,
           "#7201a8"
          ],
          [
           0.3333333333333333,
           "#9c179e"
          ],
          [
           0.4444444444444444,
           "#bd3786"
          ],
          [
           0.5555555555555556,
           "#d8576b"
          ],
          [
           0.6666666666666666,
           "#ed7953"
          ],
          [
           0.7777777777777778,
           "#fb9f3a"
          ],
          [
           0.8888888888888888,
           "#fdca26"
          ],
          [
           1,
           "#f0f921"
          ]
         ]
        },
        "legend": {
         "tracegroupgap": 0
        },
        "margin": {
         "t": 60
        },
        "template": {
         "data": {
          "bar": [
           {
            "error_x": {
             "color": "#2a3f5f"
            },
            "error_y": {
             "color": "#2a3f5f"
            },
            "marker": {
             "line": {
              "color": "#E5ECF6",
              "width": 0.5
             },
             "pattern": {
              "fillmode": "overlay",
              "size": 10,
              "solidity": 0.2
             }
            },
            "type": "bar"
           }
          ],
          "barpolar": [
           {
            "marker": {
             "line": {
              "color": "#E5ECF6",
              "width": 0.5
             },
             "pattern": {
              "fillmode": "overlay",
              "size": 10,
              "solidity": 0.2
             }
            },
            "type": "barpolar"
           }
          ],
          "carpet": [
           {
            "aaxis": {
             "endlinecolor": "#2a3f5f",
             "gridcolor": "white",
             "linecolor": "white",
             "minorgridcolor": "white",
             "startlinecolor": "#2a3f5f"
            },
            "baxis": {
             "endlinecolor": "#2a3f5f",
             "gridcolor": "white",
             "linecolor": "white",
             "minorgridcolor": "white",
             "startlinecolor": "#2a3f5f"
            },
            "type": "carpet"
           }
          ],
          "choropleth": [
           {
            "colorbar": {
             "outlinewidth": 0,
             "ticks": ""
            },
            "type": "choropleth"
           }
          ],
          "contour": [
           {
            "colorbar": {
             "outlinewidth": 0,
             "ticks": ""
            },
            "colorscale": [
             [
              0,
              "#0d0887"
             ],
             [
              0.1111111111111111,
              "#46039f"
             ],
             [
              0.2222222222222222,
              "#7201a8"
             ],
             [
              0.3333333333333333,
              "#9c179e"
             ],
             [
              0.4444444444444444,
              "#bd3786"
             ],
             [
              0.5555555555555556,
              "#d8576b"
             ],
             [
              0.6666666666666666,
              "#ed7953"
             ],
             [
              0.7777777777777778,
              "#fb9f3a"
             ],
             [
              0.8888888888888888,
              "#fdca26"
             ],
             [
              1,
              "#f0f921"
             ]
            ],
            "type": "contour"
           }
          ],
          "contourcarpet": [
           {
            "colorbar": {
             "outlinewidth": 0,
             "ticks": ""
            },
            "type": "contourcarpet"
           }
          ],
          "heatmap": [
           {
            "colorbar": {
             "outlinewidth": 0,
             "ticks": ""
            },
            "colorscale": [
             [
              0,
              "#0d0887"
             ],
             [
              0.1111111111111111,
              "#46039f"
             ],
             [
              0.2222222222222222,
              "#7201a8"
             ],
             [
              0.3333333333333333,
              "#9c179e"
             ],
             [
              0.4444444444444444,
              "#bd3786"
             ],
             [
              0.5555555555555556,
              "#d8576b"
             ],
             [
              0.6666666666666666,
              "#ed7953"
             ],
             [
              0.7777777777777778,
              "#fb9f3a"
             ],
             [
              0.8888888888888888,
              "#fdca26"
             ],
             [
              1,
              "#f0f921"
             ]
            ],
            "type": "heatmap"
           }
          ],
          "heatmapgl": [
           {
            "colorbar": {
             "outlinewidth": 0,
             "ticks": ""
            },
            "colorscale": [
             [
              0,
              "#0d0887"
             ],
             [
              0.1111111111111111,
              "#46039f"
             ],
             [
              0.2222222222222222,
              "#7201a8"
             ],
             [
              0.3333333333333333,
              "#9c179e"
             ],
             [
              0.4444444444444444,
              "#bd3786"
             ],
             [
              0.5555555555555556,
              "#d8576b"
             ],
             [
              0.6666666666666666,
              "#ed7953"
             ],
             [
              0.7777777777777778,
              "#fb9f3a"
             ],
             [
              0.8888888888888888,
              "#fdca26"
             ],
             [
              1,
              "#f0f921"
             ]
            ],
            "type": "heatmapgl"
           }
          ],
          "histogram": [
           {
            "marker": {
             "pattern": {
              "fillmode": "overlay",
              "size": 10,
              "solidity": 0.2
             }
            },
            "type": "histogram"
           }
          ],
          "histogram2d": [
           {
            "colorbar": {
             "outlinewidth": 0,
             "ticks": ""
            },
            "colorscale": [
             [
              0,
              "#0d0887"
             ],
             [
              0.1111111111111111,
              "#46039f"
             ],
             [
              0.2222222222222222,
              "#7201a8"
             ],
             [
              0.3333333333333333,
              "#9c179e"
             ],
             [
              0.4444444444444444,
              "#bd3786"
             ],
             [
              0.5555555555555556,
              "#d8576b"
             ],
             [
              0.6666666666666666,
              "#ed7953"
             ],
             [
              0.7777777777777778,
              "#fb9f3a"
             ],
             [
              0.8888888888888888,
              "#fdca26"
             ],
             [
              1,
              "#f0f921"
             ]
            ],
            "type": "histogram2d"
           }
          ],
          "histogram2dcontour": [
           {
            "colorbar": {
             "outlinewidth": 0,
             "ticks": ""
            },
            "colorscale": [
             [
              0,
              "#0d0887"
             ],
             [
              0.1111111111111111,
              "#46039f"
             ],
             [
              0.2222222222222222,
              "#7201a8"
             ],
             [
              0.3333333333333333,
              "#9c179e"
             ],
             [
              0.4444444444444444,
              "#bd3786"
             ],
             [
              0.5555555555555556,
              "#d8576b"
             ],
             [
              0.6666666666666666,
              "#ed7953"
             ],
             [
              0.7777777777777778,
              "#fb9f3a"
             ],
             [
              0.8888888888888888,
              "#fdca26"
             ],
             [
              1,
              "#f0f921"
             ]
            ],
            "type": "histogram2dcontour"
           }
          ],
          "mesh3d": [
           {
            "colorbar": {
             "outlinewidth": 0,
             "ticks": ""
            },
            "type": "mesh3d"
           }
          ],
          "parcoords": [
           {
            "line": {
             "colorbar": {
              "outlinewidth": 0,
              "ticks": ""
             }
            },
            "type": "parcoords"
           }
          ],
          "pie": [
           {
            "automargin": true,
            "type": "pie"
           }
          ],
          "scatter": [
           {
            "fillpattern": {
             "fillmode": "overlay",
             "size": 10,
             "solidity": 0.2
            },
            "type": "scatter"
           }
          ],
          "scatter3d": [
           {
            "line": {
             "colorbar": {
              "outlinewidth": 0,
              "ticks": ""
             }
            },
            "marker": {
             "colorbar": {
              "outlinewidth": 0,
              "ticks": ""
             }
            },
            "type": "scatter3d"
           }
          ],
          "scattercarpet": [
           {
            "marker": {
             "colorbar": {
              "outlinewidth": 0,
              "ticks": ""
             }
            },
            "type": "scattercarpet"
           }
          ],
          "scattergeo": [
           {
            "marker": {
             "colorbar": {
              "outlinewidth": 0,
              "ticks": ""
             }
            },
            "type": "scattergeo"
           }
          ],
          "scattergl": [
           {
            "marker": {
             "colorbar": {
              "outlinewidth": 0,
              "ticks": ""
             }
            },
            "type": "scattergl"
           }
          ],
          "scattermapbox": [
           {
            "marker": {
             "colorbar": {
              "outlinewidth": 0,
              "ticks": ""
             }
            },
            "type": "scattermapbox"
           }
          ],
          "scatterpolar": [
           {
            "marker": {
             "colorbar": {
              "outlinewidth": 0,
              "ticks": ""
             }
            },
            "type": "scatterpolar"
           }
          ],
          "scatterpolargl": [
           {
            "marker": {
             "colorbar": {
              "outlinewidth": 0,
              "ticks": ""
             }
            },
            "type": "scatterpolargl"
           }
          ],
          "scatterternary": [
           {
            "marker": {
             "colorbar": {
              "outlinewidth": 0,
              "ticks": ""
             }
            },
            "type": "scatterternary"
           }
          ],
          "surface": [
           {
            "colorbar": {
             "outlinewidth": 0,
             "ticks": ""
            },
            "colorscale": [
             [
              0,
              "#0d0887"
             ],
             [
              0.1111111111111111,
              "#46039f"
             ],
             [
              0.2222222222222222,
              "#7201a8"
             ],
             [
              0.3333333333333333,
              "#9c179e"
             ],
             [
              0.4444444444444444,
              "#bd3786"
             ],
             [
              0.5555555555555556,
              "#d8576b"
             ],
             [
              0.6666666666666666,
              "#ed7953"
             ],
             [
              0.7777777777777778,
              "#fb9f3a"
             ],
             [
              0.8888888888888888,
              "#fdca26"
             ],
             [
              1,
              "#f0f921"
             ]
            ],
            "type": "surface"
           }
          ],
          "table": [
           {
            "cells": {
             "fill": {
              "color": "#EBF0F8"
             },
             "line": {
              "color": "white"
             }
            },
            "header": {
             "fill": {
              "color": "#C8D4E3"
             },
             "line": {
              "color": "white"
             }
            },
            "type": "table"
           }
          ]
         },
         "layout": {
          "annotationdefaults": {
           "arrowcolor": "#2a3f5f",
           "arrowhead": 0,
           "arrowwidth": 1
          },
          "autotypenumbers": "strict",
          "coloraxis": {
           "colorbar": {
            "outlinewidth": 0,
            "ticks": ""
           }
          },
          "colorscale": {
           "diverging": [
            [
             0,
             "#8e0152"
            ],
            [
             0.1,
             "#c51b7d"
            ],
            [
             0.2,
             "#de77ae"
            ],
            [
             0.3,
             "#f1b6da"
            ],
            [
             0.4,
             "#fde0ef"
            ],
            [
             0.5,
             "#f7f7f7"
            ],
            [
             0.6,
             "#e6f5d0"
            ],
            [
             0.7,
             "#b8e186"
            ],
            [
             0.8,
             "#7fbc41"
            ],
            [
             0.9,
             "#4d9221"
            ],
            [
             1,
             "#276419"
            ]
           ],
           "sequential": [
            [
             0,
             "#0d0887"
            ],
            [
             0.1111111111111111,
             "#46039f"
            ],
            [
             0.2222222222222222,
             "#7201a8"
            ],
            [
             0.3333333333333333,
             "#9c179e"
            ],
            [
             0.4444444444444444,
             "#bd3786"
            ],
            [
             0.5555555555555556,
             "#d8576b"
            ],
            [
             0.6666666666666666,
             "#ed7953"
            ],
            [
             0.7777777777777778,
             "#fb9f3a"
            ],
            [
             0.8888888888888888,
             "#fdca26"
            ],
            [
             1,
             "#f0f921"
            ]
           ],
           "sequentialminus": [
            [
             0,
             "#0d0887"
            ],
            [
             0.1111111111111111,
             "#46039f"
            ],
            [
             0.2222222222222222,
             "#7201a8"
            ],
            [
             0.3333333333333333,
             "#9c179e"
            ],
            [
             0.4444444444444444,
             "#bd3786"
            ],
            [
             0.5555555555555556,
             "#d8576b"
            ],
            [
             0.6666666666666666,
             "#ed7953"
            ],
            [
             0.7777777777777778,
             "#fb9f3a"
            ],
            [
             0.8888888888888888,
             "#fdca26"
            ],
            [
             1,
             "#f0f921"
            ]
           ]
          },
          "colorway": [
           "#636efa",
           "#EF553B",
           "#00cc96",
           "#ab63fa",
           "#FFA15A",
           "#19d3f3",
           "#FF6692",
           "#B6E880",
           "#FF97FF",
           "#FECB52"
          ],
          "font": {
           "color": "#2a3f5f"
          },
          "geo": {
           "bgcolor": "white",
           "lakecolor": "white",
           "landcolor": "#E5ECF6",
           "showlakes": true,
           "showland": true,
           "subunitcolor": "white"
          },
          "hoverlabel": {
           "align": "left"
          },
          "hovermode": "closest",
          "mapbox": {
           "style": "light"
          },
          "paper_bgcolor": "white",
          "plot_bgcolor": "#E5ECF6",
          "polar": {
           "angularaxis": {
            "gridcolor": "white",
            "linecolor": "white",
            "ticks": ""
           },
           "bgcolor": "#E5ECF6",
           "radialaxis": {
            "gridcolor": "white",
            "linecolor": "white",
            "ticks": ""
           }
          },
          "scene": {
           "xaxis": {
            "backgroundcolor": "#E5ECF6",
            "gridcolor": "white",
            "gridwidth": 2,
            "linecolor": "white",
            "showbackground": true,
            "ticks": "",
            "zerolinecolor": "white"
           },
           "yaxis": {
            "backgroundcolor": "#E5ECF6",
            "gridcolor": "white",
            "gridwidth": 2,
            "linecolor": "white",
            "showbackground": true,
            "ticks": "",
            "zerolinecolor": "white"
           },
           "zaxis": {
            "backgroundcolor": "#E5ECF6",
            "gridcolor": "white",
            "gridwidth": 2,
            "linecolor": "white",
            "showbackground": true,
            "ticks": "",
            "zerolinecolor": "white"
           }
          },
          "shapedefaults": {
           "line": {
            "color": "#2a3f5f"
           }
          },
          "ternary": {
           "aaxis": {
            "gridcolor": "white",
            "linecolor": "white",
            "ticks": ""
           },
           "baxis": {
            "gridcolor": "white",
            "linecolor": "white",
            "ticks": ""
           },
           "bgcolor": "#E5ECF6",
           "caxis": {
            "gridcolor": "white",
            "linecolor": "white",
            "ticks": ""
           }
          },
          "title": {
           "x": 0.05
          },
          "xaxis": {
           "automargin": true,
           "gridcolor": "white",
           "linecolor": "white",
           "ticks": "",
           "title": {
            "standoff": 15
           },
           "zerolinecolor": "white",
           "zerolinewidth": 2
          },
          "yaxis": {
           "automargin": true,
           "gridcolor": "white",
           "linecolor": "white",
           "ticks": "",
           "title": {
            "standoff": 15
           },
           "zerolinecolor": "white",
           "zerolinewidth": 2
          }
         }
        },
        "xaxis": {
         "anchor": "y",
         "domain": [
          0,
          1
         ],
         "title": {
          "text": "Name"
         }
        },
        "yaxis": {
         "anchor": "x",
         "domain": [
          0,
          1
         ],
         "title": {
          "text": "% of wins"
         }
        }
       }
      }
     },
     "metadata": {},
     "output_type": "display_data"
    },
    {
     "name": "stdout",
     "output_type": "stream",
     "text": [
      "There are 10 undefeated fighters in Undefined class and the best 10 are\n"
     ]
    },
    {
     "data": {
      "application/vnd.plotly.v1+json": {
       "config": {
        "plotlyServerURL": "https://plot.ly"
       },
       "data": [
        {
         "alignmentgroup": "True",
         "hovertemplate": "Name=%{x}<br>% of wins=%{y}<br>Total fights=%{marker.color}<extra></extra>",
         "legendgroup": "",
         "marker": {
          "color": [
           2,
           1,
           1,
           3,
           1,
           2,
           1,
           2,
           1,
           11
          ],
          "coloraxis": "coloraxis",
          "pattern": {
           "shape": ""
          }
         },
         "name": "",
         "offsetgroup": "",
         "orientation": "v",
         "showlegend": false,
         "textposition": "auto",
         "type": "bar",
         "x": [
          "Mike Davis",
          "Jose Perez",
          "Scott McDonald",
          "Charles McTorry",
          "Chris Inman",
          "Cody Floyd",
          "Frank Hamaker",
          "John Elam",
          "Pedro Rocha",
          "Valter Walker"
         ],
         "xaxis": "x",
         "y": [
          100,
          100,
          100,
          100,
          100,
          100,
          100,
          100,
          100,
          100
         ],
         "yaxis": "y"
        }
       ],
       "layout": {
        "barmode": "relative",
        "coloraxis": {
         "colorbar": {
          "title": {
           "text": "Total fights"
          }
         },
         "colorscale": [
          [
           0,
           "#0d0887"
          ],
          [
           0.1111111111111111,
           "#46039f"
          ],
          [
           0.2222222222222222,
           "#7201a8"
          ],
          [
           0.3333333333333333,
           "#9c179e"
          ],
          [
           0.4444444444444444,
           "#bd3786"
          ],
          [
           0.5555555555555556,
           "#d8576b"
          ],
          [
           0.6666666666666666,
           "#ed7953"
          ],
          [
           0.7777777777777778,
           "#fb9f3a"
          ],
          [
           0.8888888888888888,
           "#fdca26"
          ],
          [
           1,
           "#f0f921"
          ]
         ]
        },
        "legend": {
         "tracegroupgap": 0
        },
        "margin": {
         "t": 60
        },
        "template": {
         "data": {
          "bar": [
           {
            "error_x": {
             "color": "#2a3f5f"
            },
            "error_y": {
             "color": "#2a3f5f"
            },
            "marker": {
             "line": {
              "color": "#E5ECF6",
              "width": 0.5
             },
             "pattern": {
              "fillmode": "overlay",
              "size": 10,
              "solidity": 0.2
             }
            },
            "type": "bar"
           }
          ],
          "barpolar": [
           {
            "marker": {
             "line": {
              "color": "#E5ECF6",
              "width": 0.5
             },
             "pattern": {
              "fillmode": "overlay",
              "size": 10,
              "solidity": 0.2
             }
            },
            "type": "barpolar"
           }
          ],
          "carpet": [
           {
            "aaxis": {
             "endlinecolor": "#2a3f5f",
             "gridcolor": "white",
             "linecolor": "white",
             "minorgridcolor": "white",
             "startlinecolor": "#2a3f5f"
            },
            "baxis": {
             "endlinecolor": "#2a3f5f",
             "gridcolor": "white",
             "linecolor": "white",
             "minorgridcolor": "white",
             "startlinecolor": "#2a3f5f"
            },
            "type": "carpet"
           }
          ],
          "choropleth": [
           {
            "colorbar": {
             "outlinewidth": 0,
             "ticks": ""
            },
            "type": "choropleth"
           }
          ],
          "contour": [
           {
            "colorbar": {
             "outlinewidth": 0,
             "ticks": ""
            },
            "colorscale": [
             [
              0,
              "#0d0887"
             ],
             [
              0.1111111111111111,
              "#46039f"
             ],
             [
              0.2222222222222222,
              "#7201a8"
             ],
             [
              0.3333333333333333,
              "#9c179e"
             ],
             [
              0.4444444444444444,
              "#bd3786"
             ],
             [
              0.5555555555555556,
              "#d8576b"
             ],
             [
              0.6666666666666666,
              "#ed7953"
             ],
             [
              0.7777777777777778,
              "#fb9f3a"
             ],
             [
              0.8888888888888888,
              "#fdca26"
             ],
             [
              1,
              "#f0f921"
             ]
            ],
            "type": "contour"
           }
          ],
          "contourcarpet": [
           {
            "colorbar": {
             "outlinewidth": 0,
             "ticks": ""
            },
            "type": "contourcarpet"
           }
          ],
          "heatmap": [
           {
            "colorbar": {
             "outlinewidth": 0,
             "ticks": ""
            },
            "colorscale": [
             [
              0,
              "#0d0887"
             ],
             [
              0.1111111111111111,
              "#46039f"
             ],
             [
              0.2222222222222222,
              "#7201a8"
             ],
             [
              0.3333333333333333,
              "#9c179e"
             ],
             [
              0.4444444444444444,
              "#bd3786"
             ],
             [
              0.5555555555555556,
              "#d8576b"
             ],
             [
              0.6666666666666666,
              "#ed7953"
             ],
             [
              0.7777777777777778,
              "#fb9f3a"
             ],
             [
              0.8888888888888888,
              "#fdca26"
             ],
             [
              1,
              "#f0f921"
             ]
            ],
            "type": "heatmap"
           }
          ],
          "heatmapgl": [
           {
            "colorbar": {
             "outlinewidth": 0,
             "ticks": ""
            },
            "colorscale": [
             [
              0,
              "#0d0887"
             ],
             [
              0.1111111111111111,
              "#46039f"
             ],
             [
              0.2222222222222222,
              "#7201a8"
             ],
             [
              0.3333333333333333,
              "#9c179e"
             ],
             [
              0.4444444444444444,
              "#bd3786"
             ],
             [
              0.5555555555555556,
              "#d8576b"
             ],
             [
              0.6666666666666666,
              "#ed7953"
             ],
             [
              0.7777777777777778,
              "#fb9f3a"
             ],
             [
              0.8888888888888888,
              "#fdca26"
             ],
             [
              1,
              "#f0f921"
             ]
            ],
            "type": "heatmapgl"
           }
          ],
          "histogram": [
           {
            "marker": {
             "pattern": {
              "fillmode": "overlay",
              "size": 10,
              "solidity": 0.2
             }
            },
            "type": "histogram"
           }
          ],
          "histogram2d": [
           {
            "colorbar": {
             "outlinewidth": 0,
             "ticks": ""
            },
            "colorscale": [
             [
              0,
              "#0d0887"
             ],
             [
              0.1111111111111111,
              "#46039f"
             ],
             [
              0.2222222222222222,
              "#7201a8"
             ],
             [
              0.3333333333333333,
              "#9c179e"
             ],
             [
              0.4444444444444444,
              "#bd3786"
             ],
             [
              0.5555555555555556,
              "#d8576b"
             ],
             [
              0.6666666666666666,
              "#ed7953"
             ],
             [
              0.7777777777777778,
              "#fb9f3a"
             ],
             [
              0.8888888888888888,
              "#fdca26"
             ],
             [
              1,
              "#f0f921"
             ]
            ],
            "type": "histogram2d"
           }
          ],
          "histogram2dcontour": [
           {
            "colorbar": {
             "outlinewidth": 0,
             "ticks": ""
            },
            "colorscale": [
             [
              0,
              "#0d0887"
             ],
             [
              0.1111111111111111,
              "#46039f"
             ],
             [
              0.2222222222222222,
              "#7201a8"
             ],
             [
              0.3333333333333333,
              "#9c179e"
             ],
             [
              0.4444444444444444,
              "#bd3786"
             ],
             [
              0.5555555555555556,
              "#d8576b"
             ],
             [
              0.6666666666666666,
              "#ed7953"
             ],
             [
              0.7777777777777778,
              "#fb9f3a"
             ],
             [
              0.8888888888888888,
              "#fdca26"
             ],
             [
              1,
              "#f0f921"
             ]
            ],
            "type": "histogram2dcontour"
           }
          ],
          "mesh3d": [
           {
            "colorbar": {
             "outlinewidth": 0,
             "ticks": ""
            },
            "type": "mesh3d"
           }
          ],
          "parcoords": [
           {
            "line": {
             "colorbar": {
              "outlinewidth": 0,
              "ticks": ""
             }
            },
            "type": "parcoords"
           }
          ],
          "pie": [
           {
            "automargin": true,
            "type": "pie"
           }
          ],
          "scatter": [
           {
            "fillpattern": {
             "fillmode": "overlay",
             "size": 10,
             "solidity": 0.2
            },
            "type": "scatter"
           }
          ],
          "scatter3d": [
           {
            "line": {
             "colorbar": {
              "outlinewidth": 0,
              "ticks": ""
             }
            },
            "marker": {
             "colorbar": {
              "outlinewidth": 0,
              "ticks": ""
             }
            },
            "type": "scatter3d"
           }
          ],
          "scattercarpet": [
           {
            "marker": {
             "colorbar": {
              "outlinewidth": 0,
              "ticks": ""
             }
            },
            "type": "scattercarpet"
           }
          ],
          "scattergeo": [
           {
            "marker": {
             "colorbar": {
              "outlinewidth": 0,
              "ticks": ""
             }
            },
            "type": "scattergeo"
           }
          ],
          "scattergl": [
           {
            "marker": {
             "colorbar": {
              "outlinewidth": 0,
              "ticks": ""
             }
            },
            "type": "scattergl"
           }
          ],
          "scattermapbox": [
           {
            "marker": {
             "colorbar": {
              "outlinewidth": 0,
              "ticks": ""
             }
            },
            "type": "scattermapbox"
           }
          ],
          "scatterpolar": [
           {
            "marker": {
             "colorbar": {
              "outlinewidth": 0,
              "ticks": ""
             }
            },
            "type": "scatterpolar"
           }
          ],
          "scatterpolargl": [
           {
            "marker": {
             "colorbar": {
              "outlinewidth": 0,
              "ticks": ""
             }
            },
            "type": "scatterpolargl"
           }
          ],
          "scatterternary": [
           {
            "marker": {
             "colorbar": {
              "outlinewidth": 0,
              "ticks": ""
             }
            },
            "type": "scatterternary"
           }
          ],
          "surface": [
           {
            "colorbar": {
             "outlinewidth": 0,
             "ticks": ""
            },
            "colorscale": [
             [
              0,
              "#0d0887"
             ],
             [
              0.1111111111111111,
              "#46039f"
             ],
             [
              0.2222222222222222,
              "#7201a8"
             ],
             [
              0.3333333333333333,
              "#9c179e"
             ],
             [
              0.4444444444444444,
              "#bd3786"
             ],
             [
              0.5555555555555556,
              "#d8576b"
             ],
             [
              0.6666666666666666,
              "#ed7953"
             ],
             [
              0.7777777777777778,
              "#fb9f3a"
             ],
             [
              0.8888888888888888,
              "#fdca26"
             ],
             [
              1,
              "#f0f921"
             ]
            ],
            "type": "surface"
           }
          ],
          "table": [
           {
            "cells": {
             "fill": {
              "color": "#EBF0F8"
             },
             "line": {
              "color": "white"
             }
            },
            "header": {
             "fill": {
              "color": "#C8D4E3"
             },
             "line": {
              "color": "white"
             }
            },
            "type": "table"
           }
          ]
         },
         "layout": {
          "annotationdefaults": {
           "arrowcolor": "#2a3f5f",
           "arrowhead": 0,
           "arrowwidth": 1
          },
          "autotypenumbers": "strict",
          "coloraxis": {
           "colorbar": {
            "outlinewidth": 0,
            "ticks": ""
           }
          },
          "colorscale": {
           "diverging": [
            [
             0,
             "#8e0152"
            ],
            [
             0.1,
             "#c51b7d"
            ],
            [
             0.2,
             "#de77ae"
            ],
            [
             0.3,
             "#f1b6da"
            ],
            [
             0.4,
             "#fde0ef"
            ],
            [
             0.5,
             "#f7f7f7"
            ],
            [
             0.6,
             "#e6f5d0"
            ],
            [
             0.7,
             "#b8e186"
            ],
            [
             0.8,
             "#7fbc41"
            ],
            [
             0.9,
             "#4d9221"
            ],
            [
             1,
             "#276419"
            ]
           ],
           "sequential": [
            [
             0,
             "#0d0887"
            ],
            [
             0.1111111111111111,
             "#46039f"
            ],
            [
             0.2222222222222222,
             "#7201a8"
            ],
            [
             0.3333333333333333,
             "#9c179e"
            ],
            [
             0.4444444444444444,
             "#bd3786"
            ],
            [
             0.5555555555555556,
             "#d8576b"
            ],
            [
             0.6666666666666666,
             "#ed7953"
            ],
            [
             0.7777777777777778,
             "#fb9f3a"
            ],
            [
             0.8888888888888888,
             "#fdca26"
            ],
            [
             1,
             "#f0f921"
            ]
           ],
           "sequentialminus": [
            [
             0,
             "#0d0887"
            ],
            [
             0.1111111111111111,
             "#46039f"
            ],
            [
             0.2222222222222222,
             "#7201a8"
            ],
            [
             0.3333333333333333,
             "#9c179e"
            ],
            [
             0.4444444444444444,
             "#bd3786"
            ],
            [
             0.5555555555555556,
             "#d8576b"
            ],
            [
             0.6666666666666666,
             "#ed7953"
            ],
            [
             0.7777777777777778,
             "#fb9f3a"
            ],
            [
             0.8888888888888888,
             "#fdca26"
            ],
            [
             1,
             "#f0f921"
            ]
           ]
          },
          "colorway": [
           "#636efa",
           "#EF553B",
           "#00cc96",
           "#ab63fa",
           "#FFA15A",
           "#19d3f3",
           "#FF6692",
           "#B6E880",
           "#FF97FF",
           "#FECB52"
          ],
          "font": {
           "color": "#2a3f5f"
          },
          "geo": {
           "bgcolor": "white",
           "lakecolor": "white",
           "landcolor": "#E5ECF6",
           "showlakes": true,
           "showland": true,
           "subunitcolor": "white"
          },
          "hoverlabel": {
           "align": "left"
          },
          "hovermode": "closest",
          "mapbox": {
           "style": "light"
          },
          "paper_bgcolor": "white",
          "plot_bgcolor": "#E5ECF6",
          "polar": {
           "angularaxis": {
            "gridcolor": "white",
            "linecolor": "white",
            "ticks": ""
           },
           "bgcolor": "#E5ECF6",
           "radialaxis": {
            "gridcolor": "white",
            "linecolor": "white",
            "ticks": ""
           }
          },
          "scene": {
           "xaxis": {
            "backgroundcolor": "#E5ECF6",
            "gridcolor": "white",
            "gridwidth": 2,
            "linecolor": "white",
            "showbackground": true,
            "ticks": "",
            "zerolinecolor": "white"
           },
           "yaxis": {
            "backgroundcolor": "#E5ECF6",
            "gridcolor": "white",
            "gridwidth": 2,
            "linecolor": "white",
            "showbackground": true,
            "ticks": "",
            "zerolinecolor": "white"
           },
           "zaxis": {
            "backgroundcolor": "#E5ECF6",
            "gridcolor": "white",
            "gridwidth": 2,
            "linecolor": "white",
            "showbackground": true,
            "ticks": "",
            "zerolinecolor": "white"
           }
          },
          "shapedefaults": {
           "line": {
            "color": "#2a3f5f"
           }
          },
          "ternary": {
           "aaxis": {
            "gridcolor": "white",
            "linecolor": "white",
            "ticks": ""
           },
           "baxis": {
            "gridcolor": "white",
            "linecolor": "white",
            "ticks": ""
           },
           "bgcolor": "#E5ECF6",
           "caxis": {
            "gridcolor": "white",
            "linecolor": "white",
            "ticks": ""
           }
          },
          "title": {
           "x": 0.05
          },
          "xaxis": {
           "automargin": true,
           "gridcolor": "white",
           "linecolor": "white",
           "ticks": "",
           "title": {
            "standoff": 15
           },
           "zerolinecolor": "white",
           "zerolinewidth": 2
          },
          "yaxis": {
           "automargin": true,
           "gridcolor": "white",
           "linecolor": "white",
           "ticks": "",
           "title": {
            "standoff": 15
           },
           "zerolinecolor": "white",
           "zerolinewidth": 2
          }
         }
        },
        "xaxis": {
         "anchor": "y",
         "domain": [
          0,
          1
         ],
         "title": {
          "text": "Name"
         }
        },
        "yaxis": {
         "anchor": "x",
         "domain": [
          0,
          1
         ],
         "title": {
          "text": "% of wins"
         }
        }
       }
      }
     },
     "metadata": {},
     "output_type": "display_data"
    }
   ],
   "source": [
    "for i in weight_cat_list:\n",
    "    data_of_cat = df.loc[df[\"weight_class\"] == i]\n",
    "    num_of_undefeated = len(data_of_cat[(data_of_cat['win%'] == 100)])\n",
    "    print(f\"There are {num_of_undefeated} undefeated fighters in {i} class and the best 10 are\")\n",
    "    fig = px.bar(data_of_cat.sort_values(by=['win%'], ascending=False).head(10), x='name',\n",
    "              y='win%',color = \"total_career_fights\",\n",
    "              labels={'name':'Name', \"win%\": \"% of wins\", \"total_career_fights\": \"Total fights\"})\n",
    "    fig.show()\n",
    "    num_of_undefeated = data_of_cat[(data_of_cat['win%'] == 100)]"
   ]
  },
  {
   "cell_type": "markdown",
   "metadata": {},
   "source": [
    "### Finding the most popular stances"
   ]
  },
  {
   "cell_type": "code",
   "execution_count": 28,
   "metadata": {},
   "outputs": [
    {
     "data": {
      "application/vnd.plotly.v1+json": {
       "config": {
        "plotlyServerURL": "https://plot.ly"
       },
       "data": [
        {
         "alignmentgroup": "True",
         "bingroup": "x",
         "hovertemplate": "Type of stance=%{x}<br>count=%{y}<extra></extra>",
         "legendgroup": "",
         "marker": {
          "color": "#636efa",
          "pattern": {
           "shape": ""
          }
         },
         "name": "",
         "offsetgroup": "",
         "orientation": "v",
         "showlegend": false,
         "type": "histogram",
         "x": [
          "Orthodox",
          null,
          null,
          null,
          "Orthodox",
          "Orthodox",
          null,
          "Orthodox",
          "Orthodox",
          "Orthodox",
          null,
          "Southpaw",
          "Orthodox",
          null,
          null,
          null,
          null,
          "Southpaw",
          "Southpaw",
          "Orthodox",
          "Orthodox",
          "Orthodox",
          "Orthodox",
          "Switch",
          "Orthodox",
          "Switch",
          null,
          "Orthodox",
          "Orthodox",
          "Orthodox",
          "Southpaw",
          "Sideways",
          "Orthodox",
          "Orthodox",
          null,
          null,
          null,
          null,
          null,
          "Orthodox",
          "Orthodox",
          "Orthodox",
          "Orthodox",
          null,
          "Southpaw",
          "Orthodox",
          "Orthodox",
          null,
          null,
          "Southpaw",
          "Orthodox",
          "Orthodox",
          null,
          "Orthodox",
          "Orthodox",
          null,
          "Orthodox",
          "Southpaw",
          "Southpaw",
          "Orthodox",
          null,
          "Orthodox",
          "Orthodox",
          "Orthodox",
          null,
          "Orthodox",
          "Orthodox",
          null,
          null,
          "Southpaw",
          "Orthodox",
          null,
          "Switch",
          null,
          "Switch",
          "Orthodox",
          "Orthodox",
          "Orthodox",
          "Orthodox",
          "Orthodox",
          "Southpaw",
          "Orthodox",
          null,
          "Southpaw",
          "Orthodox",
          null,
          "Orthodox",
          null,
          null,
          "Orthodox",
          null,
          null,
          "Orthodox",
          "Orthodox",
          "Orthodox",
          "Southpaw",
          "Orthodox",
          "Orthodox",
          null,
          "Orthodox",
          null,
          "Orthodox",
          "Orthodox",
          "Southpaw",
          "Southpaw",
          "Southpaw",
          "Orthodox",
          "Orthodox",
          "Orthodox",
          "Orthodox",
          "Orthodox",
          null,
          "Orthodox",
          "Southpaw",
          "Orthodox",
          "Orthodox",
          null,
          "Orthodox",
          "Orthodox",
          "Orthodox",
          "Orthodox",
          "Orthodox",
          "Orthodox",
          "Orthodox",
          "Orthodox",
          "Orthodox",
          null,
          "Orthodox",
          "Southpaw",
          "Orthodox",
          "Orthodox",
          null,
          "Orthodox",
          "Orthodox",
          null,
          "Orthodox",
          "Orthodox",
          "Orthodox",
          "Orthodox",
          "Orthodox",
          "Orthodox",
          "Orthodox",
          "Orthodox",
          "Orthodox",
          "Orthodox",
          "Orthodox",
          "Orthodox",
          "Orthodox",
          "Orthodox",
          "Orthodox",
          "Orthodox",
          "Orthodox",
          "Orthodox",
          "Orthodox",
          "Orthodox",
          "Orthodox",
          "Orthodox",
          "Orthodox",
          "Orthodox",
          "Orthodox",
          null,
          null,
          "Orthodox",
          null,
          "Orthodox",
          "Southpaw",
          "Orthodox",
          "Southpaw",
          "Orthodox",
          "Orthodox",
          "Orthodox",
          "Orthodox",
          "Southpaw",
          "Orthodox",
          "Orthodox",
          "Orthodox",
          "Orthodox",
          "Southpaw",
          "Southpaw",
          "Southpaw",
          "Orthodox",
          "Orthodox",
          "Orthodox",
          "Orthodox",
          "Orthodox",
          "Orthodox",
          "Orthodox",
          "Orthodox",
          "Orthodox",
          "Orthodox",
          "Orthodox",
          "Orthodox",
          "Switch",
          "Orthodox",
          "Orthodox",
          "Switch",
          "Orthodox",
          "Orthodox",
          "Orthodox",
          "Orthodox",
          "Orthodox",
          "Southpaw",
          "Orthodox",
          null,
          null,
          "Southpaw",
          "Switch",
          "Orthodox",
          null,
          "Orthodox",
          "Orthodox",
          null,
          "Orthodox",
          "Southpaw",
          "Southpaw",
          "Orthodox",
          null,
          "Orthodox",
          "Orthodox",
          "Switch",
          "Switch",
          "Switch",
          null,
          "Orthodox",
          "Orthodox",
          "Southpaw",
          "Southpaw",
          "Orthodox",
          "Orthodox",
          "Orthodox",
          "Orthodox",
          "Orthodox",
          "Orthodox",
          "Orthodox",
          "Orthodox",
          "Orthodox",
          "Orthodox",
          "Orthodox",
          "Orthodox",
          "Orthodox",
          "Orthodox",
          "Orthodox",
          "Southpaw",
          "Switch",
          "Orthodox",
          "Orthodox",
          "Orthodox",
          "Southpaw",
          "Southpaw",
          "Southpaw",
          "Orthodox",
          "Orthodox",
          "Orthodox",
          "Orthodox",
          "Orthodox",
          "Orthodox",
          "Orthodox",
          "Orthodox",
          "Orthodox",
          "Orthodox",
          "Southpaw",
          "Orthodox",
          "Orthodox",
          "Orthodox",
          "Orthodox",
          "Orthodox",
          "Orthodox",
          "Orthodox",
          null,
          "Orthodox",
          "Orthodox",
          "Southpaw",
          "Orthodox",
          "Southpaw",
          "Southpaw",
          "Orthodox",
          "Southpaw",
          "Southpaw",
          "Orthodox",
          "Orthodox",
          "Orthodox",
          "Orthodox",
          "Orthodox",
          "Orthodox",
          "Orthodox",
          "Orthodox",
          "Orthodox",
          "Orthodox",
          null,
          null,
          "Switch",
          "Orthodox",
          "Orthodox",
          "Orthodox",
          "Switch",
          null,
          "Orthodox",
          "Orthodox",
          null,
          "Orthodox",
          "Southpaw",
          "Southpaw",
          "Southpaw",
          null,
          "Orthodox",
          null,
          "Orthodox",
          "Southpaw",
          null,
          "Orthodox",
          null,
          "Southpaw",
          "Orthodox",
          "Orthodox",
          null,
          "Orthodox",
          "Orthodox",
          "Southpaw",
          "Orthodox",
          "Orthodox",
          "Orthodox",
          "Orthodox",
          null,
          "Southpaw",
          "Orthodox",
          "Orthodox",
          "Orthodox",
          "Orthodox",
          "Orthodox",
          "Orthodox",
          "Switch",
          "Orthodox",
          "Orthodox",
          "Orthodox",
          "Orthodox",
          "Southpaw",
          "Southpaw",
          "Orthodox",
          "Orthodox",
          "Orthodox",
          "Switch",
          "Orthodox",
          "Orthodox",
          "Orthodox",
          "Orthodox",
          "Orthodox",
          "Orthodox",
          null,
          null,
          "Orthodox",
          "Southpaw",
          "Southpaw",
          "Orthodox",
          "Orthodox",
          "Orthodox",
          "Southpaw",
          "Orthodox",
          null,
          "Orthodox",
          "Orthodox",
          "Orthodox",
          "Orthodox",
          null,
          "Switch",
          "Orthodox",
          "Southpaw",
          null,
          "Switch",
          null,
          "Orthodox",
          "Orthodox",
          null,
          "Switch",
          "Orthodox",
          "Orthodox",
          "Orthodox",
          "Orthodox",
          "Orthodox",
          "Orthodox",
          "Orthodox",
          "Orthodox",
          "Southpaw",
          "Orthodox",
          "Orthodox",
          "Orthodox",
          "Orthodox",
          "Orthodox",
          "Orthodox",
          "Orthodox",
          "Orthodox",
          "Orthodox",
          "Orthodox",
          "Orthodox",
          "Orthodox",
          "Orthodox",
          "Orthodox",
          "Orthodox",
          "Orthodox",
          null,
          "Orthodox",
          "Orthodox",
          "Orthodox",
          "Orthodox",
          "Orthodox",
          null,
          "Orthodox",
          null,
          null,
          "Orthodox",
          null,
          "Orthodox",
          "Orthodox",
          "Orthodox",
          "Orthodox",
          "Southpaw",
          null,
          "Orthodox",
          "Orthodox",
          "Orthodox",
          "Switch",
          "Switch",
          "Orthodox",
          "Orthodox",
          "Southpaw",
          "Orthodox",
          "Orthodox",
          "Orthodox",
          "Southpaw",
          "Orthodox",
          "Orthodox",
          "Orthodox",
          "Southpaw",
          "Orthodox",
          "Orthodox",
          "Orthodox",
          "Orthodox",
          "Orthodox",
          "Orthodox",
          "Orthodox",
          "Southpaw",
          "Orthodox",
          "Southpaw",
          "Orthodox",
          "Southpaw",
          "Orthodox",
          "Orthodox",
          "Orthodox",
          "Orthodox",
          "Orthodox",
          "Orthodox",
          "Orthodox",
          "Orthodox",
          "Orthodox",
          "Southpaw",
          "Orthodox",
          null,
          "Orthodox",
          "Orthodox",
          "Orthodox",
          "Orthodox",
          "Orthodox",
          "Orthodox",
          "Southpaw",
          "Orthodox",
          "Orthodox",
          "Southpaw",
          null,
          "Southpaw",
          "Orthodox",
          "Southpaw",
          "Orthodox",
          "Southpaw",
          "Orthodox",
          "Southpaw",
          "Orthodox",
          "Orthodox",
          "Orthodox",
          "Orthodox",
          "Southpaw",
          "Orthodox",
          null,
          "Orthodox",
          "Orthodox",
          "Switch",
          "Orthodox",
          "Orthodox",
          "Orthodox",
          "Southpaw",
          "Orthodox",
          null,
          "Orthodox",
          "Orthodox",
          "Orthodox",
          "Orthodox",
          null,
          "Orthodox",
          "Switch",
          "Southpaw",
          "Orthodox",
          "Orthodox",
          "Southpaw",
          "Orthodox",
          "Orthodox",
          "Southpaw",
          "Orthodox",
          "Orthodox",
          "Orthodox",
          "Orthodox",
          "Orthodox",
          "Southpaw",
          "Orthodox",
          "Southpaw",
          "Orthodox",
          null,
          "Southpaw",
          "Orthodox",
          "Southpaw",
          "Southpaw",
          "Southpaw",
          "Southpaw",
          "Orthodox",
          "Orthodox",
          "Orthodox",
          "Southpaw",
          "Orthodox",
          "Switch",
          "Orthodox",
          "Southpaw",
          "Orthodox",
          "Orthodox",
          "Southpaw",
          "Orthodox",
          "Switch",
          "Switch",
          "Southpaw",
          "Orthodox",
          "Orthodox",
          "Orthodox",
          "Orthodox",
          "Southpaw",
          "Orthodox",
          "Orthodox",
          "Orthodox",
          "Orthodox",
          "Orthodox",
          "Orthodox",
          "Orthodox",
          "Orthodox",
          "Orthodox",
          "Orthodox",
          "Orthodox",
          "Orthodox",
          "Orthodox",
          "Southpaw",
          "Orthodox",
          "Orthodox",
          "Orthodox",
          "Orthodox",
          "Orthodox",
          "Orthodox",
          "Orthodox",
          "Orthodox",
          "Orthodox",
          "Orthodox",
          null,
          "Orthodox",
          "Orthodox",
          "Orthodox",
          "Orthodox",
          "Southpaw",
          "Orthodox",
          "Orthodox",
          "Southpaw",
          "Switch",
          "Orthodox",
          "Orthodox",
          "Southpaw",
          "Orthodox",
          "Orthodox",
          "Orthodox",
          "Orthodox",
          "Orthodox",
          "Orthodox",
          "Southpaw",
          "Southpaw",
          "Orthodox",
          "Orthodox",
          "Switch",
          "Orthodox",
          null,
          "Orthodox",
          "Orthodox",
          "Orthodox",
          "Southpaw",
          "Orthodox",
          "Orthodox",
          "Orthodox",
          "Orthodox",
          "Orthodox",
          "Orthodox",
          "Orthodox",
          "Switch",
          "Southpaw",
          "Orthodox",
          "Orthodox",
          "Orthodox",
          "Orthodox",
          "Orthodox",
          "Orthodox",
          "Southpaw",
          "Southpaw",
          "Orthodox",
          "Southpaw",
          "Orthodox",
          "Switch",
          null,
          "Orthodox",
          "Southpaw",
          "Orthodox",
          "Orthodox",
          "Orthodox",
          "Orthodox",
          "Orthodox",
          "Southpaw",
          "Orthodox",
          "Orthodox",
          "Switch",
          "Orthodox",
          "Orthodox",
          "Orthodox",
          "Orthodox",
          "Orthodox",
          "Orthodox",
          "Switch",
          "Southpaw",
          "Orthodox",
          "Orthodox",
          "Switch",
          "Switch",
          "Orthodox",
          "Southpaw",
          "Orthodox",
          "Orthodox",
          "Orthodox",
          "Southpaw",
          "Southpaw",
          null,
          "Southpaw",
          "Orthodox",
          "Southpaw",
          "Orthodox",
          "Orthodox",
          "Switch",
          "Orthodox",
          "Orthodox",
          "Orthodox",
          "Southpaw",
          "Southpaw",
          "Orthodox",
          "Orthodox",
          "Orthodox",
          "Orthodox",
          "Orthodox",
          "Orthodox",
          "Orthodox",
          "Orthodox",
          "Orthodox",
          "Southpaw",
          "Orthodox",
          "Orthodox",
          "Orthodox",
          "Orthodox",
          "Orthodox",
          "Orthodox",
          "Orthodox",
          "Orthodox",
          "Orthodox",
          "Orthodox",
          "Orthodox",
          "Orthodox",
          "Switch",
          "Orthodox",
          "Orthodox",
          "Orthodox",
          "Orthodox",
          "Orthodox",
          "Southpaw",
          "Orthodox",
          "Orthodox",
          "Orthodox",
          "Orthodox",
          "Southpaw",
          "Orthodox",
          "Orthodox",
          "Orthodox",
          "Orthodox",
          "Southpaw",
          "Southpaw",
          null,
          "Orthodox",
          "Switch",
          "Orthodox",
          "Switch",
          null,
          null,
          "Orthodox",
          "Southpaw",
          "Orthodox",
          "Orthodox",
          "Orthodox",
          "Orthodox",
          "Orthodox",
          "Orthodox",
          "Orthodox",
          "Orthodox",
          "Switch",
          null,
          "Orthodox",
          "Orthodox",
          null,
          "Southpaw",
          "Orthodox",
          "Orthodox",
          null,
          "Switch",
          "Switch",
          "Orthodox",
          "Orthodox",
          "Southpaw",
          "Orthodox",
          null,
          "Orthodox",
          "Orthodox",
          "Orthodox",
          "Orthodox",
          null,
          "Orthodox",
          null,
          null,
          "Switch",
          "Orthodox",
          "Orthodox",
          "Orthodox",
          "Orthodox",
          null,
          "Switch",
          null,
          "Southpaw",
          "Orthodox",
          "Orthodox",
          "Orthodox",
          "Orthodox",
          null,
          "Orthodox",
          "Southpaw",
          "Orthodox",
          "Orthodox",
          null,
          "Orthodox",
          "Switch",
          "Orthodox",
          null,
          "Southpaw",
          "Orthodox",
          "Switch",
          "Orthodox",
          "Orthodox",
          "Southpaw",
          "Orthodox",
          "Orthodox",
          null,
          "Orthodox",
          "Orthodox",
          "Orthodox",
          "Orthodox",
          "Switch",
          "Orthodox",
          "Orthodox",
          "Orthodox",
          "Orthodox",
          "Orthodox",
          "Southpaw",
          "Orthodox",
          "Orthodox",
          "Orthodox",
          "Orthodox",
          "Switch",
          "Southpaw",
          "Orthodox",
          "Orthodox",
          "Orthodox",
          "Orthodox",
          null,
          "Orthodox",
          "Orthodox",
          "Orthodox",
          "Orthodox",
          "Orthodox",
          "Open Stance",
          "Orthodox",
          "Switch",
          null,
          "Switch",
          "Orthodox",
          "Orthodox",
          "Southpaw",
          "Orthodox",
          "Orthodox",
          "Orthodox",
          "Orthodox",
          "Switch",
          "Orthodox",
          "Orthodox",
          "Southpaw",
          "Orthodox",
          "Orthodox",
          "Orthodox",
          "Orthodox",
          "Southpaw",
          "Orthodox",
          "Orthodox",
          "Orthodox",
          "Orthodox",
          "Orthodox",
          "Orthodox",
          "Orthodox",
          "Orthodox",
          "Orthodox",
          "Southpaw",
          "Orthodox",
          "Orthodox",
          "Orthodox",
          "Orthodox",
          "Orthodox",
          "Orthodox",
          "Orthodox",
          "Orthodox",
          "Orthodox",
          "Orthodox",
          "Orthodox",
          "Orthodox",
          "Southpaw",
          "Orthodox",
          "Orthodox",
          "Orthodox",
          "Orthodox",
          "Orthodox",
          "Orthodox",
          "Orthodox",
          "Orthodox",
          "Southpaw",
          "Orthodox",
          "Orthodox",
          "Orthodox",
          "Orthodox",
          "Orthodox",
          "Orthodox",
          "Orthodox",
          "Orthodox",
          "Orthodox",
          "Switch",
          "Orthodox",
          "Orthodox",
          "Orthodox",
          "Switch",
          "Orthodox",
          "Orthodox",
          "Orthodox",
          "Orthodox",
          "Southpaw",
          "Southpaw",
          "Orthodox",
          "Southpaw",
          null,
          "Orthodox",
          "Orthodox",
          "Southpaw",
          "Orthodox",
          "Orthodox",
          "Orthodox",
          "Orthodox",
          "Orthodox",
          "Orthodox",
          "Southpaw",
          "Switch",
          "Southpaw",
          "Orthodox",
          "Orthodox",
          "Southpaw",
          "Orthodox",
          "Orthodox",
          "Southpaw",
          "Orthodox",
          "Orthodox",
          "Orthodox",
          "Southpaw",
          "Southpaw",
          "Southpaw",
          "Orthodox",
          "Orthodox",
          "Orthodox",
          "Orthodox",
          "Southpaw",
          "Orthodox",
          "Southpaw",
          "Orthodox",
          "Orthodox",
          "Switch",
          "Orthodox",
          "Southpaw",
          "Orthodox",
          "Orthodox",
          "Orthodox",
          "Switch",
          "Orthodox",
          "Orthodox",
          "Orthodox",
          null,
          "Orthodox",
          "Orthodox",
          "Orthodox",
          null,
          "Orthodox",
          "Orthodox",
          "Orthodox",
          "Orthodox",
          "Orthodox",
          "Southpaw",
          "Orthodox",
          "Orthodox",
          "Orthodox",
          "Southpaw",
          "Southpaw",
          "Orthodox",
          "Orthodox",
          "Orthodox",
          "Orthodox",
          "Southpaw",
          "Orthodox",
          "Orthodox",
          "Orthodox",
          "Southpaw",
          "Orthodox",
          "Orthodox",
          "Southpaw",
          "Southpaw",
          "Orthodox",
          "Orthodox",
          "Orthodox",
          null,
          "Orthodox",
          "Orthodox",
          "Orthodox",
          "Orthodox",
          "Orthodox",
          "Orthodox",
          "Orthodox",
          "Orthodox",
          "Orthodox",
          "Orthodox",
          "Orthodox",
          "Orthodox",
          "Orthodox",
          "Orthodox",
          "Southpaw",
          "Orthodox",
          "Orthodox",
          "Orthodox",
          "Orthodox",
          "Orthodox",
          "Orthodox",
          "Orthodox",
          "Orthodox",
          "Orthodox",
          "Orthodox",
          "Orthodox",
          "Orthodox",
          "Southpaw",
          "Southpaw",
          "Orthodox",
          "Orthodox",
          "Orthodox",
          "Southpaw",
          "Orthodox",
          "Orthodox",
          "Orthodox",
          "Southpaw",
          "Orthodox",
          "Orthodox",
          "Orthodox",
          "Orthodox",
          "Orthodox",
          "Southpaw",
          "Orthodox",
          "Orthodox",
          "Southpaw",
          "Southpaw",
          "Orthodox",
          "Orthodox",
          "Orthodox",
          "Orthodox",
          "Orthodox",
          "Orthodox",
          "Orthodox",
          "Orthodox",
          "Orthodox",
          "Switch",
          "Orthodox",
          "Orthodox",
          "Orthodox",
          "Orthodox",
          "Orthodox",
          "Orthodox",
          "Southpaw",
          "Orthodox",
          "Southpaw",
          "Orthodox",
          "Orthodox",
          "Orthodox",
          "Orthodox",
          "Orthodox",
          "Orthodox",
          "Orthodox",
          "Orthodox",
          "Switch",
          "Orthodox",
          "Southpaw",
          "Orthodox",
          "Southpaw",
          "Orthodox",
          "Southpaw",
          "Orthodox",
          "Orthodox",
          "Orthodox",
          "Orthodox",
          "Orthodox",
          "Orthodox",
          "Orthodox",
          "Orthodox",
          "Orthodox",
          "Switch",
          "Southpaw",
          "Orthodox",
          "Orthodox",
          "Orthodox",
          "Orthodox",
          "Orthodox",
          "Orthodox",
          "Orthodox",
          "Orthodox",
          "Orthodox",
          "Orthodox",
          "Orthodox",
          "Switch",
          "Orthodox",
          "Southpaw",
          "Southpaw",
          "Switch",
          "Orthodox",
          "Orthodox",
          "Orthodox",
          "Orthodox",
          "Orthodox",
          "Orthodox",
          "Orthodox",
          "Switch",
          "Orthodox",
          "Orthodox",
          "Southpaw",
          "Switch",
          "Orthodox",
          "Orthodox",
          "Orthodox",
          "Southpaw",
          "Orthodox",
          "Southpaw",
          "Orthodox",
          "Orthodox",
          "Orthodox",
          "Orthodox",
          "Orthodox",
          "Orthodox",
          "Orthodox",
          "Orthodox",
          "Orthodox",
          "Orthodox",
          "Orthodox",
          "Orthodox",
          "Orthodox",
          "Southpaw",
          "Southpaw",
          "Orthodox",
          "Orthodox",
          "Switch",
          "Orthodox",
          "Southpaw",
          "Orthodox",
          "Orthodox",
          "Orthodox",
          "Orthodox",
          "Southpaw",
          "Orthodox",
          "Orthodox",
          "Southpaw",
          "Orthodox",
          "Southpaw",
          "Orthodox",
          "Orthodox",
          "Orthodox",
          "Orthodox",
          "Orthodox",
          "Orthodox",
          "Orthodox",
          "Orthodox",
          "Orthodox",
          "Orthodox",
          "Orthodox",
          "Orthodox",
          "Orthodox",
          "Orthodox",
          "Orthodox",
          "Orthodox",
          "Orthodox",
          "Orthodox",
          "Orthodox",
          "Orthodox",
          "Orthodox",
          "Southpaw",
          "Orthodox",
          "Orthodox",
          "Southpaw",
          "Orthodox",
          "Orthodox",
          null,
          "Switch",
          "Orthodox",
          "Orthodox",
          "Orthodox",
          "Orthodox",
          null,
          "Switch",
          "Orthodox",
          "Orthodox",
          "Southpaw",
          "Orthodox",
          "Orthodox",
          "Southpaw",
          "Orthodox",
          "Southpaw",
          "Orthodox",
          "Orthodox",
          "Orthodox",
          "Orthodox",
          "Orthodox",
          "Orthodox",
          "Southpaw",
          "Orthodox",
          "Orthodox",
          "Orthodox",
          "Orthodox",
          "Southpaw",
          "Orthodox",
          "Orthodox",
          "Orthodox",
          "Southpaw",
          "Orthodox",
          "Southpaw",
          null,
          "Orthodox",
          "Orthodox",
          "Orthodox",
          "Southpaw",
          "Orthodox",
          "Southpaw",
          "Orthodox",
          "Southpaw",
          "Orthodox",
          "Orthodox",
          "Orthodox",
          "Southpaw",
          "Orthodox",
          "Orthodox",
          "Orthodox",
          "Orthodox",
          "Orthodox",
          "Orthodox",
          null,
          "Orthodox",
          "Orthodox",
          "Orthodox",
          "Orthodox",
          "Orthodox",
          "Southpaw",
          "Orthodox",
          "Orthodox",
          "Orthodox",
          "Orthodox",
          "Orthodox",
          "Orthodox",
          "Orthodox",
          "Orthodox",
          "Southpaw",
          "Orthodox",
          "Orthodox",
          "Orthodox",
          "Orthodox",
          "Southpaw",
          "Orthodox",
          "Orthodox",
          "Orthodox",
          "Southpaw",
          "Orthodox",
          "Orthodox",
          "Orthodox",
          "Orthodox",
          "Southpaw",
          "Orthodox",
          "Orthodox",
          "Orthodox",
          "Orthodox",
          "Orthodox",
          "Orthodox",
          "Orthodox",
          "Orthodox",
          "Switch",
          "Orthodox",
          "Orthodox",
          "Southpaw",
          "Southpaw",
          "Orthodox",
          "Orthodox",
          "Orthodox",
          "Southpaw",
          "Orthodox",
          "Orthodox",
          "Orthodox",
          "Orthodox",
          "Orthodox",
          "Southpaw",
          "Orthodox",
          "Orthodox",
          "Southpaw",
          "Southpaw",
          "Switch",
          "Switch",
          "Orthodox",
          "Orthodox",
          "Orthodox",
          "Orthodox",
          "Orthodox",
          "Orthodox",
          "Southpaw",
          "Southpaw",
          "Switch",
          "Orthodox",
          "Orthodox",
          "Southpaw",
          "Orthodox",
          "Orthodox",
          "Orthodox",
          "Orthodox",
          "Orthodox",
          "Orthodox",
          "Southpaw",
          "Southpaw",
          "Orthodox",
          "Orthodox",
          "Orthodox",
          "Orthodox",
          "Southpaw",
          "Orthodox",
          "Orthodox",
          "Southpaw",
          "Orthodox",
          "Southpaw",
          "Orthodox",
          "Orthodox",
          null,
          "Southpaw",
          "Southpaw",
          "Southpaw",
          "Southpaw",
          "Orthodox",
          "Orthodox",
          "Southpaw",
          null,
          "Switch",
          "Southpaw",
          "Orthodox",
          "Orthodox",
          "Orthodox",
          null,
          "Southpaw",
          "Orthodox",
          "Orthodox",
          "Southpaw",
          "Orthodox",
          "Orthodox",
          "Orthodox",
          "Orthodox",
          "Southpaw",
          "Southpaw",
          "Orthodox",
          "Orthodox",
          "Orthodox",
          "Orthodox",
          "Orthodox",
          "Orthodox",
          "Southpaw",
          "Orthodox",
          "Orthodox",
          "Orthodox",
          "Orthodox",
          "Orthodox",
          "Orthodox",
          "Switch",
          "Orthodox",
          null,
          "Southpaw",
          "Orthodox",
          "Orthodox",
          "Orthodox",
          "Orthodox",
          "Orthodox",
          "Orthodox",
          "Orthodox",
          "Orthodox",
          "Orthodox",
          "Orthodox",
          "Orthodox",
          "Southpaw",
          "Orthodox",
          "Orthodox",
          "Orthodox",
          "Switch",
          "Orthodox",
          "Orthodox",
          "Southpaw",
          "Southpaw",
          "Orthodox",
          "Orthodox",
          "Southpaw",
          "Orthodox",
          "Orthodox",
          "Orthodox",
          "Orthodox",
          "Orthodox",
          "Orthodox",
          "Orthodox",
          "Southpaw",
          "Orthodox",
          "Southpaw",
          "Southpaw",
          "Orthodox",
          "Orthodox",
          "Orthodox",
          "Orthodox",
          "Southpaw",
          "Orthodox",
          "Orthodox",
          "Orthodox",
          "Orthodox",
          "Southpaw",
          "Southpaw",
          "Orthodox",
          "Switch",
          "Orthodox",
          "Orthodox",
          "Orthodox",
          "Orthodox",
          "Orthodox",
          "Orthodox",
          "Switch",
          "Orthodox",
          "Orthodox",
          "Orthodox",
          "Orthodox",
          "Orthodox",
          "Orthodox",
          "Orthodox",
          "Orthodox",
          "Orthodox",
          "Southpaw",
          "Southpaw",
          "Orthodox",
          "Orthodox",
          "Orthodox",
          "Southpaw",
          "Orthodox",
          "Orthodox",
          "Orthodox",
          "Orthodox",
          "Orthodox",
          "Orthodox",
          "Switch",
          "Orthodox",
          "Orthodox",
          "Orthodox",
          "Orthodox",
          "Orthodox",
          "Orthodox",
          "Southpaw",
          "Southpaw",
          "Orthodox",
          "Orthodox",
          "Orthodox",
          "Southpaw",
          "Southpaw",
          "Orthodox",
          "Orthodox",
          "Orthodox",
          "Orthodox",
          "Orthodox",
          "Orthodox",
          "Orthodox",
          "Orthodox",
          "Orthodox",
          "Orthodox",
          "Orthodox",
          "Orthodox",
          "Orthodox",
          "Southpaw",
          "Orthodox",
          "Orthodox",
          "Southpaw",
          "Orthodox",
          "Orthodox",
          "Switch",
          "Southpaw",
          "Orthodox",
          "Orthodox",
          "Orthodox",
          "Orthodox",
          "Orthodox",
          "Orthodox",
          "Southpaw",
          "Orthodox",
          "Orthodox",
          "Orthodox",
          "Orthodox",
          "Orthodox",
          "Orthodox",
          "Orthodox",
          "Orthodox",
          "Southpaw",
          "Orthodox",
          "Southpaw",
          "Southpaw",
          "Orthodox",
          "Orthodox",
          "Switch",
          "Orthodox",
          "Southpaw",
          "Switch",
          "Orthodox",
          "Orthodox",
          "Orthodox",
          "Orthodox",
          "Southpaw",
          "Southpaw",
          "Switch",
          "Orthodox",
          "Orthodox",
          "Orthodox",
          "Orthodox",
          "Switch",
          "Orthodox",
          "Orthodox",
          "Southpaw",
          "Orthodox",
          "Southpaw",
          "Southpaw",
          "Orthodox",
          "Orthodox",
          "Orthodox",
          "Orthodox",
          "Orthodox",
          "Orthodox",
          "Orthodox",
          "Southpaw",
          "Orthodox",
          "Orthodox",
          "Orthodox",
          "Orthodox",
          "Orthodox",
          "Orthodox",
          "Orthodox",
          "Orthodox",
          "Southpaw",
          "Southpaw",
          "Orthodox",
          "Orthodox",
          "Orthodox",
          "Orthodox",
          "Orthodox",
          "Orthodox",
          "Orthodox",
          "Orthodox",
          "Orthodox",
          "Orthodox",
          "Orthodox",
          "Orthodox",
          "Orthodox",
          "Orthodox",
          "Orthodox",
          "Orthodox",
          "Southpaw",
          "Orthodox",
          "Southpaw",
          "Southpaw",
          "Orthodox",
          "Orthodox",
          "Orthodox",
          "Orthodox",
          "Orthodox",
          "Orthodox",
          "Orthodox",
          "Orthodox",
          "Southpaw",
          "Southpaw",
          "Orthodox",
          "Orthodox",
          "Southpaw",
          "Orthodox",
          "Orthodox",
          "Orthodox",
          "Orthodox",
          "Orthodox",
          "Orthodox",
          "Orthodox",
          "Orthodox",
          "Orthodox",
          "Southpaw",
          "Orthodox",
          "Orthodox",
          "Southpaw",
          "Orthodox",
          "Orthodox",
          "Southpaw",
          "Southpaw",
          "Orthodox",
          "Orthodox",
          "Orthodox",
          "Orthodox",
          "Orthodox",
          "Orthodox",
          "Orthodox",
          "Orthodox",
          "Southpaw",
          "Southpaw",
          "Orthodox",
          "Southpaw",
          "Orthodox",
          "Southpaw",
          "Switch",
          "Southpaw",
          "Orthodox",
          "Switch",
          "Orthodox",
          "Orthodox",
          "Orthodox",
          "Orthodox",
          "Orthodox",
          "Orthodox",
          "Orthodox",
          "Orthodox",
          "Orthodox",
          "Orthodox",
          "Orthodox",
          "Orthodox",
          "Southpaw",
          "Orthodox",
          "Orthodox",
          "Southpaw",
          "Switch",
          "Orthodox",
          "Orthodox",
          "Orthodox",
          "Orthodox",
          "Orthodox",
          "Orthodox",
          "Orthodox",
          "Orthodox",
          "Orthodox",
          "Orthodox",
          "Southpaw",
          "Orthodox",
          "Southpaw",
          "Orthodox",
          "Orthodox",
          "Orthodox",
          "Switch",
          "Orthodox",
          "Orthodox",
          "Orthodox",
          "Orthodox",
          "Orthodox",
          "Orthodox",
          "Orthodox",
          "Orthodox",
          "Orthodox",
          "Orthodox",
          "Orthodox",
          "Orthodox",
          "Orthodox",
          "Southpaw",
          "Orthodox",
          "Orthodox",
          "Orthodox",
          "Orthodox",
          "Southpaw",
          "Orthodox",
          "Southpaw",
          "Orthodox",
          "Orthodox",
          "Orthodox",
          "Southpaw",
          "Orthodox",
          "Orthodox",
          "Orthodox",
          "Orthodox",
          "Orthodox",
          "Orthodox",
          "Orthodox",
          "Orthodox",
          "Orthodox",
          "Orthodox",
          "Southpaw",
          "Orthodox",
          "Orthodox",
          "Orthodox",
          "Switch",
          "Orthodox",
          "Orthodox",
          "Orthodox",
          "Orthodox",
          "Orthodox",
          "Orthodox",
          "Orthodox",
          "Switch",
          "Orthodox",
          "Orthodox",
          "Orthodox",
          "Orthodox",
          "Southpaw",
          "Orthodox",
          "Orthodox",
          "Orthodox",
          "Orthodox",
          "Southpaw",
          "Switch",
          "Orthodox",
          "Orthodox",
          "Orthodox",
          "Orthodox",
          "Orthodox",
          "Orthodox",
          "Orthodox",
          "Orthodox",
          "Orthodox",
          "Orthodox",
          "Switch",
          "Switch",
          "Orthodox",
          "Orthodox",
          "Orthodox",
          "Orthodox",
          "Orthodox",
          "Orthodox",
          "Orthodox",
          "Orthodox",
          "Southpaw",
          "Orthodox",
          "Orthodox",
          "Orthodox",
          "Orthodox",
          "Switch",
          "Orthodox",
          "Orthodox",
          "Orthodox",
          "Orthodox",
          "Orthodox",
          "Orthodox",
          "Southpaw",
          "Orthodox",
          "Orthodox",
          "Orthodox",
          "Orthodox",
          "Orthodox",
          "Orthodox",
          "Orthodox",
          "Orthodox",
          "Orthodox",
          "Orthodox",
          "Orthodox",
          "Orthodox",
          "Orthodox",
          "Orthodox",
          "Orthodox",
          "Orthodox",
          "Orthodox",
          "Southpaw",
          "Switch",
          "Orthodox",
          "Orthodox",
          "Southpaw",
          "Orthodox",
          "Orthodox",
          "Orthodox",
          "Orthodox",
          "Southpaw",
          "Orthodox",
          "Orthodox",
          "Orthodox",
          "Switch",
          "Southpaw",
          "Orthodox",
          "Orthodox",
          "Orthodox",
          "Orthodox",
          "Orthodox",
          "Orthodox",
          "Southpaw",
          "Orthodox",
          "Southpaw",
          "Orthodox",
          "Orthodox",
          "Southpaw",
          "Orthodox",
          "Southpaw",
          "Switch",
          "Orthodox",
          "Southpaw",
          "Switch",
          "Orthodox",
          "Orthodox",
          "Orthodox",
          "Orthodox",
          "Orthodox",
          "Orthodox",
          "Orthodox",
          "Southpaw",
          "Orthodox",
          "Orthodox",
          "Orthodox",
          "Southpaw",
          "Orthodox",
          "Orthodox",
          "Orthodox",
          "Orthodox",
          "Orthodox",
          "Orthodox",
          "Orthodox",
          "Southpaw",
          "Orthodox",
          "Orthodox",
          "Orthodox",
          "Orthodox",
          "Southpaw",
          "Southpaw",
          "Orthodox",
          "Orthodox",
          "Southpaw",
          "Switch",
          "Southpaw",
          "Orthodox",
          "Orthodox",
          "Orthodox",
          "Orthodox",
          "Orthodox",
          "Switch",
          "Switch",
          "Orthodox",
          "Orthodox",
          "Orthodox",
          "Southpaw",
          "Southpaw",
          "Southpaw",
          "Orthodox",
          "Southpaw",
          "Orthodox",
          "Orthodox",
          "Southpaw",
          "Orthodox",
          "Orthodox",
          "Orthodox",
          "Southpaw",
          "Switch",
          "Orthodox",
          "Orthodox",
          null,
          "Orthodox",
          "Orthodox",
          null,
          "Orthodox",
          null,
          null,
          null,
          "Orthodox",
          null,
          null,
          "Orthodox",
          null,
          null,
          "Orthodox",
          null,
          "Orthodox",
          null,
          null,
          "Orthodox",
          null,
          null,
          "Orthodox",
          null,
          null,
          "Southpaw",
          "Orthodox",
          null,
          "Orthodox",
          "Orthodox",
          null,
          "Orthodox",
          "Orthodox",
          null,
          null,
          "Orthodox",
          "Orthodox",
          null,
          "Orthodox",
          "Orthodox",
          "Orthodox",
          "Orthodox",
          "Orthodox",
          "Orthodox",
          "Orthodox",
          null,
          "Orthodox",
          null,
          null,
          "Orthodox",
          "Orthodox",
          "Orthodox",
          "Orthodox",
          null,
          null,
          "Switch",
          "Southpaw",
          null,
          "Orthodox",
          "Orthodox",
          "Orthodox",
          null,
          "Orthodox",
          "Orthodox",
          "Southpaw",
          null,
          "Orthodox",
          "Orthodox",
          "Orthodox",
          null,
          null,
          null,
          "Orthodox",
          "Orthodox",
          "Southpaw",
          null,
          "Orthodox",
          "Orthodox",
          "Orthodox",
          "Orthodox",
          "Orthodox",
          "Orthodox",
          "Southpaw",
          "Orthodox",
          "Orthodox",
          null,
          "Orthodox",
          "Switch",
          "Southpaw",
          null,
          "Orthodox",
          "Orthodox",
          null,
          null,
          "Southpaw",
          "Orthodox",
          "Southpaw",
          null,
          "Orthodox",
          null,
          "Orthodox",
          "Orthodox",
          "Orthodox",
          "Orthodox",
          null,
          "Orthodox",
          "Orthodox",
          "Orthodox",
          "Southpaw",
          "Switch",
          "Orthodox",
          "Orthodox",
          "Orthodox",
          null,
          "Orthodox",
          "Orthodox",
          "Orthodox",
          null,
          "Southpaw",
          "Southpaw",
          null,
          "Orthodox",
          null,
          "Southpaw",
          "Orthodox",
          "Orthodox",
          "Orthodox",
          "Switch",
          "Orthodox",
          "Orthodox",
          "Orthodox",
          "Orthodox",
          "Orthodox",
          null,
          "Orthodox",
          "Southpaw",
          null,
          "Orthodox",
          "Southpaw",
          null,
          "Orthodox",
          "Orthodox",
          "Orthodox",
          "Southpaw",
          "Southpaw",
          "Orthodox",
          null,
          null,
          null,
          null,
          null,
          "Orthodox",
          "Orthodox",
          "Orthodox",
          null,
          "Orthodox",
          null,
          null,
          "Orthodox",
          null,
          "Orthodox",
          "Orthodox",
          "Orthodox",
          "Orthodox",
          "Southpaw",
          "Orthodox",
          "Orthodox",
          "Southpaw",
          "Orthodox",
          "Orthodox",
          "Southpaw",
          null,
          null,
          null,
          null,
          "Orthodox",
          "Orthodox",
          "Orthodox",
          "Orthodox",
          "Orthodox",
          "Orthodox",
          "Orthodox",
          "Orthodox",
          "Southpaw",
          "Orthodox",
          null,
          "Orthodox",
          "Orthodox",
          "Southpaw",
          null,
          "Switch",
          "Orthodox",
          null,
          "Orthodox",
          null,
          "Orthodox",
          "Southpaw",
          null,
          "Southpaw",
          "Orthodox",
          "Orthodox",
          "Switch",
          "Southpaw",
          "Orthodox",
          "Orthodox",
          "Southpaw",
          null,
          "Orthodox",
          "Southpaw",
          "Southpaw",
          "Orthodox",
          "Southpaw",
          "Orthodox",
          "Southpaw",
          "Orthodox",
          "Orthodox",
          "Orthodox",
          "Orthodox",
          "Orthodox",
          "Orthodox",
          null,
          null,
          null,
          "Orthodox",
          null,
          null,
          "Orthodox",
          "Orthodox",
          "Orthodox",
          null,
          "Southpaw",
          "Southpaw",
          null,
          null,
          "Orthodox",
          "Switch",
          "Southpaw",
          "Orthodox",
          "Orthodox",
          "Orthodox",
          "Orthodox",
          null,
          "Switch",
          null,
          null,
          "Orthodox",
          null,
          "Orthodox",
          "Southpaw",
          "Southpaw",
          "Orthodox",
          "Orthodox",
          null,
          "Orthodox",
          null,
          "Southpaw",
          null,
          "Orthodox",
          "Orthodox",
          "Orthodox",
          "Orthodox",
          "Orthodox",
          null,
          null,
          null,
          null,
          "Orthodox",
          "Orthodox",
          "Orthodox",
          null,
          "Orthodox",
          "Orthodox",
          "Orthodox",
          null,
          "Southpaw",
          null,
          "Orthodox",
          "Orthodox",
          null,
          "Orthodox",
          null,
          "Southpaw",
          "Orthodox",
          null,
          "Orthodox",
          "Switch",
          "Orthodox",
          null,
          "Orthodox",
          null,
          "Switch",
          null,
          "Orthodox",
          null,
          "Orthodox",
          null,
          "Orthodox",
          "Orthodox",
          null,
          "Orthodox",
          "Orthodox",
          "Orthodox",
          "Orthodox",
          "Orthodox",
          "Switch",
          "Orthodox",
          "Orthodox",
          "Orthodox",
          "Orthodox",
          null,
          "Orthodox",
          null,
          null,
          "Orthodox",
          "Orthodox",
          "Orthodox",
          null,
          "Southpaw",
          null,
          "Southpaw",
          null,
          null,
          "Orthodox",
          "Orthodox",
          "Orthodox",
          "Switch",
          "Orthodox",
          null,
          null,
          "Orthodox",
          "Southpaw",
          "Orthodox",
          null,
          "Orthodox",
          null,
          "Orthodox",
          "Southpaw",
          "Orthodox",
          "Orthodox",
          "Orthodox",
          "Switch",
          null,
          "Switch",
          "Orthodox",
          "Orthodox",
          "Southpaw",
          "Orthodox",
          null,
          null,
          "Open Stance",
          "Switch",
          null,
          null,
          null,
          null,
          null,
          "Orthodox",
          null,
          "Orthodox",
          "Orthodox",
          null,
          "Orthodox",
          "Southpaw",
          null,
          "Orthodox",
          "Orthodox",
          "Orthodox",
          null,
          "Orthodox",
          "Switch",
          "Southpaw",
          "Orthodox",
          "Orthodox",
          "Orthodox",
          null,
          null,
          "Southpaw",
          null,
          "Orthodox",
          null,
          "Orthodox",
          "Switch",
          "Orthodox",
          "Orthodox",
          null,
          null,
          null,
          "Orthodox",
          "Orthodox",
          "Orthodox",
          null,
          "Southpaw",
          "Orthodox",
          "Switch",
          "Orthodox",
          null,
          "Orthodox",
          "Orthodox",
          "Orthodox",
          "Orthodox",
          "Orthodox",
          "Orthodox",
          "Orthodox",
          "Orthodox",
          "Orthodox",
          "Orthodox",
          "Switch",
          "Orthodox",
          "Orthodox",
          "Southpaw",
          "Orthodox",
          "Orthodox",
          "Orthodox",
          "Switch",
          "Orthodox",
          "Orthodox",
          null,
          null,
          "Orthodox",
          "Orthodox",
          "Orthodox",
          null,
          null,
          "Orthodox",
          "Southpaw",
          "Orthodox",
          null,
          "Orthodox",
          "Orthodox",
          "Orthodox",
          null,
          "Orthodox",
          null,
          "Southpaw",
          "Orthodox",
          "Orthodox",
          "Orthodox",
          "Orthodox",
          null,
          "Orthodox",
          "Southpaw",
          null,
          "Orthodox",
          "Orthodox",
          null,
          null,
          "Orthodox",
          "Orthodox",
          "Southpaw",
          null,
          "Orthodox",
          "Orthodox",
          "Orthodox",
          "Orthodox",
          null,
          "Orthodox",
          "Orthodox",
          "Southpaw",
          "Switch",
          "Orthodox",
          null,
          "Orthodox",
          "Orthodox",
          "Orthodox",
          "Orthodox",
          null,
          null,
          "Switch",
          "Orthodox",
          "Southpaw",
          "Orthodox",
          "Orthodox",
          null,
          null,
          null,
          null,
          "Orthodox",
          "Orthodox",
          "Switch",
          "Orthodox",
          "Orthodox",
          null,
          null,
          "Orthodox",
          null,
          "Orthodox",
          "Orthodox",
          "Orthodox",
          null,
          null,
          "Orthodox",
          "Orthodox",
          "Orthodox",
          "Orthodox",
          "Orthodox",
          "Southpaw",
          "Southpaw",
          "Southpaw",
          "Orthodox",
          "Orthodox",
          "Orthodox",
          "Orthodox",
          "Orthodox",
          "Orthodox",
          "Orthodox",
          "Orthodox",
          "Orthodox",
          "Orthodox",
          "Orthodox",
          "Southpaw",
          null,
          "Orthodox",
          "Southpaw",
          "Orthodox",
          "Orthodox",
          "Orthodox",
          null,
          "Southpaw",
          "Orthodox",
          "Southpaw",
          "Southpaw",
          null,
          "Orthodox",
          "Orthodox",
          null,
          null,
          "Orthodox",
          "Orthodox",
          "Orthodox",
          "Orthodox",
          "Orthodox",
          "Orthodox",
          "Orthodox",
          "Orthodox",
          "Orthodox",
          null,
          "Orthodox",
          "Orthodox",
          "Orthodox",
          "Orthodox",
          "Southpaw",
          "Orthodox",
          "Orthodox",
          null,
          null,
          null,
          null,
          "Orthodox",
          "Orthodox",
          "Orthodox",
          "Switch",
          "Orthodox",
          "Orthodox",
          null,
          "Orthodox",
          null,
          "Orthodox",
          null,
          "Switch",
          "Southpaw",
          "Southpaw",
          "Orthodox",
          "Southpaw",
          "Orthodox",
          null,
          "Orthodox",
          null,
          "Southpaw",
          "Switch",
          null,
          "Southpaw",
          "Orthodox",
          null,
          "Orthodox",
          null,
          "Orthodox",
          "Orthodox",
          null,
          null,
          null,
          "Orthodox",
          "Orthodox",
          "Orthodox",
          "Switch",
          "Orthodox",
          null,
          "Orthodox",
          "Orthodox",
          "Southpaw",
          null,
          "Orthodox",
          "Orthodox",
          "Orthodox",
          null,
          "Switch",
          null,
          "Orthodox",
          "Orthodox",
          null,
          "Orthodox",
          "Orthodox",
          "Orthodox",
          null,
          null,
          null,
          "Orthodox",
          null,
          null,
          "Orthodox",
          null,
          "Orthodox",
          "Orthodox",
          "Orthodox",
          "Orthodox",
          "Orthodox",
          "Orthodox",
          "Orthodox",
          "Orthodox",
          null,
          "Orthodox",
          "Orthodox",
          "Orthodox",
          "Orthodox",
          null,
          "Orthodox",
          "Switch",
          "Southpaw",
          "Southpaw",
          null,
          null,
          "Southpaw",
          "Orthodox",
          null,
          "Orthodox",
          "Orthodox",
          "Orthodox",
          "Southpaw",
          "Orthodox",
          "Orthodox",
          "Southpaw",
          "Southpaw",
          "Southpaw",
          "Orthodox",
          null,
          null,
          "Orthodox",
          null,
          "Switch",
          null,
          null,
          null,
          "Orthodox",
          "Orthodox",
          "Orthodox",
          "Orthodox",
          null,
          "Orthodox",
          "Orthodox",
          null,
          "Southpaw",
          "Orthodox",
          "Orthodox",
          "Orthodox",
          "Orthodox",
          "Orthodox",
          "Orthodox",
          null,
          "Orthodox",
          "Switch",
          null,
          "Southpaw",
          null,
          "Orthodox",
          null,
          "Orthodox",
          "Orthodox",
          "Orthodox",
          "Southpaw",
          "Orthodox",
          "Orthodox",
          "Switch",
          "Orthodox",
          null,
          null,
          "Orthodox",
          "Orthodox",
          "Orthodox",
          null,
          null,
          "Orthodox",
          "Orthodox",
          "Orthodox",
          "Orthodox",
          null,
          "Orthodox",
          "Orthodox",
          "Switch",
          "Orthodox",
          "Southpaw",
          "Orthodox",
          "Orthodox",
          "Orthodox",
          null,
          "Orthodox",
          null,
          "Orthodox",
          null,
          "Orthodox",
          "Orthodox",
          "Orthodox",
          null,
          "Switch",
          null,
          null,
          "Orthodox",
          "Orthodox",
          null,
          null,
          "Orthodox",
          "Orthodox",
          null,
          "Orthodox",
          null,
          "Open Stance",
          "Orthodox",
          "Orthodox",
          null,
          "Southpaw",
          "Orthodox",
          "Orthodox",
          "Switch",
          "Orthodox",
          "Orthodox",
          "Orthodox",
          "Orthodox",
          "Southpaw",
          "Orthodox",
          "Orthodox",
          "Orthodox",
          null,
          "Orthodox",
          "Southpaw",
          null,
          "Orthodox",
          "Orthodox",
          "Orthodox",
          "Orthodox",
          "Orthodox",
          null,
          "Southpaw",
          "Orthodox",
          "Orthodox",
          "Orthodox",
          "Orthodox",
          null,
          "Orthodox",
          null,
          "Orthodox",
          null,
          "Southpaw",
          null,
          "Switch",
          null,
          "Orthodox",
          "Southpaw",
          "Orthodox",
          "Orthodox",
          null,
          "Orthodox",
          "Orthodox",
          "Orthodox",
          "Orthodox",
          "Orthodox",
          null,
          "Switch",
          "Orthodox",
          null,
          "Orthodox",
          null,
          "Orthodox",
          "Orthodox",
          "Orthodox",
          null,
          "Switch",
          "Orthodox",
          null,
          "Orthodox",
          "Southpaw",
          null,
          "Orthodox",
          "Orthodox",
          "Orthodox",
          null,
          null,
          null,
          "Southpaw",
          "Southpaw",
          "Orthodox",
          "Southpaw",
          null,
          null,
          null,
          null,
          "Orthodox",
          "Orthodox",
          null,
          "Southpaw",
          "Orthodox",
          "Southpaw",
          null,
          "Southpaw",
          null,
          "Orthodox",
          null,
          "Orthodox",
          "Southpaw",
          null,
          "Switch",
          "Orthodox",
          null,
          null,
          null,
          null,
          "Orthodox",
          "Orthodox",
          "Orthodox",
          "Orthodox",
          "Orthodox",
          "Orthodox",
          "Orthodox",
          "Orthodox",
          "Southpaw",
          "Orthodox",
          "Orthodox",
          "Southpaw",
          null,
          "Orthodox",
          "Orthodox",
          "Switch",
          null,
          "Southpaw",
          "Orthodox",
          "Orthodox",
          "Orthodox",
          "Southpaw",
          "Southpaw",
          "Orthodox",
          null,
          "Southpaw",
          "Orthodox",
          "Orthodox",
          "Southpaw",
          "Orthodox",
          "Orthodox",
          "Southpaw",
          "Orthodox",
          "Southpaw",
          "Orthodox",
          "Southpaw",
          "Orthodox",
          null,
          "Orthodox",
          null,
          "Orthodox",
          null,
          null,
          "Southpaw",
          "Orthodox",
          "Orthodox",
          "Orthodox",
          "Orthodox",
          "Southpaw",
          "Orthodox",
          null,
          "Orthodox",
          null,
          null,
          null,
          "Orthodox",
          "Orthodox",
          "Orthodox",
          "Orthodox",
          null,
          "Southpaw",
          "Orthodox",
          "Orthodox",
          null,
          null,
          null,
          "Orthodox",
          "Orthodox",
          null,
          null,
          "Orthodox",
          "Orthodox",
          "Orthodox",
          "Orthodox",
          null,
          "Orthodox",
          null,
          "Orthodox",
          null,
          null,
          "Orthodox",
          "Orthodox",
          null,
          null,
          "Orthodox",
          "Orthodox",
          null,
          "Southpaw",
          "Orthodox",
          null,
          "Orthodox",
          null,
          null,
          null,
          null,
          "Orthodox",
          "Orthodox",
          "Orthodox",
          "Orthodox",
          "Orthodox",
          "Switch",
          "Orthodox",
          null,
          "Orthodox",
          "Southpaw",
          "Southpaw",
          "Southpaw",
          "Orthodox",
          "Orthodox",
          "Orthodox",
          "Switch",
          "Orthodox",
          "Switch",
          null,
          "Orthodox",
          null,
          "Orthodox",
          "Southpaw",
          "Orthodox",
          "Southpaw",
          "Orthodox",
          null,
          "Southpaw",
          null,
          "Orthodox",
          "Orthodox",
          null,
          null,
          "Orthodox",
          "Orthodox",
          null,
          null,
          "Orthodox",
          "Orthodox",
          null,
          "Orthodox",
          "Orthodox",
          "Orthodox",
          "Orthodox",
          "Southpaw",
          null,
          "Orthodox",
          "Orthodox",
          "Southpaw",
          "Orthodox",
          null,
          null,
          "Orthodox",
          "Orthodox",
          "Orthodox",
          "Orthodox",
          "Orthodox",
          "Orthodox",
          "Orthodox",
          "Switch",
          null,
          "Orthodox",
          "Orthodox",
          "Switch",
          null,
          "Orthodox",
          "Orthodox",
          "Orthodox",
          null,
          "Orthodox",
          null,
          null,
          null,
          null,
          "Orthodox",
          "Orthodox",
          "Orthodox",
          "Orthodox",
          null,
          "Orthodox",
          "Orthodox",
          "Orthodox",
          null,
          "Orthodox",
          null,
          "Orthodox",
          "Southpaw",
          "Orthodox",
          "Orthodox",
          null,
          "Orthodox",
          null,
          "Southpaw",
          "Orthodox",
          "Orthodox",
          "Orthodox",
          null,
          null,
          null,
          null,
          "Orthodox",
          null,
          "Orthodox",
          null,
          "Southpaw",
          "Switch",
          "Orthodox",
          "Orthodox",
          null,
          "Orthodox",
          null,
          "Orthodox",
          null,
          "Switch",
          null,
          "Orthodox",
          "Orthodox",
          null,
          "Orthodox",
          "Orthodox",
          "Southpaw",
          null,
          "Southpaw",
          "Orthodox",
          "Orthodox",
          "Open Stance",
          "Southpaw",
          null,
          "Southpaw",
          "Orthodox",
          "Orthodox",
          null,
          "Orthodox",
          "Orthodox",
          "Orthodox",
          null,
          "Orthodox",
          "Orthodox",
          "Orthodox",
          "Orthodox",
          "Orthodox",
          "Orthodox",
          "Orthodox",
          "Orthodox",
          "Orthodox",
          null,
          "Orthodox",
          "Orthodox",
          "Orthodox",
          "Orthodox",
          "Orthodox",
          null,
          null,
          "Orthodox",
          null,
          "Orthodox",
          "Orthodox",
          "Orthodox",
          "Orthodox",
          "Orthodox",
          "Orthodox",
          "Orthodox",
          "Orthodox",
          "Orthodox",
          "Orthodox",
          "Southpaw",
          "Southpaw",
          "Orthodox",
          "Orthodox",
          null,
          "Orthodox",
          null,
          "Southpaw",
          null,
          null,
          null,
          "Orthodox",
          "Orthodox",
          "Orthodox",
          "Orthodox",
          null,
          "Orthodox",
          null,
          null,
          null,
          "Southpaw",
          null,
          "Orthodox",
          "Orthodox",
          "Orthodox",
          null,
          null,
          "Orthodox",
          "Orthodox",
          "Orthodox",
          null,
          null,
          "Orthodox",
          null,
          "Orthodox",
          "Orthodox",
          "Orthodox",
          "Orthodox",
          "Orthodox",
          "Orthodox",
          "Switch",
          "Orthodox",
          null,
          null,
          "Orthodox",
          null,
          null,
          "Orthodox",
          "Orthodox",
          null,
          "Orthodox",
          "Orthodox",
          "Switch",
          "Orthodox",
          "Orthodox",
          "Orthodox",
          null,
          "Orthodox",
          "Orthodox",
          null,
          "Switch",
          "Orthodox",
          "Orthodox",
          "Orthodox",
          "Orthodox",
          null,
          "Orthodox",
          "Orthodox",
          "Southpaw",
          "Orthodox",
          "Orthodox",
          "Orthodox",
          "Southpaw",
          "Orthodox",
          "Orthodox",
          null,
          "Orthodox",
          null,
          "Orthodox",
          null,
          null,
          "Orthodox",
          "Orthodox",
          "Orthodox",
          null,
          "Orthodox",
          "Orthodox",
          null,
          "Orthodox",
          "Orthodox",
          "Orthodox",
          "Orthodox",
          null,
          null,
          null,
          "Orthodox",
          "Orthodox",
          null,
          null,
          null,
          "Southpaw",
          "Southpaw",
          "Orthodox",
          null,
          "Orthodox",
          null,
          "Southpaw",
          null,
          "Orthodox",
          "Southpaw",
          null,
          "Orthodox",
          null,
          null,
          "Orthodox",
          "Orthodox",
          null,
          "Orthodox",
          "Open Stance",
          "Southpaw",
          "Orthodox",
          "Orthodox",
          null,
          "Orthodox",
          "Southpaw",
          null,
          null,
          null,
          null,
          "Orthodox",
          "Southpaw",
          "Orthodox",
          "Orthodox",
          "Orthodox",
          "Orthodox",
          "Orthodox",
          "Orthodox",
          "Orthodox",
          "Orthodox",
          "Orthodox",
          "Orthodox",
          "Orthodox",
          null,
          null,
          "Southpaw",
          "Southpaw",
          "Orthodox",
          "Orthodox",
          "Orthodox",
          "Orthodox",
          "Orthodox",
          null,
          "Orthodox",
          "Southpaw",
          null,
          "Orthodox",
          "Orthodox",
          null,
          "Southpaw",
          null,
          "Orthodox",
          null,
          null,
          null,
          "Orthodox",
          "Orthodox",
          "Southpaw",
          "Orthodox",
          "Orthodox",
          "Southpaw",
          "Orthodox",
          "Southpaw",
          "Orthodox",
          null,
          "Orthodox",
          "Orthodox",
          "Orthodox",
          null,
          "Orthodox",
          "Southpaw",
          "Orthodox",
          "Orthodox",
          "Southpaw",
          "Orthodox",
          null,
          "Orthodox",
          "Orthodox",
          "Orthodox",
          null,
          "Orthodox",
          "Orthodox",
          "Orthodox",
          "Orthodox",
          "Orthodox",
          "Orthodox",
          null,
          "Orthodox",
          "Switch",
          "Orthodox",
          "Orthodox",
          "Orthodox",
          "Orthodox",
          "Southpaw",
          null,
          null,
          "Orthodox",
          "Southpaw",
          "Orthodox",
          null,
          "Orthodox",
          null,
          null,
          null,
          "Orthodox",
          "Orthodox",
          "Orthodox",
          null,
          null,
          "Orthodox",
          null,
          "Orthodox",
          null,
          null,
          null,
          "Orthodox",
          "Orthodox",
          "Orthodox",
          "Orthodox",
          "Switch",
          "Orthodox",
          null,
          "Orthodox",
          null,
          "Switch",
          null,
          "Orthodox",
          null,
          "Orthodox",
          null,
          null,
          "Orthodox",
          "Orthodox",
          "Southpaw",
          "Orthodox",
          "Southpaw",
          "Orthodox",
          "Orthodox",
          "Orthodox",
          "Orthodox",
          "Orthodox",
          null,
          "Southpaw",
          null,
          null,
          "Orthodox",
          null,
          "Southpaw",
          "Southpaw",
          "Switch",
          "Orthodox",
          null,
          "Orthodox",
          null,
          "Orthodox",
          "Orthodox",
          "Orthodox",
          "Orthodox",
          "Orthodox",
          "Orthodox",
          "Southpaw",
          "Orthodox",
          "Orthodox",
          null,
          "Orthodox",
          "Orthodox",
          "Orthodox",
          "Orthodox",
          "Orthodox",
          "Orthodox",
          null,
          "Switch",
          "Orthodox",
          "Southpaw",
          "Switch",
          null,
          "Orthodox",
          null,
          "Orthodox",
          null,
          null,
          "Orthodox",
          "Orthodox",
          "Orthodox",
          "Orthodox",
          "Orthodox",
          "Orthodox",
          null,
          "Orthodox",
          "Orthodox",
          null,
          "Switch",
          "Orthodox",
          "Orthodox",
          null,
          "Orthodox",
          "Orthodox",
          "Orthodox",
          "Orthodox",
          "Orthodox",
          null,
          null,
          "Orthodox",
          null,
          "Orthodox",
          null,
          null,
          "Orthodox",
          null,
          "Orthodox",
          "Orthodox",
          "Southpaw",
          "Orthodox",
          "Orthodox",
          null,
          null,
          "Orthodox",
          null,
          "Orthodox",
          "Orthodox",
          null,
          "Switch",
          null,
          "Orthodox",
          "Orthodox",
          "Orthodox",
          null,
          "Southpaw",
          "Orthodox",
          "Orthodox",
          "Orthodox",
          null,
          null,
          "Switch",
          null,
          "Orthodox",
          "Orthodox",
          "Orthodox",
          null,
          null,
          "Orthodox",
          null,
          null,
          "Orthodox",
          "Switch",
          null,
          null,
          "Orthodox",
          "Orthodox",
          "Orthodox",
          null,
          "Orthodox",
          "Southpaw",
          null,
          null,
          "Southpaw",
          "Orthodox",
          null,
          "Switch",
          "Orthodox",
          "Orthodox",
          "Orthodox",
          "Southpaw",
          "Switch",
          "Orthodox",
          "Orthodox",
          "Southpaw",
          "Orthodox",
          "Southpaw",
          null,
          "Orthodox",
          null,
          null,
          "Orthodox",
          "Southpaw",
          "Orthodox",
          null,
          "Orthodox",
          null,
          "Orthodox",
          "Southpaw",
          "Orthodox",
          "Southpaw",
          null,
          "Southpaw",
          "Orthodox",
          null,
          null,
          null,
          "Southpaw",
          "Orthodox",
          null,
          null,
          "Orthodox",
          "Southpaw",
          "Orthodox",
          "Orthodox",
          "Orthodox",
          "Southpaw",
          "Orthodox",
          "Southpaw",
          "Southpaw",
          "Orthodox",
          null,
          "Southpaw",
          "Orthodox",
          "Orthodox",
          null,
          null,
          null,
          "Orthodox",
          null,
          "Orthodox",
          null,
          "Orthodox",
          null,
          null,
          "Orthodox",
          "Orthodox",
          "Orthodox",
          "Orthodox",
          "Orthodox",
          "Orthodox",
          "Orthodox",
          "Orthodox",
          "Southpaw",
          null,
          null,
          "Orthodox",
          "Orthodox",
          "Southpaw",
          "Orthodox",
          null,
          null,
          null,
          "Orthodox",
          "Orthodox",
          "Orthodox",
          "Orthodox",
          "Orthodox",
          "Orthodox",
          "Orthodox",
          "Orthodox",
          null,
          "Orthodox",
          "Orthodox",
          null,
          "Orthodox",
          "Orthodox",
          "Orthodox",
          "Orthodox",
          "Orthodox",
          null,
          "Orthodox",
          "Orthodox",
          "Southpaw",
          null,
          "Orthodox",
          null,
          "Southpaw",
          null,
          null,
          null,
          null,
          "Switch",
          "Orthodox",
          "Orthodox",
          "Orthodox",
          "Orthodox",
          "Orthodox",
          null,
          "Orthodox",
          "Orthodox",
          "Orthodox",
          "Orthodox",
          null,
          null,
          null,
          "Southpaw",
          "Orthodox",
          "Orthodox",
          "Orthodox",
          "Orthodox",
          "Orthodox",
          "Orthodox",
          "Southpaw",
          "Southpaw",
          "Orthodox",
          null,
          "Orthodox",
          "Orthodox",
          null,
          null,
          "Southpaw",
          "Orthodox",
          "Orthodox",
          "Orthodox",
          "Orthodox",
          "Orthodox",
          "Orthodox",
          null,
          "Orthodox",
          null,
          null,
          null,
          "Southpaw",
          "Southpaw",
          "Orthodox",
          "Orthodox",
          "Orthodox",
          null,
          "Orthodox",
          "Southpaw",
          "Orthodox",
          "Orthodox",
          "Orthodox",
          "Orthodox",
          "Orthodox",
          null,
          "Orthodox",
          "Orthodox",
          "Orthodox",
          "Orthodox",
          "Southpaw",
          "Orthodox",
          "Southpaw",
          null,
          null,
          null,
          "Orthodox",
          "Southpaw",
          null,
          "Orthodox",
          "Orthodox",
          "Orthodox",
          "Switch",
          "Switch",
          null,
          "Orthodox",
          null,
          null,
          null,
          "Orthodox",
          "Orthodox",
          "Southpaw",
          "Orthodox",
          "Orthodox",
          null,
          "Orthodox",
          "Orthodox",
          "Orthodox",
          "Orthodox",
          "Southpaw",
          "Southpaw",
          "Orthodox",
          null,
          "Southpaw",
          null,
          "Orthodox",
          "Orthodox",
          "Orthodox",
          null,
          "Southpaw",
          null,
          null,
          "Orthodox",
          "Orthodox",
          "Orthodox",
          "Southpaw",
          null,
          null,
          "Orthodox",
          "Orthodox",
          "Orthodox",
          null,
          null,
          null,
          null,
          "Orthodox",
          "Orthodox",
          "Orthodox",
          "Southpaw",
          "Switch",
          "Southpaw",
          "Orthodox",
          null,
          "Orthodox",
          "Orthodox",
          "Southpaw",
          null,
          "Orthodox",
          "Orthodox",
          null,
          null,
          "Orthodox",
          null,
          "Orthodox",
          "Switch",
          "Orthodox",
          "Orthodox",
          "Orthodox",
          "Orthodox",
          "Orthodox",
          null,
          "Orthodox",
          "Southpaw",
          "Orthodox",
          "Orthodox",
          null,
          "Orthodox",
          "Orthodox",
          "Orthodox",
          "Southpaw",
          "Orthodox",
          null,
          "Orthodox",
          null,
          "Orthodox",
          null,
          null,
          null,
          "Orthodox",
          null,
          "Orthodox",
          "Orthodox",
          "Southpaw",
          null,
          null,
          "Orthodox",
          null,
          "Southpaw",
          "Orthodox",
          "Orthodox",
          "Southpaw",
          "Orthodox",
          "Orthodox",
          null,
          null,
          null,
          "Orthodox",
          null,
          null,
          "Orthodox",
          "Orthodox",
          "Orthodox",
          "Orthodox",
          null,
          "Southpaw",
          null,
          null,
          null,
          null,
          "Orthodox",
          "Orthodox",
          "Orthodox",
          "Orthodox",
          null,
          null,
          "Orthodox",
          "Orthodox",
          "Southpaw",
          "Orthodox",
          null,
          "Orthodox",
          "Switch",
          null,
          "Orthodox",
          "Orthodox",
          "Orthodox",
          "Southpaw",
          null,
          "Orthodox",
          "Southpaw",
          "Orthodox",
          "Orthodox",
          "Switch",
          "Switch",
          "Orthodox",
          null,
          "Orthodox",
          "Orthodox",
          null,
          null,
          "Switch",
          null,
          "Orthodox",
          "Orthodox",
          "Southpaw",
          "Orthodox",
          "Orthodox",
          "Orthodox",
          null,
          "Orthodox",
          "Orthodox",
          null,
          null,
          null,
          "Orthodox",
          null,
          null,
          null,
          "Orthodox",
          "Orthodox",
          "Orthodox",
          null,
          null,
          "Orthodox",
          null,
          "Orthodox",
          null,
          "Switch",
          "Orthodox",
          null,
          "Orthodox",
          "Southpaw",
          "Orthodox",
          "Southpaw",
          "Orthodox",
          "Orthodox",
          null,
          "Southpaw",
          "Southpaw",
          null,
          null,
          "Orthodox",
          null,
          "Orthodox",
          "Orthodox",
          "Orthodox",
          null,
          null,
          null,
          "Orthodox",
          "Orthodox",
          null,
          null,
          "Orthodox",
          "Orthodox",
          null,
          null,
          null,
          "Orthodox",
          null,
          "Southpaw",
          "Southpaw",
          "Orthodox",
          "Orthodox",
          null,
          "Southpaw",
          "Orthodox",
          null,
          null,
          "Orthodox",
          null,
          "Orthodox",
          null,
          "Orthodox",
          "Orthodox",
          "Orthodox",
          null,
          "Orthodox",
          null,
          "Orthodox",
          null,
          null,
          null,
          "Orthodox",
          null,
          null,
          null,
          "Orthodox",
          "Orthodox",
          "Orthodox",
          null,
          "Orthodox",
          "Orthodox",
          "Orthodox",
          null,
          "Orthodox",
          "Orthodox",
          "Orthodox",
          null,
          "Orthodox",
          null,
          "Southpaw",
          null,
          null,
          "Orthodox",
          null,
          "Orthodox",
          null,
          null,
          "Orthodox",
          "Southpaw",
          "Southpaw",
          null,
          "Orthodox",
          "Orthodox",
          "Orthodox",
          null,
          null,
          null,
          "Orthodox",
          "Orthodox",
          "Orthodox",
          null,
          "Orthodox",
          "Orthodox",
          "Switch",
          "Switch",
          "Orthodox",
          "Orthodox",
          "Orthodox",
          "Orthodox",
          "Switch",
          "Orthodox",
          null,
          null,
          "Southpaw",
          "Orthodox",
          "Orthodox",
          "Orthodox",
          "Orthodox",
          "Orthodox",
          null,
          null,
          "Switch",
          "Orthodox",
          "Orthodox",
          null,
          "Southpaw",
          null,
          "Orthodox",
          null,
          "Orthodox",
          null,
          null,
          null,
          "Southpaw",
          null,
          null,
          "Switch",
          null,
          "Orthodox",
          "Southpaw",
          null,
          "Switch",
          "Orthodox",
          "Orthodox",
          null,
          null,
          "Southpaw",
          "Orthodox",
          "Switch",
          "Orthodox",
          "Orthodox",
          null,
          null,
          "Southpaw",
          null,
          "Southpaw",
          "Orthodox",
          "Southpaw",
          "Orthodox",
          "Orthodox",
          null,
          null,
          null,
          "Orthodox",
          "Orthodox",
          "Orthodox",
          "Switch",
          "Orthodox",
          "Orthodox",
          "Orthodox",
          null,
          "Orthodox",
          "Orthodox",
          "Southpaw",
          "Orthodox",
          "Switch",
          null,
          null,
          "Orthodox",
          "Orthodox",
          "Southpaw",
          "Orthodox",
          "Switch",
          "Orthodox",
          "Orthodox",
          "Orthodox",
          null,
          null,
          "Orthodox",
          "Southpaw",
          "Orthodox",
          "Orthodox",
          null,
          "Orthodox",
          null,
          null,
          "Orthodox",
          "Orthodox",
          null,
          null,
          "Orthodox",
          null,
          "Orthodox",
          "Orthodox",
          "Open Stance",
          "Orthodox",
          "Orthodox",
          "Orthodox",
          "Orthodox",
          "Orthodox",
          "Southpaw",
          null,
          null,
          "Orthodox",
          "Orthodox",
          "Orthodox",
          null,
          null,
          "Southpaw",
          "Orthodox",
          "Orthodox",
          "Orthodox",
          "Orthodox",
          "Orthodox",
          null,
          "Orthodox",
          "Orthodox",
          "Orthodox",
          "Sideways",
          null,
          "Orthodox",
          null,
          "Orthodox",
          "Switch",
          "Southpaw",
          "Orthodox",
          "Orthodox",
          null,
          "Southpaw",
          "Orthodox",
          "Orthodox",
          "Orthodox",
          "Orthodox",
          "Orthodox",
          "Orthodox",
          "Orthodox",
          null,
          "Orthodox",
          "Switch",
          "Orthodox",
          null,
          "Southpaw",
          "Orthodox",
          "Orthodox",
          "Orthodox",
          "Southpaw",
          null,
          null,
          null,
          null,
          null,
          "Orthodox",
          null,
          "Orthodox",
          "Orthodox",
          "Southpaw",
          "Orthodox",
          "Orthodox",
          "Orthodox",
          "Orthodox",
          "Orthodox",
          "Switch",
          "Orthodox",
          "Orthodox",
          null,
          null,
          "Orthodox",
          "Southpaw",
          "Orthodox",
          "Orthodox",
          "Southpaw",
          null,
          "Orthodox",
          null,
          "Orthodox",
          "Orthodox",
          "Orthodox",
          null,
          "Orthodox",
          "Switch",
          null,
          "Orthodox",
          "Orthodox",
          "Orthodox",
          null,
          "Orthodox",
          "Orthodox",
          "Orthodox",
          null,
          "Switch",
          "Orthodox",
          null,
          "Orthodox",
          "Orthodox",
          "Orthodox",
          "Orthodox",
          null,
          "Southpaw",
          "Orthodox",
          null,
          null,
          null,
          "Orthodox",
          "Orthodox",
          "Orthodox",
          "Orthodox",
          null,
          "Southpaw",
          "Southpaw",
          "Southpaw",
          "Sideways",
          "Orthodox",
          "Orthodox",
          "Orthodox",
          null,
          "Orthodox",
          null,
          null,
          "Orthodox",
          "Orthodox",
          "Orthodox",
          null,
          "Orthodox",
          "Southpaw",
          "Switch",
          "Switch",
          "Orthodox",
          "Southpaw",
          null,
          "Southpaw",
          null,
          "Orthodox",
          null,
          "Switch",
          "Orthodox",
          "Orthodox",
          null,
          "Orthodox",
          "Orthodox",
          "Orthodox",
          "Southpaw",
          "Southpaw",
          "Orthodox",
          "Switch",
          null,
          null,
          "Southpaw",
          "Orthodox",
          "Orthodox",
          "Orthodox",
          "Orthodox",
          "Orthodox",
          "Orthodox",
          "Switch",
          "Southpaw",
          "Orthodox",
          "Orthodox",
          null,
          "Orthodox",
          null,
          "Orthodox",
          null,
          "Orthodox",
          "Orthodox",
          "Orthodox",
          "Orthodox",
          "Southpaw",
          null,
          "Orthodox",
          null,
          "Orthodox",
          "Orthodox",
          "Orthodox",
          "Southpaw",
          "Orthodox",
          "Orthodox",
          "Orthodox",
          null,
          "Orthodox",
          "Orthodox",
          "Orthodox",
          "Orthodox",
          "Switch",
          "Orthodox",
          "Orthodox",
          "Southpaw",
          null,
          "Orthodox",
          null,
          "Orthodox",
          "Orthodox",
          "Orthodox",
          null,
          null,
          null,
          "Orthodox",
          "Orthodox",
          null,
          "Orthodox",
          "Orthodox",
          "Orthodox",
          "Orthodox",
          null,
          null,
          "Orthodox",
          "Orthodox",
          "Orthodox",
          "Orthodox",
          "Orthodox",
          "Orthodox",
          "Southpaw",
          "Southpaw",
          "Orthodox",
          "Orthodox",
          "Orthodox",
          "Orthodox",
          null,
          null,
          "Orthodox",
          null,
          "Orthodox",
          "Orthodox",
          "Orthodox",
          "Orthodox",
          "Orthodox",
          null,
          "Orthodox",
          "Southpaw",
          null,
          "Orthodox",
          "Orthodox",
          null,
          "Orthodox",
          "Orthodox",
          "Orthodox",
          null,
          "Orthodox",
          null,
          "Orthodox",
          "Orthodox",
          null,
          null,
          "Orthodox",
          "Orthodox",
          null,
          "Orthodox",
          "Orthodox",
          "Orthodox",
          "Switch",
          null,
          "Orthodox",
          "Southpaw",
          "Orthodox",
          "Orthodox",
          "Orthodox",
          "Orthodox",
          "Orthodox",
          null,
          "Orthodox",
          null,
          "Orthodox",
          "Southpaw",
          null,
          "Orthodox",
          null,
          null,
          "Orthodox",
          null,
          "Orthodox",
          "Orthodox",
          "Orthodox",
          "Orthodox",
          "Open Stance",
          "Orthodox",
          "Orthodox",
          "Orthodox",
          null,
          "Orthodox",
          "Orthodox",
          null,
          "Southpaw",
          null,
          "Southpaw",
          null,
          "Orthodox",
          "Orthodox",
          "Orthodox",
          "Southpaw",
          "Southpaw",
          "Orthodox",
          null,
          "Southpaw",
          "Southpaw",
          null,
          "Southpaw",
          "Orthodox",
          null,
          "Orthodox",
          null,
          "Orthodox",
          null,
          "Switch",
          "Orthodox",
          null,
          "Orthodox",
          "Southpaw",
          null,
          "Orthodox",
          "Orthodox",
          "Orthodox",
          "Orthodox",
          "Orthodox",
          "Southpaw",
          "Southpaw"
         ],
         "xaxis": "x",
         "yaxis": "y"
        }
       ],
       "layout": {
        "barmode": "relative",
        "legend": {
         "tracegroupgap": 0
        },
        "template": {
         "data": {
          "bar": [
           {
            "error_x": {
             "color": "#2a3f5f"
            },
            "error_y": {
             "color": "#2a3f5f"
            },
            "marker": {
             "line": {
              "color": "#E5ECF6",
              "width": 0.5
             },
             "pattern": {
              "fillmode": "overlay",
              "size": 10,
              "solidity": 0.2
             }
            },
            "type": "bar"
           }
          ],
          "barpolar": [
           {
            "marker": {
             "line": {
              "color": "#E5ECF6",
              "width": 0.5
             },
             "pattern": {
              "fillmode": "overlay",
              "size": 10,
              "solidity": 0.2
             }
            },
            "type": "barpolar"
           }
          ],
          "carpet": [
           {
            "aaxis": {
             "endlinecolor": "#2a3f5f",
             "gridcolor": "white",
             "linecolor": "white",
             "minorgridcolor": "white",
             "startlinecolor": "#2a3f5f"
            },
            "baxis": {
             "endlinecolor": "#2a3f5f",
             "gridcolor": "white",
             "linecolor": "white",
             "minorgridcolor": "white",
             "startlinecolor": "#2a3f5f"
            },
            "type": "carpet"
           }
          ],
          "choropleth": [
           {
            "colorbar": {
             "outlinewidth": 0,
             "ticks": ""
            },
            "type": "choropleth"
           }
          ],
          "contour": [
           {
            "colorbar": {
             "outlinewidth": 0,
             "ticks": ""
            },
            "colorscale": [
             [
              0,
              "#0d0887"
             ],
             [
              0.1111111111111111,
              "#46039f"
             ],
             [
              0.2222222222222222,
              "#7201a8"
             ],
             [
              0.3333333333333333,
              "#9c179e"
             ],
             [
              0.4444444444444444,
              "#bd3786"
             ],
             [
              0.5555555555555556,
              "#d8576b"
             ],
             [
              0.6666666666666666,
              "#ed7953"
             ],
             [
              0.7777777777777778,
              "#fb9f3a"
             ],
             [
              0.8888888888888888,
              "#fdca26"
             ],
             [
              1,
              "#f0f921"
             ]
            ],
            "type": "contour"
           }
          ],
          "contourcarpet": [
           {
            "colorbar": {
             "outlinewidth": 0,
             "ticks": ""
            },
            "type": "contourcarpet"
           }
          ],
          "heatmap": [
           {
            "colorbar": {
             "outlinewidth": 0,
             "ticks": ""
            },
            "colorscale": [
             [
              0,
              "#0d0887"
             ],
             [
              0.1111111111111111,
              "#46039f"
             ],
             [
              0.2222222222222222,
              "#7201a8"
             ],
             [
              0.3333333333333333,
              "#9c179e"
             ],
             [
              0.4444444444444444,
              "#bd3786"
             ],
             [
              0.5555555555555556,
              "#d8576b"
             ],
             [
              0.6666666666666666,
              "#ed7953"
             ],
             [
              0.7777777777777778,
              "#fb9f3a"
             ],
             [
              0.8888888888888888,
              "#fdca26"
             ],
             [
              1,
              "#f0f921"
             ]
            ],
            "type": "heatmap"
           }
          ],
          "heatmapgl": [
           {
            "colorbar": {
             "outlinewidth": 0,
             "ticks": ""
            },
            "colorscale": [
             [
              0,
              "#0d0887"
             ],
             [
              0.1111111111111111,
              "#46039f"
             ],
             [
              0.2222222222222222,
              "#7201a8"
             ],
             [
              0.3333333333333333,
              "#9c179e"
             ],
             [
              0.4444444444444444,
              "#bd3786"
             ],
             [
              0.5555555555555556,
              "#d8576b"
             ],
             [
              0.6666666666666666,
              "#ed7953"
             ],
             [
              0.7777777777777778,
              "#fb9f3a"
             ],
             [
              0.8888888888888888,
              "#fdca26"
             ],
             [
              1,
              "#f0f921"
             ]
            ],
            "type": "heatmapgl"
           }
          ],
          "histogram": [
           {
            "marker": {
             "pattern": {
              "fillmode": "overlay",
              "size": 10,
              "solidity": 0.2
             }
            },
            "type": "histogram"
           }
          ],
          "histogram2d": [
           {
            "colorbar": {
             "outlinewidth": 0,
             "ticks": ""
            },
            "colorscale": [
             [
              0,
              "#0d0887"
             ],
             [
              0.1111111111111111,
              "#46039f"
             ],
             [
              0.2222222222222222,
              "#7201a8"
             ],
             [
              0.3333333333333333,
              "#9c179e"
             ],
             [
              0.4444444444444444,
              "#bd3786"
             ],
             [
              0.5555555555555556,
              "#d8576b"
             ],
             [
              0.6666666666666666,
              "#ed7953"
             ],
             [
              0.7777777777777778,
              "#fb9f3a"
             ],
             [
              0.8888888888888888,
              "#fdca26"
             ],
             [
              1,
              "#f0f921"
             ]
            ],
            "type": "histogram2d"
           }
          ],
          "histogram2dcontour": [
           {
            "colorbar": {
             "outlinewidth": 0,
             "ticks": ""
            },
            "colorscale": [
             [
              0,
              "#0d0887"
             ],
             [
              0.1111111111111111,
              "#46039f"
             ],
             [
              0.2222222222222222,
              "#7201a8"
             ],
             [
              0.3333333333333333,
              "#9c179e"
             ],
             [
              0.4444444444444444,
              "#bd3786"
             ],
             [
              0.5555555555555556,
              "#d8576b"
             ],
             [
              0.6666666666666666,
              "#ed7953"
             ],
             [
              0.7777777777777778,
              "#fb9f3a"
             ],
             [
              0.8888888888888888,
              "#fdca26"
             ],
             [
              1,
              "#f0f921"
             ]
            ],
            "type": "histogram2dcontour"
           }
          ],
          "mesh3d": [
           {
            "colorbar": {
             "outlinewidth": 0,
             "ticks": ""
            },
            "type": "mesh3d"
           }
          ],
          "parcoords": [
           {
            "line": {
             "colorbar": {
              "outlinewidth": 0,
              "ticks": ""
             }
            },
            "type": "parcoords"
           }
          ],
          "pie": [
           {
            "automargin": true,
            "type": "pie"
           }
          ],
          "scatter": [
           {
            "fillpattern": {
             "fillmode": "overlay",
             "size": 10,
             "solidity": 0.2
            },
            "type": "scatter"
           }
          ],
          "scatter3d": [
           {
            "line": {
             "colorbar": {
              "outlinewidth": 0,
              "ticks": ""
             }
            },
            "marker": {
             "colorbar": {
              "outlinewidth": 0,
              "ticks": ""
             }
            },
            "type": "scatter3d"
           }
          ],
          "scattercarpet": [
           {
            "marker": {
             "colorbar": {
              "outlinewidth": 0,
              "ticks": ""
             }
            },
            "type": "scattercarpet"
           }
          ],
          "scattergeo": [
           {
            "marker": {
             "colorbar": {
              "outlinewidth": 0,
              "ticks": ""
             }
            },
            "type": "scattergeo"
           }
          ],
          "scattergl": [
           {
            "marker": {
             "colorbar": {
              "outlinewidth": 0,
              "ticks": ""
             }
            },
            "type": "scattergl"
           }
          ],
          "scattermapbox": [
           {
            "marker": {
             "colorbar": {
              "outlinewidth": 0,
              "ticks": ""
             }
            },
            "type": "scattermapbox"
           }
          ],
          "scatterpolar": [
           {
            "marker": {
             "colorbar": {
              "outlinewidth": 0,
              "ticks": ""
             }
            },
            "type": "scatterpolar"
           }
          ],
          "scatterpolargl": [
           {
            "marker": {
             "colorbar": {
              "outlinewidth": 0,
              "ticks": ""
             }
            },
            "type": "scatterpolargl"
           }
          ],
          "scatterternary": [
           {
            "marker": {
             "colorbar": {
              "outlinewidth": 0,
              "ticks": ""
             }
            },
            "type": "scatterternary"
           }
          ],
          "surface": [
           {
            "colorbar": {
             "outlinewidth": 0,
             "ticks": ""
            },
            "colorscale": [
             [
              0,
              "#0d0887"
             ],
             [
              0.1111111111111111,
              "#46039f"
             ],
             [
              0.2222222222222222,
              "#7201a8"
             ],
             [
              0.3333333333333333,
              "#9c179e"
             ],
             [
              0.4444444444444444,
              "#bd3786"
             ],
             [
              0.5555555555555556,
              "#d8576b"
             ],
             [
              0.6666666666666666,
              "#ed7953"
             ],
             [
              0.7777777777777778,
              "#fb9f3a"
             ],
             [
              0.8888888888888888,
              "#fdca26"
             ],
             [
              1,
              "#f0f921"
             ]
            ],
            "type": "surface"
           }
          ],
          "table": [
           {
            "cells": {
             "fill": {
              "color": "#EBF0F8"
             },
             "line": {
              "color": "white"
             }
            },
            "header": {
             "fill": {
              "color": "#C8D4E3"
             },
             "line": {
              "color": "white"
             }
            },
            "type": "table"
           }
          ]
         },
         "layout": {
          "annotationdefaults": {
           "arrowcolor": "#2a3f5f",
           "arrowhead": 0,
           "arrowwidth": 1
          },
          "autotypenumbers": "strict",
          "coloraxis": {
           "colorbar": {
            "outlinewidth": 0,
            "ticks": ""
           }
          },
          "colorscale": {
           "diverging": [
            [
             0,
             "#8e0152"
            ],
            [
             0.1,
             "#c51b7d"
            ],
            [
             0.2,
             "#de77ae"
            ],
            [
             0.3,
             "#f1b6da"
            ],
            [
             0.4,
             "#fde0ef"
            ],
            [
             0.5,
             "#f7f7f7"
            ],
            [
             0.6,
             "#e6f5d0"
            ],
            [
             0.7,
             "#b8e186"
            ],
            [
             0.8,
             "#7fbc41"
            ],
            [
             0.9,
             "#4d9221"
            ],
            [
             1,
             "#276419"
            ]
           ],
           "sequential": [
            [
             0,
             "#0d0887"
            ],
            [
             0.1111111111111111,
             "#46039f"
            ],
            [
             0.2222222222222222,
             "#7201a8"
            ],
            [
             0.3333333333333333,
             "#9c179e"
            ],
            [
             0.4444444444444444,
             "#bd3786"
            ],
            [
             0.5555555555555556,
             "#d8576b"
            ],
            [
             0.6666666666666666,
             "#ed7953"
            ],
            [
             0.7777777777777778,
             "#fb9f3a"
            ],
            [
             0.8888888888888888,
             "#fdca26"
            ],
            [
             1,
             "#f0f921"
            ]
           ],
           "sequentialminus": [
            [
             0,
             "#0d0887"
            ],
            [
             0.1111111111111111,
             "#46039f"
            ],
            [
             0.2222222222222222,
             "#7201a8"
            ],
            [
             0.3333333333333333,
             "#9c179e"
            ],
            [
             0.4444444444444444,
             "#bd3786"
            ],
            [
             0.5555555555555556,
             "#d8576b"
            ],
            [
             0.6666666666666666,
             "#ed7953"
            ],
            [
             0.7777777777777778,
             "#fb9f3a"
            ],
            [
             0.8888888888888888,
             "#fdca26"
            ],
            [
             1,
             "#f0f921"
            ]
           ]
          },
          "colorway": [
           "#636efa",
           "#EF553B",
           "#00cc96",
           "#ab63fa",
           "#FFA15A",
           "#19d3f3",
           "#FF6692",
           "#B6E880",
           "#FF97FF",
           "#FECB52"
          ],
          "font": {
           "color": "#2a3f5f"
          },
          "geo": {
           "bgcolor": "white",
           "lakecolor": "white",
           "landcolor": "#E5ECF6",
           "showlakes": true,
           "showland": true,
           "subunitcolor": "white"
          },
          "hoverlabel": {
           "align": "left"
          },
          "hovermode": "closest",
          "mapbox": {
           "style": "light"
          },
          "paper_bgcolor": "white",
          "plot_bgcolor": "#E5ECF6",
          "polar": {
           "angularaxis": {
            "gridcolor": "white",
            "linecolor": "white",
            "ticks": ""
           },
           "bgcolor": "#E5ECF6",
           "radialaxis": {
            "gridcolor": "white",
            "linecolor": "white",
            "ticks": ""
           }
          },
          "scene": {
           "xaxis": {
            "backgroundcolor": "#E5ECF6",
            "gridcolor": "white",
            "gridwidth": 2,
            "linecolor": "white",
            "showbackground": true,
            "ticks": "",
            "zerolinecolor": "white"
           },
           "yaxis": {
            "backgroundcolor": "#E5ECF6",
            "gridcolor": "white",
            "gridwidth": 2,
            "linecolor": "white",
            "showbackground": true,
            "ticks": "",
            "zerolinecolor": "white"
           },
           "zaxis": {
            "backgroundcolor": "#E5ECF6",
            "gridcolor": "white",
            "gridwidth": 2,
            "linecolor": "white",
            "showbackground": true,
            "ticks": "",
            "zerolinecolor": "white"
           }
          },
          "shapedefaults": {
           "line": {
            "color": "#2a3f5f"
           }
          },
          "ternary": {
           "aaxis": {
            "gridcolor": "white",
            "linecolor": "white",
            "ticks": ""
           },
           "baxis": {
            "gridcolor": "white",
            "linecolor": "white",
            "ticks": ""
           },
           "bgcolor": "#E5ECF6",
           "caxis": {
            "gridcolor": "white",
            "linecolor": "white",
            "ticks": ""
           }
          },
          "title": {
           "x": 0.05
          },
          "xaxis": {
           "automargin": true,
           "gridcolor": "white",
           "linecolor": "white",
           "ticks": "",
           "title": {
            "standoff": 15
           },
           "zerolinecolor": "white",
           "zerolinewidth": 2
          },
          "yaxis": {
           "automargin": true,
           "gridcolor": "white",
           "linecolor": "white",
           "ticks": "",
           "title": {
            "standoff": 15
           },
           "zerolinecolor": "white",
           "zerolinewidth": 2
          }
         }
        },
        "title": {
         "text": "Most popular stance"
        },
        "xaxis": {
         "anchor": "y",
         "domain": [
          0,
          1
         ],
         "title": {
          "text": "Type of stance"
         }
        },
        "yaxis": {
         "anchor": "x",
         "domain": [
          0,
          1
         ],
         "title": {
          "text": "count"
         }
        }
       }
      }
     },
     "metadata": {},
     "output_type": "display_data"
    }
   ],
   "source": [
    "fig5 = px.histogram(df, x=\"stance\",\n",
    "            labels={'stance':'Type of stance'},\n",
    "            title = \"Most popular stance\")\n",
    "fig5.show()"
   ]
  },
  {
   "cell_type": "markdown",
   "metadata": {},
   "source": [
    "We observe here that a great amount of fighters prefer the orthodox stance.\n",
    "Despite this unequal use, let's also observe the average percentage of matches won by the fighters for each stance"
   ]
  },
  {
   "cell_type": "code",
   "execution_count": 29,
   "metadata": {},
   "outputs": [
    {
     "data": {
      "application/vnd.plotly.v1+json": {
       "config": {
        "plotlyServerURL": "https://plot.ly"
       },
       "data": [
        {
         "alignmentgroup": "True",
         "hovertemplate": "Type of stance=%{x}<br>% of matches won=%{y}<br>No. of fights=%{marker.color}<extra></extra>",
         "legendgroup": "",
         "marker": {
          "color": [
           179,
           49791,
           11,
           11971,
           3060
          ],
          "coloraxis": "coloraxis",
          "pattern": {
           "shape": ""
          }
         },
         "name": "",
         "offsetgroup": "",
         "orientation": "v",
         "showlegend": false,
         "textposition": "auto",
         "type": "bar",
         "x": [
          "Open Stance",
          "Orthodox",
          "Sideways",
          "Southpaw",
          "Switch"
         ],
         "xaxis": "x",
         "y": [
          59.77653631284916,
          68.11672792271696,
          54.54545454545454,
          68.42369058558182,
          72.05882352941177
         ],
         "yaxis": "y"
        }
       ],
       "layout": {
        "barmode": "stack",
        "coloraxis": {
         "colorbar": {
          "title": {
           "text": "No. of fights"
          }
         },
         "colorscale": [
          [
           0,
           "#0d0887"
          ],
          [
           0.1111111111111111,
           "#46039f"
          ],
          [
           0.2222222222222222,
           "#7201a8"
          ],
          [
           0.3333333333333333,
           "#9c179e"
          ],
          [
           0.4444444444444444,
           "#bd3786"
          ],
          [
           0.5555555555555556,
           "#d8576b"
          ],
          [
           0.6666666666666666,
           "#ed7953"
          ],
          [
           0.7777777777777778,
           "#fb9f3a"
          ],
          [
           0.8888888888888888,
           "#fdca26"
          ],
          [
           1,
           "#f0f921"
          ]
         ]
        },
        "legend": {
         "tracegroupgap": 0
        },
        "template": {
         "data": {
          "bar": [
           {
            "error_x": {
             "color": "#2a3f5f"
            },
            "error_y": {
             "color": "#2a3f5f"
            },
            "marker": {
             "line": {
              "color": "#E5ECF6",
              "width": 0.5
             },
             "pattern": {
              "fillmode": "overlay",
              "size": 10,
              "solidity": 0.2
             }
            },
            "type": "bar"
           }
          ],
          "barpolar": [
           {
            "marker": {
             "line": {
              "color": "#E5ECF6",
              "width": 0.5
             },
             "pattern": {
              "fillmode": "overlay",
              "size": 10,
              "solidity": 0.2
             }
            },
            "type": "barpolar"
           }
          ],
          "carpet": [
           {
            "aaxis": {
             "endlinecolor": "#2a3f5f",
             "gridcolor": "white",
             "linecolor": "white",
             "minorgridcolor": "white",
             "startlinecolor": "#2a3f5f"
            },
            "baxis": {
             "endlinecolor": "#2a3f5f",
             "gridcolor": "white",
             "linecolor": "white",
             "minorgridcolor": "white",
             "startlinecolor": "#2a3f5f"
            },
            "type": "carpet"
           }
          ],
          "choropleth": [
           {
            "colorbar": {
             "outlinewidth": 0,
             "ticks": ""
            },
            "type": "choropleth"
           }
          ],
          "contour": [
           {
            "colorbar": {
             "outlinewidth": 0,
             "ticks": ""
            },
            "colorscale": [
             [
              0,
              "#0d0887"
             ],
             [
              0.1111111111111111,
              "#46039f"
             ],
             [
              0.2222222222222222,
              "#7201a8"
             ],
             [
              0.3333333333333333,
              "#9c179e"
             ],
             [
              0.4444444444444444,
              "#bd3786"
             ],
             [
              0.5555555555555556,
              "#d8576b"
             ],
             [
              0.6666666666666666,
              "#ed7953"
             ],
             [
              0.7777777777777778,
              "#fb9f3a"
             ],
             [
              0.8888888888888888,
              "#fdca26"
             ],
             [
              1,
              "#f0f921"
             ]
            ],
            "type": "contour"
           }
          ],
          "contourcarpet": [
           {
            "colorbar": {
             "outlinewidth": 0,
             "ticks": ""
            },
            "type": "contourcarpet"
           }
          ],
          "heatmap": [
           {
            "colorbar": {
             "outlinewidth": 0,
             "ticks": ""
            },
            "colorscale": [
             [
              0,
              "#0d0887"
             ],
             [
              0.1111111111111111,
              "#46039f"
             ],
             [
              0.2222222222222222,
              "#7201a8"
             ],
             [
              0.3333333333333333,
              "#9c179e"
             ],
             [
              0.4444444444444444,
              "#bd3786"
             ],
             [
              0.5555555555555556,
              "#d8576b"
             ],
             [
              0.6666666666666666,
              "#ed7953"
             ],
             [
              0.7777777777777778,
              "#fb9f3a"
             ],
             [
              0.8888888888888888,
              "#fdca26"
             ],
             [
              1,
              "#f0f921"
             ]
            ],
            "type": "heatmap"
           }
          ],
          "heatmapgl": [
           {
            "colorbar": {
             "outlinewidth": 0,
             "ticks": ""
            },
            "colorscale": [
             [
              0,
              "#0d0887"
             ],
             [
              0.1111111111111111,
              "#46039f"
             ],
             [
              0.2222222222222222,
              "#7201a8"
             ],
             [
              0.3333333333333333,
              "#9c179e"
             ],
             [
              0.4444444444444444,
              "#bd3786"
             ],
             [
              0.5555555555555556,
              "#d8576b"
             ],
             [
              0.6666666666666666,
              "#ed7953"
             ],
             [
              0.7777777777777778,
              "#fb9f3a"
             ],
             [
              0.8888888888888888,
              "#fdca26"
             ],
             [
              1,
              "#f0f921"
             ]
            ],
            "type": "heatmapgl"
           }
          ],
          "histogram": [
           {
            "marker": {
             "pattern": {
              "fillmode": "overlay",
              "size": 10,
              "solidity": 0.2
             }
            },
            "type": "histogram"
           }
          ],
          "histogram2d": [
           {
            "colorbar": {
             "outlinewidth": 0,
             "ticks": ""
            },
            "colorscale": [
             [
              0,
              "#0d0887"
             ],
             [
              0.1111111111111111,
              "#46039f"
             ],
             [
              0.2222222222222222,
              "#7201a8"
             ],
             [
              0.3333333333333333,
              "#9c179e"
             ],
             [
              0.4444444444444444,
              "#bd3786"
             ],
             [
              0.5555555555555556,
              "#d8576b"
             ],
             [
              0.6666666666666666,
              "#ed7953"
             ],
             [
              0.7777777777777778,
              "#fb9f3a"
             ],
             [
              0.8888888888888888,
              "#fdca26"
             ],
             [
              1,
              "#f0f921"
             ]
            ],
            "type": "histogram2d"
           }
          ],
          "histogram2dcontour": [
           {
            "colorbar": {
             "outlinewidth": 0,
             "ticks": ""
            },
            "colorscale": [
             [
              0,
              "#0d0887"
             ],
             [
              0.1111111111111111,
              "#46039f"
             ],
             [
              0.2222222222222222,
              "#7201a8"
             ],
             [
              0.3333333333333333,
              "#9c179e"
             ],
             [
              0.4444444444444444,
              "#bd3786"
             ],
             [
              0.5555555555555556,
              "#d8576b"
             ],
             [
              0.6666666666666666,
              "#ed7953"
             ],
             [
              0.7777777777777778,
              "#fb9f3a"
             ],
             [
              0.8888888888888888,
              "#fdca26"
             ],
             [
              1,
              "#f0f921"
             ]
            ],
            "type": "histogram2dcontour"
           }
          ],
          "mesh3d": [
           {
            "colorbar": {
             "outlinewidth": 0,
             "ticks": ""
            },
            "type": "mesh3d"
           }
          ],
          "parcoords": [
           {
            "line": {
             "colorbar": {
              "outlinewidth": 0,
              "ticks": ""
             }
            },
            "type": "parcoords"
           }
          ],
          "pie": [
           {
            "automargin": true,
            "type": "pie"
           }
          ],
          "scatter": [
           {
            "fillpattern": {
             "fillmode": "overlay",
             "size": 10,
             "solidity": 0.2
            },
            "type": "scatter"
           }
          ],
          "scatter3d": [
           {
            "line": {
             "colorbar": {
              "outlinewidth": 0,
              "ticks": ""
             }
            },
            "marker": {
             "colorbar": {
              "outlinewidth": 0,
              "ticks": ""
             }
            },
            "type": "scatter3d"
           }
          ],
          "scattercarpet": [
           {
            "marker": {
             "colorbar": {
              "outlinewidth": 0,
              "ticks": ""
             }
            },
            "type": "scattercarpet"
           }
          ],
          "scattergeo": [
           {
            "marker": {
             "colorbar": {
              "outlinewidth": 0,
              "ticks": ""
             }
            },
            "type": "scattergeo"
           }
          ],
          "scattergl": [
           {
            "marker": {
             "colorbar": {
              "outlinewidth": 0,
              "ticks": ""
             }
            },
            "type": "scattergl"
           }
          ],
          "scattermapbox": [
           {
            "marker": {
             "colorbar": {
              "outlinewidth": 0,
              "ticks": ""
             }
            },
            "type": "scattermapbox"
           }
          ],
          "scatterpolar": [
           {
            "marker": {
             "colorbar": {
              "outlinewidth": 0,
              "ticks": ""
             }
            },
            "type": "scatterpolar"
           }
          ],
          "scatterpolargl": [
           {
            "marker": {
             "colorbar": {
              "outlinewidth": 0,
              "ticks": ""
             }
            },
            "type": "scatterpolargl"
           }
          ],
          "scatterternary": [
           {
            "marker": {
             "colorbar": {
              "outlinewidth": 0,
              "ticks": ""
             }
            },
            "type": "scatterternary"
           }
          ],
          "surface": [
           {
            "colorbar": {
             "outlinewidth": 0,
             "ticks": ""
            },
            "colorscale": [
             [
              0,
              "#0d0887"
             ],
             [
              0.1111111111111111,
              "#46039f"
             ],
             [
              0.2222222222222222,
              "#7201a8"
             ],
             [
              0.3333333333333333,
              "#9c179e"
             ],
             [
              0.4444444444444444,
              "#bd3786"
             ],
             [
              0.5555555555555556,
              "#d8576b"
             ],
             [
              0.6666666666666666,
              "#ed7953"
             ],
             [
              0.7777777777777778,
              "#fb9f3a"
             ],
             [
              0.8888888888888888,
              "#fdca26"
             ],
             [
              1,
              "#f0f921"
             ]
            ],
            "type": "surface"
           }
          ],
          "table": [
           {
            "cells": {
             "fill": {
              "color": "#EBF0F8"
             },
             "line": {
              "color": "white"
             }
            },
            "header": {
             "fill": {
              "color": "#C8D4E3"
             },
             "line": {
              "color": "white"
             }
            },
            "type": "table"
           }
          ]
         },
         "layout": {
          "annotationdefaults": {
           "arrowcolor": "#2a3f5f",
           "arrowhead": 0,
           "arrowwidth": 1
          },
          "autotypenumbers": "strict",
          "coloraxis": {
           "colorbar": {
            "outlinewidth": 0,
            "ticks": ""
           }
          },
          "colorscale": {
           "diverging": [
            [
             0,
             "#8e0152"
            ],
            [
             0.1,
             "#c51b7d"
            ],
            [
             0.2,
             "#de77ae"
            ],
            [
             0.3,
             "#f1b6da"
            ],
            [
             0.4,
             "#fde0ef"
            ],
            [
             0.5,
             "#f7f7f7"
            ],
            [
             0.6,
             "#e6f5d0"
            ],
            [
             0.7,
             "#b8e186"
            ],
            [
             0.8,
             "#7fbc41"
            ],
            [
             0.9,
             "#4d9221"
            ],
            [
             1,
             "#276419"
            ]
           ],
           "sequential": [
            [
             0,
             "#0d0887"
            ],
            [
             0.1111111111111111,
             "#46039f"
            ],
            [
             0.2222222222222222,
             "#7201a8"
            ],
            [
             0.3333333333333333,
             "#9c179e"
            ],
            [
             0.4444444444444444,
             "#bd3786"
            ],
            [
             0.5555555555555556,
             "#d8576b"
            ],
            [
             0.6666666666666666,
             "#ed7953"
            ],
            [
             0.7777777777777778,
             "#fb9f3a"
            ],
            [
             0.8888888888888888,
             "#fdca26"
            ],
            [
             1,
             "#f0f921"
            ]
           ],
           "sequentialminus": [
            [
             0,
             "#0d0887"
            ],
            [
             0.1111111111111111,
             "#46039f"
            ],
            [
             0.2222222222222222,
             "#7201a8"
            ],
            [
             0.3333333333333333,
             "#9c179e"
            ],
            [
             0.4444444444444444,
             "#bd3786"
            ],
            [
             0.5555555555555556,
             "#d8576b"
            ],
            [
             0.6666666666666666,
             "#ed7953"
            ],
            [
             0.7777777777777778,
             "#fb9f3a"
            ],
            [
             0.8888888888888888,
             "#fdca26"
            ],
            [
             1,
             "#f0f921"
            ]
           ]
          },
          "colorway": [
           "#636efa",
           "#EF553B",
           "#00cc96",
           "#ab63fa",
           "#FFA15A",
           "#19d3f3",
           "#FF6692",
           "#B6E880",
           "#FF97FF",
           "#FECB52"
          ],
          "font": {
           "color": "#2a3f5f"
          },
          "geo": {
           "bgcolor": "white",
           "lakecolor": "white",
           "landcolor": "#E5ECF6",
           "showlakes": true,
           "showland": true,
           "subunitcolor": "white"
          },
          "hoverlabel": {
           "align": "left"
          },
          "hovermode": "closest",
          "mapbox": {
           "style": "light"
          },
          "paper_bgcolor": "white",
          "plot_bgcolor": "#E5ECF6",
          "polar": {
           "angularaxis": {
            "gridcolor": "white",
            "linecolor": "white",
            "ticks": ""
           },
           "bgcolor": "#E5ECF6",
           "radialaxis": {
            "gridcolor": "white",
            "linecolor": "white",
            "ticks": ""
           }
          },
          "scene": {
           "xaxis": {
            "backgroundcolor": "#E5ECF6",
            "gridcolor": "white",
            "gridwidth": 2,
            "linecolor": "white",
            "showbackground": true,
            "ticks": "",
            "zerolinecolor": "white"
           },
           "yaxis": {
            "backgroundcolor": "#E5ECF6",
            "gridcolor": "white",
            "gridwidth": 2,
            "linecolor": "white",
            "showbackground": true,
            "ticks": "",
            "zerolinecolor": "white"
           },
           "zaxis": {
            "backgroundcolor": "#E5ECF6",
            "gridcolor": "white",
            "gridwidth": 2,
            "linecolor": "white",
            "showbackground": true,
            "ticks": "",
            "zerolinecolor": "white"
           }
          },
          "shapedefaults": {
           "line": {
            "color": "#2a3f5f"
           }
          },
          "ternary": {
           "aaxis": {
            "gridcolor": "white",
            "linecolor": "white",
            "ticks": ""
           },
           "baxis": {
            "gridcolor": "white",
            "linecolor": "white",
            "ticks": ""
           },
           "bgcolor": "#E5ECF6",
           "caxis": {
            "gridcolor": "white",
            "linecolor": "white",
            "ticks": ""
           }
          },
          "title": {
           "x": 0.05
          },
          "xaxis": {
           "automargin": true,
           "gridcolor": "white",
           "linecolor": "white",
           "ticks": "",
           "title": {
            "standoff": 15
           },
           "zerolinecolor": "white",
           "zerolinewidth": 2
          },
          "yaxis": {
           "automargin": true,
           "gridcolor": "white",
           "linecolor": "white",
           "ticks": "",
           "title": {
            "standoff": 15
           },
           "zerolinecolor": "white",
           "zerolinewidth": 2
          }
         }
        },
        "title": {
         "text": "Most successful stance on average"
        },
        "xaxis": {
         "anchor": "y",
         "categoryorder": "total descending",
         "domain": [
          0,
          1
         ],
         "title": {
          "text": "Type of stance"
         }
        },
        "yaxis": {
         "anchor": "x",
         "domain": [
          0,
          1
         ],
         "title": {
          "text": "% of matches won"
         }
        }
       }
      }
     },
     "metadata": {},
     "output_type": "display_data"
    }
   ],
   "source": [
    "df_stance = df.groupby(df[\"stance\"]).sum()\n",
    "df_stance[\"win%\"] = (df_stance[\"wins\"] / df_stance[\"total_career_fights\"]) * 100\n",
    "df_stance[\"lose%\"] = (df_stance[\"losses\"] / df_stance[\"total_career_fights\"]) * 100\n",
    "df_stance[\"draw%\"] = (df_stance[\"draws\"] / df_stance[\"total_career_fights\"]) * 100\n",
    "\n",
    "fig6 = px.bar(df_stance, x=df_stance.index, y = \"win%\",\n",
    "            labels={\n",
    "                'stance':'Type of stance',\n",
    "                \"win%\": \"% of matches won\",\n",
    "                \"total_career_fights\": \"No. of fights\"},\n",
    "            color = \"total_career_fights\", title = \"Most successful stance on average\")\n",
    "fig6.update_layout(barmode='stack', xaxis={'categoryorder':'total descending'})\n",
    "fig6.show()"
   ]
  }
 ],
 "metadata": {
  "kernelspec": {
   "display_name": "Python 3",
   "language": "python",
   "name": "python3"
  },
  "language_info": {
   "codemirror_mode": {
    "name": "ipython",
    "version": 3
   },
   "file_extension": ".py",
   "mimetype": "text/x-python",
   "name": "python",
   "nbconvert_exporter": "python",
   "pygments_lexer": "ipython3",
   "version": "3.12.2"
  }
 },
 "nbformat": 4,
 "nbformat_minor": 2
}
